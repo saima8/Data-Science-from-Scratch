{
  "nbformat": 4,
  "nbformat_minor": 0,
  "metadata": {
    "colab": {
      "name": "Bootstrapping in python.ipynb",
      "provenance": [],
      "toc_visible": true,
      "authorship_tag": "ABX9TyMd5jBjWZ2NGq/EwXSHzpf7",
      "include_colab_link": true
    },
    "kernelspec": {
      "name": "python3",
      "display_name": "Python 3"
    },
    "language_info": {
      "name": "python"
    }
  },
  "cells": [
    {
      "cell_type": "markdown",
      "metadata": {
        "id": "view-in-github",
        "colab_type": "text"
      },
      "source": [
        "<a href=\"https://colab.research.google.com/github/saima8/Data-Science-from-scratch/blob/main/Bootstrapping_in_python.ipynb\" target=\"_parent\"><img src=\"https://colab.research.google.com/assets/colab-badge.svg\" alt=\"Open In Colab\"/></a>"
      ]
    },
    {
      "cell_type": "code",
      "metadata": {
        "id": "bO8Kybv9V0cU"
      },
      "source": [
        "import numpy as np\n",
        "import seaborn as sns\n",
        "import random"
      ],
      "execution_count": null,
      "outputs": []
    },
    {
      "cell_type": "code",
      "metadata": {
        "colab": {
          "base_uri": "https://localhost:8080/"
        },
        "id": "9mFklXNvV1RU",
        "outputId": "35a39f45-d8e1-43ec-8df2-1cc19fa5ac54"
      },
      "source": [
        "# normal distribution \n",
        "x = np.random.normal(loc= 500.0, scale=1.0, size=10000)\n",
        "\n",
        "np.mean(x)"
      ],
      "execution_count": null,
      "outputs": [
        {
          "output_type": "execute_result",
          "data": {
            "text/plain": [
              "500.0053502482341"
            ]
          },
          "metadata": {},
          "execution_count": 2
        }
      ]
    },
    {
      "cell_type": "code",
      "metadata": {
        "id": "37AFmviHV6S2"
      },
      "source": [
        "sample_mean = []\n",
        "\n",
        "# Bootstrap Sampling\n",
        "for i in range(40):\n",
        "  y = random.sample(x.tolist(), 5)\n",
        "  avg = np.mean(y)\n",
        "\n",
        "  sample_mean.append(avg)"
      ],
      "execution_count": null,
      "outputs": []
    },
    {
      "cell_type": "code",
      "metadata": {
        "id": "cZEAfVVLW5En",
        "colab": {
          "base_uri": "https://localhost:8080/"
        },
        "outputId": "d9123f1c-4ca6-485f-e8d5-ddf40bccc7a7"
      },
      "source": [
        "np.mean(sample_mean)"
      ],
      "execution_count": null,
      "outputs": [
        {
          "output_type": "execute_result",
          "data": {
            "text/plain": [
              "500.0501993485809"
            ]
          },
          "metadata": {},
          "execution_count": 4
        }
      ]
    },
    {
      "cell_type": "code",
      "metadata": {
        "id": "Vpus1mVpW7J8"
      },
      "source": [
        ""
      ],
      "execution_count": null,
      "outputs": []
    }
  ]
}