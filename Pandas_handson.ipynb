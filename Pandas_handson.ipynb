{
  "nbformat": 4,
  "nbformat_minor": 0,
  "metadata": {
    "colab": {
      "name": "Pandas-handson.ipynb",
      "provenance": [],
      "collapsed_sections": [],
      "authorship_tag": "ABX9TyN8DFyMfG8Nh3M13n6g83Bg"
    },
    "kernelspec": {
      "name": "python3",
      "display_name": "Python 3"
    },
    "language_info": {
      "name": "python"
    }
  },
  "cells": [
    {
      "cell_type": "code",
      "metadata": {
        "id": "D1lcsDzDO7oC"
      },
      "source": [
        "import pandas as pd"
      ],
      "execution_count": 1,
      "outputs": []
    },
    {
      "cell_type": "code",
      "metadata": {
        "colab": {
          "base_uri": "https://localhost:8080/"
        },
        "id": "r2NQBqeBRCGL",
        "outputId": "0886c5e9-2164-42fe-fe0b-73e42f18be3d"
      },
      "source": [
        "s = pd.Series([2,-1,3,5])\n",
        "s"
      ],
      "execution_count": 2,
      "outputs": [
        {
          "output_type": "execute_result",
          "data": {
            "text/plain": [
              "0    2\n",
              "1   -1\n",
              "2    3\n",
              "3    5\n",
              "dtype: int64"
            ]
          },
          "metadata": {
            "tags": []
          },
          "execution_count": 2
        }
      ]
    },
    {
      "cell_type": "code",
      "metadata": {
        "colab": {
          "base_uri": "https://localhost:8080/"
        },
        "id": "X-WsfGcHRPpS",
        "outputId": "3013ba23-dced-4eb3-979a-607a5b08583c"
      },
      "source": [
        "import numpy as np\n",
        "np.exp(s)"
      ],
      "execution_count": 3,
      "outputs": [
        {
          "output_type": "execute_result",
          "data": {
            "text/plain": [
              "0      7.389056\n",
              "1      0.367879\n",
              "2     20.085537\n",
              "3    148.413159\n",
              "dtype: float64"
            ]
          },
          "metadata": {
            "tags": []
          },
          "execution_count": 3
        }
      ]
    },
    {
      "cell_type": "code",
      "metadata": {
        "colab": {
          "base_uri": "https://localhost:8080/"
        },
        "id": "BiAIbPz-RTYr",
        "outputId": "44dd4598-3c2a-4d5c-e6d9-c799c8e5933a"
      },
      "source": [
        "s + [1000,2000,3000,4000]"
      ],
      "execution_count": 4,
      "outputs": [
        {
          "output_type": "execute_result",
          "data": {
            "text/plain": [
              "0    1002\n",
              "1    1999\n",
              "2    3003\n",
              "3    4005\n",
              "dtype: int64"
            ]
          },
          "metadata": {
            "tags": []
          },
          "execution_count": 4
        }
      ]
    },
    {
      "cell_type": "code",
      "metadata": {
        "colab": {
          "base_uri": "https://localhost:8080/"
        },
        "id": "bjFRd7vsRX0P",
        "outputId": "10bc52fe-93ab-4eb3-dac4-1c7f7ec0d34b"
      },
      "source": [
        "s + 1000"
      ],
      "execution_count": 5,
      "outputs": [
        {
          "output_type": "execute_result",
          "data": {
            "text/plain": [
              "0    1002\n",
              "1     999\n",
              "2    1003\n",
              "3    1005\n",
              "dtype: int64"
            ]
          },
          "metadata": {
            "tags": []
          },
          "execution_count": 5
        }
      ]
    },
    {
      "cell_type": "code",
      "metadata": {
        "colab": {
          "base_uri": "https://localhost:8080/"
        },
        "id": "UYa5yV5KRaZc",
        "outputId": "d34d624a-1eb9-4de1-e1bb-72e78a385eca"
      },
      "source": [
        "s < 0"
      ],
      "execution_count": 6,
      "outputs": [
        {
          "output_type": "execute_result",
          "data": {
            "text/plain": [
              "0    False\n",
              "1     True\n",
              "2    False\n",
              "3    False\n",
              "dtype: bool"
            ]
          },
          "metadata": {
            "tags": []
          },
          "execution_count": 6
        }
      ]
    },
    {
      "cell_type": "code",
      "metadata": {
        "colab": {
          "base_uri": "https://localhost:8080/"
        },
        "id": "iq64VoXmRcH7",
        "outputId": "d47542d7-8ef3-406c-a220-7d7fbde2778b"
      },
      "source": [
        "s2 = pd.Series([68, 83, 112, 68], index=[\"alice\", \"bob\", \"charles\", \"darwin\"])\n",
        "s2"
      ],
      "execution_count": 7,
      "outputs": [
        {
          "output_type": "execute_result",
          "data": {
            "text/plain": [
              "alice       68\n",
              "bob         83\n",
              "charles    112\n",
              "darwin      68\n",
              "dtype: int64"
            ]
          },
          "metadata": {
            "tags": []
          },
          "execution_count": 7
        }
      ]
    },
    {
      "cell_type": "code",
      "metadata": {
        "colab": {
          "base_uri": "https://localhost:8080/"
        },
        "id": "lxxQvoccRu9-",
        "outputId": "0eb26568-70ed-491c-a340-647debe8a73f"
      },
      "source": [
        "s2[\"bob\"]"
      ],
      "execution_count": 8,
      "outputs": [
        {
          "output_type": "execute_result",
          "data": {
            "text/plain": [
              "83"
            ]
          },
          "metadata": {
            "tags": []
          },
          "execution_count": 8
        }
      ]
    },
    {
      "cell_type": "code",
      "metadata": {
        "colab": {
          "base_uri": "https://localhost:8080/"
        },
        "id": "FquuXtUoRx3c",
        "outputId": "fa923509-15e2-4fa6-b613-edd1a51208c4"
      },
      "source": [
        "s2[1]"
      ],
      "execution_count": 9,
      "outputs": [
        {
          "output_type": "execute_result",
          "data": {
            "text/plain": [
              "83"
            ]
          },
          "metadata": {
            "tags": []
          },
          "execution_count": 9
        }
      ]
    },
    {
      "cell_type": "code",
      "metadata": {
        "colab": {
          "base_uri": "https://localhost:8080/"
        },
        "id": "cWPkjbjwRzxw",
        "outputId": "1f9181da-10be-4a05-b9b9-a18e2127e75d"
      },
      "source": [
        "s2.loc[\"bob\"]"
      ],
      "execution_count": 10,
      "outputs": [
        {
          "output_type": "execute_result",
          "data": {
            "text/plain": [
              "83"
            ]
          },
          "metadata": {
            "tags": []
          },
          "execution_count": 10
        }
      ]
    },
    {
      "cell_type": "code",
      "metadata": {
        "colab": {
          "base_uri": "https://localhost:8080/"
        },
        "id": "i9kKCjydR7Jb",
        "outputId": "c64e137d-8b78-423f-de28-8b20dabe05e9"
      },
      "source": [
        "s2.iloc[1]"
      ],
      "execution_count": 11,
      "outputs": [
        {
          "output_type": "execute_result",
          "data": {
            "text/plain": [
              "83"
            ]
          },
          "metadata": {
            "tags": []
          },
          "execution_count": 11
        }
      ]
    },
    {
      "cell_type": "code",
      "metadata": {
        "colab": {
          "base_uri": "https://localhost:8080/"
        },
        "id": "Hr9Up23yR8ve",
        "outputId": "ac96bf62-2bcd-4abb-e490-a19e3a67e7b5"
      },
      "source": [
        "s2.iloc[1:3]"
      ],
      "execution_count": 12,
      "outputs": [
        {
          "output_type": "execute_result",
          "data": {
            "text/plain": [
              "bob         83\n",
              "charles    112\n",
              "dtype: int64"
            ]
          },
          "metadata": {
            "tags": []
          },
          "execution_count": 12
        }
      ]
    },
    {
      "cell_type": "code",
      "metadata": {
        "colab": {
          "base_uri": "https://localhost:8080/"
        },
        "id": "bVgjuECkSABg",
        "outputId": "99c4fc8e-4804-42f5-98cc-2e7c68c69c62"
      },
      "source": [
        "surprise = pd.Series([1000, 1001, 1002, 1003])\n",
        "surprise"
      ],
      "execution_count": 13,
      "outputs": [
        {
          "output_type": "execute_result",
          "data": {
            "text/plain": [
              "0    1000\n",
              "1    1001\n",
              "2    1002\n",
              "3    1003\n",
              "dtype: int64"
            ]
          },
          "metadata": {
            "tags": []
          },
          "execution_count": 13
        }
      ]
    },
    {
      "cell_type": "code",
      "metadata": {
        "colab": {
          "base_uri": "https://localhost:8080/"
        },
        "id": "CrbNW1BASGgR",
        "outputId": "d2f587d3-52e8-471c-9b40-b5733f3dac76"
      },
      "source": [
        "surprise_slice = surprise[2:]\n",
        "surprise_slice"
      ],
      "execution_count": 14,
      "outputs": [
        {
          "output_type": "execute_result",
          "data": {
            "text/plain": [
              "2    1002\n",
              "3    1003\n",
              "dtype: int64"
            ]
          },
          "metadata": {
            "tags": []
          },
          "execution_count": 14
        }
      ]
    },
    {
      "cell_type": "code",
      "metadata": {
        "colab": {
          "base_uri": "https://localhost:8080/"
        },
        "id": "RqiopidTSKDn",
        "outputId": "5e7e74ce-2659-45f4-dec7-d5b020b0e9aa"
      },
      "source": [
        "try:\n",
        "    surprise_slice[0]\n",
        "except KeyError as e:\n",
        "    print(\"Key error:\", e)"
      ],
      "execution_count": 15,
      "outputs": [
        {
          "output_type": "stream",
          "text": [
            "Key error: 0\n"
          ],
          "name": "stdout"
        }
      ]
    },
    {
      "cell_type": "code",
      "metadata": {
        "colab": {
          "base_uri": "https://localhost:8080/"
        },
        "id": "sYlpiqowSTiT",
        "outputId": "f5830d4a-7224-4989-e92f-6f87146952c7"
      },
      "source": [
        "surprise_slice.iloc[0]"
      ],
      "execution_count": 16,
      "outputs": [
        {
          "output_type": "execute_result",
          "data": {
            "text/plain": [
              "1002"
            ]
          },
          "metadata": {
            "tags": []
          },
          "execution_count": 16
        }
      ]
    },
    {
      "cell_type": "code",
      "metadata": {
        "colab": {
          "base_uri": "https://localhost:8080/"
        },
        "id": "7OGfGT3xSXvE",
        "outputId": "3dc7def8-0dd1-464d-b0ae-fe0a77c35309"
      },
      "source": [
        "#init from dict\n",
        "\n",
        "weights = {\"alice\": 68, \"bob\": 83, \"colin\": 86, \"darwin\": 68}\n",
        "s3 = pd.Series(weights)\n",
        "s3"
      ],
      "execution_count": 17,
      "outputs": [
        {
          "output_type": "execute_result",
          "data": {
            "text/plain": [
              "alice     68\n",
              "bob       83\n",
              "colin     86\n",
              "darwin    68\n",
              "dtype: int64"
            ]
          },
          "metadata": {
            "tags": []
          },
          "execution_count": 17
        }
      ]
    },
    {
      "cell_type": "code",
      "metadata": {
        "colab": {
          "base_uri": "https://localhost:8080/"
        },
        "id": "BIs0_D2MSeF9",
        "outputId": "bc7ccb92-03e8-4566-ddd8-34e8d299e68c"
      },
      "source": [
        "s4 = pd.Series(weights, index = [\"colin\", \"alice\"])\n",
        "s4"
      ],
      "execution_count": 18,
      "outputs": [
        {
          "output_type": "execute_result",
          "data": {
            "text/plain": [
              "colin    86\n",
              "alice    68\n",
              "dtype: int64"
            ]
          },
          "metadata": {
            "tags": []
          },
          "execution_count": 18
        }
      ]
    },
    {
      "cell_type": "code",
      "metadata": {
        "colab": {
          "base_uri": "https://localhost:8080/"
        },
        "id": "RTnVtP5YSnOK",
        "outputId": "3b422f30-f5f2-476e-c11b-a41c1b241db5"
      },
      "source": [
        "#automatic alignment\n",
        "\n",
        "print(s2.keys())\n",
        "print(s3.keys())\n",
        "\n",
        "s2 + s3"
      ],
      "execution_count": 19,
      "outputs": [
        {
          "output_type": "stream",
          "text": [
            "Index(['alice', 'bob', 'charles', 'darwin'], dtype='object')\n",
            "Index(['alice', 'bob', 'colin', 'darwin'], dtype='object')\n"
          ],
          "name": "stdout"
        },
        {
          "output_type": "execute_result",
          "data": {
            "text/plain": [
              "alice      136.0\n",
              "bob        166.0\n",
              "charles      NaN\n",
              "colin        NaN\n",
              "darwin     136.0\n",
              "dtype: float64"
            ]
          },
          "metadata": {
            "tags": []
          },
          "execution_count": 19
        }
      ]
    },
    {
      "cell_type": "code",
      "metadata": {
        "colab": {
          "base_uri": "https://localhost:8080/"
        },
        "id": "yfW-PcmKSzfi",
        "outputId": "0f3cca5e-45ea-4651-8334-b88313acdb99"
      },
      "source": [
        "s5 = pd.Series([1000,1000,1000,1000])\n",
        "print(\"s2 =\", s2.values)\n",
        "print(\"s5 =\", s5.values)\n",
        "\n",
        "s2 + s5"
      ],
      "execution_count": 20,
      "outputs": [
        {
          "output_type": "stream",
          "text": [
            "s2 = [ 68  83 112  68]\n",
            "s5 = [1000 1000 1000 1000]\n"
          ],
          "name": "stdout"
        },
        {
          "output_type": "execute_result",
          "data": {
            "text/plain": [
              "alice     NaN\n",
              "bob       NaN\n",
              "charles   NaN\n",
              "darwin    NaN\n",
              "0         NaN\n",
              "1         NaN\n",
              "2         NaN\n",
              "3         NaN\n",
              "dtype: float64"
            ]
          },
          "metadata": {
            "tags": []
          },
          "execution_count": 20
        }
      ]
    },
    {
      "cell_type": "code",
      "metadata": {
        "id": "WHjaxbgqTEiW"
      },
      "source": [
        "#Pandas could not align the Series, since their labels do not match at all, hence the full NaN result."
      ],
      "execution_count": 21,
      "outputs": []
    },
    {
      "cell_type": "code",
      "metadata": {
        "colab": {
          "base_uri": "https://localhost:8080/"
        },
        "id": "waurEf3cTNoZ",
        "outputId": "aa107b4f-4338-4615-8f64-d3daa4d8e0d1"
      },
      "source": [
        "#Init with a scalar\n",
        "\n",
        "meaning = pd.Series(42, [\"life\", \"universe\", \"everything\"])\n",
        "meaning"
      ],
      "execution_count": 22,
      "outputs": [
        {
          "output_type": "execute_result",
          "data": {
            "text/plain": [
              "life          42\n",
              "universe      42\n",
              "everything    42\n",
              "dtype: int64"
            ]
          },
          "metadata": {
            "tags": []
          },
          "execution_count": 22
        }
      ]
    },
    {
      "cell_type": "code",
      "metadata": {
        "colab": {
          "base_uri": "https://localhost:8080/"
        },
        "id": "PiWtchpKTTpX",
        "outputId": "1762d0e9-a817-4de1-faf4-ad2079667fa8"
      },
      "source": [
        "#Series name\n",
        "\n",
        "s6 = pd.Series([83, 68], index=[\"bob\", \"alice\"], name=\"weights\")\n",
        "s6"
      ],
      "execution_count": 23,
      "outputs": [
        {
          "output_type": "execute_result",
          "data": {
            "text/plain": [
              "bob      83\n",
              "alice    68\n",
              "Name: weights, dtype: int64"
            ]
          },
          "metadata": {
            "tags": []
          },
          "execution_count": 23
        }
      ]
    },
    {
      "cell_type": "code",
      "metadata": {
        "colab": {
          "base_uri": "https://localhost:8080/",
          "height": 265
        },
        "id": "CXbgqDp4TcLA",
        "outputId": "e8079577-e5ed-4edd-ba1c-4d160557a18f"
      },
      "source": [
        "#plotting a series\n",
        "\n",
        "%matplotlib inline\n",
        "import matplotlib.pyplot as plt\n",
        "temperatures = [4.4,5.1,6.1,6.2,6.1,6.1,5.7,5.2,4.7,4.1,3.9,3.5]\n",
        "s7 = pd.Series(temperatures, name=\"Temperature\")\n",
        "s7.plot()\n",
        "plt.show()"
      ],
      "execution_count": 24,
      "outputs": [
        {
          "output_type": "display_data",
          "data": {
            "image/png": "[encoded data removed]",
            "text/plain": [
              "<Figure size 432x288 with 1 Axes>"
            ]
          },
          "metadata": {
            "tags": [],
            "needs_background": "light"
          }
        }
      ]
    },
    {
      "cell_type": "markdown",
      "metadata": {
        "id": "78E4lrNfT1j1"
      },
      "source": [
        "**Handling time**\n",
        "\n",
        "\n",
        "Many datasets have timestamps, and pandas is awesome at manipulating such data:\n",
        "\n",
        "it can represent periods (such as 2016Q3) and frequencies (such as \"monthly\"),\n",
        "\n",
        "it can convert periods to actual timestamps, and vice versa,\n",
        "\n",
        "it can resample data and aggregate values any way you like,\n",
        "\n",
        "it can handle timezones."
      ]
    },
    {
      "cell_type": "code",
      "metadata": {
        "colab": {
          "base_uri": "https://localhost:8080/"
        },
        "id": "NsBM_w4jTldT",
        "outputId": "e5c96642-4bd4-430c-bec0-39da6da06298"
      },
      "source": [
        "dates = pd.date_range('2016/10/29 5:30pm', periods=12, freq='H')\n",
        "dates"
      ],
      "execution_count": 25,
      "outputs": [
        {
          "output_type": "execute_result",
          "data": {
            "text/plain": [
              "DatetimeIndex(['2016-10-29 17:30:00', '2016-10-29 18:30:00',\n",
              "               '2016-10-29 19:30:00', '2016-10-29 20:30:00',\n",
              "               '2016-10-29 21:30:00', '2016-10-29 22:30:00',\n",
              "               '2016-10-29 23:30:00', '2016-10-30 00:30:00',\n",
              "               '2016-10-30 01:30:00', '2016-10-30 02:30:00',\n",
              "               '2016-10-30 03:30:00', '2016-10-30 04:30:00'],\n",
              "              dtype='datetime64[ns]', freq='H')"
            ]
          },
          "metadata": {
            "tags": []
          },
          "execution_count": 25
        }
      ]
    },
    {
      "cell_type": "code",
      "metadata": {
        "colab": {
          "base_uri": "https://localhost:8080/"
        },
        "id": "4Z5J35DNUGMB",
        "outputId": "a8c4f6d3-d162-40f3-de40-1d1726e5e4a3"
      },
      "source": [
        "temp_series = pd.Series(temperatures, dates)\n",
        "temp_series"
      ],
      "execution_count": 26,
      "outputs": [
        {
          "output_type": "execute_result",
          "data": {
            "text/plain": [
              "2016-10-29 17:30:00    4.4\n",
              "2016-10-29 18:30:00    5.1\n",
              "2016-10-29 19:30:00    6.1\n",
              "2016-10-29 20:30:00    6.2\n",
              "2016-10-29 21:30:00    6.1\n",
              "2016-10-29 22:30:00    6.1\n",
              "2016-10-29 23:30:00    5.7\n",
              "2016-10-30 00:30:00    5.2\n",
              "2016-10-30 01:30:00    4.7\n",
              "2016-10-30 02:30:00    4.1\n",
              "2016-10-30 03:30:00    3.9\n",
              "2016-10-30 04:30:00    3.5\n",
              "Freq: H, dtype: float64"
            ]
          },
          "metadata": {
            "tags": []
          },
          "execution_count": 26
        }
      ]
    },
    {
      "cell_type": "code",
      "metadata": {
        "colab": {
          "base_uri": "https://localhost:8080/",
          "height": 361
        },
        "id": "gfKRjn3LULhd",
        "outputId": "f73f4f4d-5913-4d4f-f597-dfeecc9d9701"
      },
      "source": [
        "temp_series.plot(kind=\"bar\")\n",
        "\n",
        "plt.grid(True)\n",
        "plt.show()"
      ],
      "execution_count": 27,
      "outputs": [
        {
          "output_type": "display_data",
          "data": {
            "image/png": "[encoded data removed]",
            "text/plain": [
              "<Figure size 432x288 with 1 Axes>"
            ]
          },
          "metadata": {
            "tags": [],
            "needs_background": "light"
          }
        }
      ]
    },
    {
      "cell_type": "code",
      "metadata": {
        "colab": {
          "base_uri": "https://localhost:8080/"
        },
        "id": "vw3pOzRPUUeA",
        "outputId": "f0ca40e2-8276-4a8e-853a-b37e41c677ff"
      },
      "source": [
        "#Resampling\n",
        "temp_series_freq_2H = temp_series.resample(\"2H\")\n",
        "temp_series_freq_2H"
      ],
      "execution_count": 28,
      "outputs": [
        {
          "output_type": "execute_result",
          "data": {
            "text/plain": [
              "<pandas.core.resample.DatetimeIndexResampler object at 0x7f056e889f50>"
            ]
          },
          "metadata": {
            "tags": []
          },
          "execution_count": 28
        }
      ]
    },
    {
      "cell_type": "code",
      "metadata": {
        "id": "UPm_RPGrUqI1"
      },
      "source": [
        "temp_series_freq_2H = temp_series_freq_2H.mean()"
      ],
      "execution_count": 29,
      "outputs": []
    },
    {
      "cell_type": "code",
      "metadata": {
        "colab": {
          "base_uri": "https://localhost:8080/",
          "height": 361
        },
        "id": "thOv-JvDVBpZ",
        "outputId": "7668770e-3bff-45a8-a0a5-43e3ad1404ec"
      },
      "source": [
        "temp_series_freq_2H.plot(kind=\"bar\")\n",
        "plt.show()"
      ],
      "execution_count": 30,
      "outputs": [
        {
          "output_type": "display_data",
          "data": {
            "image/png": "[encoded data removed]",
            "text/plain": [
              "<Figure size 432x288 with 1 Axes>"
            ]
          },
          "metadata": {
            "tags": [],
            "needs_background": "light"
          }
        }
      ]
    },
    {
      "cell_type": "code",
      "metadata": {
        "colab": {
          "base_uri": "https://localhost:8080/"
        },
        "id": "V4TRYjo8VExD",
        "outputId": "3bd98f34-e888-4116-a858-03a4640a8788"
      },
      "source": [
        "temp_series_freq_2H = temp_series.resample(\"2H\").min()\n",
        "temp_series_freq_2H"
      ],
      "execution_count": 31,
      "outputs": [
        {
          "output_type": "execute_result",
          "data": {
            "text/plain": [
              "2016-10-29 16:00:00    4.4\n",
              "2016-10-29 18:00:00    5.1\n",
              "2016-10-29 20:00:00    6.1\n",
              "2016-10-29 22:00:00    5.7\n",
              "2016-10-30 00:00:00    4.7\n",
              "2016-10-30 02:00:00    3.9\n",
              "2016-10-30 04:00:00    3.5\n",
              "Freq: 2H, dtype: float64"
            ]
          },
          "metadata": {
            "tags": []
          },
          "execution_count": 31
        }
      ]
    },
    {
      "cell_type": "code",
      "metadata": {
        "colab": {
          "base_uri": "https://localhost:8080/"
        },
        "id": "nPYsNaPjVTuU",
        "outputId": "01ae6b8f-13b6-469e-9bdc-5a9aa56b3d68"
      },
      "source": [
        "temp_series_freq_2H = temp_series.resample(\"2H\").apply(np.min)\n",
        "temp_series_freq_2H"
      ],
      "execution_count": 32,
      "outputs": [
        {
          "output_type": "execute_result",
          "data": {
            "text/plain": [
              "2016-10-29 16:00:00    4.4\n",
              "2016-10-29 18:00:00    5.1\n",
              "2016-10-29 20:00:00    6.1\n",
              "2016-10-29 22:00:00    5.7\n",
              "2016-10-30 00:00:00    4.7\n",
              "2016-10-30 02:00:00    3.9\n",
              "2016-10-30 04:00:00    3.5\n",
              "Freq: 2H, dtype: float64"
            ]
          },
          "metadata": {
            "tags": []
          },
          "execution_count": 32
        }
      ]
    },
    {
      "cell_type": "code",
      "metadata": {
        "colab": {
          "base_uri": "https://localhost:8080/"
        },
        "id": "uAGbEilfVXsT",
        "outputId": "6bd043e5-6469-42fc-dcd8-9115772e0472"
      },
      "source": [
        "#Unsampling and interpolation\n",
        "\n",
        "temp_series_freq_15min = temp_series.resample(\"15Min\").mean()\n",
        "temp_series_freq_15min.head(n=10) # `head` displays the top n values"
      ],
      "execution_count": 33,
      "outputs": [
        {
          "output_type": "execute_result",
          "data": {
            "text/plain": [
              "2016-10-29 17:30:00    4.4\n",
              "2016-10-29 17:45:00    NaN\n",
              "2016-10-29 18:00:00    NaN\n",
              "2016-10-29 18:15:00    NaN\n",
              "2016-10-29 18:30:00    5.1\n",
              "2016-10-29 18:45:00    NaN\n",
              "2016-10-29 19:00:00    NaN\n",
              "2016-10-29 19:15:00    NaN\n",
              "2016-10-29 19:30:00    6.1\n",
              "2016-10-29 19:45:00    NaN\n",
              "Freq: 15T, dtype: float64"
            ]
          },
          "metadata": {
            "tags": []
          },
          "execution_count": 33
        }
      ]
    },
    {
      "cell_type": "markdown",
      "metadata": {
        "id": "66ey8irjk4y2"
      },
      "source": [
        "One solution is to fill the gaps by interpolating. We just call the interpolate() method. The default is to use linear interpolation, but we can also select another method, such as cubic interpolation:"
      ]
    },
    {
      "cell_type": "code",
      "metadata": {
        "colab": {
          "base_uri": "https://localhost:8080/"
        },
        "id": "skWSVSkyk0zL",
        "outputId": "6684d4a4-1aaa-4699-edbd-81a4bf41ab4c"
      },
      "source": [
        "temp_series_freq_15min = temp_series.resample(\"15Min\").interpolate(method=\"cubic\")\n",
        "temp_series_freq_15min.head(n=10)"
      ],
      "execution_count": 34,
      "outputs": [
        {
          "output_type": "execute_result",
          "data": {
            "text/plain": [
              "2016-10-29 17:30:00    4.400000\n",
              "2016-10-29 17:45:00    4.452911\n",
              "2016-10-29 18:00:00    4.605113\n",
              "2016-10-29 18:15:00    4.829758\n",
              "2016-10-29 18:30:00    5.100000\n",
              "2016-10-29 18:45:00    5.388992\n",
              "2016-10-29 19:00:00    5.669887\n",
              "2016-10-29 19:15:00    5.915839\n",
              "2016-10-29 19:30:00    6.100000\n",
              "2016-10-29 19:45:00    6.203621\n",
              "Freq: 15T, dtype: float64"
            ]
          },
          "metadata": {
            "tags": []
          },
          "execution_count": 34
        }
      ]
    },
    {
      "cell_type": "code",
      "metadata": {
        "colab": {
          "base_uri": "https://localhost:8080/",
          "height": 265
        },
        "id": "gupe_61Wk9Ab",
        "outputId": "bbc501ad-e265-4c22-b70e-1bf465140cf1"
      },
      "source": [
        "temp_series.plot(label=\"Period: 1 hour\")\n",
        "temp_series_freq_15min.plot(label=\"Period: 15 minutes\")\n",
        "plt.legend()\n",
        "plt.show()"
      ],
      "execution_count": 35,
      "outputs": [
        {
          "output_type": "display_data",
          "data": {
            "image/png": "[encoded data removed]",
            "text/plain": [
              "<Figure size 432x288 with 1 Axes>"
            ]
          },
          "metadata": {
            "tags": [],
            "needs_background": "light"
          }
        }
      ]
    },
    {
      "cell_type": "code",
      "metadata": {
        "colab": {
          "base_uri": "https://localhost:8080/"
        },
        "id": "hvXKg24Uk_jk",
        "outputId": "33eaa9d0-e47e-42a0-80b6-b6f5bde91871"
      },
      "source": [
        "#Timezones\n",
        "\n",
        "temp_series_ny = temp_series.tz_localize(\"America/New_York\")\n",
        "temp_series_ny\n",
        "\n",
        "#Note that -04:00 is now appended to all the datetimes. This means that these datetimes refer to UTC - 4 hours."
      ],
      "execution_count": 36,
      "outputs": [
        {
          "output_type": "execute_result",
          "data": {
            "text/plain": [
              "2016-10-29 17:30:00-04:00    4.4\n",
              "2016-10-29 18:30:00-04:00    5.1\n",
              "2016-10-29 19:30:00-04:00    6.1\n",
              "2016-10-29 20:30:00-04:00    6.2\n",
              "2016-10-29 21:30:00-04:00    6.1\n",
              "2016-10-29 22:30:00-04:00    6.1\n",
              "2016-10-29 23:30:00-04:00    5.7\n",
              "2016-10-30 00:30:00-04:00    5.2\n",
              "2016-10-30 01:30:00-04:00    4.7\n",
              "2016-10-30 02:30:00-04:00    4.1\n",
              "2016-10-30 03:30:00-04:00    3.9\n",
              "2016-10-30 04:30:00-04:00    3.5\n",
              "dtype: float64"
            ]
          },
          "metadata": {
            "tags": []
          },
          "execution_count": 36
        }
      ]
    },
    {
      "cell_type": "code",
      "metadata": {
        "colab": {
          "base_uri": "https://localhost:8080/"
        },
        "id": "pmGHHFEhlKWm",
        "outputId": "55ed6318-7008-423c-b58e-f2575b1cca56"
      },
      "source": [
        "temp_series_paris = temp_series_ny.tz_convert(\"Europe/Paris\")\n",
        "temp_series_paris"
      ],
      "execution_count": 37,
      "outputs": [
        {
          "output_type": "execute_result",
          "data": {
            "text/plain": [
              "2016-10-29 23:30:00+02:00    4.4\n",
              "2016-10-30 00:30:00+02:00    5.1\n",
              "2016-10-30 01:30:00+02:00    6.1\n",
              "2016-10-30 02:30:00+02:00    6.2\n",
              "2016-10-30 02:30:00+01:00    6.1\n",
              "2016-10-30 03:30:00+01:00    6.1\n",
              "2016-10-30 04:30:00+01:00    5.7\n",
              "2016-10-30 05:30:00+01:00    5.2\n",
              "2016-10-30 06:30:00+01:00    4.7\n",
              "2016-10-30 07:30:00+01:00    4.1\n",
              "2016-10-30 08:30:00+01:00    3.9\n",
              "2016-10-30 09:30:00+01:00    3.5\n",
              "dtype: float64"
            ]
          },
          "metadata": {
            "tags": []
          },
          "execution_count": 37
        }
      ]
    },
    {
      "cell_type": "code",
      "metadata": {
        "colab": {
          "base_uri": "https://localhost:8080/"
        },
        "id": "hAqSKXrXlTLN",
        "outputId": "110f1775-9040-4512-ee95-8dd4e0d68f43"
      },
      "source": [
        "temp_series_paris_naive = temp_series_paris.tz_localize(None)\n",
        "temp_series_paris_naive"
      ],
      "execution_count": 38,
      "outputs": [
        {
          "output_type": "execute_result",
          "data": {
            "text/plain": [
              "2016-10-29 23:30:00    4.4\n",
              "2016-10-30 00:30:00    5.1\n",
              "2016-10-30 01:30:00    6.1\n",
              "2016-10-30 02:30:00    6.2\n",
              "2016-10-30 02:30:00    6.1\n",
              "2016-10-30 03:30:00    6.1\n",
              "2016-10-30 04:30:00    5.7\n",
              "2016-10-30 05:30:00    5.2\n",
              "2016-10-30 06:30:00    4.7\n",
              "2016-10-30 07:30:00    4.1\n",
              "2016-10-30 08:30:00    3.9\n",
              "2016-10-30 09:30:00    3.5\n",
              "dtype: float64"
            ]
          },
          "metadata": {
            "tags": []
          },
          "execution_count": 38
        }
      ]
    },
    {
      "cell_type": "code",
      "metadata": {
        "colab": {
          "base_uri": "https://localhost:8080/"
        },
        "id": "FwfMP3yollG9",
        "outputId": "ede8c221-2599-45c4-f876-1ca0633b7e05"
      },
      "source": [
        "try:\n",
        "    temp_series_paris_naive.tz_localize(\"Europe/Paris\")\n",
        "except Exception as e:\n",
        "    print(type(e))\n",
        "    print(e)"
      ],
      "execution_count": 39,
      "outputs": [
        {
          "output_type": "stream",
          "text": [
            "<class 'pytz.exceptions.AmbiguousTimeError'>\n",
            "Cannot infer dst time from 2016-10-30 02:30:00, try using the 'ambiguous' argument\n"
          ],
          "name": "stdout"
        }
      ]
    },
    {
      "cell_type": "code",
      "metadata": {
        "colab": {
          "base_uri": "https://localhost:8080/"
        },
        "id": "WwTwaXntmC7T",
        "outputId": "3051825b-e187-44a4-83fe-74e6f0caded9"
      },
      "source": [
        "temp_series_paris_naive.tz_localize(\"Europe/Paris\", ambiguous=\"infer\")"
      ],
      "execution_count": 40,
      "outputs": [
        {
          "output_type": "execute_result",
          "data": {
            "text/plain": [
              "2016-10-29 23:30:00+02:00    4.4\n",
              "2016-10-30 00:30:00+02:00    5.1\n",
              "2016-10-30 01:30:00+02:00    6.1\n",
              "2016-10-30 02:30:00+02:00    6.2\n",
              "2016-10-30 02:30:00+01:00    6.1\n",
              "2016-10-30 03:30:00+01:00    6.1\n",
              "2016-10-30 04:30:00+01:00    5.7\n",
              "2016-10-30 05:30:00+01:00    5.2\n",
              "2016-10-30 06:30:00+01:00    4.7\n",
              "2016-10-30 07:30:00+01:00    4.1\n",
              "2016-10-30 08:30:00+01:00    3.9\n",
              "2016-10-30 09:30:00+01:00    3.5\n",
              "dtype: float64"
            ]
          },
          "metadata": {
            "tags": []
          },
          "execution_count": 40
        }
      ]
    },
    {
      "cell_type": "code",
      "metadata": {
        "colab": {
          "base_uri": "https://localhost:8080/"
        },
        "id": "swU8wFC3mJ7e",
        "outputId": "9e0ebd8b-87d7-446b-c271-24777d9de378"
      },
      "source": [
        "#Period - The pd.period_range() function returns a PeriodIndex instead of a DatetimeIndex.\n",
        "\n",
        "quarters = pd.period_range('2016Q1', periods=8, freq='Q')\n",
        "quarters"
      ],
      "execution_count": 41,
      "outputs": [
        {
          "output_type": "execute_result",
          "data": {
            "text/plain": [
              "PeriodIndex(['2016Q1', '2016Q2', '2016Q3', '2016Q4', '2017Q1', '2017Q2',\n",
              "             '2017Q3', '2017Q4'],\n",
              "            dtype='period[Q-DEC]', freq='Q-DEC')"
            ]
          },
          "metadata": {
            "tags": []
          },
          "execution_count": 41
        }
      ]
    },
    {
      "cell_type": "code",
      "metadata": {
        "colab": {
          "base_uri": "https://localhost:8080/"
        },
        "id": "AZlITOshmcBv",
        "outputId": "67c6c386-a241-4ac1-bcf0-bc27b93d2d53"
      },
      "source": [
        "quarters + 3"
      ],
      "execution_count": 42,
      "outputs": [
        {
          "output_type": "execute_result",
          "data": {
            "text/plain": [
              "PeriodIndex(['2016Q4', '2017Q1', '2017Q2', '2017Q3', '2017Q4', '2018Q1',\n",
              "             '2018Q2', '2018Q3'],\n",
              "            dtype='period[Q-DEC]', freq='Q-DEC')"
            ]
          },
          "metadata": {
            "tags": []
          },
          "execution_count": 42
        }
      ]
    },
    {
      "cell_type": "code",
      "metadata": {
        "colab": {
          "base_uri": "https://localhost:8080/"
        },
        "id": "cNxSdleomgrV",
        "outputId": "82c571c1-c110-4db8-bcc1-697d5da914fc"
      },
      "source": [
        "quarters.asfreq(\"M\")"
      ],
      "execution_count": 43,
      "outputs": [
        {
          "output_type": "execute_result",
          "data": {
            "text/plain": [
              "PeriodIndex(['2016-03', '2016-06', '2016-09', '2016-12', '2017-03', '2017-06',\n",
              "             '2017-09', '2017-12'],\n",
              "            dtype='period[M]', freq='M')"
            ]
          },
          "metadata": {
            "tags": []
          },
          "execution_count": 43
        }
      ]
    },
    {
      "cell_type": "code",
      "metadata": {
        "colab": {
          "base_uri": "https://localhost:8080/"
        },
        "id": "mGYwAdZcmn6M",
        "outputId": "1270765f-5451-4bc0-cb54-59b2894f6d15"
      },
      "source": [
        "quarters.asfreq(\"M\", how=\"start\")"
      ],
      "execution_count": 44,
      "outputs": [
        {
          "output_type": "execute_result",
          "data": {
            "text/plain": [
              "PeriodIndex(['2016-01', '2016-04', '2016-07', '2016-10', '2017-01', '2017-04',\n",
              "             '2017-07', '2017-10'],\n",
              "            dtype='period[M]', freq='M')"
            ]
          },
          "metadata": {
            "tags": []
          },
          "execution_count": 44
        }
      ]
    },
    {
      "cell_type": "code",
      "metadata": {
        "colab": {
          "base_uri": "https://localhost:8080/"
        },
        "id": "TET8q_LBmuq4",
        "outputId": "a7a09686-7e7d-4ddb-e78b-d4de9a80adb0"
      },
      "source": [
        "quarters.asfreq(\"A\")"
      ],
      "execution_count": 45,
      "outputs": [
        {
          "output_type": "execute_result",
          "data": {
            "text/plain": [
              "PeriodIndex(['2016', '2016', '2016', '2016', '2017', '2017', '2017', '2017'], dtype='period[A-DEC]', freq='A-DEC')"
            ]
          },
          "metadata": {
            "tags": []
          },
          "execution_count": 45
        }
      ]
    },
    {
      "cell_type": "code",
      "metadata": {
        "colab": {
          "base_uri": "https://localhost:8080/"
        },
        "id": "4rtsVLNymxYh",
        "outputId": "07328970-4632-469b-8143-6bb0289c09c7"
      },
      "source": [
        "quarterly_revenue = pd.Series([300, 320, 290, 390, 320, 360, 310, 410], index = quarters)\n",
        "quarterly_revenue"
      ],
      "execution_count": 46,
      "outputs": [
        {
          "output_type": "execute_result",
          "data": {
            "text/plain": [
              "2016Q1    300\n",
              "2016Q2    320\n",
              "2016Q3    290\n",
              "2016Q4    390\n",
              "2017Q1    320\n",
              "2017Q2    360\n",
              "2017Q3    310\n",
              "2017Q4    410\n",
              "Freq: Q-DEC, dtype: int64"
            ]
          },
          "metadata": {
            "tags": []
          },
          "execution_count": 46
        }
      ]
    },
    {
      "cell_type": "code",
      "metadata": {
        "colab": {
          "base_uri": "https://localhost:8080/",
          "height": 277
        },
        "id": "v9bLEMTXm03q",
        "outputId": "c3816e2d-5363-4dfb-bfb3-9885b0bd9930"
      },
      "source": [
        "quarterly_revenue.plot(kind=\"line\")\n",
        "plt.show()"
      ],
      "execution_count": 47,
      "outputs": [
        {
          "output_type": "display_data",
          "data": {
            "image/png": "[encoded data removed]",
            "text/plain": [
              "<Figure size 432x288 with 1 Axes>"
            ]
          },
          "metadata": {
            "tags": [],
            "needs_background": "light"
          }
        }
      ]
    },
    {
      "cell_type": "code",
      "metadata": {
        "colab": {
          "base_uri": "https://localhost:8080/"
        },
        "id": "JPqgBdQzm5UP",
        "outputId": "1b8d3671-8e62-4cff-8b29-7d345891191b"
      },
      "source": [
        "last_hours = quarterly_revenue.to_timestamp(how=\"end\", freq=\"H\")\n",
        "last_hours"
      ],
      "execution_count": 48,
      "outputs": [
        {
          "output_type": "execute_result",
          "data": {
            "text/plain": [
              "2016-03-31 23:59:59.999999999    300\n",
              "2016-06-30 23:59:59.999999999    320\n",
              "2016-09-30 23:59:59.999999999    290\n",
              "2016-12-31 23:59:59.999999999    390\n",
              "2017-03-31 23:59:59.999999999    320\n",
              "2017-06-30 23:59:59.999999999    360\n",
              "2017-09-30 23:59:59.999999999    310\n",
              "2017-12-31 23:59:59.999999999    410\n",
              "dtype: int64"
            ]
          },
          "metadata": {
            "tags": []
          },
          "execution_count": 48
        }
      ]
    },
    {
      "cell_type": "code",
      "metadata": {
        "colab": {
          "base_uri": "https://localhost:8080/"
        },
        "id": "_O_03SC8nA1P",
        "outputId": "2801dc16-a665-44d6-a2f1-dd3a281c7eab"
      },
      "source": [
        "last_hours.to_period()"
      ],
      "execution_count": 49,
      "outputs": [
        {
          "output_type": "execute_result",
          "data": {
            "text/plain": [
              "2016Q1    300\n",
              "2016Q2    320\n",
              "2016Q3    290\n",
              "2016Q4    390\n",
              "2017Q1    320\n",
              "2017Q2    360\n",
              "2017Q3    310\n",
              "2017Q4    410\n",
              "Freq: Q-DEC, dtype: int64"
            ]
          },
          "metadata": {
            "tags": []
          },
          "execution_count": 49
        }
      ]
    },
    {
      "cell_type": "code",
      "metadata": {
        "id": "Dqo7IqernEuq",
        "outputId": "af6dd715-e25c-4cf0-f76a-6846574165c0",
        "colab": {
          "base_uri": "https://localhost:8080/"
        }
      },
      "source": [
        "months_2016 = pd.period_range(\"2016\", periods=12, freq=\"M\")\n",
        "one_day_after_last_days = months_2016.asfreq(\"D\") + 1\n",
        "last_bdays = one_day_after_last_days.to_timestamp() - pd.tseries.offsets.BDay()\n",
        "last_bdays.to_period(\"H\") + 9"
      ],
      "execution_count": 50,
      "outputs": [
        {
          "output_type": "execute_result",
          "data": {
            "text/plain": [
              "PeriodIndex(['2016-01-29 09:00', '2016-02-29 09:00', '2016-03-31 09:00',\n",
              "             '2016-04-29 09:00', '2016-05-31 09:00', '2016-06-30 09:00',\n",
              "             '2016-07-29 09:00', '2016-08-31 09:00', '2016-09-30 09:00',\n",
              "             '2016-10-31 09:00', '2016-11-30 09:00', '2016-12-30 09:00'],\n",
              "            dtype='period[H]', freq='H')"
            ]
          },
          "metadata": {
            "tags": []
          },
          "execution_count": 50
        }
      ]
    },
    {
      "cell_type": "code",
      "metadata": {
        "id": "zNR1jrI7nMJL"
      },
      "source": [
        ""
      ],
      "execution_count": null,
      "outputs": []
    }
  ]
}