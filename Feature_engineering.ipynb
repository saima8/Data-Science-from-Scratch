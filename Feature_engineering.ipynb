{
  "nbformat": 4,
  "nbformat_minor": 0,
  "metadata": {
    "colab": {
      "name": "Feature engineering.ipynb",
      "provenance": [],
      "authorship_tag": "ABX9TyOyJdpnY8MXzOgrjOtAexrl",
      "include_colab_link": true
    },
    "kernelspec": {
      "display_name": "Python 3",
      "name": "python3"
    },
    "language_info": {
      "name": "python"
    }
  },
  "cells": [
    {
      "cell_type": "markdown",
      "metadata": {
        "id": "view-in-github",
        "colab_type": "text"
      },
      "source": [
        "<a href=\"https://colab.research.google.com/github/saima8/Data-Science-from-scratch/blob/main/Feature_engineering.ipynb\" target=\"_parent\"><img src=\"https://colab.research.google.com/assets/colab-badge.svg\" alt=\"Open In Colab\"/></a>"
      ]
    },
    {
      "cell_type": "markdown",
      "metadata": {
        "id": "wCRA_o4HxXvu"
      },
      "source": [
        "## Quantization\n"
      ]
    },
    {
      "cell_type": "code",
      "metadata": {
        "colab": {
          "base_uri": "https://localhost:8080/"
        },
        "id": "LdqkFV7jdNFR",
        "outputId": "a959342a-0c5d-4728-d0ae-0c10ba9d79e3"
      },
      "source": [
        "import numpy as np\n",
        "\n",
        "# creating 15 random integers\n",
        "\n",
        "ages = np.random.randint(0,100,15)\n",
        "\n",
        "# evenly spaced bins\n",
        "ages_binned = np.floor_divide(ages, 10)\n",
        "\n",
        "print(f\"ages: {ages} \\n Ages Binned: {ages_binned}\\n\")"
      ],
      "execution_count": null,
      "outputs": [
        {
          "output_type": "stream",
          "text": [
            "ages: [61 96 23 60 97 31 58 50 91 99 13 56 88 26 35] \n",
            " Ages Binned: [6 9 2 6 9 3 5 5 9 9 1 5 8 2 3]\n",
            "\n"
          ],
          "name": "stdout"
        }
      ]
    },
    {
      "cell_type": "code",
      "metadata": {
        "colab": {
          "base_uri": "https://localhost:8080/"
        },
        "id": "Gb1KHhbhhfhv",
        "outputId": "9b9d54ac-79d3-4ba9-ee72-f10e5d25d7bf"
      },
      "source": [
        "#  numbers spanning several magnitudes\n",
        "views = [300, 5936, 2, 350, 10000, 743, 2854, 9113, 25, 20000, 160, 683, 7245, 224 ]\n",
        "\n",
        "# map count = exponential width bins\n",
        "views_exponential_bins = np.floor(np.log10(views))\n",
        "\n",
        "print(f\"views: {views} \\n views_exponential_bins: {views_exponential_bins}\\n\")"
      ],
      "execution_count": null,
      "outputs": [
        {
          "output_type": "stream",
          "text": [
            "views: [300, 5936, 2, 350, 10000, 743, 2854, 9113, 25, 20000, 160, 683, 7245, 224] \n",
            " views_exponential_bins: [2. 3. 0. 2. 4. 2. 3. 3. 1. 4. 2. 2. 3. 2.]\n",
            "\n"
          ],
          "name": "stdout"
        }
      ]
    },
    {
      "cell_type": "markdown",
      "metadata": {
        "id": "v5-wSLqgr1cH"
      },
      "source": [
        "Adaptive bins are a better fit when there are large gaps within the counts.When there are large margins in-between the values of the counts then some of the fixed-width bins would be empty. To do adaptive binning, we can make use of the quantiles of the data- the values that divide the data into equal portions like the median"
      ]
    },
    {
      "cell_type": "code",
      "metadata": {
        "colab": {
          "base_uri": "https://localhost:8080/"
        },
        "id": "auZAMMimjHAt",
        "outputId": "46e344a8-e1ba-4b35-a07c-da3023582f62"
      },
      "source": [
        "import pandas as pd\n",
        "\n",
        "#map the counts into quantiles(adaptive binning)\n",
        "views_adaptive_bin = pd.qcut(views, 5, labels = False)\n",
        "\n",
        "print(f\"Adaptive bins: {views_adaptive_bin}\")"
      ],
      "execution_count": null,
      "outputs": [
        {
          "output_type": "stream",
          "text": [
            "Adaptive bins: [1 3 0 1 4 2 3 4 0 4 0 2 3 1]\n"
          ],
          "name": "stdout"
        }
      ]
    },
    {
      "cell_type": "markdown",
      "metadata": {
        "id": "EUEaCSTpxk66"
      },
      "source": [
        "## Binarization"
      ]
    },
    {
      "cell_type": "code",
      "metadata": {
        "id": "F1jVtyFQtR_k"
      },
      "source": [
        "popsong_df = pd.read_csv('/content/song_views.csv', encoding='utf-8')"
      ],
      "execution_count": null,
      "outputs": []
    },
    {
      "cell_type": "code",
      "metadata": {
        "colab": {
          "base_uri": "https://localhost:8080/",
          "height": 419
        },
        "id": "TURQa_y20T23",
        "outputId": "f6fde8c2-dedf-42d9-ab61-7be844de2a89"
      },
      "source": [
        "popsong_df"
      ],
      "execution_count": null,
      "outputs": [
        {
          "output_type": "execute_result",
          "data": {
            "text/html": [
              "<div>\n",
              "<style scoped>\n",
              "    .dataframe tbody tr th:only-of-type {\n",
              "        vertical-align: middle;\n",
              "    }\n",
              "\n",
              "    .dataframe tbody tr th {\n",
              "        vertical-align: top;\n",
              "    }\n",
              "\n",
              "    .dataframe thead th {\n",
              "        text-align: right;\n",
              "    }\n",
              "</style>\n",
              "<table border=\"1\" class=\"dataframe\">\n",
              "  <thead>\n",
              "    <tr style=\"text-align: right;\">\n",
              "      <th></th>\n",
              "      <th>user_id</th>\n",
              "      <th>song_id</th>\n",
              "      <th>title</th>\n",
              "      <th>listen_count</th>\n",
              "    </tr>\n",
              "  </thead>\n",
              "  <tbody>\n",
              "    <tr>\n",
              "      <th>0</th>\n",
              "      <td>b6b799f34a204bd928ea014c243ddad6d0be4f8f</td>\n",
              "      <td>SOBONKR12A58A7A7E0</td>\n",
              "      <td>You're The One</td>\n",
              "      <td>2</td>\n",
              "    </tr>\n",
              "    <tr>\n",
              "      <th>1</th>\n",
              "      <td>b41ead730ac14f6b6717b9cf8859d5579f3f8d4d</td>\n",
              "      <td>SOBONKR12A58A7A7E0</td>\n",
              "      <td>You're The One</td>\n",
              "      <td>0</td>\n",
              "    </tr>\n",
              "    <tr>\n",
              "      <th>2</th>\n",
              "      <td>4c84359a164b161496d05282707cecbd50adbfc4</td>\n",
              "      <td>SOBONKR12A58A7A7E0</td>\n",
              "      <td>You're The One</td>\n",
              "      <td>0</td>\n",
              "    </tr>\n",
              "    <tr>\n",
              "      <th>3</th>\n",
              "      <td>779b5908593756abb6ff7586177c966022668b06</td>\n",
              "      <td>SOBONKR12A58A7A7E0</td>\n",
              "      <td>You're The One</td>\n",
              "      <td>0</td>\n",
              "    </tr>\n",
              "    <tr>\n",
              "      <th>4</th>\n",
              "      <td>dd88ea94f605a63d9fc37a214127e3f00e85e42d</td>\n",
              "      <td>SOBONKR12A58A7A7E0</td>\n",
              "      <td>You're The One</td>\n",
              "      <td>0</td>\n",
              "    </tr>\n",
              "    <tr>\n",
              "      <th>...</th>\n",
              "      <td>...</td>\n",
              "      <td>...</td>\n",
              "      <td>...</td>\n",
              "      <td>...</td>\n",
              "    </tr>\n",
              "    <tr>\n",
              "      <th>360</th>\n",
              "      <td>42c9fba813dd9ca8ca3673277a0f923b6845a7a6</td>\n",
              "      <td>SOBONKR12A58A7A7E0</td>\n",
              "      <td>You're The One</td>\n",
              "      <td>0</td>\n",
              "    </tr>\n",
              "    <tr>\n",
              "      <th>361</th>\n",
              "      <td>3f152d355d53865a2ca27ac5ceeffb7ebaea0a26</td>\n",
              "      <td>SOBONKR12A58A7A7E0</td>\n",
              "      <td>You're The One</td>\n",
              "      <td>0</td>\n",
              "    </tr>\n",
              "    <tr>\n",
              "      <th>362</th>\n",
              "      <td>b4adf5ac8bcba59011df7be840dda1134a47cc30</td>\n",
              "      <td>SOBONKR12A58A7A7E0</td>\n",
              "      <td>You're The One</td>\n",
              "      <td>0</td>\n",
              "    </tr>\n",
              "    <tr>\n",
              "      <th>363</th>\n",
              "      <td>8f241c98c6cc95ab4a8260ff9b510c2e445a33d7</td>\n",
              "      <td>SOBONKR12A58A7A7E0</td>\n",
              "      <td>You're The One</td>\n",
              "      <td>0</td>\n",
              "    </tr>\n",
              "    <tr>\n",
              "      <th>364</th>\n",
              "      <td>7d9b58502405c5bbbfff0c5683cb2dea71089908</td>\n",
              "      <td>SOBONKR12A58A7A7E0</td>\n",
              "      <td>You're The One</td>\n",
              "      <td>0</td>\n",
              "    </tr>\n",
              "  </tbody>\n",
              "</table>\n",
              "<p>365 rows × 4 columns</p>\n",
              "</div>"
            ],
            "text/plain": [
              "                                      user_id  ... listen_count\n",
              "0    b6b799f34a204bd928ea014c243ddad6d0be4f8f  ...            2\n",
              "1    b41ead730ac14f6b6717b9cf8859d5579f3f8d4d  ...            0\n",
              "2    4c84359a164b161496d05282707cecbd50adbfc4  ...            0\n",
              "3    779b5908593756abb6ff7586177c966022668b06  ...            0\n",
              "4    dd88ea94f605a63d9fc37a214127e3f00e85e42d  ...            0\n",
              "..                                        ...  ...          ...\n",
              "360  42c9fba813dd9ca8ca3673277a0f923b6845a7a6  ...            0\n",
              "361  3f152d355d53865a2ca27ac5ceeffb7ebaea0a26  ...            0\n",
              "362  b4adf5ac8bcba59011df7be840dda1134a47cc30  ...            0\n",
              "363  8f241c98c6cc95ab4a8260ff9b510c2e445a33d7  ...            0\n",
              "364  7d9b58502405c5bbbfff0c5683cb2dea71089908  ...            0\n",
              "\n",
              "[365 rows x 4 columns]"
            ]
          },
          "metadata": {
            "tags": []
          },
          "execution_count": 25
        }
      ]
    },
    {
      "cell_type": "code",
      "metadata": {
        "id": "vEK7HE0f0VgC"
      },
      "source": [
        "heared = np.array(popsong_df['listen_count'])\n",
        "heared[heared >= 1] = 1\n",
        "popsong_df['heard'] = heared"
      ],
      "execution_count": null,
      "outputs": []
    },
    {
      "cell_type": "code",
      "metadata": {
        "colab": {
          "base_uri": "https://localhost:8080/",
          "height": 359
        },
        "id": "eNfBSdAK0_CF",
        "outputId": "eab4e394-5f6a-4c89-d8e2-15484bec6463"
      },
      "source": [
        "popsong_df.head(10)"
      ],
      "execution_count": null,
      "outputs": [
        {
          "output_type": "execute_result",
          "data": {
            "text/html": [
              "<div>\n",
              "<style scoped>\n",
              "    .dataframe tbody tr th:only-of-type {\n",
              "        vertical-align: middle;\n",
              "    }\n",
              "\n",
              "    .dataframe tbody tr th {\n",
              "        vertical-align: top;\n",
              "    }\n",
              "\n",
              "    .dataframe thead th {\n",
              "        text-align: right;\n",
              "    }\n",
              "</style>\n",
              "<table border=\"1\" class=\"dataframe\">\n",
              "  <thead>\n",
              "    <tr style=\"text-align: right;\">\n",
              "      <th></th>\n",
              "      <th>user_id</th>\n",
              "      <th>song_id</th>\n",
              "      <th>title</th>\n",
              "      <th>listen_count</th>\n",
              "    </tr>\n",
              "  </thead>\n",
              "  <tbody>\n",
              "    <tr>\n",
              "      <th>0</th>\n",
              "      <td>b6b799f34a204bd928ea014c243ddad6d0be4f8f</td>\n",
              "      <td>SOBONKR12A58A7A7E0</td>\n",
              "      <td>You're The One</td>\n",
              "      <td>2</td>\n",
              "    </tr>\n",
              "    <tr>\n",
              "      <th>1</th>\n",
              "      <td>b41ead730ac14f6b6717b9cf8859d5579f3f8d4d</td>\n",
              "      <td>SOBONKR12A58A7A7E0</td>\n",
              "      <td>You're The One</td>\n",
              "      <td>0</td>\n",
              "    </tr>\n",
              "    <tr>\n",
              "      <th>2</th>\n",
              "      <td>4c84359a164b161496d05282707cecbd50adbfc4</td>\n",
              "      <td>SOBONKR12A58A7A7E0</td>\n",
              "      <td>You're The One</td>\n",
              "      <td>0</td>\n",
              "    </tr>\n",
              "    <tr>\n",
              "      <th>3</th>\n",
              "      <td>779b5908593756abb6ff7586177c966022668b06</td>\n",
              "      <td>SOBONKR12A58A7A7E0</td>\n",
              "      <td>You're The One</td>\n",
              "      <td>0</td>\n",
              "    </tr>\n",
              "    <tr>\n",
              "      <th>4</th>\n",
              "      <td>dd88ea94f605a63d9fc37a214127e3f00e85e42d</td>\n",
              "      <td>SOBONKR12A58A7A7E0</td>\n",
              "      <td>You're The One</td>\n",
              "      <td>0</td>\n",
              "    </tr>\n",
              "    <tr>\n",
              "      <th>5</th>\n",
              "      <td>68f0359a2f1cedb0d15c98d88017281db79f9bc6</td>\n",
              "      <td>SOBONKR12A58A7A7E0</td>\n",
              "      <td>You're The One</td>\n",
              "      <td>0</td>\n",
              "    </tr>\n",
              "    <tr>\n",
              "      <th>6</th>\n",
              "      <td>116a4c95d63623a967edf2f3456c90ebbf964e6f</td>\n",
              "      <td>SOBONKR12A58A7A7E0</td>\n",
              "      <td>You're The One</td>\n",
              "      <td>17</td>\n",
              "    </tr>\n",
              "    <tr>\n",
              "      <th>7</th>\n",
              "      <td>45544491ccfcdc0b0803c34f201a6287ed4e30f8</td>\n",
              "      <td>SOBONKR12A58A7A7E0</td>\n",
              "      <td>You're The One</td>\n",
              "      <td>0</td>\n",
              "    </tr>\n",
              "    <tr>\n",
              "      <th>8</th>\n",
              "      <td>e701a24d9b6c59f5ac37ab28462ca82470e27cfb</td>\n",
              "      <td>SOBONKR12A58A7A7E0</td>\n",
              "      <td>You're The One</td>\n",
              "      <td>68</td>\n",
              "    </tr>\n",
              "    <tr>\n",
              "      <th>9</th>\n",
              "      <td>edc8b7b1fd592a3b69c3d823a742e1a064abec95</td>\n",
              "      <td>SOBONKR12A58A7A7E0</td>\n",
              "      <td>You're The One</td>\n",
              "      <td>0</td>\n",
              "    </tr>\n",
              "  </tbody>\n",
              "</table>\n",
              "</div>"
            ],
            "text/plain": [
              "                                    user_id  ... listen_count\n",
              "0  b6b799f34a204bd928ea014c243ddad6d0be4f8f  ...            2\n",
              "1  b41ead730ac14f6b6717b9cf8859d5579f3f8d4d  ...            0\n",
              "2  4c84359a164b161496d05282707cecbd50adbfc4  ...            0\n",
              "3  779b5908593756abb6ff7586177c966022668b06  ...            0\n",
              "4  dd88ea94f605a63d9fc37a214127e3f00e85e42d  ...            0\n",
              "5  68f0359a2f1cedb0d15c98d88017281db79f9bc6  ...            0\n",
              "6  116a4c95d63623a967edf2f3456c90ebbf964e6f  ...           17\n",
              "7  45544491ccfcdc0b0803c34f201a6287ed4e30f8  ...            0\n",
              "8  e701a24d9b6c59f5ac37ab28462ca82470e27cfb  ...           68\n",
              "9  edc8b7b1fd592a3b69c3d823a742e1a064abec95  ...            0\n",
              "\n",
              "[10 rows x 4 columns]"
            ]
          },
          "metadata": {
            "tags": []
          },
          "execution_count": 26
        }
      ]
    },
    {
      "cell_type": "code",
      "metadata": {
        "id": "WLu2yCGK1FD6"
      },
      "source": [
        "from sklearn.preprocessing import Binarizer"
      ],
      "execution_count": null,
      "outputs": []
    },
    {
      "cell_type": "code",
      "metadata": {
        "colab": {
          "base_uri": "https://localhost:8080/",
          "height": 204
        },
        "id": "rWtdcvF41h5E",
        "outputId": "bd86c896-85a2-4a2d-9dfb-8751001a326c"
      },
      "source": [
        "popsong_df.head(5)"
      ],
      "execution_count": null,
      "outputs": [
        {
          "output_type": "execute_result",
          "data": {
            "text/html": [
              "<div>\n",
              "<style scoped>\n",
              "    .dataframe tbody tr th:only-of-type {\n",
              "        vertical-align: middle;\n",
              "    }\n",
              "\n",
              "    .dataframe tbody tr th {\n",
              "        vertical-align: top;\n",
              "    }\n",
              "\n",
              "    .dataframe thead th {\n",
              "        text-align: right;\n",
              "    }\n",
              "</style>\n",
              "<table border=\"1\" class=\"dataframe\">\n",
              "  <thead>\n",
              "    <tr style=\"text-align: right;\">\n",
              "      <th></th>\n",
              "      <th>user_id</th>\n",
              "      <th>song_id</th>\n",
              "      <th>title</th>\n",
              "      <th>listen_count</th>\n",
              "    </tr>\n",
              "  </thead>\n",
              "  <tbody>\n",
              "    <tr>\n",
              "      <th>0</th>\n",
              "      <td>b6b799f34a204bd928ea014c243ddad6d0be4f8f</td>\n",
              "      <td>SOBONKR12A58A7A7E0</td>\n",
              "      <td>You're The One</td>\n",
              "      <td>2</td>\n",
              "    </tr>\n",
              "    <tr>\n",
              "      <th>1</th>\n",
              "      <td>b41ead730ac14f6b6717b9cf8859d5579f3f8d4d</td>\n",
              "      <td>SOBONKR12A58A7A7E0</td>\n",
              "      <td>You're The One</td>\n",
              "      <td>0</td>\n",
              "    </tr>\n",
              "    <tr>\n",
              "      <th>2</th>\n",
              "      <td>4c84359a164b161496d05282707cecbd50adbfc4</td>\n",
              "      <td>SOBONKR12A58A7A7E0</td>\n",
              "      <td>You're The One</td>\n",
              "      <td>0</td>\n",
              "    </tr>\n",
              "    <tr>\n",
              "      <th>3</th>\n",
              "      <td>779b5908593756abb6ff7586177c966022668b06</td>\n",
              "      <td>SOBONKR12A58A7A7E0</td>\n",
              "      <td>You're The One</td>\n",
              "      <td>0</td>\n",
              "    </tr>\n",
              "    <tr>\n",
              "      <th>4</th>\n",
              "      <td>dd88ea94f605a63d9fc37a214127e3f00e85e42d</td>\n",
              "      <td>SOBONKR12A58A7A7E0</td>\n",
              "      <td>You're The One</td>\n",
              "      <td>0</td>\n",
              "    </tr>\n",
              "  </tbody>\n",
              "</table>\n",
              "</div>"
            ],
            "text/plain": [
              "                                    user_id  ... listen_count\n",
              "0  b6b799f34a204bd928ea014c243ddad6d0be4f8f  ...            2\n",
              "1  b41ead730ac14f6b6717b9cf8859d5579f3f8d4d  ...            0\n",
              "2  4c84359a164b161496d05282707cecbd50adbfc4  ...            0\n",
              "3  779b5908593756abb6ff7586177c966022668b06  ...            0\n",
              "4  dd88ea94f605a63d9fc37a214127e3f00e85e42d  ...            0\n",
              "\n",
              "[5 rows x 4 columns]"
            ]
          },
          "metadata": {
            "tags": []
          },
          "execution_count": 28
        }
      ]
    },
    {
      "cell_type": "code",
      "metadata": {
        "colab": {
          "base_uri": "https://localhost:8080/"
        },
        "id": "6aaj9MfN7Ikr",
        "outputId": "37e1368a-bb31-4eb3-b3b9-88a0e920cedb"
      },
      "source": [
        "popsong_df.shape"
      ],
      "execution_count": null,
      "outputs": [
        {
          "output_type": "execute_result",
          "data": {
            "text/plain": [
              "(365, 4)"
            ]
          },
          "metadata": {
            "tags": []
          },
          "execution_count": 30
        }
      ]
    },
    {
      "cell_type": "code",
      "metadata": {
        "colab": {
          "base_uri": "https://localhost:8080/",
          "height": 390
        },
        "id": "mWNqB-FR1nkv",
        "outputId": "03fd7a77-65a0-445a-9357-dbcfa68e87e1"
      },
      "source": [
        "# Bn = Binarizer(threshold=0.9)\n",
        "# pd_heared = Bn.transform(popsong_df[['listen_count']])[0]\n",
        "# popsong_df['pd_heared'] = pd_heared\n",
        "# popsong_df.head(5)\n",
        "\n",
        "bn = Binarizer(threshold=0.9)\n",
        "pd_watched = bn.transform([popsong_df['listen_count']])[0]\n",
        "popsong_df['pd_watched'] = pd_watched\n",
        "popsong_df.head(11)"
      ],
      "execution_count": null,
      "outputs": [
        {
          "output_type": "execute_result",
          "data": {
            "text/html": [
              "<div>\n",
              "<style scoped>\n",
              "    .dataframe tbody tr th:only-of-type {\n",
              "        vertical-align: middle;\n",
              "    }\n",
              "\n",
              "    .dataframe tbody tr th {\n",
              "        vertical-align: top;\n",
              "    }\n",
              "\n",
              "    .dataframe thead th {\n",
              "        text-align: right;\n",
              "    }\n",
              "</style>\n",
              "<table border=\"1\" class=\"dataframe\">\n",
              "  <thead>\n",
              "    <tr style=\"text-align: right;\">\n",
              "      <th></th>\n",
              "      <th>user_id</th>\n",
              "      <th>song_id</th>\n",
              "      <th>title</th>\n",
              "      <th>listen_count</th>\n",
              "      <th>pd_watched</th>\n",
              "    </tr>\n",
              "  </thead>\n",
              "  <tbody>\n",
              "    <tr>\n",
              "      <th>0</th>\n",
              "      <td>b6b799f34a204bd928ea014c243ddad6d0be4f8f</td>\n",
              "      <td>SOBONKR12A58A7A7E0</td>\n",
              "      <td>You're The One</td>\n",
              "      <td>2</td>\n",
              "      <td>1</td>\n",
              "    </tr>\n",
              "    <tr>\n",
              "      <th>1</th>\n",
              "      <td>b41ead730ac14f6b6717b9cf8859d5579f3f8d4d</td>\n",
              "      <td>SOBONKR12A58A7A7E0</td>\n",
              "      <td>You're The One</td>\n",
              "      <td>0</td>\n",
              "      <td>0</td>\n",
              "    </tr>\n",
              "    <tr>\n",
              "      <th>2</th>\n",
              "      <td>4c84359a164b161496d05282707cecbd50adbfc4</td>\n",
              "      <td>SOBONKR12A58A7A7E0</td>\n",
              "      <td>You're The One</td>\n",
              "      <td>0</td>\n",
              "      <td>0</td>\n",
              "    </tr>\n",
              "    <tr>\n",
              "      <th>3</th>\n",
              "      <td>779b5908593756abb6ff7586177c966022668b06</td>\n",
              "      <td>SOBONKR12A58A7A7E0</td>\n",
              "      <td>You're The One</td>\n",
              "      <td>0</td>\n",
              "      <td>0</td>\n",
              "    </tr>\n",
              "    <tr>\n",
              "      <th>4</th>\n",
              "      <td>dd88ea94f605a63d9fc37a214127e3f00e85e42d</td>\n",
              "      <td>SOBONKR12A58A7A7E0</td>\n",
              "      <td>You're The One</td>\n",
              "      <td>0</td>\n",
              "      <td>0</td>\n",
              "    </tr>\n",
              "    <tr>\n",
              "      <th>5</th>\n",
              "      <td>68f0359a2f1cedb0d15c98d88017281db79f9bc6</td>\n",
              "      <td>SOBONKR12A58A7A7E0</td>\n",
              "      <td>You're The One</td>\n",
              "      <td>0</td>\n",
              "      <td>0</td>\n",
              "    </tr>\n",
              "    <tr>\n",
              "      <th>6</th>\n",
              "      <td>116a4c95d63623a967edf2f3456c90ebbf964e6f</td>\n",
              "      <td>SOBONKR12A58A7A7E0</td>\n",
              "      <td>You're The One</td>\n",
              "      <td>17</td>\n",
              "      <td>1</td>\n",
              "    </tr>\n",
              "    <tr>\n",
              "      <th>7</th>\n",
              "      <td>45544491ccfcdc0b0803c34f201a6287ed4e30f8</td>\n",
              "      <td>SOBONKR12A58A7A7E0</td>\n",
              "      <td>You're The One</td>\n",
              "      <td>0</td>\n",
              "      <td>0</td>\n",
              "    </tr>\n",
              "    <tr>\n",
              "      <th>8</th>\n",
              "      <td>e701a24d9b6c59f5ac37ab28462ca82470e27cfb</td>\n",
              "      <td>SOBONKR12A58A7A7E0</td>\n",
              "      <td>You're The One</td>\n",
              "      <td>68</td>\n",
              "      <td>1</td>\n",
              "    </tr>\n",
              "    <tr>\n",
              "      <th>9</th>\n",
              "      <td>edc8b7b1fd592a3b69c3d823a742e1a064abec95</td>\n",
              "      <td>SOBONKR12A58A7A7E0</td>\n",
              "      <td>You're The One</td>\n",
              "      <td>0</td>\n",
              "      <td>0</td>\n",
              "    </tr>\n",
              "    <tr>\n",
              "      <th>10</th>\n",
              "      <td>fb41d1c374d093ab643ef3bcd70eeb258d479076</td>\n",
              "      <td>SOBONKR12A58A7A7E0</td>\n",
              "      <td>You're The One</td>\n",
              "      <td>1</td>\n",
              "      <td>1</td>\n",
              "    </tr>\n",
              "  </tbody>\n",
              "</table>\n",
              "</div>"
            ],
            "text/plain": [
              "                                     user_id  ... pd_watched\n",
              "0   b6b799f34a204bd928ea014c243ddad6d0be4f8f  ...          1\n",
              "1   b41ead730ac14f6b6717b9cf8859d5579f3f8d4d  ...          0\n",
              "2   4c84359a164b161496d05282707cecbd50adbfc4  ...          0\n",
              "3   779b5908593756abb6ff7586177c966022668b06  ...          0\n",
              "4   dd88ea94f605a63d9fc37a214127e3f00e85e42d  ...          0\n",
              "5   68f0359a2f1cedb0d15c98d88017281db79f9bc6  ...          0\n",
              "6   116a4c95d63623a967edf2f3456c90ebbf964e6f  ...          1\n",
              "7   45544491ccfcdc0b0803c34f201a6287ed4e30f8  ...          0\n",
              "8   e701a24d9b6c59f5ac37ab28462ca82470e27cfb  ...          1\n",
              "9   edc8b7b1fd592a3b69c3d823a742e1a064abec95  ...          0\n",
              "10  fb41d1c374d093ab643ef3bcd70eeb258d479076  ...          1\n",
              "\n",
              "[11 rows x 5 columns]"
            ]
          },
          "metadata": {
            "tags": []
          },
          "execution_count": 31
        }
      ]
    },
    {
      "cell_type": "markdown",
      "metadata": {
        "id": "6gz-wLX87d-G"
      },
      "source": [
        "## Rounding"
      ]
    },
    {
      "cell_type": "code",
      "metadata": {
        "colab": {
          "base_uri": "https://localhost:8080/",
          "height": 266
        },
        "id": "XHXOONgq29Na",
        "outputId": "a90fd2ec-3d89-4912-daba-d8090c03af94"
      },
      "source": [
        "import pandas as pd\n",
        "\n",
        "items_popularity = pd.read_csv(\"https://raw.githubusercontent.com/ingledarshan/Data-Science-Advanced-Datasets/main/item_popularity.csv\")\n",
        "items_popularity"
      ],
      "execution_count": null,
      "outputs": [
        {
          "output_type": "execute_result",
          "data": {
            "text/html": [
              "<div>\n",
              "<style scoped>\n",
              "    .dataframe tbody tr th:only-of-type {\n",
              "        vertical-align: middle;\n",
              "    }\n",
              "\n",
              "    .dataframe tbody tr th {\n",
              "        vertical-align: top;\n",
              "    }\n",
              "\n",
              "    .dataframe thead th {\n",
              "        text-align: right;\n",
              "    }\n",
              "</style>\n",
              "<table border=\"1\" class=\"dataframe\">\n",
              "  <thead>\n",
              "    <tr style=\"text-align: right;\">\n",
              "      <th></th>\n",
              "      <th>item_id</th>\n",
              "      <th>pop_percent</th>\n",
              "    </tr>\n",
              "  </thead>\n",
              "  <tbody>\n",
              "    <tr>\n",
              "      <th>0</th>\n",
              "      <td>it_01345</td>\n",
              "      <td>0.98324</td>\n",
              "    </tr>\n",
              "    <tr>\n",
              "      <th>1</th>\n",
              "      <td>it_03431</td>\n",
              "      <td>0.56123</td>\n",
              "    </tr>\n",
              "    <tr>\n",
              "      <th>2</th>\n",
              "      <td>it_04572</td>\n",
              "      <td>0.12098</td>\n",
              "    </tr>\n",
              "    <tr>\n",
              "      <th>3</th>\n",
              "      <td>it_98021</td>\n",
              "      <td>0.35476</td>\n",
              "    </tr>\n",
              "    <tr>\n",
              "      <th>4</th>\n",
              "      <td>it_01298</td>\n",
              "      <td>0.92101</td>\n",
              "    </tr>\n",
              "    <tr>\n",
              "      <th>5</th>\n",
              "      <td>it_90120</td>\n",
              "      <td>0.81212</td>\n",
              "    </tr>\n",
              "    <tr>\n",
              "      <th>6</th>\n",
              "      <td>it_10123</td>\n",
              "      <td>0.56502</td>\n",
              "    </tr>\n",
              "  </tbody>\n",
              "</table>\n",
              "</div>"
            ],
            "text/plain": [
              "    item_id  pop_percent\n",
              "0  it_01345      0.98324\n",
              "1  it_03431      0.56123\n",
              "2  it_04572      0.12098\n",
              "3  it_98021      0.35476\n",
              "4  it_01298      0.92101\n",
              "5  it_90120      0.81212\n",
              "6  it_10123      0.56502"
            ]
          },
          "metadata": {
            "tags": []
          },
          "execution_count": 4
        }
      ]
    },
    {
      "cell_type": "code",
      "metadata": {
        "colab": {
          "base_uri": "https://localhost:8080/"
        },
        "id": "DgBHz43HCAg5",
        "outputId": "39c7ed03-488d-4a63-8004-8b40321bffd4"
      },
      "source": [
        "items_popularity.shape\n"
      ],
      "execution_count": null,
      "outputs": [
        {
          "output_type": "execute_result",
          "data": {
            "text/plain": [
              "(7, 2)"
            ]
          },
          "metadata": {
            "tags": []
          },
          "execution_count": 5
        }
      ]
    },
    {
      "cell_type": "code",
      "metadata": {
        "colab": {
          "base_uri": "https://localhost:8080/",
          "height": 266
        },
        "id": "8-IPf-mcCEww",
        "outputId": "c3fcf2f1-1c2e-41db-e73f-e0243bced9fc"
      },
      "source": [
        "# round off the percentages\n",
        "items_popularity['popularity_scale_10'] = np.array(np.round((items_popularity['pop_percent']*10)), dtype='int')\n",
        "items_popularity['popularity_scale_100'] = np.array(np.round((items_popularity['pop_percent']*100)), dtype='int')\n",
        "items_popularity"
      ],
      "execution_count": null,
      "outputs": [
        {
          "output_type": "execute_result",
          "data": {
            "text/html": [
              "<div>\n",
              "<style scoped>\n",
              "    .dataframe tbody tr th:only-of-type {\n",
              "        vertical-align: middle;\n",
              "    }\n",
              "\n",
              "    .dataframe tbody tr th {\n",
              "        vertical-align: top;\n",
              "    }\n",
              "\n",
              "    .dataframe thead th {\n",
              "        text-align: right;\n",
              "    }\n",
              "</style>\n",
              "<table border=\"1\" class=\"dataframe\">\n",
              "  <thead>\n",
              "    <tr style=\"text-align: right;\">\n",
              "      <th></th>\n",
              "      <th>item_id</th>\n",
              "      <th>pop_percent</th>\n",
              "      <th>popularity_scale_10</th>\n",
              "      <th>popularity_scale_100</th>\n",
              "    </tr>\n",
              "  </thead>\n",
              "  <tbody>\n",
              "    <tr>\n",
              "      <th>0</th>\n",
              "      <td>it_01345</td>\n",
              "      <td>0.98324</td>\n",
              "      <td>10</td>\n",
              "      <td>98</td>\n",
              "    </tr>\n",
              "    <tr>\n",
              "      <th>1</th>\n",
              "      <td>it_03431</td>\n",
              "      <td>0.56123</td>\n",
              "      <td>6</td>\n",
              "      <td>56</td>\n",
              "    </tr>\n",
              "    <tr>\n",
              "      <th>2</th>\n",
              "      <td>it_04572</td>\n",
              "      <td>0.12098</td>\n",
              "      <td>1</td>\n",
              "      <td>12</td>\n",
              "    </tr>\n",
              "    <tr>\n",
              "      <th>3</th>\n",
              "      <td>it_98021</td>\n",
              "      <td>0.35476</td>\n",
              "      <td>4</td>\n",
              "      <td>35</td>\n",
              "    </tr>\n",
              "    <tr>\n",
              "      <th>4</th>\n",
              "      <td>it_01298</td>\n",
              "      <td>0.92101</td>\n",
              "      <td>9</td>\n",
              "      <td>92</td>\n",
              "    </tr>\n",
              "    <tr>\n",
              "      <th>5</th>\n",
              "      <td>it_90120</td>\n",
              "      <td>0.81212</td>\n",
              "      <td>8</td>\n",
              "      <td>81</td>\n",
              "    </tr>\n",
              "    <tr>\n",
              "      <th>6</th>\n",
              "      <td>it_10123</td>\n",
              "      <td>0.56502</td>\n",
              "      <td>6</td>\n",
              "      <td>57</td>\n",
              "    </tr>\n",
              "  </tbody>\n",
              "</table>\n",
              "</div>"
            ],
            "text/plain": [
              "    item_id  pop_percent  popularity_scale_10  popularity_scale_100\n",
              "0  it_01345      0.98324                   10                    98\n",
              "1  it_03431      0.56123                    6                    56\n",
              "2  it_04572      0.12098                    1                    12\n",
              "3  it_98021      0.35476                    4                    35\n",
              "4  it_01298      0.92101                    9                    92\n",
              "5  it_90120      0.81212                    8                    81\n",
              "6  it_10123      0.56502                    6                    57"
            ]
          },
          "metadata": {
            "tags": []
          },
          "execution_count": 7
        }
      ]
    },
    {
      "cell_type": "code",
      "metadata": {
        "colab": {
          "base_uri": "https://localhost:8080/",
          "height": 266
        },
        "id": "0Fu8bdQhCI1N",
        "outputId": "a12be95b-cc3b-4e6a-fbb6-ff67e8c27217"
      },
      "source": [
        "# round off the percentages\n",
        "items_popularity['popularity_scale_100'] = np.array(np.round((items_popularity['pop_percent']*100)), dtype='int')\n",
        "items_popularity"
      ],
      "execution_count": null,
      "outputs": [
        {
          "output_type": "execute_result",
          "data": {
            "text/html": [
              "<div>\n",
              "<style scoped>\n",
              "    .dataframe tbody tr th:only-of-type {\n",
              "        vertical-align: middle;\n",
              "    }\n",
              "\n",
              "    .dataframe tbody tr th {\n",
              "        vertical-align: top;\n",
              "    }\n",
              "\n",
              "    .dataframe thead th {\n",
              "        text-align: right;\n",
              "    }\n",
              "</style>\n",
              "<table border=\"1\" class=\"dataframe\">\n",
              "  <thead>\n",
              "    <tr style=\"text-align: right;\">\n",
              "      <th></th>\n",
              "      <th>item_id</th>\n",
              "      <th>pop_percent</th>\n",
              "      <th>popularity_scale_10</th>\n",
              "      <th>popularity_scale_100</th>\n",
              "    </tr>\n",
              "  </thead>\n",
              "  <tbody>\n",
              "    <tr>\n",
              "      <th>0</th>\n",
              "      <td>it_01345</td>\n",
              "      <td>0.98324</td>\n",
              "      <td>10</td>\n",
              "      <td>98</td>\n",
              "    </tr>\n",
              "    <tr>\n",
              "      <th>1</th>\n",
              "      <td>it_03431</td>\n",
              "      <td>0.56123</td>\n",
              "      <td>6</td>\n",
              "      <td>56</td>\n",
              "    </tr>\n",
              "    <tr>\n",
              "      <th>2</th>\n",
              "      <td>it_04572</td>\n",
              "      <td>0.12098</td>\n",
              "      <td>1</td>\n",
              "      <td>12</td>\n",
              "    </tr>\n",
              "    <tr>\n",
              "      <th>3</th>\n",
              "      <td>it_98021</td>\n",
              "      <td>0.35476</td>\n",
              "      <td>4</td>\n",
              "      <td>35</td>\n",
              "    </tr>\n",
              "    <tr>\n",
              "      <th>4</th>\n",
              "      <td>it_01298</td>\n",
              "      <td>0.92101</td>\n",
              "      <td>9</td>\n",
              "      <td>92</td>\n",
              "    </tr>\n",
              "    <tr>\n",
              "      <th>5</th>\n",
              "      <td>it_90120</td>\n",
              "      <td>0.81212</td>\n",
              "      <td>8</td>\n",
              "      <td>81</td>\n",
              "    </tr>\n",
              "    <tr>\n",
              "      <th>6</th>\n",
              "      <td>it_10123</td>\n",
              "      <td>0.56502</td>\n",
              "      <td>6</td>\n",
              "      <td>57</td>\n",
              "    </tr>\n",
              "  </tbody>\n",
              "</table>\n",
              "</div>"
            ],
            "text/plain": [
              "    item_id  pop_percent  popularity_scale_10  popularity_scale_100\n",
              "0  it_01345      0.98324                   10                    98\n",
              "1  it_03431      0.56123                    6                    56\n",
              "2  it_04572      0.12098                    1                    12\n",
              "3  it_98021      0.35476                    4                    35\n",
              "4  it_01298      0.92101                    9                    92\n",
              "5  it_90120      0.81212                    8                    81\n",
              "6  it_10123      0.56502                    6                    57"
            ]
          },
          "metadata": {
            "tags": []
          },
          "execution_count": 35
        }
      ]
    },
    {
      "cell_type": "code",
      "metadata": {
        "id": "xsK1I5OnCNYq"
      },
      "source": [
        "import numpy as np\n",
        "import pandas as pd\n",
        "from scipy import stats\n",
        "import plotly.graph_objects as go\n",
        "from plotly.subplots import make_subplots"
      ],
      "execution_count": null,
      "outputs": []
    },
    {
      "cell_type": "code",
      "metadata": {
        "id": "4r9KxR1JSxJg"
      },
      "source": [
        "data = pd.read_csv('/content/train (1).csv')\n"
      ],
      "execution_count": null,
      "outputs": []
    },
    {
      "cell_type": "code",
      "metadata": {
        "colab": {
          "base_uri": "https://localhost:8080/"
        },
        "id": "lrf5zqMCTlS1",
        "outputId": "f17b93f5-f8f3-437c-cbae-6f11c7e3e1c1"
      },
      "source": [
        "data.columns"
      ],
      "execution_count": null,
      "outputs": [
        {
          "output_type": "execute_result",
          "data": {
            "text/plain": [
              "Index(['Id', 'MSSubClass', 'MSZoning', 'LotFrontage', 'LotArea', 'Street',\n",
              "       'Alley', 'LotShape', 'LandContour', 'Utilities', 'LotConfig',\n",
              "       'LandSlope', 'Neighborhood', 'Condition1', 'Condition2', 'BldgType',\n",
              "       'HouseStyle', 'OverallQual', 'OverallCond', 'YearBuilt', 'YearRemodAdd',\n",
              "       'RoofStyle', 'RoofMatl', 'Exterior1st', 'Exterior2nd', 'MasVnrType',\n",
              "       'MasVnrArea', 'ExterQual', 'ExterCond', 'Foundation', 'BsmtQual',\n",
              "       'BsmtCond', 'BsmtExposure', 'BsmtFinType1', 'BsmtFinSF1',\n",
              "       'BsmtFinType2', 'BsmtFinSF2', 'BsmtUnfSF', 'TotalBsmtSF', 'Heating',\n",
              "       'HeatingQC', 'CentralAir', 'Electrical', '1stFlrSF', '2ndFlrSF',\n",
              "       'LowQualFinSF', 'GrLivArea', 'BsmtFullBath', 'BsmtHalfBath', 'FullBath',\n",
              "       'HalfBath', 'BedroomAbvGr', 'KitchenAbvGr', 'KitchenQual',\n",
              "       'TotRmsAbvGrd', 'Functional', 'Fireplaces', 'FireplaceQu', 'GarageType',\n",
              "       'GarageYrBlt', 'GarageFinish', 'GarageCars', 'GarageArea', 'GarageQual',\n",
              "       'GarageCond', 'PavedDrive', 'WoodDeckSF', 'OpenPorchSF',\n",
              "       'EnclosedPorch', '3SsnPorch', 'ScreenPorch', 'PoolArea', 'PoolQC',\n",
              "       'Fence', 'MiscFeature', 'MiscVal', 'MoSold', 'YrSold', 'SaleType',\n",
              "       'SaleCondition', 'SalePrice'],\n",
              "      dtype='object')"
            ]
          },
          "metadata": {
            "tags": []
          },
          "execution_count": 3
        }
      ]
    },
    {
      "cell_type": "code",
      "metadata": {
        "id": "7FemkWYOTmfg"
      },
      "source": [
        "#applying transformation\n",
        "x = data['GrLivArea'].copy() #Original data\n",
        "x_log = np.log(data['GrLivArea'].copy()) #log transformation\n",
        "x_square_root = np.sqrt(data['GrLivArea'].copy()) #square root transformation\n",
        "x_boxcox = stats.boxcox(data['GrLivArea'].copy()) #boxcox transformation"
      ],
      "execution_count": null,
      "outputs": []
    },
    {
      "cell_type": "code",
      "metadata": {
        "colab": {
          "base_uri": "https://localhost:8080/"
        },
        "id": "FNIzYUx0cf1k",
        "outputId": "ba03b650-43aa-46d0-b975-3282ea6d47dd"
      },
      "source": [
        "x"
      ],
      "execution_count": null,
      "outputs": [
        {
          "output_type": "execute_result",
          "data": {
            "text/plain": [
              "0       1710\n",
              "1       1262\n",
              "2       1786\n",
              "3       1717\n",
              "4       2198\n",
              "        ... \n",
              "1455    1647\n",
              "1456    2073\n",
              "1457    2340\n",
              "1458    1078\n",
              "1459    1256\n",
              "Name: GrLivArea, Length: 1460, dtype: int64"
            ]
          },
          "metadata": {
            "tags": []
          },
          "execution_count": 5
        }
      ]
    },
    {
      "cell_type": "code",
      "metadata": {
        "id": "nhhZERUoVJ8G",
        "colab": {
          "base_uri": "https://localhost:8080/",
          "height": 542
        },
        "outputId": "7db6cc7e-bd76-4225-a9d5-fb5118d8f1ba"
      },
      "source": [
        "# Creating the figures\n",
        "fig = make_subplots(rows = 2, cols = 2,\n",
        "                       horizontal_spacing = 0.125,\n",
        "                       vertical_spacing = 0.125,\n",
        "                       subplot_titles = (\"original data\",\n",
        "                                         \"Log transformation\",\n",
        "                                         \"Square root transformation\",\n",
        "                                         \"Boxcox transformation\")\n",
        "                       )\n",
        "\n",
        "#Drawing the plots\n",
        "fig.add_traces([\n",
        "                go.Histogram(x = x,\n",
        "                             hoverinfo = \"x\",\n",
        "                             showlegend = False),\n",
        "                go.Histogram(x = x_log,\n",
        "                             hoverinfo = \"x\",\n",
        "                             showlegend = False),\n",
        "                go.Histogram(x = x_square_root,\n",
        "                             hoverinfo = \"x\",\n",
        "                             showlegend = False),\n",
        "                go.Histogram(x = x_boxcox,\n",
        "                             hoverinfo = \"x\",\n",
        "                             showlegend = False)]\n",
        "               )"
      ],
      "execution_count": null,
      "outputs": [
        {
          "output_type": "display_data",
          "data": {
            "text/html": [
              "<html>\n",
              "<head><meta charset=\"utf-8\" /></head>\n",
              "<body>\n",
              "    <div>\n",
              "            <script src=\"https://cdnjs.cloudflare.com/ajax/libs/mathjax/2.7.5/MathJax.js?config=TeX-AMS-MML_SVG\"></script><script type=\"text/javascript\">if (window.MathJax) {MathJax.Hub.Config({SVG: {font: \"STIX-Web\"}});}</script>\n",
              "                <script type=\"text/javascript\">window.PlotlyConfig = {MathJaxConfig: 'local'};</script>\n",
              "        <script src=\"https://cdn.plot.ly/plotly-latest.min.js\"></script>    \n",
              "            <div id=\"70ae174f-6017-4eb3-a991-e582cf973c0b\" class=\"plotly-graph-div\" style=\"height:525px; width:100%;\"></div>\n",
              "            <script type=\"text/javascript\">\n",
              "                \n",
              "                    window.PLOTLYENV=window.PLOTLYENV || {};\n",
              "                    \n",
              "                if (document.getElementById(\"70ae174f-6017-4eb3-a991-e582cf973c0b\")) {\n",
              "                    Plotly.newPlot(\n",
              "                        '70ae174f-6017-4eb3-a991-e582cf973c0b',\n",
              "                        [{\"hoverinfo\": \"x\", \"showlegend\": false, \"type\": \"histogram\", \"x\": [1710, 1262, 1786, 1717, 2198, 1362, 1694, 2090, 1774, 1077, 1040, 2324, 912, 1494, 1253, 854, 1004, 1296, 1114, 1339, 2376, 1108, 1795, 1060, 1060, 1600, 900, 1704, 1600, 520, 1317, 1228, 1234, 1700, 1561, 2452, 1097, 1297, 1057, 1152, 1324, 1328, 884, 938, 1150, 1752, 2149, 1656, 1452, 955, 1470, 1176, 816, 1842, 1360, 1425, 1739, 1720, 2945, 780, 1158, 1111, 1370, 1710, 2034, 2473, 2207, 1479, 747, 2287, 2223, 845, 1718, 1086, 1605, 988, 952, 1285, 1768, 1230, 2142, 1337, 1563, 1065, 1474, 2417, 1560, 1224, 1526, 990, 1040, 1235, 964, 2291, 1786, 1470, 1588, 960, 835, 1225, 1610, 1732, 1535, 1226, 1818, 1992, 1047, 789, 1517, 1844, 1855, 1430, 2696, 2259, 2320, 1458, 1092, 1125, 3222, 1456, 988, 1123, 1080, 1199, 1586, 754, 958, 840, 1348, 1053, 2157, 2054, 1327, 1296, 1721, 1682, 1214, 1959, 1852, 1764, 864, 1734, 1385, 1501, 1728, 1709, 875, 2035, 1080, 1344, 969, 1710, 1993, 1252, 1200, 1096, 1040, 1968, 1947, 2462, 1232, 2668, 1541, 882, 1616, 1355, 1867, 2161, 1720, 1707, 1382, 1656, 1767, 1362, 1651, 2158, 2060, 1920, 2234, 968, 1525, 1802, 1340, 2082, 1252, 3608, 1217, 1656, 1224, 1593, 2727, 1479, 1431, 1709, 864, 1456, 1726, 3112, 2229, 1713, 1121, 1279, 1310, 848, 1284, 1442, 1696, 1100, 2062, 1092, 864, 1212, 1852, 990, 1392, 1236, 1436, 1328, 1954, 1248, 1498, 2267, 1552, 864, 2392, 1302, 2520, 987, 912, 1555, 1194, 2794, 987, 894, 1960, 987, 1414, 1744, 1694, 1487, 1566, 866, 1440, 1217, 2110, 1872, 1928, 1375, 1668, 2144, 1306, 1625, 1640, 1302, 1314, 2291, 1728, 1604, 1792, 882, 1382, 2574, 1212, 1316, 764, 1422, 1511, 2192, 778, 1113, 1939, 1363, 2270, 1632, 816, 1548, 1560, 864, 2121, 2022, 1982, 1262, 1314, 1468, 1575, 1250, 1734, 858, 900, 1396, 1919, 1716, 1716, 2263, 1644, 1003, 1558, 1950, 1743, 1152, 1336, 2452, 1541, 894, 3493, 2000, 2243, 1406, 861, 1944, 1501, 972, 1118, 2036, 1641, 1432, 2353, 1959, 2646, 1472, 2596, 2468, 2730, 1163, 2978, 803, 1719, 1383, 2134, 1192, 1728, 1056, 1629, 1358, 1638, 1786, 1922, 1536, 1621, 1215, 1908, 841, 1040, 1684, 1112, 1577, 958, 1478, 1626, 2728, 1869, 1453, 1111, 720, 1595, 1200, 1167, 1142, 1352, 1924, 912, 1505, 1922, 987, 1574, 1344, 1394, 1431, 1268, 1287, 1664, 1588, 752, 1319, 1928, 904, 914, 2466, 1856, 1800, 1691, 1301, 1797, 784, 1953, 1269, 1184, 1125, 1479, 2332, 1367, 1961, 882, 788, 1034, 1144, 894, 1812, 1077, 1550, 1288, 1310, 672, 2263, 1572, 1620, 1639, 1680, 2172, 2078, 1276, 1056, 1478, 1028, 2097, 1340, 1400, 2624, 1134, 1056, 1344, 1602, 988, 2630, 1196, 1389, 1644, 907, 1208, 1412, 987, 1198, 1365, 1604, 630, 1661, 1118, 904, 694, 1196, 2402, 1440, 1573, 1258, 1908, 1689, 1888, 1886, 1376, 1183, 813, 1533, 1756, 1590, 1728, 1242, 1344, 1663, 1666, 1203, 1935, 1135, 864, 1660, 1040, 1414, 1277, 1644, 1634, 1710, 1502, 1969, 1072, 1976, 1652, 970, 1493, 2643, 1718, 1131, 1850, 1792, 1826, 1216, 999, 1113, 1073, 1484, 2414, 630, 1304, 1578, 1456, 1269, 886, 720, 3228, 1820, 899, 912, 1218, 1768, 1214, 1801, 1322, 1960, 1911, 1218, 1378, 1041, 1363, 1368, 864, 1080, 789, 2020, 2119, 2344, 1796, 2080, 1294, 1244, 1664, 4676, 2398, 1266, 928, 2713, 605, 2515, 1509, 1362, 827, 334, 1414, 1347, 1724, 864, 1159, 1601, 1838, 2285, 1680, 767, 1496, 2183, 1635, 768, 825, 2094, 1069, 928, 1717, 1126, 2046, 1048, 1092, 1336, 1446, 1557, 1392, 1389, 996, 1674, 2295, 1647, 2504, 1535, 2132, 943, 1728, 864, 1692, 1430, 1109, 1216, 1477, 1320, 1392, 1795, 1429, 2042, 816, 2775, 1573, 2028, 838, 860, 1473, 935, 1582, 2296, 816, 848, 924, 1826, 1368, 1402, 1647, 1556, 1904, 1375, 1915, 1200, 1494, 1986, 1040, 2008, 3194, 1029, 2153, 1032, 1872, 1120, 630, 1054, 1509, 832, 1828, 2262, 864, 2614, 980, 1512, 1790, 1116, 1422, 1520, 2080, 1350, 1750, 1554, 1411, 1056, 1056, 3395, 800, 1387, 796, 1567, 1518, 1929, 2704, 1620, 1766, 981, 1048, 1094, 1839, 630, 1665, 1510, 1716, 1469, 2113, 1092, 1053, 1502, 1458, 1486, 1935, 2448, 1392, 1181, 2097, 1936, 2380, 1679, 1437, 1180, 1476, 1369, 1208, 1839, 1136, 1441, 1774, 792, 2046, 988, 923, 1520, 1291, 1668, 1839, 2090, 1761, 1102, 1419, 1362, 848, 4316, 2519, 1073, 1539, 1137, 616, 1148, 894, 1391, 1800, 1164, 2576, 1812, 1484, 1092, 1824, 1324, 1456, 904, 729, 1178, 1228, 960, 1479, 1350, 2554, 1178, 2418, 971, 1742, 848, 864, 1470, 1698, 864, 1680, 1232, 1776, 1208, 1616, 1146, 2031, 1144, 948, 1768, 1040, 1801, 1200, 1728, 1432, 912, 1349, 1464, 1337, 2715, 2256, 2640, 1720, 1529, 1140, 1320, 1494, 2098, 1026, 1471, 1768, 1386, 1501, 2531, 864, 1301, 1547, 2365, 1494, 1506, 1714, 1750, 1836, 3279, 858, 1220, 1117, 912, 1973, 1204, 1614, 894, 2020, 1004, 1253, 1603, 1430, 1110, 1484, 1342, 1652, 2084, 901, 2087, 1145, 1062, 2013, 1496, 1895, 1564, 1285, 773, 3140, 1768, 1688, 1196, 1456, 2822, 1128, 1428, 980, 1576, 1086, 2138, 1309, 848, 1044, 1442, 1250, 1661, 1008, 1689, 1052, 1358, 1640, 936, 1733, 1489, 1489, 2084, 784, 1434, 2126, 1223, 1392, 1200, 1829, 1516, 1144, 1067, 1559, 987, 1099, 1200, 1482, 1539, 1165, 1800, 1416, 1701, 1775, 864, 2358, 1855, 848, 1456, 1646, 1445, 1779, 1040, 1026, 1481, 1370, 2654, 1426, 1039, 1097, 1148, 1372, 1002, 1646, 1120, 2320, 1949, 894, 1682, 910, 1268, 1131, 2610, 1040, 2224, 1155, 864, 1090, 1717, 1593, 2230, 892, 1709, 1712, 1393, 2217, 1505, 924, 1683, 1068, 1383, 1535, 1796, 951, 2240, 2364, 1236, 858, 1306, 1509, 1670, 902, 1063, 1636, 2057, 902, 1484, 2274, 1268, 1015, 2002, 1224, 1092, 480, 1229, 2127, 1414, 1721, 2200, 1316, 1617, 1686, 1126, 2374, 1978, 1788, 2236, 1466, 925, 1905, 1500, 2069, 747, 1200, 1971, 1962, 2403, 1728, 2060, 1440, 1632, 1344, 1869, 1144, 1629, 1776, 1381, 864, 965, 768, 1968, 980, 1958, 1229, 1057, 1337, 1416, 858, 2872, 1548, 1800, 1894, 1484, 1308, 1098, 968, 1095, 1192, 1626, 918, 1428, 2019, 1382, 869, 1241, 894, 1121, 999, 2612, 1266, 2290, 1734, 1164, 1635, 1940, 2030, 1576, 2392, 1742, 1851, 1500, 1718, 1230, 1050, 1442, 1077, 1208, 944, 691, 1574, 1680, 1504, 985, 1657, 1092, 1710, 1522, 1271, 1664, 1502, 1022, 1082, 1665, 1504, 1360, 1472, 1506, 1132, 1220, 1248, 1504, 2898, 882, 1264, 1646, 1376, 1218, 1928, 3082, 2520, 1654, 954, 845, 1620, 2263, 1344, 630, 1803, 1632, 1306, 2329, 2524, 1733, 2868, 990, 1771, 930, 1302, 1316, 1977, 1526, 1989, 1523, 1364, 1850, 2184, 1991, 1338, 894, 2337, 1103, 1154, 2260, 1571, 1611, 2521, 893, 1048, 1556, 1456, 1426, 1240, 1740, 1466, 1096, 848, 990, 1258, 1040, 1459, 1251, 1498, 996, 1092, 1953, 1709, 1247, 1040, 1252, 1694, 1200, 936, 1314, 1355, 1088, 1324, 1601, 438, 950, 1134, 1194, 1302, 2622, 1442, 2021, 1690, 1836, 1658, 1964, 816, 1008, 833, 1734, 1419, 894, 1601, 1040, 1012, 1552, 960, 698, 1482, 1005, 1555, 1530, 1959, 936, 1981, 974, 2210, 2020, 1600, 986, 1252, 1020, 1567, 1167, 952, 1868, 2828, 1006, 924, 1576, 1298, 1564, 1111, 1482, 932, 1466, 1811, 816, 1820, 1437, 1265, 1314, 1580, 1876, 1456, 1640, 894, 1258, 1432, 1502, 1694, 1671, 2108, 3627, 1118, 1261, 1250, 3086, 2345, 2872, 923, 1224, 1343, 1124, 2514, 1652, 4476, 1130, 1572, 1221, 1699, 1624, 1660, 1804, 1622, 1441, 1472, 1224, 1352, 1456, 1863, 1690, 1212, 1382, 864, 1779, 1348, 1630, 1074, 2196, 1056, 1700, 1283, 1660, 1845, 1752, 672, 960, 999, 894, 1902, 1314, 912, 1218, 912, 1211, 1846, 2136, 1490, 1138, 1933, 912, 1702, 1507, 2620, 1190, 1224, 1188, 1964, 1784, 1626, 1948, 1141, 1484, 1768, 1689, 1173, 2076, 1517, 1868, 1553, 1034, 2058, 988, 2110, 1405, 874, 2167, 1656, 1367, 1987, 864, 1166, 1054, 1675, 1050, 1788, 1824, 1337, 1452, 1889, 2018, 3447, 1524, 1524, 1489, 935, 1357, 1250, 1920, 1395, 1724, 2031, 1128, 1573, 1339, 1040, 1824, 2447, 1412, 1328, 1582, 1659, 1970, 1152, 1302, 2372, 1664, 864, 1052, 1128, 1072, 5642, 1246, 1983, 1494, 2526, 1616, 1708, 1652, 1368, 990, 1122, 1294, 1902, 1274, 2810, 2599, 948, 2112, 1630, 1352, 1787, 948, 1478, 720, 1923, 708, 1795, 796, 774, 816, 2792, 1632, 1588, 954, 816, 1360, 1365, 1334, 1656, 693, 1861, 864, 872, 1114, 2169, 1913, 1456, 960, 2156, 1776, 1494, 2358, 2634, 1716, 1176, 3238, 1865, 1920, 892, 1078, 1573, 1980, 2601, 1530, 1738, 1412, 1200, 1674, 1790, 1475, 848, 1668, 1374, 1661, 2097, 2633, 1958, 1571, 790, 1604, 987, 1394, 864, 2117, 1762, 1416, 1258, 1154, 2784, 2526, 1746, 1218, 1525, 1584, 900, 1912, 1500, 2482, 1687, 1513, 1904, 1608, 1158, 1593, 1294, 1464, 1214, 1646, 768, 833, 1363, 2093, 1840, 1668, 1040, 1844, 1848, 1569, 2290, 2450, 1144, 1844, 1416, 1069, 848, 2201, 1344, 1252, 2127, 1558, 804, 1440, 1838, 958, 968, 1792, 1126, 1537, 864, 1932, 1236, 1725, 2555, 848, 2007, 952, 1422, 913, 1188, 2090, 1346, 630, 1792, 1578, 1072, 1140, 1221, 1647, 2073, 2340, 1078, 1256]}, {\"hoverinfo\": \"x\", \"showlegend\": false, \"type\": \"histogram\", \"x\": [7.444248649496705, 7.140453043101158, 7.487733761436444, 7.448333860897476, 7.6953031349635665, 7.216709486709457, 7.434847875211999, 7.644919344958857, 7.480992162869525, 6.981934677156389, 6.946975992135418, 7.751045117971802, 6.815639990074331, 7.309212365692763, 7.133295954896068, 6.74993119378857, 6.911747300251674, 7.16703787691222, 7.01571242048723, 7.199678345691172, 7.773173680482536, 7.010311867307229, 7.492760300922379, 6.966024187106113, 6.966024187106113, 7.3777589082278725, 6.802394763324311, 7.440733707389261, 7.3777589082278725, 6.253828811575473, 7.183111701743281, 7.113142108707088, 7.1180162044653335, 7.438383530044307, 7.353081920515432, 7.804659297056102, 7.00033446027523, 7.167809184316444, 6.963189985870238, 7.049254841255837, 7.188412736496954, 7.191429330036379, 6.784457062637643, 6.843749949006225, 7.047517221357296, 7.468513271496337, 7.67275789664251, 7.412160334945205, 7.280697195384741, 6.86171134048073, 7.293017679772782, 7.069874128458572, 6.704414354964107, 7.518607216815252, 7.215239978730097, 7.261927092702751, 7.461065514354283, 7.450079569807499, 7.987864096085687, 6.659293919683638, 7.05444965813294, 7.01301578963963, 7.222566018822171, 7.444248649496705, 7.617759576608505, 7.813187267521416, 7.699389406256737, 7.2991214627108, 6.616065185132817, 7.734996194022781, 7.706612913964197, 6.739336627357174, 7.4489161025442, 6.990256500493881, 7.380879035564116, 6.895682697747868, 6.858565034791365, 7.158513997329321, 7.477604243197589, 7.114769448366463, 7.669495251007694, 7.198183577101943, 7.354362330421477, 6.970730078143525, 7.295735072749282, 7.790282380703483, 7.352441100243583, 7.1098794630722715, 7.330405211844402, 6.897704943128636, 6.946975992135418, 7.118826249062078, 6.871091294610546, 7.736743682453495, 7.487733761436444, 7.293017679772782, 7.370230641807081, 6.866933284461882, 6.727431724850855, 7.110696122978827, 7.383989457978509, 7.4570320891223805, 7.336285660021297, 7.111512116496157, 7.505492274737424, 7.596894438144544, 6.953684210870537, 6.670766320845874, 7.324489979348532, 7.519692404116539, 7.5256399750415355, 7.265429723253953, 7.899524472032198, 7.7226775164680035, 7.749322464660356, 7.284820912568604, 6.9957661563048505, 7.025538314638521, 8.07775756373692, 7.283448228756631, 6.895682697747868, 7.023758954738443, 6.984716320118266, 7.089243155027514, 7.368970402194793, 6.625392368007956, 6.86484777797086, 6.733401891837359, 7.206377291472252, 6.959398512133975, 7.676473646389156, 7.627544390488503, 7.190676034332207, 7.16703787691222, 7.450660796211539, 7.427738840532894, 7.101675971619444, 7.580189417944541, 7.524021415206125, 7.475339236566737, 6.761572768804055, 7.458186157340487, 7.233455418621439, 7.313886831633462, 7.454719949364001, 7.443663683115591, 6.774223886357614, 7.618251097876695, 6.984716320118266, 7.203405521083095, 6.876264611890766, 7.444248649496705, 7.597396320212795, 7.132497551660044, 7.090076835776092, 6.999422467507961, 6.946975992135418, 7.584773077612199, 7.5740450053721995, 7.808729306744399, 7.116394144093465, 7.889084407035514, 7.340186835320115, 6.782192056006791, 7.38770923908104, 7.2115567333138015, 7.532088143541722, 7.6783263565068856, 7.450079569807499, 7.442492722794441, 7.231287004327616, 7.412160334945205, 7.4770384723196965, 7.216709486709457, 7.409136443920128, 7.67693714581808, 7.630461261783627, 7.560080465021827, 7.711548979629146, 6.875232087276577, 7.329749689041512, 7.496652438168283, 7.200424892944957, 7.641084249174914, 7.132497551660044, 8.190908881182514, 7.104144092987527, 7.412160334945205, 7.1098794630722715, 7.373374309910049, 7.910957382845589, 7.2991214627108, 7.266128779556451, 7.443663683115591, 6.761572768804055, 7.283448228756631, 7.453561871643373, 8.043020885298283, 7.709308333385869, 7.44600149832412, 7.02197642307216, 7.153833801578843, 7.177782416195197, 6.742880635791903, 7.157735484249907, 7.273786317844895, 7.4360278163518485, 7.003065458786462, 7.631431664576906, 6.9957661563048505, 6.761572768804055, 7.10002716662926, 7.524021415206125, 6.897704943128636, 7.238496840894365, 7.119635638017636, 7.269616749608169, 7.191429330036379, 7.577633832602728, 7.129297548929373, 7.311886164077165, 7.726212650507529, 7.347299700743164, 6.761572768804055, 7.779885115070522, 7.171656822768514, 7.832014180505469, 6.894670039433482, 6.815639990074331, 7.349230824613334, 7.085064293952548, 7.935229539816907, 6.894670039433482, 6.795705775173514, 7.580699752224563, 6.894670039433482, 7.254177846456518, 7.463936604468925, 7.434847875211999, 7.304515946460155, 7.356279876550748, 6.763884908562435, 7.272398392570047, 7.104144092987527, 7.6544432264701125, 7.534762657037537, 7.564238475170491, 7.226209010100671, 7.419380582918692, 7.670428522190693, 7.174724309836376, 7.393263094763838, 7.402451520818244, 7.171656822768514, 7.1808311990445555, 7.736743682453495, 7.454719949364001, 7.38025578842646, 7.491087593534876, 6.782192056006791, 7.231287004327616, 7.853216388156072, 7.10002716662926, 7.182352111885263, 6.638567789166521, 7.259819610363186, 7.32052696227274, 7.692569648067906, 6.656726524178391, 7.014814351275545, 7.569927655242652, 7.217443431696533, 7.727535110475448, 7.397561535524052, 6.704414354964107, 7.344719054149673, 7.352441100243583, 6.761572768804055, 7.659642954564682, 7.611842399580417, 7.591861714889934, 7.140453043101158, 7.1808311990445555, 7.291656209174461, 7.362010551259734, 7.1308988302963465, 7.458186157340487, 6.754604099487962, 6.802394763324311, 7.241366283322318, 7.5595594960077, 7.447751280047908, 7.447751280047908, 7.724446645633537, 7.404887575616125, 6.910750787961936, 7.351158226430694, 7.575584651557793, 7.463363045520021, 7.049254841255837, 7.197435354096591, 7.804659297056102, 7.340186835320115, 6.795705775173514, 8.158516244806831, 7.600902459542082, 7.715569534520208, 7.2485040723706105, 6.7580945044277305, 7.572502985020384, 7.313886831633462, 6.879355804460439, 7.0192966537150445, 7.618742377670413, 7.403061091090091, 7.266827347520591, 7.763446388727362, 7.580189417944541, 7.880804344674901, 7.294377299288821, 7.86172707782398, 7.811163385025279, 7.912056888179006, 7.0587581525186645, 7.999007213243955, 6.688354713946762, 7.449498005382849, 7.232010331664759, 7.665753431861699, 7.083387847625295, 7.454719949364001, 6.962243464266207, 7.395721608602045, 7.213768308118642, 7.401231264413015, 7.487733761436444, 7.561121589530238, 7.336936913707618, 7.390798521735676, 7.102499355774649, 7.553810852008231, 6.734591659972948, 6.946975992135418, 7.428927194802272, 7.013915474810528, 7.3632795869630385, 6.86484777797086, 7.298445101508147, 7.3938782901077555, 7.911324018963353, 7.533158807455563, 7.2813856635702825, 7.01301578963963, 6.579251212010101, 7.374629015218945, 7.090076835776092, 7.062191632286556, 7.040536390215956, 7.20934025660291, 7.562161631225652, 6.815639990074331, 7.316548177182976, 7.561121589530238, 6.894670039433482, 7.3613754289773485, 7.203405521083095, 7.2399325913204695, 7.266128779556451, 7.145196134997171, 7.160069207596127, 7.416979621381154, 7.370230641807081, 6.62273632394984, 7.1846291527173145, 7.564238475170491, 6.806829360392176, 6.81783057145415, 7.81035268372429, 7.526178913346146, 7.495541943884256, 7.43307534889858, 7.170888478512505, 7.493873886783559, 6.664409020350408, 7.577121930876679, 7.1459844677143876, 7.076653815443951, 7.025538314638521, 7.2991214627108, 7.754481547470383, 7.220373836723949, 7.581209826196346, 6.782192056006791, 6.669498089857879, 6.9411900550683745, 7.042286171939743, 6.795705775173514, 7.502186486602924, 6.981934677156389, 7.346010209913293, 7.160845906664299, 7.177782416195197, 6.51025834052315, 7.724446645633537, 7.360103972989152, 7.3901814282264295, 7.40184157874383, 7.426549072397305, 7.683403681053826, 7.639161171659173, 7.151485463904735, 6.962243464266207, 7.298445101508147, 6.93537044601511, 7.64826303090192, 7.200424892944957, 7.24422751560335, 7.8724551500639794, 7.033506484287697, 6.962243464266207, 7.203405521083095, 7.379008127628304, 6.895682697747868, 7.874739125171811, 7.086737934510577, 7.236339342754344, 7.404887575616125, 6.810142450115136, 7.0967213784947605, 7.252762418053187, 6.894670039433482, 7.088408778675395, 7.21890970761906, 7.38025578842646, 6.4457198193855785, 7.415175109613295, 7.0192966537150445, 6.806829360392176, 6.542471960506805, 7.086737934510577, 7.784057002639929, 7.272398392570047, 7.360739903058278, 7.1372784372603855, 7.553810852008231, 7.4318919168078, 7.543273346705446, 7.542213463193403, 7.226936018493289, 7.075808863978387, 6.70073110954781, 7.334981878871814, 7.470793774195062, 7.371489295214277, 7.454719949364001, 7.124478262493424, 7.203405521083095, 7.416378479192928, 7.418180822726788, 7.0925737159746784, 7.5678626054638825, 7.034387929915503, 6.761572768804055, 7.414572881350589, 6.946975992135418, 7.254177846456518, 7.152268856032539, 7.404887575616125, 7.3987862754199485, 7.444248649496705, 7.31455283232408, 7.585281078639126, 6.977281341630747, 7.588829878307813, 7.409741954080923, 6.877296071497429, 7.30854279753919, 7.879669914604289, 7.4489161025442, 7.030857476116121, 7.52294091807237, 7.491087593534876, 7.509883061154913, 7.103322062526113, 6.906754778648554, 7.014814351275545, 6.9782137426306985, 7.302496423727326, 7.789040401657477, 6.4457198193855785, 7.1731917424865985, 7.363913501405819, 7.283448228756631, 7.1459844677143876, 6.786716950605081, 6.579251212010101, 8.07961802938984, 7.506591780070841, 6.80128303447162, 6.815639990074331, 7.1049654482698426, 7.477604243197589, 7.101675971619444, 7.496097345175956, 7.186901020411631, 7.580699752224563, 7.555381944240273, 7.1049654482698426, 7.228388451573604, 6.947937068614969, 7.217443431696533, 7.221105098182496, 6.761572768804055, 6.984716320118266, 6.670766320845874, 7.61085279039525, 7.6586995582682995, 7.759614150696903, 7.493317248862145, 7.640123172695364, 7.165493475060845, 7.126087273299125, 7.416979621381154, 8.450198322591959, 7.7823903355874595, 7.143617602704121, 6.833031732786201, 7.905810312658931, 6.405228458030842, 7.83002808253384, 7.319202458767849, 7.216709486709457, 6.717804695023691, 5.811140992976701, 7.254177846456518, 7.205635176410364, 7.452402451223638, 6.761572768804055, 7.055312843339752, 7.3783837129967145, 7.516433302915632, 7.734121303328305, 7.426549072397305, 6.642486801367256, 7.310550158534422, 7.688455356549944, 7.399398083331354, 6.643789733147672, 6.715383386334681, 7.646831391430482, 6.974478911025045, 6.833031732786201, 7.448333860897476, 7.026426808699636, 7.6236419465115715, 6.954638864880987, 6.9957661563048505, 7.197435354096591, 7.27655640271871, 7.350516171833998, 7.238496840894365, 7.236339342754344, 6.903747257584598, 7.422971251049421, 7.738488122494646, 7.4067107301776405, 7.825644732219989, 7.336285660021297, 7.664815785285735, 6.849066282633458, 7.454719949364001, 6.761572768804055, 7.433666540166168, 7.265429723253953, 7.011213987350367, 7.103322062526113, 7.29776828253138, 7.1853870155804165, 7.238496840894365, 7.492760300922379, 7.264730177929867, 7.621684998724611, 6.704414354964107, 7.928406026180535, 7.360739903058278, 7.614805364711073, 6.731018100482083, 6.756932389247553, 7.29505641646263, 6.840546529288687, 7.366445148327599, 7.738923757439457, 6.704414354964107, 6.742880635791903, 6.828712071641684, 7.509883061154913, 7.221105098182496, 7.2456550675945355, 7.4067107301776405, 7.349873704738337, 7.55171221535131, 7.226209010100671, 7.557472901614746, 7.090076835776092, 7.309212365692763, 7.593877844605118, 6.946975992135418, 7.60489448081162, 8.069029328774958, 6.9363427358340495, 7.674617497364363, 6.939253946041508, 7.534762657037537, 7.02108396428914, 6.4457198193855785, 6.960347729101308, 7.319202458767849, 6.723832440821209, 7.510977752014095, 7.724004656676065, 6.761572768804055, 7.868636894184167, 6.887552571664617, 7.321188556739478, 7.489970898834801, 7.017506142941256, 7.259819610363186, 7.326465613840322, 7.640123172695364, 7.2078598714324755, 7.4673710669175595, 7.348587530927593, 7.252053951852814, 6.962243464266207, 6.962243464266207, 8.130059039992796, 6.684611727667927, 7.234898420314831, 6.679599185844383, 7.356918242356021, 7.325148957955575, 7.564757012905729, 7.902487437162855, 7.3901814282264295, 7.476472381163905, 6.8885724595653635, 6.954638864880987, 6.9975959829819265, 7.516977224604321, 6.4457198193855785, 7.417580402414544, 7.31986492980897, 7.447751280047908, 7.292337176173877, 7.655864017616056, 6.9957661563048505, 6.959398512133975, 7.31455283232408, 7.284820912568604, 7.303843225277705, 7.5678626054638825, 7.803026643632217, 7.238496840894365, 7.074116816197362, 7.64826303090192, 7.568379267836522, 7.77485576666552, 7.425953657077541, 7.270312886079025, 7.07326971745971, 7.297091005160418, 7.221835825288449, 7.0967213784947605, 7.516977224604321, 7.035268599281097, 7.273092595999522, 7.480992162869525, 6.674561391814426, 7.6236419465115715, 6.895682697747868, 6.827629234502852, 7.326465613840322, 7.1631723908466425, 7.419380582918692, 7.516977224604321, 7.644919344958857, 7.473637108496206, 7.004881989712859, 7.257707677160043, 7.216709486709457, 6.742880635791903, 8.370084326378025, 7.831617276352611, 6.9782137426306985, 7.338888133838879, 7.036148493750536, 6.423246963533519, 7.045776576879511, 6.795705775173514, 7.237778191923443, 7.495541943884256, 7.059617628291383, 7.853993087224244, 7.502186486602924, 7.302496423727326, 6.9957661563048505, 7.508787170634276, 7.188412736496954, 7.283448228756631, 6.806829360392176, 6.591673732008658, 7.071573364211532, 7.113142108707088, 6.866933284461882, 7.2991214627108, 7.2078598714324755, 7.845416036592485, 7.071573364211532, 7.790696031174738, 6.878326468291325, 7.462789157412448, 6.742880635791903, 6.761572768804055, 7.293017679772782, 7.437206366871292, 6.761572768804055, 7.426549072397305, 7.116394144093465, 7.4821189235521155, 7.0967213784947605, 7.38770923908104, 7.044032897274685, 7.616283561580385, 7.042286171939743, 6.854354502255021, 7.477604243197589, 6.946975992135418, 7.496097345175956, 7.090076835776092, 7.454719949364001, 7.266827347520591, 6.815639990074331, 7.207118856207756, 7.288927694521257, 7.198183577101943, 7.906547232368036, 7.721348612617949, 7.878534196140362, 7.450079569807499, 7.332369205929062, 7.038783541388542, 7.1853870155804165, 7.309212365692763, 7.6487397889562425, 6.933423025730715, 7.293697720601438, 7.477604243197589, 7.234177179749849, 7.313886831633462, 7.836369760545124, 6.761572768804055, 7.170888478512505, 7.344072850573066, 7.768533300926033, 7.309212365692763, 7.317212408359839, 7.446585099157725, 7.4673710669175595, 7.515344571180436, 8.095293776844649, 6.754604099487962, 7.106606137727303, 7.018401799069201, 6.815639990074331, 7.587310506022615, 7.093404625868766, 7.3864708488298945, 6.795705775173514, 7.61085279039525, 6.911747300251674, 7.133295954896068, 7.3796321526095525, 7.265429723253953, 7.01211529430638, 7.302496423727326, 7.201916317531627, 7.409741954080923, 7.642044402873258, 6.803505257608338, 7.643482907077201, 7.0431599159883405, 6.967909201801884, 7.607381425639791, 7.310550158534422, 7.546974117516527, 7.355001921105257, 7.158513997329321, 6.650279048587422, 8.0519780789023, 7.477604243197589, 7.431299675155903, 7.086737934510577, 7.283448228756631, 7.945201132412759, 7.028201432058005, 7.2640301428995295, 6.887552571664617, 7.362645270417825, 6.990256500493881, 7.6676260915849905, 7.1770187659099, 6.742880635791903, 6.950814768442584, 7.273786317844895, 7.1308988302963465, 7.415175109613295, 6.915723448631314, 7.4318919168078, 6.9584483932976555, 7.213768308118642, 7.402451520818244, 6.841615476477592, 7.457609289715606, 7.305860032684009, 7.305860032684009, 7.642044402873258, 6.664409020350408, 7.2682230211595655, 7.661997558901893, 7.109062135687172, 7.238496840894365, 7.090076835776092, 7.511524648390866, 7.323830566202317, 7.042286171939743, 6.9726062513017535, 7.351799869057777, 6.894670039433482, 7.002155954403621, 7.090076835776092, 7.301147805856032, 7.338888133838879, 7.060476365999801, 7.495541943884256, 7.255591274253665, 7.438971592395862, 7.4815557019095165, 6.761572768804055, 7.765569081097317, 7.5256399750415355, 6.742880635791903, 7.283448228756631, 7.406103381237015, 7.275864600546533, 7.483806687665835, 6.946975992135418, 6.933423025730715, 7.300472814267799, 7.222566018822171, 7.8838232148921525, 7.262628600974241, 6.946013991099227, 7.00033446027523, 7.045776576879511, 7.22402480828583, 6.90975328164481, 7.406103381237015, 7.02108396428914, 7.749322464660356, 7.575071699507561, 6.795705775173514, 7.427738840532894, 6.813444599510896, 7.145196134997171, 7.030857476116121, 7.867105500316739, 6.946975992135418, 7.707062655370473, 7.051855622955894, 6.761572768804055, 6.993932975223189, 7.448333860897476, 7.373374309910049, 7.709756864454165, 6.79346613258001, 7.443663683115591, 7.445417556701687, 7.239214973779806, 7.7039102096163115, 7.316548177182976, 6.828712071641684, 7.428333194190806, 6.97354301952014, 7.232010331664759, 7.336285660021297, 7.493317248862145, 6.85751406254539, 7.7142311448490855, 7.768110378525988, 7.119635638017636, 6.754604099487962, 7.174724309836376, 7.319202458767849, 7.4205789054108005, 6.804614520062624, 6.968850378341948, 7.400009517162692, 7.6290038896529575, 6.804614520062624, 7.302496423727326, 7.729295674310482, 7.145196134997171, 6.922643891475888, 7.601901959875166, 7.1098794630722715, 6.9957661563048505, 6.173786103901937, 7.113956109566034, 7.6624678152002375, 7.254177846456518, 7.450660796211539, 7.696212639346407, 7.182352111885263, 7.388327859577107, 7.430114138561801, 7.026426808699636, 7.772331575169614, 7.589841512182657, 7.488852955733459, 7.71244383427499, 7.290292882446597, 6.829793737512425, 7.552237287560802, 7.313220387090301, 7.634820677745543, 6.616065185132817, 7.090076835776092, 7.58629630715272, 7.581719640125308, 7.784473235736469, 7.454719949364001, 7.630461261783627, 7.272398392570047, 7.397561535524052, 7.203405521083095, 7.533158807455563, 7.042286171939743, 7.395721608602045, 7.4821189235521155, 7.2305631534092925, 6.761572768804055, 6.872128101338986, 6.643789733147672, 7.584773077612199, 6.887552571664617, 7.579678823090456, 7.113956109566034, 6.963189985870238, 7.198183577101943, 7.255591274253665, 6.754604099487962, 7.962763930168115, 7.344719054149673, 7.495541943884256, 7.546446273746024, 7.302496423727326, 7.176254532017144, 7.001245622069476, 6.875232087276577, 6.9985096422506015, 7.083387847625295, 7.3938782901077555, 6.822197390620491, 7.2640301428995295, 7.610357618312838, 7.231287004327616, 6.767343125265392, 7.123672785204607, 6.795705775173514, 7.02197642307216, 6.906754778648554, 7.867871490396322, 7.143617602704121, 7.736307096548285, 7.458186157340487, 7.059617628291383, 7.399398083331354, 7.570443252057374, 7.615791072035833, 7.362645270417825, 7.779885115070522, 7.462789157412448, 7.523481312573497, 7.313220387090301, 7.4489161025442, 7.114769448366463, 6.956545443151569, 7.273786317844895, 6.981934677156389, 7.0967213784947605, 6.8501261661455, 6.53813982376767, 7.3613754289773485, 7.426549072397305, 7.315883504509785, 6.892641641172089, 7.4127640174265625, 6.9957661563048505, 7.444248649496705, 7.3277805384216315, 7.147559271189454, 7.416979621381154, 7.31455283232408, 6.92951677076365, 6.9865664594064265, 7.417580402414544, 7.315883504509785, 7.215239978730097, 7.294377299288821, 7.317212408359839, 7.0317412587631285, 7.106606137727303, 7.129297548929373, 7.315883504509785, 7.971776122880628, 6.782192056006791, 7.142036574706803, 7.406103381237015, 7.226936018493289, 7.1049654482698426, 7.564238475170491, 8.033334015880062, 7.832014180505469, 7.4109518755836366, 6.860663671448287, 6.739336627357174, 7.3901814282264295, 7.724446645633537, 7.203405521083095, 6.4457198193855785, 7.497207223203318, 7.397561535524052, 7.174724309836376, 7.753194269884341, 7.8336002236611035, 7.457609289715606, 7.961370201719511, 6.897704943128636, 7.479299637782834, 6.835184586147301, 7.171656822768514, 7.182352111885263, 7.589335823170617, 7.330405211844402, 7.5953872788539725, 7.328437352895162, 7.218176838403408, 7.52294091807237, 7.688913336864796, 7.596392304064196, 7.198931240688173, 6.795705775173514, 7.756623334538858, 7.005789019253503, 7.050989447068045, 7.723120092266331, 7.359467638255621, 7.384610383176974, 7.83241092718792, 6.794586580876499, 6.954638864880987, 7.349873704738337, 7.283448228756631, 7.262628600974241, 7.122866658599083, 7.461640392208575, 7.290292882446597, 6.999422467507961, 6.742880635791903, 6.897704943128636, 7.1372784372603855, 6.946975992135418, 7.285506548522785, 7.1316985104669115, 7.311886164077165, 6.903747257584598, 6.9957661563048505, 7.577121930876679, 7.443663683115591, 7.1284959456800365, 6.946975992135418, 7.132497551660044, 7.434847875211999, 7.090076835776092, 6.841615476477592, 7.1808311990445555, 7.2115567333138015, 6.992096427415888, 7.188412736496954, 7.3783837129967145, 6.082218910376446, 6.856461984594587, 7.033506484287697, 7.085064293952548, 7.171656822768514, 7.871692664323645, 7.273786317844895, 7.611347717403621, 7.432483807917119, 7.515344571180436, 7.4133673356952405, 7.582738488914411, 6.704414354964107, 6.915723448631314, 6.725033642166843, 7.458186157340487, 7.257707677160043, 6.795705775173514, 7.3783837129967145, 6.946975992135418, 6.919683849847411, 7.347299700743164, 6.866933284461882, 6.548219102762372, 7.301147805856032, 6.912742820493176, 7.349230824613334, 7.333023014386481, 7.580189417944541, 6.841615476477592, 7.591357046698551, 6.881411303642535, 7.700747794511798, 7.61085279039525, 7.3777589082278725, 6.893656354602635, 7.132497551660044, 6.927557906278317, 7.356918242356021, 7.062191632286556, 6.858565034791365, 7.532623618788788, 7.947325027016463, 6.913737350659685, 6.828712071641684, 7.362645270417825, 7.168579897264035, 7.355001921105257, 7.01301578963963, 7.301147805856032, 6.837332814685591, 7.290292882446597, 7.501634457883413, 6.704414354964107, 7.506591780070841, 7.270312886079025, 7.142827401161621, 7.1808311990445555, 7.365180126021013, 7.53689712956617, 7.283448228756631, 7.402451520818244, 6.795705775173514, 7.1372784372603855, 7.266827347520591, 7.31455283232408, 7.434847875211999, 7.421177528595393, 7.653494909661253, 8.196161139282902, 7.0192966537150445, 7.13966033596492, 7.1308988302963465, 8.034631032923107, 7.76004068088038, 7.962763930168115, 6.827629234502852, 7.1098794630722715, 7.202661196523238, 7.024649030453636, 7.829630389150193, 7.409741954080923, 8.406485069431817, 7.029972911706386, 7.360103972989152, 7.107425474110705, 7.4377951216719325, 7.392647520721623, 7.414572881350589, 7.4977617006225685, 7.3914152346753585, 7.273092595999522, 7.294377299288821, 7.1098794630722715, 7.20934025660291, 7.283448228756631, 7.529943370601589, 7.432483807917119, 7.10002716662926, 7.231287004327616, 6.761572768804055, 7.483806687665835, 7.206377291472252, 7.396335293800808, 6.97914527506881, 7.694392802629421, 6.962243464266207, 7.438383530044307, 7.1569563646156364, 7.414572881350589, 7.520234556474628, 7.468513271496337, 6.51025834052315, 6.866933284461882, 6.906754778648554, 6.795705775173514, 7.550661243105336, 7.1808311990445555, 6.815639990074331, 7.1049654482698426, 6.815639990074331, 7.099201743553092, 7.520776415062797, 7.666690200080086, 7.306531398939505, 7.037027614686276, 7.566828479208331, 6.815639990074331, 7.43955930913332, 7.317876198626496, 7.8709295967551425, 7.081708586105575, 7.1098794630722715, 7.080026499922591, 7.582738488914411, 7.486613313139955, 7.3938782901077555, 7.5745584842024805, 7.039660349862076, 7.302496423727326, 7.477604243197589, 7.4318919168078, 7.067319848653476, 7.638198244285779, 7.324489979348532, 7.532623618788788, 7.347943823148687, 6.9411900550683745, 7.629489916393995, 6.895682697747868, 7.6544432264701125, 7.247792581767846, 6.773080375655535, 7.681099001536359, 7.412160334945205, 7.220373836723949, 7.594381242551817, 6.761572768804055, 7.061334366910438, 6.960347729101308, 7.423568444259167, 6.956545443151569, 7.488852955733459, 7.508787170634276, 7.198183577101943, 7.280697195384741, 7.543802867501509, 7.609862200913554, 8.145259566516865, 7.329093736246592, 7.329093736246592, 7.305860032684009, 6.840546529288687, 7.213031659834869, 7.1308988302963465, 7.560080465021827, 7.240649694255466, 7.452402451223638, 7.616283561580385, 7.028201432058005, 7.360739903058278, 7.199678345691172, 6.946975992135418, 7.508787170634276, 7.802618063442671, 7.252762418053187, 7.191429330036379, 7.366445148327599, 7.413970290190444, 7.585788821732034, 7.049254841255837, 7.171656822768514, 7.771488760117616, 7.416979621381154, 6.761572768804055, 6.9584483932976555, 7.028201432058005, 6.977281341630747, 8.637993891561942, 7.1276936993473985, 7.592366128519796, 7.309212365692763, 7.8343923029104365, 7.38770923908104, 7.443078374348516, 7.409741954080923, 7.221105098182496, 6.897704943128636, 7.022868086082641, 7.165493475060845, 7.550661243105336, 7.149916836132109, 7.940939762327791, 7.8628820346414905, 6.854354502255021, 7.655390644826152, 7.396335293800808, 7.20934025660291, 7.488293515159428, 6.854354502255021, 7.298445101508147, 6.579251212010101, 7.56164174558878, 6.56244409369372, 7.492760300922379, 6.679599185844383, 6.651571873589727, 6.704414354964107, 7.934513463882263, 7.397561535524052, 7.370230641807081, 6.860663671448287, 6.704414354964107, 7.215239978730097, 7.21890970761906, 7.195937226475569, 7.412160334945205, 6.541029999189903, 7.528869256642251, 6.761572768804055, 6.77078942390898, 7.01571242048723, 7.682021510826875, 7.556427969440253, 7.283448228756631, 6.866933284461882, 7.6760099320288875, 7.4821189235521155, 7.309212365692763, 7.765569081097317, 7.876258882303226, 7.447751280047908, 7.069874128458572, 8.08271113423758, 7.5310163320779155, 7.560080465021827, 6.79346613258001, 6.982862751468942, 7.360739903058278, 7.590852123688581, 7.8636512654486515, 7.333023014386481, 7.460490305825338, 7.252762418053187, 7.090076835776092, 7.422971251049421, 7.489970898834801, 7.29641326877392, 6.742880635791903, 7.419380582918692, 7.2254814727822945, 7.415175109613295, 7.64826303090192, 7.87587915949631, 7.579678823090456, 7.359467638255621, 6.672032945461067, 7.38025578842646, 6.894670039433482, 7.2399325913204695, 6.761572768804055, 7.6577552711348655, 7.474204806496124, 7.255591274253665, 7.1372784372603855, 7.050989447068045, 7.931644021454311, 7.8343923029104365, 7.465082736399547, 7.1049654482698426, 7.329749689041512, 7.367708572374371, 6.802394763324311, 7.555905093611346, 7.313220387090301, 7.8168199657645525, 7.430707082545968, 7.321849713788356, 7.55171221535131, 7.382746449738912, 7.05444965813294, 7.373374309910049, 7.165493475060845, 7.288927694521257, 7.101675971619444, 7.406103381237015, 6.643789733147672, 6.725033642166843, 7.217443431696533, 7.646353722445999, 7.517520850603031, 7.419380582918692, 6.946975992135418, 7.519692404116539, 7.521859252201629, 7.358193752733032, 7.736307096548285, 7.803843303538772, 7.042286171939743, 7.519692404116539, 7.255591274253665, 6.974478911025045, 6.742880635791903, 7.696667081526462, 7.203405521083095, 7.132497551660044, 7.6624678152002375, 7.351158226430694, 6.6895992691789665, 7.272398392570047, 7.516433302915632, 6.86484777797086, 6.875232087276577, 7.491087593534876, 7.026426808699636, 7.337587743538596, 6.761572768804055, 7.566311014772463, 7.119635638017636, 7.45298232946546, 7.845807502637805, 6.742880635791903, 7.604396348796338, 6.858565034791365, 7.259819610363186, 6.816735880594968, 7.080026499922591, 7.644919344958857, 7.204892510204673, 6.4457198193855785, 7.491087593534876, 7.363913501405819, 6.977281341630747, 7.038783541388542, 7.107425474110705, 7.4067107301776405, 7.636752112435779, 7.757906208351747, 6.982862751468942, 7.135687347028144]}, {\"hoverinfo\": \"x\", \"showlegend\": false, \"type\": \"histogram\", \"x\": [41.352146256270665, 35.52463933666322, 42.261093218230876, 41.43669871020132, 46.88283267892417, 36.90528417449187, 41.15823125451335, 45.71651780264984, 42.118879377305376, 32.817678162843876, 32.2490309931942, 48.2078831727758, 30.199337741083, 38.65229618017538, 35.397740040855716, 29.223278392404914, 31.68595903550972, 36.0, 33.37663853655727, 36.59234892706397, 48.744230427815765, 33.28663395418648, 42.36744032862972, 32.55764119219941, 32.55764119219941, 40.0, 30.0, 41.27953488110059, 40.0, 22.80350850198276, 36.29049462324811, 35.04283093587046, 35.12833614050059, 41.23105625617661, 39.50949253027682, 49.51767361255979, 33.12099032335839, 36.013886210738214, 32.51153641401772, 33.94112549695428, 36.38681079732051, 36.4417343165772, 29.732137494637012, 30.62678566222711, 33.91164991562634, 41.8568990729127, 46.357307945997036, 40.69397989875161, 38.1051177665153, 30.903074280724887, 38.34057902536163, 34.292856398964496, 28.5657137141714, 42.91852746774987, 36.87817782917155, 37.749172176353746, 41.701318923986086, 41.47288270665544, 54.26785420486054, 27.92848008753788, 34.02939905434711, 33.331666624997915, 37.013511046643494, 41.352146256270665, 45.09988913511872, 49.72926703662542, 46.97871858618538, 38.45776904605882, 27.331300737432898, 47.82258880487337, 47.148700936505136, 29.068883707497267, 41.44876355212541, 32.95451410656816, 40.06245124802026, 31.432467291003423, 30.854497241083024, 35.84689665786984, 42.04759208325728, 35.07135583350036, 46.281745861624536, 36.565010597564445, 39.534794801541594, 32.63433774416144, 38.39270764090493, 49.16299421312742, 39.496835316262995, 34.9857113690718, 39.06404996924922, 31.464265445104548, 32.2490309931942, 35.14256678161116, 31.04834939252005, 47.86439177509728, 42.261093218230876, 38.34057902536163, 39.84971769034255, 30.983866769659336, 28.89636655359978, 35.0, 40.124805295477756, 41.617304093369626, 39.179076048319466, 35.014282800023196, 42.638011210655684, 44.63182720884279, 32.357379374726875, 28.089143810376278, 38.948684188300895, 42.941821107167776, 43.069710934716056, 37.815340802378074, 51.92301994298868, 47.52893855326458, 48.16637831516918, 38.18376618407357, 33.04542328371661, 33.54101966249684, 56.7626637852735, 38.157568056677825, 31.432467291003423, 33.51119216023208, 32.863353450309965, 34.62657938636157, 39.824615503479755, 27.459060435491963, 30.95157508108432, 28.982753492378876, 36.71511950137164, 32.449961479175904, 46.44351407893249, 45.32107677449864, 36.42801120017397, 36.0, 41.48493702538308, 41.012193308819754, 34.84250278036869, 44.26059195266146, 43.034869582700026, 42.0, 29.393876913398138, 41.641325627314025, 37.21558813185679, 38.742741255621034, 41.569219381653056, 41.340053217188775, 29.58039891549808, 45.110974274559844, 32.863353450309965, 36.66060555964672, 31.12876483254676, 41.352146256270665, 44.64302857109943, 35.38361202590826, 34.64101615137755, 33.1058907144937, 32.2490309931942, 44.36214602563767, 44.12482294582042, 49.61854492022111, 35.09985754956849, 51.65268628057983, 39.25557285278104, 29.698484809834994, 40.19950248448356, 36.810324638611924, 43.2087954009366, 46.486557196677836, 41.47288270665544, 41.31585652022719, 37.17526059088221, 40.69397989875161, 42.035699113967404, 36.90528417449187, 40.63249930782009, 46.45427859734774, 45.387222871640866, 43.81780460041329, 47.265209192385896, 31.11269837220809, 39.05124837953327, 42.44997055358225, 36.60601043544625, 45.628938186199335, 35.38361202590826, 60.06662967072483, 34.88552708502482, 40.69397989875161, 34.9857113690718, 39.91240408695021, 52.22068555658763, 38.45776904605882, 37.82856063875548, 41.340053217188775, 29.393876913398138, 38.157568056677825, 41.54515615568198, 55.78530272392541, 47.21228653645151, 41.38840417314975, 33.481338085566414, 35.76310948449533, 36.193922141707716, 29.120439557122072, 35.832945734337834, 37.97367509209505, 41.182520563948, 33.166247903554, 45.40925015897091, 33.04542328371661, 29.393876913398138, 34.813790371058424, 43.034869582700026, 31.464265445104548, 37.30951621235526, 35.156791662493895, 37.89459064299283, 36.4417343165772, 44.204072210600685, 35.32704346531139, 38.704004960727254, 47.61302342846965, 39.395431207184416, 29.393876913398138, 48.908077042549934, 36.08323710533743, 50.19960159204453, 31.416556144810016, 30.199337741083, 39.433488306260706, 34.55430508634199, 52.85830114561004, 31.416556144810016, 29.899832775452108, 44.27188724235731, 31.416556144810016, 37.603191353926334, 41.7612260356422, 41.15823125451335, 38.561638969317684, 39.57271787481876, 29.427877939124322, 37.94733192202055, 34.88552708502482, 45.93473631142341, 43.266615305567875, 43.9089968002003, 37.080992435478315, 40.84115571332428, 46.3033476111609, 36.138621999185304, 40.311288741492746, 40.496913462633174, 36.08323710533743, 36.24913792078372, 47.86439177509728, 41.569219381653056, 40.049968789001575, 42.33202097703345, 29.698484809834994, 37.17526059088221, 50.73460357586329, 34.813790371058424, 36.27671429443411, 27.640549922170507, 37.70941526992961, 38.87158345115362, 46.8187996428785, 27.892651361962706, 33.36165463522455, 44.034077712607996, 36.91882988394946, 47.644516998286385, 40.39801975344831, 28.5657137141714, 39.344631145812, 39.496835316262995, 29.393876913398138, 46.05431575867782, 44.96665431183423, 44.51965857910413, 35.52463933666322, 36.24913792078372, 38.31448812133603, 39.68626966596886, 35.35533905932738, 41.641325627314025, 29.29163703175362, 30.0, 37.36308338453881, 43.80639222761902, 41.42463035441596, 41.42463035441596, 47.57099956906519, 40.54626986542659, 31.670175244226233, 39.4715087119811, 44.15880433163923, 41.7492514902962, 33.94112549695428, 36.55133376499413, 49.51767361255979, 39.25557285278104, 29.899832775452108, 59.10160742314882, 44.721359549995796, 47.36032094485847, 37.49666651850535, 29.34280150224242, 44.090815370097204, 38.742741255621034, 31.176914536239792, 33.436506994600975, 45.12205669071391, 40.50925820105819, 37.841775856849004, 48.507731342539614, 44.26059195266146, 51.43928459844674, 38.36665218650175, 50.950956811427986, 49.678969393496885, 52.24940191045253, 34.10278580995987, 54.57105459856901, 28.337254630609507, 41.46082488325576, 37.1887079635741, 46.195237849804386, 34.52535300326414, 41.569219381653056, 32.49615361854384, 40.36087214122113, 36.851051545376556, 40.47221268969612, 42.261093218230876, 43.840620433565945, 39.191835884530846, 40.26164427839479, 34.85685011586675, 43.68065933568311, 29.0, 32.2490309931942, 41.036569057366385, 33.34666400106613, 39.71145930332956, 30.95157508108432, 38.44476557348217, 40.32369030731191, 52.230259428802384, 43.23193264243457, 38.118237105091836, 33.331666624997915, 26.832815729997478, 39.93745109543172, 34.64101615137755, 34.161381705077446, 33.793490497431605, 36.76955262170047, 43.86342439892262, 30.199337741083, 38.79432948254165, 43.840620433565945, 31.416556144810016, 39.67366884975475, 36.66060555964672, 37.33630940518894, 37.82856063875548, 35.608987629529715, 35.874782229304195, 40.792156108742276, 39.84971769034255, 27.422618401604176, 36.318039594669756, 43.9089968002003, 30.066592756745816, 30.23243291566195, 49.658836071740545, 43.08131845707603, 42.42640687119285, 41.12177038990418, 36.069377593742864, 42.391036788453285, 28.0, 44.19275958796871, 35.62302626111375, 34.40930106817051, 33.54101966249684, 38.45776904605882, 48.29078587059855, 36.9729630946723, 44.28317965096906, 29.698484809834994, 28.071337695236398, 32.155870381627054, 33.823069050575526, 29.899832775452108, 42.567593307585526, 32.817678162843876, 39.370039370059054, 35.888716889852724, 36.193922141707716, 25.92296279363144, 47.57099956906519, 39.64845520319802, 40.24922359499622, 40.48456495999432, 40.98780306383839, 46.604720790924176, 45.58508528016593, 35.7211421989835, 32.49615361854384, 38.44476557348217, 32.0624390837628, 45.79301256742124, 36.60601043544625, 37.416573867739416, 51.22499389946279, 33.67491648096547, 32.49615361854384, 36.66060555964672, 40.024992192379, 31.432467291003423, 51.28352561983234, 34.583232931581165, 37.26929030716845, 40.54626986542659, 30.116440692751194, 34.75629439396553, 37.57658845611187, 31.416556144810016, 34.61213659975356, 36.945906403822335, 40.049968789001575, 25.099800796022265, 40.755367744629666, 33.436506994600975, 30.066592756745816, 26.343879744638983, 34.583232931581165, 49.01020301937138, 37.94733192202055, 39.66106403010388, 35.4682957019364, 43.68065933568311, 41.09744517606904, 43.45112196480086, 43.42810150121693, 37.094473981982816, 34.39476704383968, 28.513154858766505, 39.153543900903784, 41.90465367951393, 39.87480407475377, 41.569219381653056, 35.24202037341219, 36.66060555964672, 40.779897008207364, 40.8166632639171, 34.68429039204925, 43.98863489584554, 33.689761055846034, 29.393876913398138, 40.74309757492672, 32.2490309931942, 37.603191353926334, 35.73513677041127, 40.54626986542659, 40.422765862815474, 41.352146256270665, 38.7556447501522, 44.37341546466758, 32.7414110874898, 44.45222154178574, 40.64480286580315, 31.144823004794873, 38.63935817272331, 51.41011573610781, 41.44876355212541, 33.63034344160047, 43.01162633521314, 42.33202097703345, 42.731721238442994, 34.87119154832539, 31.606961258558215, 33.36165463522455, 32.7566787083184, 38.52272056851645, 49.13247398615299, 25.099800796022265, 36.11094017053558, 39.72404813208241, 38.157568056677825, 35.62302626111375, 29.765752132274432, 26.832815729997478, 56.815490845367165, 42.661458015403085, 29.9833287011299, 30.199337741083, 34.899856733230294, 42.04759208325728, 34.84250278036869, 42.43819034784589, 36.359317925395686, 44.27188724235731, 43.71498598878879, 34.899856733230294, 37.12142238654117, 32.264531609803356, 36.91882988394946, 36.98648401781386, 29.393876913398138, 32.863353450309965, 28.089143810376278, 44.94441010848846, 46.03259714593562, 48.41487374764082, 42.37924020083418, 45.60701700396552, 35.9722114972099, 35.270384177096794, 40.792156108742276, 68.38128398911503, 48.96937818678118, 35.58089374931439, 30.463092423455635, 52.08646657242167, 24.596747752497688, 50.149775672479336, 38.84584919911006, 36.90528417449187, 28.75760768909681, 18.275666882497067, 37.603191353926334, 36.701498607005135, 41.52107898405339, 29.393876913398138, 34.044089061098404, 40.01249804748511, 42.871902220452036, 47.80167361086848, 40.98780306383839, 27.694764848252458, 38.67815921162743, 46.72258554489466, 40.43513323831146, 27.712812921102035, 28.722813232690143, 45.760244754590204, 32.69556544854363, 30.463092423455635, 41.43669871020132, 33.555923471125034, 45.232731511594565, 32.37282811247729, 33.04542328371661, 36.55133376499413, 38.02630668366309, 39.45883931389772, 37.30951621235526, 37.26929030716845, 31.559467676119, 40.91454509095757, 47.90615826801394, 40.58324777540605, 50.039984012787215, 39.179076048319466, 46.17358552246078, 30.708305065568176, 41.569219381653056, 29.393876913398138, 41.13392760240627, 37.815340802378074, 33.301651610693426, 34.87119154832539, 38.43175770115127, 36.3318042491699, 37.30951621235526, 42.36744032862972, 37.8021163428716, 45.18849411078001, 28.5657137141714, 52.67826876426369, 39.66106403010388, 45.033320996790806, 28.948229652260256, 29.32575659723036, 38.379682124790975, 30.577769702841312, 39.774363602702685, 47.916594202843754, 28.5657137141714, 29.120439557122072, 30.397368307141328, 42.731721238442994, 36.98648401781386, 37.44329045369811, 40.58324777540605, 39.44616584663204, 43.634848458542855, 37.080992435478315, 43.76071297408213, 34.64101615137755, 38.65229618017538, 44.56455991031439, 32.2490309931942, 44.81071300481616, 56.515484603779164, 32.07802986469088, 46.400431032480725, 32.12475680841802, 43.266615305567875, 33.46640106136302, 25.099800796022265, 32.46536616149585, 38.84584919911006, 28.844410203711913, 42.7551166528639, 47.56048780237646, 29.393876913398138, 51.12729212465687, 31.304951684997057, 38.88444419044716, 42.30839160261236, 33.406586176980134, 37.70941526992961, 38.98717737923585, 45.60701700396552, 36.742346141747674, 41.83300132670378, 39.42080668885405, 37.5632799419859, 32.49615361854384, 32.49615361854384, 58.26662852782886, 28.284271247461902, 37.242448899072144, 28.21347195933177, 39.585350825778974, 38.961519477556315, 43.9203825119955, 52.0, 40.24922359499622, 42.02380277890139, 31.32091952673165, 32.37282811247729, 33.075670817082454, 42.883563284783136, 25.099800796022265, 40.80441152620633, 38.8587184554509, 41.42463035441596, 38.3275357934736, 45.967379738244816, 33.04542328371661, 32.449961479175904, 38.7556447501522, 38.18376618407357, 38.54867053479276, 43.98863489584554, 49.47726750741192, 37.30951621235526, 34.36568055487916, 45.79301256742124, 44.0, 48.78524367060187, 40.97560249709576, 37.907782842049734, 34.351128074635334, 38.41874542459709, 37.0, 34.75629439396553, 42.883563284783136, 33.704599092705436, 37.960505792204614, 42.118879377305376, 28.142494558940577, 45.232731511594565, 31.432467291003423, 30.380915061926625, 38.98717737923585, 35.93048844644336, 40.84115571332428, 42.883563284783136, 45.71651780264984, 41.96427051671457, 33.19638534539566, 37.66961640367472, 36.90528417449187, 29.120439557122072, 65.69627082262737, 50.18964036531842, 32.7566787083184, 39.230090491866065, 33.71943060017473, 24.819347291981714, 33.88214869219483, 29.899832775452108, 37.296112397943034, 42.42640687119285, 34.11744421846396, 50.75431016179808, 42.567593307585526, 38.52272056851645, 33.04542328371661, 42.708313008125245, 36.38681079732051, 38.157568056677825, 30.066592756745816, 27.0, 34.322004603461025, 35.04283093587046, 30.983866769659336, 38.45776904605882, 36.742346141747674, 50.53711507397311, 34.322004603461025, 49.17316341257699, 31.160872901765767, 41.737273509418415, 29.120439557122072, 29.393876913398138, 38.34057902536163, 41.20679555607303, 29.393876913398138, 40.98780306383839, 35.09985754956849, 42.14261501141095, 34.75629439396553, 40.19950248448356, 33.85262175962151, 45.066617356974994, 33.823069050575526, 30.789608636681304, 42.04759208325728, 32.2490309931942, 42.43819034784589, 34.64101615137755, 41.569219381653056, 37.841775856849004, 30.199337741083, 36.72873534441391, 38.262252939417984, 36.565010597564445, 52.10566188045211, 47.49736834815167, 51.38093031466052, 41.47288270665544, 39.102429592034305, 33.76388603226827, 36.3318042491699, 38.65229618017538, 45.803929962395145, 32.03123475609393, 38.353617821530214, 42.04759208325728, 37.22902093797257, 38.742741255621034, 50.309044912421065, 29.393876913398138, 36.069377593742864, 39.331920878594275, 48.63126566315131, 38.65229618017538, 38.80721582386451, 41.400483088968905, 41.83300132670378, 42.8485705712571, 57.262553208881634, 29.29163703175362, 34.92849839314596, 33.421549934136806, 30.199337741083, 44.41846462902562, 34.698703145794944, 40.17461885320133, 29.899832775452108, 44.94441010848846, 31.68595903550972, 35.397740040855716, 40.0374824383352, 37.815340802378074, 33.31666249791537, 38.52272056851645, 36.6333181680284, 40.64480286580315, 45.65084884205331, 30.01666203960727, 45.68369512200168, 33.83784863137726, 32.58834147360065, 44.86646854834911, 38.67815921162743, 43.53159771935783, 39.54743986657038, 35.84689665786984, 27.80287754891569, 56.0357029044876, 42.04759208325728, 41.08527716834828, 34.583232931581165, 38.157568056677825, 53.1224999411737, 33.58571124749333, 37.78888725538237, 31.304951684997057, 39.698866482558415, 32.95451410656816, 46.238512086787566, 36.180105030251084, 29.120439557122072, 32.31098884280702, 37.97367509209505, 35.35533905932738, 40.755367744629666, 31.74901573277509, 41.09744517606904, 32.43454948045371, 36.851051545376556, 40.496913462633174, 30.59411708155671, 41.6293165929973, 38.58756276314948, 38.58756276314948, 45.65084884205331, 28.0, 37.86819245752297, 46.10856753359401, 34.97141690009142, 37.30951621235526, 34.64101615137755, 42.76680956068619, 38.93584466786357, 33.823069050575526, 32.66496594212215, 39.48417404479927, 31.416556144810016, 33.15116890850155, 34.64101615137755, 38.49675310984031, 39.230090491866065, 34.132096331752024, 42.42640687119285, 37.62977544445356, 41.24318125460256, 42.13074886588179, 29.393876913398138, 48.55924216871593, 43.069710934716056, 29.120439557122072, 38.157568056677825, 40.570925550201586, 38.01315561749642, 42.17819341792628, 32.2490309931942, 32.03123475609393, 38.48376280978771, 37.013511046643494, 51.51698748956503, 37.76241517699841, 32.2335229225724, 33.12099032335839, 33.88214869219483, 37.04051835490427, 31.654383582688826, 40.570925550201586, 33.46640106136302, 48.16637831516918, 44.14748010928823, 29.899832775452108, 41.012193308819754, 30.166206257996713, 35.608987629529715, 33.63034344160047, 51.088159097779204, 32.2490309931942, 47.15930449020638, 33.98529093593286, 29.393876913398138, 33.015148038438355, 41.43669871020132, 39.91240408695021, 47.22287581247038, 29.866369046136157, 41.340053217188775, 41.376321731154405, 37.322915213043046, 47.085029467974216, 38.79432948254165, 30.397368307141328, 41.02438299353203, 32.68026927673638, 37.1887079635741, 39.179076048319466, 42.37924020083418, 30.83828789021855, 47.32863826479693, 48.620983124572874, 35.156791662493895, 29.29163703175362, 36.138621999185304, 38.84584919911006, 40.8656334834051, 30.033314835362415, 32.60368077380221, 40.44749683231337, 45.35416188179427, 30.033314835362415, 38.52272056851645, 47.686476070265456, 35.608987629529715, 31.85906464414798, 44.74371464239419, 34.9857113690718, 33.04542328371661, 21.908902300206645, 35.05709628591621, 46.119410230400824, 37.603191353926334, 41.48493702538308, 46.9041575982343, 36.27671429443411, 40.2119385257662, 41.060930335295616, 33.555923471125034, 48.72371086031933, 44.474711915874174, 42.28474902373195, 47.286361670147556, 38.28837943815329, 30.4138126514911, 43.64630568559039, 38.72983346207417, 45.48626166217664, 27.331300737432898, 34.64101615137755, 44.395945760846224, 44.294469180700204, 49.02040391510457, 41.569219381653056, 45.387222871640866, 37.94733192202055, 40.39801975344831, 36.66060555964672, 43.23193264243457, 33.823069050575526, 40.36087214122113, 42.14261501141095, 37.16180835212409, 29.393876913398138, 31.064449134018133, 27.712812921102035, 44.36214602563767, 31.304951684997057, 44.24929377967517, 35.05709628591621, 32.51153641401772, 36.565010597564445, 37.62977544445356, 29.29163703175362, 53.59104402789705, 39.344631145812, 42.42640687119285, 43.520110293977886, 38.52272056851645, 36.16628264005025, 33.13608305156178, 31.11269837220809, 33.090784215548595, 34.52535300326414, 40.32369030731191, 30.298514815086232, 37.78888725538237, 44.93328387732194, 37.17526059088221, 29.478805945967352, 35.22782990761707, 29.899832775452108, 33.481338085566414, 31.606961258558215, 51.10772935672255, 35.58089374931439, 47.853944456021594, 41.641325627314025, 34.11744421846396, 40.43513323831146, 44.04543109109048, 45.05552130427524, 39.698866482558415, 48.908077042549934, 41.737273509418415, 43.02324952859791, 38.72983346207417, 41.44876355212541, 35.07135583350036, 32.4037034920393, 37.97367509209505, 32.817678162843876, 34.75629439396553, 30.72458299147443, 26.28687885618983, 39.67366884975475, 40.98780306383839, 38.781438859330635, 31.38470965295043, 40.70626487409524, 33.04542328371661, 41.352146256270665, 39.01281840626232, 35.651086939951774, 40.792156108742276, 38.7556447501522, 31.96873472629156, 32.89376840679705, 40.80441152620633, 38.781438859330635, 36.87817782917155, 38.36665218650175, 38.80721582386451, 33.645207682521445, 34.92849839314596, 35.32704346531139, 38.781438859330635, 53.83307533477908, 29.698484809834994, 35.552777669262355, 40.570925550201586, 37.094473981982816, 34.899856733230294, 43.9089968002003, 55.51576352712804, 50.19960159204453, 40.66939881532551, 30.886890422961002, 29.068883707497267, 40.24922359499622, 47.57099956906519, 36.66060555964672, 25.099800796022265, 42.46174749112429, 40.39801975344831, 36.138621999185304, 48.25971404805462, 50.23942674832188, 41.6293165929973, 53.55371135598354, 31.464265445104548, 42.08325082500163, 30.495901363953813, 36.08323710533743, 36.27671429443411, 44.46346815083142, 39.06404996924922, 44.598206241955516, 39.02563260217571, 36.932370625238775, 43.01162633521314, 46.73328578219169, 44.62062303464621, 36.578682316343766, 29.899832775452108, 48.342527861087284, 33.21144381083123, 33.97057550292606, 47.53945729601885, 39.63584236521283, 40.13726448077895, 50.20956084253277, 29.88310559496787, 32.37282811247729, 39.44616584663204, 38.157568056677825, 37.76241517699841, 35.21363372331802, 41.71330722922842, 38.28837943815329, 33.1058907144937, 29.120439557122072, 31.464265445104548, 35.4682957019364, 32.2490309931942, 38.19685850956856, 35.369478367654786, 38.704004960727254, 31.559467676119, 33.04542328371661, 44.19275958796871, 41.340053217188775, 35.31288716601915, 32.2490309931942, 35.38361202590826, 41.15823125451335, 34.64101615137755, 30.59411708155671, 36.24913792078372, 36.810324638611924, 32.984845004941285, 36.38681079732051, 40.01249804748511, 20.92844953645635, 30.822070014844883, 33.67491648096547, 34.55430508634199, 36.08323710533743, 51.20546845796843, 37.97367509209505, 44.955533585978046, 41.10960958218893, 42.8485705712571, 40.718546143004666, 44.31703961232068, 28.5657137141714, 31.74901573277509, 28.861739379323623, 41.641325627314025, 37.66961640367472, 29.899832775452108, 40.01249804748511, 32.2490309931942, 31.811947441173732, 39.395431207184416, 30.983866769659336, 26.419689627245813, 38.49675310984031, 31.701734968294716, 39.433488306260706, 39.11521443121589, 44.26059195266146, 30.59411708155671, 44.50842616853577, 31.20897306865447, 47.01063709417264, 44.94441010848846, 40.0, 31.400636936215164, 35.38361202590826, 31.937438845342623, 39.585350825778974, 34.161381705077446, 30.854497241083024, 43.22036556994862, 53.178943201233324, 31.71750305430741, 30.397368307141328, 39.698866482558415, 36.02776706930364, 39.54743986657038, 33.331666624997915, 38.49675310984031, 30.528675044947494, 38.28837943815329, 42.555845661906424, 28.5657137141714, 42.661458015403085, 37.907782842049734, 35.566838487557476, 36.24913792078372, 39.74921382870358, 43.31281565541543, 38.157568056677825, 40.496913462633174, 29.899832775452108, 35.4682957019364, 37.841775856849004, 38.7556447501522, 41.15823125451335, 40.87786687193939, 45.91296113299599, 60.22457969965419, 33.436506994600975, 35.510561809129406, 35.35533905932738, 55.5517776493246, 48.425200051213004, 53.59104402789705, 30.380915061926625, 34.9857113690718, 36.64696440361739, 33.52610922848042, 50.1398045468867, 40.64480286580315, 66.90291473471092, 33.61547262794322, 39.64845520319802, 34.942810419312295, 41.2189276910499, 40.29888335921977, 40.74309757492672, 42.473521163190604, 40.27406113120453, 37.960505792204614, 38.36665218650175, 34.9857113690718, 36.76955262170047, 38.157568056677825, 43.162483709814474, 41.10960958218893, 34.813790371058424, 37.17526059088221, 29.393876913398138, 42.17819341792628, 36.71511950137164, 40.3732584763727, 32.77193921634788, 46.861498055439924, 32.49615361854384, 41.23105625617661, 35.81898937714463, 40.74309757492672, 42.95346318982906, 41.8568990729127, 25.92296279363144, 30.983866769659336, 31.606961258558215, 29.899832775452108, 43.61192497471305, 36.24913792078372, 30.199337741083, 34.899856733230294, 30.199337741083, 34.79942528261063, 42.96510211788167, 46.216880033165374, 38.600518131237564, 33.734255586866, 43.965895873961216, 30.199337741083, 41.255302689472536, 38.82009788756334, 51.18593556827891, 34.49637662132068, 34.9857113690718, 34.46737587922817, 44.31703961232068, 42.23742416388575, 40.32369030731191, 44.13615298142782, 33.77869150810907, 38.52272056851645, 42.04759208325728, 41.09744517606904, 34.249087579087416, 45.56314299957807, 38.948684188300895, 43.22036556994862, 39.408120990476064, 32.155870381627054, 45.36518488885502, 31.432467291003423, 45.93473631142341, 37.48332962798263, 29.563490998188964, 46.551047249229526, 40.69397989875161, 36.9729630946723, 44.57577817604534, 29.393876913398138, 34.14674215792775, 32.46536616149585, 40.92676385936225, 32.4037034920393, 42.28474902373195, 42.708313008125245, 36.565010597564445, 38.1051177665153, 43.46262762420146, 44.9221548904324, 58.71115737234278, 39.03844259188627, 39.03844259188627, 38.58756276314948, 30.577769702841312, 36.837480912787726, 35.35533905932738, 43.81780460041329, 37.3496987939662, 41.52107898405339, 45.066617356974994, 33.58571124749333, 39.66106403010388, 36.59234892706397, 32.2490309931942, 42.708313008125245, 49.467160824126545, 37.57658845611187, 36.4417343165772, 39.774363602702685, 40.7308237088326, 44.384682042344295, 33.94112549695428, 36.08323710533743, 48.703182647543684, 40.792156108742276, 29.393876913398138, 32.43454948045371, 33.58571124749333, 32.7414110874898, 75.11324783285569, 35.298725189445584, 44.53088815642464, 38.65229618017538, 50.25932749251625, 40.19950248448356, 41.32795663954365, 40.64480286580315, 36.98648401781386, 31.464265445104548, 33.49626844888845, 35.9722114972099, 43.61192497471305, 35.6931365951495, 53.009433122794285, 50.98038838612354, 30.789608636681304, 45.95650117230423, 40.3732584763727, 36.76955262170047, 42.2729227756965, 30.789608636681304, 38.44476557348217, 26.832815729997478, 43.8520238985614, 26.60826939130014, 42.36744032862972, 28.21347195933177, 27.820855486487112, 28.5657137141714, 52.839379254491625, 40.39801975344831, 39.84971769034255, 30.886890422961002, 28.5657137141714, 36.87817782917155, 36.945906403822335, 36.52396473549935, 40.69397989875161, 26.324893162176366, 43.139309220245984, 29.393876913398138, 29.5296461204668, 33.37663853655727, 46.57252408878007, 43.73785545725808, 38.157568056677825, 30.983866769659336, 46.4327470649756, 42.14261501141095, 38.65229618017538, 48.55924216871593, 51.32250968142536, 41.42463035441596, 34.292856398964496, 56.90342696182718, 43.18564576337837, 43.81780460041329, 29.866369046136157, 32.83291031876401, 39.66106403010388, 44.49719092257398, 51.0, 39.11521443121589, 41.689327171351664, 37.57658845611187, 34.64101615137755, 40.91454509095757, 42.30839160261236, 38.40572873934304, 29.120439557122072, 40.84115571332428, 37.067505985701274, 40.755367744629666, 45.79301256742124, 51.31276644267, 44.24929377967517, 39.63584236521283, 28.106938645110393, 40.049968789001575, 31.416556144810016, 37.33630940518894, 29.393876913398138, 46.010868281309364, 41.97618372363071, 37.62977544445356, 35.4682957019364, 33.97057550292606, 52.76362383309168, 50.25932749251625, 41.78516483155236, 34.899856733230294, 39.05124837953327, 39.7994974842648, 30.0, 43.726422218150894, 38.72983346207417, 49.8196748283246, 41.0731055558257, 38.897300677553446, 43.634848458542855, 40.099875311526844, 34.02939905434711, 39.91240408695021, 35.9722114972099, 38.262252939417984, 34.84250278036869, 40.570925550201586, 27.712812921102035, 28.861739379323623, 36.91882988394946, 45.749316934791494, 42.89522117905443, 40.84115571332428, 32.2490309931942, 42.941821107167776, 42.988370520409354, 39.61060464067672, 47.853944456021594, 49.49747468305833, 33.823069050575526, 42.941821107167776, 37.62977544445356, 32.69556544854363, 29.120439557122072, 46.9148164229596, 36.66060555964672, 35.38361202590826, 46.119410230400824, 39.4715087119811, 28.35489375751565, 37.94733192202055, 42.871902220452036, 30.95157508108432, 31.11269837220809, 42.33202097703345, 33.555923471125034, 39.20459156782532, 29.393876913398138, 43.95452195167182, 35.156791662493895, 41.53311931459037, 50.547007824400445, 29.120439557122072, 44.799553569204235, 30.854497241083024, 37.70941526992961, 30.215889859476256, 34.46737587922817, 45.71651780264984, 36.68787265568828, 25.099800796022265, 42.33202097703345, 39.72404813208241, 32.7414110874898, 33.76388603226827, 34.942810419312295, 40.58324777540605, 45.53020975132884, 48.373546489791295, 32.83291031876401, 35.4400902933387]}, {\"hoverinfo\": \"x\", \"showlegend\": false, \"type\": \"histogram\", \"x\": [[7.621711330764393, 7.303621956335783, 7.667292310455854, 7.625992906744751, 7.885038257752123, 7.383409048810586, 7.611859106658229, 7.832158091782069, 7.660224966062878, 7.137886942983956, 7.101359029425204, 7.943561676182033, 6.964199523759827, 7.4802462855881355, 7.296135466180571, 6.895619781040624, 7.06455713260415, 7.331433303981957, 7.173188553173761, 7.365586044292989, 7.966800122209524, 7.16754385167605, 7.672561921692243, 7.121261263171572, 7.121261263171572, 7.552041116911724, 6.950373300628104, 7.618027523573419, 7.552041116911724, 6.378757710982281, 7.348250969784201, 7.275055862691571, 7.28015360215272, 7.6155644843918395, 7.52619115971742, 7.999870525044703, 7.157115891360156, 7.332240265893747, 7.1182998372330974, 7.208251664690341, 7.353797691813488, 7.356954178301657, 6.931650610693601, 6.993546340083489, 7.206435085335657, 7.647143902485127, 7.861373889302742, 7.588084456291809, 7.450388973524327, 7.012300768661317, 7.4632886954362725, 7.229809435448921, 6.848130876213407, 7.699661371664714, 7.381871140563865, 7.430738335833977, 7.639337242260901, 7.627822560585442, 8.192426979240501, 6.8010689983044585, 7.213682658736977, 7.170369988959145, 7.389538322807609, 7.621711330764393, 7.80365960021543, 8.00882886937781, 7.889327728841046, 7.469679813941192, 6.755992773355853, 7.926709828257972, 7.896910713421588, 6.884564976705294, 7.626603144082591, 7.146583503508657, 7.555309839452677, 7.047777847827284, 7.009015392843581, 7.32251566028292, 7.656673459652104, 7.2767578540150275, 7.8579495667897925, 7.364021867739356, 7.527532332331097, 7.126178514235308, 7.466133979305869, 7.984769151465813, 7.525519932956703, 7.271643600887658, 7.50244010648067, 7.049889965389424, 7.101359029425204, 7.281000830132077, 7.0220957137271345, 7.928544660408604, 7.667292310455854, 7.4632886954362725, 7.544154583617565, 7.017753672084655, 6.872143795104389, 7.272497704039081, 7.5585684588804884, 7.635109601630701, 7.508598823983015, 7.273351114640162, 7.685910331384621, 7.781769319402785, 7.10836774305586, 6.813033764840194, 7.496245188988774, 7.700799243430674, 7.70703569962966, 7.434405103801663, 8.099550308263037, 7.9137760067793765, 7.941752757228936, 7.454706452343364, 7.152341513809101, 7.183459149526805, 8.286990414951099, 7.453269257594889, 7.047777847827284, 7.181599211836746, 7.1407937943920805, 7.250062593111277, 7.542834406335064, 6.765717537828441, 7.015575904960901, 6.878372753376774, 7.372596229454956, 7.114338250452926, 7.865273854805848, 7.813926151782984, 7.356165943279002, 7.331433303981957, 7.628431740567995, 7.604409065254771, 7.263064229457455, 7.764245626640066, 7.705338499983088, 7.654299128794408, 6.907767928522536, 7.636319228962849, 7.400935449517942, 7.4851412797252355, 7.632686177397187, 7.621098255726681, 6.920970558890361, 7.8041753055393634, 7.1407937943920805, 7.369486351252655, 7.027498158415329, 7.621711330764393, 7.782295826053598, 7.295300337718688, 7.250934384109435, 7.156162748134436, 7.101359029425204, 7.769053736630279, 7.757800555560201, 8.004145872383422, 7.278457097540031, 8.088577468090579, 7.512684733211099, 6.929286633455966, 7.562465553984899, 7.378016516044087, 7.713797332633822, 7.867218450884032, 7.627822560585442, 7.619871035509531, 7.398665868791583, 7.588084456291809, 7.65608037774617, 7.383409048810586, 7.5849159274816405, 7.865760339559126, 7.816986752529412, 7.743153630589604, 7.902092620348512, 7.026419888974266, 7.501753577757694, 7.67664238835891, 7.366367262181617, 7.82813366565511, 7.295300337718688, 8.406096160425815, 7.265645392273997, 7.588084456291809, 7.271643600887658, 7.547447811976948, 8.111567489539091, 7.469679813941192, 7.4351369284038205, 7.621098255726681, 6.907767928522536, 7.453269257594889, 7.631472374079135, 8.250442811300644, 7.899740358499652, 7.623548420579238, 7.179735979669552, 7.317619464776474, 7.342674874484774, 6.888262857999026, 7.321701207356571, 7.443153625374022, 7.613095679617318, 7.159970149330085, 7.8180049846036646, 7.152341513809101, 6.907767928522536, 7.261339930582066, 7.705338499983088, 7.049889965389424, 7.406212197101114, 7.281847376696152, 7.438788445425837, 7.356954178301657, 7.7615649610225335, 7.291953182354944, 7.483046208624197, 7.917487568051764, 7.52013467568735, 6.907767928522536, 7.973848817325774, 7.3362658241530605, 8.028607609782735, 7.046720195295275, 6.964199523759827, 7.522157372739731, 7.245692771800627, 8.137082928973843, 7.046720195295275, 6.943391341553221, 7.764780943836373, 7.046720195295275, 7.422626238475503, 7.642346645118281, 7.611859106658229, 7.4753284477442214, 7.529540897142047, 6.910180785057079, 7.441700574035787, 7.265645392273997, 7.842152567513644, 7.71660194278023, 7.7475146892719895, 7.393351084347402, 7.595650305176133, 7.858929078024817, 7.339475225775484, 7.5682843201842855, 7.5779114676664765, 7.3362658241530605, 7.345864829563152, 7.928544660408604, 7.632686177397187, 7.554656905202453, 7.6708083075283895, 6.929286633455966, 7.398665868791583, 8.050884542940407, 7.261339930582066, 7.34745619036876, 6.779455550553507, 7.4285321333937, 7.492094921130759, 7.882168903249003, 6.798391535422608, 7.172249870707675, 7.753481874888476, 7.384177161610656, 7.918876049028692, 7.572787929941399, 6.848130876213407, 7.517431694228248, 7.525519932956703, 6.907767928522536, 7.847609477951064, 7.797451408943258, 7.776489760315253, 7.303621956335783, 7.345864829563152, 7.461863167161178, 7.5355437300923915, 7.293628090458217, 7.636319228962849, 6.90049591682655, 6.950373300628104, 7.409215655288365, 7.742607229102028, 7.62538231613641, 7.62538231613641, 7.915633417182426, 7.580463930743578, 7.063516238019101, 7.5241761957971285, 7.759415516297601, 7.64174545101696, 7.208251664690341, 7.363238907343393, 7.999870525044703, 7.512684733211099, 6.943391341553221, 8.371990226278392, 7.785974038758818, 7.906313538568613, 7.4166870466170565, 6.904138217254233, 7.756183120232971, 7.4851412797252355, 7.0307263447157915, 7.176934928600124, 7.804690759104665, 7.578550162926736, 7.435868244998835, 7.956584547589466, 7.764245626640066, 8.079875372907878, 7.464712297746642, 8.059827471305217, 8.006702805725345, 8.112723229939672, 7.218187169469926, 8.204146071804578, 6.831378686190997, 7.627213028559778, 7.399422939204437, 7.854022412556715, 7.243939749736793, 7.632686177397187, 7.117310838926907, 7.570860166475113, 7.38033098330251, 7.576632915344275, 7.667292310455854, 7.744245585707989, 7.509280909760026, 7.565702165603377, 7.2639253206392835, 7.736578069081035, 6.8796141229002075, 7.101359029425204, 7.605654399349667, 7.171310349804104, 7.53687306351613, 7.015575904960901, 7.46897160091954, 7.568928871950435, 8.1119528766598, 7.714920071292164, 7.451109783048006, 7.170369988959145, 6.71761514606656, 7.548762228214187, 7.250934384109435, 7.221776944122446, 7.199137237738251, 7.375696951200008, 7.745336412303994, 6.964199523759827, 7.487928244544978, 7.744245585707989, 7.046720195295275, 7.534878434224094, 7.369486351252655, 7.407714996683579, 7.4351369284038205, 7.308583533152012, 7.3241426783831685, 7.593134382147935, 7.544154583617565, 6.762948218684548, 7.349838731182777, 7.7475146892719895, 6.955002290886059, 6.966486305355755, 8.005851181596661, 7.707600826788512, 7.675478150214638, 7.61000152441621, 7.335461942855745, 7.673729380571211, 6.806403518767866, 7.761028010029499, 7.30940819386353, 7.236898311059202, 7.183459149526805, 7.469679813941192, 7.947170251110444, 7.387244023094819, 7.765315989702417, 6.929286633455966, 6.811711062156396, 7.095314149196065, 7.200966451124709, 6.943391341553221, 7.682444386019627, 7.137886942983956, 7.518784051390165, 7.324955245506115, 7.342674874484774, 6.645715824057852, 7.915633417182426, 7.533546581516299, 7.565055637651523, 7.577272385295999, 7.6031622588480205, 7.872547703964033, 7.826115686613453, 7.315162801375007, 7.117310838926907, 7.46897160091954, 7.089234312466823, 7.835666927638345, 7.366367262181617, 7.412210573982421, 8.071101081801947, 7.191788411337138, 7.117310838926907, 7.369486351252655, 7.553349822323269, 7.047777847827284, 8.073501298857355, 7.247442878417522, 7.403953969961856, 7.580463930743578, 6.958460696327018, 7.257882834220395, 7.421144576785771, 7.046720195295275, 7.249190079299338, 7.385711708662814, 7.554656905202453, 6.578486805914263, 7.591243492830488, 7.176934928600124, 6.955002290886059, 6.679282609236852, 7.247442878417522, 7.978230499373593, 7.441700574035787, 7.534212718209626, 7.300301198917356, 7.736578069081035, 7.60876131605653, 7.725526933545175, 7.724415428706932, 7.394111983183776, 7.2360148089284, 6.844288646214256, 7.5072333267638625, 7.649534374590318, 7.545473109724071, 7.632686177397187, 7.286912407701082, 7.369486351252655, 7.5925044623689075, 7.594393093980503, 7.25354543221023, 7.75131589034177, 7.1927098269884215, 6.907767928522536, 7.590612442166708, 7.101359029425204, 7.422626238475503, 7.315982326307979, 7.580463930743578, 7.574071150274157, 7.621711330764393, 7.485838712202475, 7.769586621747202, 7.133024263597422, 7.773309304598541, 7.585550395373072, 7.028575322673516, 7.479545140898534, 8.078683156588388, 7.626603144082591, 7.189019312089718, 7.704205515146626, 7.6708083075283895, 7.690513952202188, 7.264785707860226, 7.059342321614513, 7.172249870707675, 7.133998599944846, 7.473213756835304, 7.983464652946649, 6.578486805914263, 7.337871747804805, 7.537537102131888, 7.453269257594889, 7.30940819386353, 6.93400927924993, 6.71761514606656, 8.288948097990522, 7.687063121031634, 6.9492128587722135, 6.964199523759827, 7.266504375031462, 7.656673459652104, 7.263064229457455, 7.6760604298778174, 7.352215893265387, 7.764780943836373, 7.738225804047845, 7.266504375031462, 7.39563213376932, 7.102363139167547, 7.384177161610656, 7.388009345113001, 6.907767928522536, 7.1407937943920805, 6.813033764840194, 7.79641315213411, 7.846619407301616, 7.9525601139484, 7.673145812615345, 7.82712515816705, 7.329817522302872, 7.288595349546121, 7.593134382147935, 8.679351004024658, 7.9764800057047145, 7.306932271162363, 6.982355901530735, 8.106157274927494, 6.536321394577262, 8.026520990391226, 7.4907078585488245, 7.383409048810586, 6.862099952308647, 5.918908328143092, 7.422626238475503, 7.371819620439428, 7.630257172330541, 6.907767928522536, 7.2145851050326755, 7.552695672686566, 7.697381940426488, 7.9257912159937804, 7.6031622588480205, 6.7835421251111345, 7.481647177009507, 7.877850204640043, 7.574712175278403, 6.784900787764672, 6.859573906310729, 7.834164568183826, 7.130095826313184, 6.982355901530735, 7.625992906744751, 7.1843878865911055, 7.809831502076975, 7.10936518492092, 7.152341513809101, 7.363238907343393, 7.446053729843711, 7.523503684302968, 7.406212197101114, 7.403953969961856, 7.0562009714886065, 7.599412970728951, 7.930376311966517, 7.582374231443192, 8.02191588014718, 7.508598823983015, 7.85303833816486, 6.999097180896311, 7.632686177397187, 6.907767928522536, 7.6106210821075555, 7.434405103801663, 7.168486741409182, 7.264785707860226, 7.4682629115889885, 7.3506317149767, 7.406212197101114, 7.672561921692243, 7.43367277048386, 7.80777820734204, 6.848130876213407, 8.129909502814929, 7.534212718209626, 7.800560067492538, 6.875885602717517, 6.9029255202295765, 7.465423378295127, 6.990201705118129, 7.540189081610953, 7.930833729183693, 6.848130876213407, 6.888262857999026, 6.977846138887346, 7.690513952202188, 7.388009345113001, 7.413704846215222, 7.582374231443192, 7.522830743467265, 7.734377079904193, 7.393351084347402, 7.74041879010185, 7.250934384109435, 7.4802462855881355, 7.778604753371408, 7.101359029425204, 7.7901620783822985, 8.277806398484419, 7.090250063347789, 7.863325672044575, 7.093291441008232, 7.71660194278023, 7.178803124494213, 6.578486805914263, 7.115330047299678, 7.4907078585488245, 6.868388604712759, 7.691661725811739, 7.915169370611791, 6.907767928522536, 8.067088574591752, 7.039286676240672, 7.492787768428951, 7.669637609988685, 7.175063408788877, 7.4285321333937, 7.498314210059633, 7.82712515816705, 7.374147731502786, 7.64594663193374, 7.5214835715690205, 7.420402963718734, 7.117310838926907, 7.117310838926907, 8.342033621859933, 6.827474532723359, 7.402445791026918, 6.822246302923464, 7.530209569151822, 7.496935314095274, 7.74805855683121, 8.102664610382027, 7.565055637651523, 7.6554869622191735, 7.04035183180735, 7.10936518492092, 7.15425386641243, 7.697952260031964, 6.578486805914263, 7.593763925868412, 7.491401618038051, 7.62538231613641, 7.462576172370994, 7.843643614262904, 7.152341513809101, 7.114338250452926, 7.485838712202475, 7.454706452343364, 7.474624022195778, 7.75131589034177, 7.998155532815518, 7.406212197101114, 7.234245576108572, 7.835666927638345, 7.751857803308751, 7.9685667079562545, 7.602538302435526, 7.439517232561046, 7.233359842910761, 7.467553745306381, 7.3887741114142615, 7.257882834220395, 7.697952260031964, 7.193630436291018, 7.4424273502063265, 7.660224966062878, 6.8169919008005255, 7.809831502076975, 7.047777847827284, 6.9767156670408506, 7.498314210059633, 7.327389190813058, 7.595650305176133, 7.697952260031964, 7.832158091782069, 7.652514867059971, 7.1618686938302085, 7.426321301006807, 7.383409048810586, 6.888262857999026, 8.594874351950057, 8.028190615222131, 7.133998599944846, 7.5113245226349745, 7.194550240659463, 6.555083516838383, 7.204615363914621, 6.943391341553221, 7.4054599925264, 7.675478150214638, 7.219085762010611, 8.051700668901033, 7.682444386019627, 7.473213756835304, 7.152341513809101, 7.689364928693058, 7.353797691813488, 7.453269257594889, 6.955002290886059, 6.730564310322621, 7.231586136643513, 7.275055862691571, 7.017753672084655, 7.469679813941192, 7.374147731502786, 8.042688450595124, 7.231586136643513, 7.985203626785895, 7.02965138401921, 7.641143914073393, 6.888262857999026, 6.907767928522536, 7.4632886954362725, 7.614330804395605, 6.907767928522536, 7.6031622588480205, 7.278457097540031, 7.661406149540739, 7.257882834220395, 7.562465553984899, 7.202792489504317, 7.802110971221704, 7.200966451124709, 7.004618852161511, 7.656673459652104, 7.101359029425204, 7.6760604298778174, 7.250934384109435, 7.632686177397187, 7.435868244998835, 6.964199523759827, 7.373372266194256, 7.459006311755968, 7.364021867739356, 8.106931858953942, 7.912380802982176, 8.07748959478838, 7.627822560585442, 7.504497013546772, 7.197304838249469, 7.3506317149767, 7.4802462855881355, 7.8361672395491375, 7.0871998618078065, 7.464000737010701, 7.656673459652104, 7.40169089098296, 7.4851412797252355, 8.03318372818002, 6.907767928522536, 7.335461942855745, 7.516754864427925, 7.961926730417102, 7.4802462855881355, 7.488623835664165, 7.624160073465289, 7.64594663193374, 7.696240375618858, 8.305443883022049, 6.90049591682655, 7.268220240166852, 7.175999584925572, 6.964199523759827, 7.771715476300312, 7.2544143439273565, 7.56116812217267, 6.943391341553221, 7.79641315213411, 7.06455713260415, 7.296135466180571, 7.55400356632712, 7.434405103801663, 7.169428786664845, 7.473213756835304, 7.3679279614954005, 7.585550395373072, 7.829141210923108, 6.951532461940155, 7.83065072868642, 7.20187986649917, 7.1232309237561715, 7.792771191788663, 7.481647177009507, 7.729408007595414, 7.528202279273077, 7.32251566028292, 6.791667839770242, 8.259866203884547, 7.656673459652104, 7.608140664527929, 7.247442878417522, 7.453269257594889, 8.147566423884271, 7.18624290442073, 7.432939927740415, 7.039286676240672, 7.536208606346183, 7.146583503508657, 7.855987814928833, 7.341875873391793, 6.888262857999026, 7.105369727572948, 7.443153625374022, 7.293628090458217, 7.591243492830488, 7.0687104343142035, 7.60876131605653, 7.113345517225247, 7.38033098330251, 7.5779114676664765, 6.991317766827958, 7.6357145886956355, 7.476735887735352, 7.476735887735352, 7.829141210923108, 6.806403518767866, 7.437329356994056, 7.850080601583235, 7.270788804057381, 7.406212197101114, 7.250934384109435, 7.692235144756055, 7.495554611674823, 7.200966451124709, 7.128138994368123, 7.5248482784989825, 7.046720195295275, 7.159019590393841, 7.250934384109435, 7.471801601564742, 7.5113245226349745, 7.21998358775904, 7.675478150214638, 7.424105819137531, 7.616180783655527, 7.66081572311679, 6.907767928522536, 7.958813739743733, 7.70703569962966, 6.888262857999026, 7.453269257594889, 7.581737849000647, 7.4453294517773, 7.663175448740224, 7.101359029425204, 7.0871998618078065, 7.471094813623888, 7.389538322807609, 8.083048061605448, 7.431472711129197, 7.100353959821272, 7.157115891360156, 7.204615363914621, 7.391065084097749, 7.062474311684593, 7.581737849000647, 7.178803124494213, 7.941752757228936, 7.758877470537335, 6.943391341553221, 7.604409065254771, 6.961907753470367, 7.308583533152012, 7.189019312089718, 8.065479299178568, 7.101359029425204, 7.897382847567855, 7.210970666102344, 6.907767928522536, 7.150425677639117, 7.625992906744751, 7.547447811976948, 7.900211230045115, 6.941053670675543, 7.621098255726681, 7.62293641277615, 7.406963864897514, 7.89407346892707, 7.487928244544978, 6.977846138887346, 7.605031916123153, 7.129117865512638, 7.399422939204437, 7.508598823983015, 7.673145812615345, 7.007917981003587, 7.904908438708616, 7.961482578461371, 7.281847376696152, 6.90049591682655, 7.339475225775484, 7.4907078585488245, 7.596906019320001, 6.952690345540334, 7.124214372243052, 7.575352810808658, 7.815457561042401, 6.952690345540334, 7.473213756835304, 7.920724523244314, 7.308583533152012, 7.075939458913998, 7.787022607197507, 7.271643600887658, 7.152341513809101, 6.29551692713928, 7.275907202385178, 7.850574133248839, 7.422626238475503, 7.628431740567995, 7.8859929798951525, 7.34745619036876, 7.5631136716595595, 7.606898264616807, 7.1843878865911055, 7.965915720791549, 7.774370521508779, 7.6684656119318, 7.9030320605908635, 7.460435707686496, 6.978975395646277, 7.734927757656611, 7.4844433853793735, 7.821561084561369, 6.755992773355853, 7.250934384109435, 7.770651585663235, 7.765850764513982, 7.978667670183089, 7.632686177397187, 7.816986752529412, 7.441700574035787, 7.572787929941399, 7.369486351252655, 7.714920071292164, 7.200966451124709, 7.570860166475113, 7.661406149540739, 7.39790825382893, 6.907767928522536, 7.023178426744458, 6.784900787764672, 7.769053736630279, 7.039286676240672, 7.763710037837283, 7.275907202385178, 7.1182998372330974, 7.364021867739356, 7.424105819137531, 6.90049591682655, 8.16603242933299, 7.517431694228248, 7.675478150214638, 7.728854441499095, 7.473213756835304, 7.34107626552641, 7.158068171591202, 7.026419888974266, 7.1552087403434745, 7.243939749736793, 7.568928871950435, 6.971044989284761, 7.432939927740415, 7.7958936406061525, 7.398665868791583, 6.9137897072800545, 7.286069926648807, 6.943391341553221, 7.179735979669552, 7.059342321614513, 8.06628424299721, 7.306932271162363, 7.928086250984133, 7.636319228962849, 7.219085762010611, 7.574712175278403, 7.754022677260317, 7.801594256391295, 7.536208606346183, 7.973848817325774, 7.641143914073393, 7.7047721596234195, 7.4844433853793735, 7.626603144082591, 7.2767578540150275, 7.111357234520387, 7.443153625374022, 7.137886942983956, 7.257882834220395, 7.000203838853697, 6.674768100004805, 7.534878434224094, 7.6031622588480205, 7.487232194001313, 7.044601691985715, 7.588717021153616, 7.152341513809101, 7.621711330764393, 7.4996913043036475, 7.311055579796606, 7.593134382147935, 7.485838712202475, 7.083119111284803, 7.142727241134302, 7.593763925868412, 7.487232194001313, 7.381871140563865, 7.464712297746642, 7.488623835664165, 7.189943155311687, 7.268220240166852, 7.291953182354944, 7.487232194001313, 8.175508888860314, 6.929286633455966, 7.305278414953659, 7.581737849000647, 7.394111983183776, 7.266504375031462, 7.7475146892719895, 8.240252364095728, 8.028607609782735, 7.586818187043047, 7.011206784282341, 6.884564976705294, 7.565055637651523, 7.915633417182426, 7.369486351252655, 6.578486805914263, 7.677224026013173, 7.572787929941399, 7.339475225775484, 7.945818479134191, 8.030273945340875, 7.6357145886956355, 8.164566950464355, 7.049889965389424, 7.65845070740143, 6.984603544445756, 7.3362658241530605, 7.34745619036876, 7.773840046402946, 7.50244010648067, 7.7801882221394125, 7.5003791772553585, 7.384944714622095, 7.704205515146626, 7.878330932887576, 7.781242550042299, 7.364804246433737, 6.943391341553221, 7.949419368990395, 7.162816682496926, 7.210065112844868, 7.91424066559022, 7.532880023610424, 7.559218975899014, 8.029024439945, 6.942223156431493, 7.10936518492092, 7.522830743467265, 7.453269257594889, 7.431472711129197, 7.285226770733733, 7.639939810088866, 7.460435707686496, 7.156162748134436, 6.888262857999026, 7.049889965389424, 7.300301198917356, 7.101359029425204, 7.455424315246715, 7.29446454616363, 7.483046208624197, 7.0562009714886065, 7.152341513809101, 7.761028010029499, 7.621098255726681, 7.2911147278300295, 7.101359029425204, 7.295300337718688, 7.611859106658229, 7.250934384109435, 6.991317766827958, 7.345864829563152, 7.378016516044087, 7.1485063451474105, 7.353797691813488, 7.552695672686566, 6.200342702559414, 7.006819421883826, 7.191788411337138, 7.245692771800627, 7.3362658241530605, 8.070299797367554, 7.443153625374022, 7.796932408162486, 7.609381602542451, 7.696240375618858, 7.589349206782918, 7.7669195020747, 6.848130876213407, 7.0687104343142035, 6.869641827746646, 7.636319228962849, 7.426321301006807, 6.943391341553221, 7.552695672686566, 7.101359029425204, 7.072847390764163, 7.52013467568735, 7.017753672084655, 6.685271882600832, 7.471801601564742, 7.065596997487534, 7.522157372739731, 7.5051817581417435, 7.764245626640066, 6.991317766827958, 7.775960349320293, 7.032872973180365, 7.890753690736396, 7.79641315213411, 7.552041116911724, 7.045661477399836, 7.295300337718688, 7.0810727805806675, 7.530209569151822, 7.221776944122446, 7.009015392843581, 7.714358851275096, 8.149799436019961, 7.066635834710932, 6.977846138887346, 7.536208606346183, 7.333046609789219, 7.528202279273077, 7.170369988959145, 7.471801601564742, 6.9868463893183845, 7.460435707686496, 7.681865619917428, 6.848130876213407, 7.687063121031634, 7.439517232561046, 7.306105667846368, 7.345864829563152, 7.538863925814421, 7.718840276620763, 7.453269257594889, 7.5779114676664765, 6.943391341553221, 7.300301198917356, 7.435868244998835, 7.485838712202475, 7.611859106658229, 7.5975333161143705, 7.841157365552432, 8.411626875060028, 7.176934928600124, 7.302792748553366, 7.293628090458217, 8.24161677127006, 7.953008030799218, 8.16603242933299, 6.9767156670408506, 7.271643600887658, 7.368707444639944, 7.182529591760807, 8.026103171883735, 7.585550395373072, 8.633252030135141, 7.18809465682343, 7.533546581516299, 7.269077124832414, 7.614947824779524, 7.567639374151119, 7.590612442166708, 7.677805343195262, 7.566348297346176, 7.4424273502063265, 7.464712297746642, 7.271643600887658, 7.375696951200008, 7.453269257594889, 7.711548265439549, 7.609381602542451, 7.261339930582066, 7.398665868791583, 6.907767928522536, 7.663175448740224, 7.372596229454956, 7.571503145997093, 7.13497203438608, 7.884082671976704, 7.117310838926907, 7.6155644843918395, 7.320886123876248, 7.590612442166708, 7.701367719513212, 7.647143902485127, 6.645715824057852, 7.017753672084655, 7.059342321614513, 6.943391341553221, 7.733274861678983, 7.345864829563152, 6.964199523759827, 7.266504375031462, 6.964199523759827, 7.260476720566822, 7.701935889503677, 7.855005570908296, 7.477438903437358, 7.195469241504567, 7.750231229028342, 6.964199523759827, 7.6167967229928175, 7.489318967966874, 8.069497905355425, 7.242183802465341, 7.271643600887658, 7.24042492017644, 7.7669195020747, 7.666117702649234, 7.568928871950435, 7.758339150385169, 7.19822143695239, 7.473213756835304, 7.656673459652104, 7.60876131605653, 7.227138745921856, 7.825105249143526, 7.496245188988774, 7.714358851275096, 7.5208093394027165, 7.095314149196065, 7.815967537638896, 7.047777847827284, 7.842152567513644, 7.41594228764832, 6.919777154691326, 7.870128648877706, 7.588084456291809, 7.387244023094819, 7.779132840235126, 6.907767928522536, 7.220880648026884, 7.115330047299678, 7.600038778490126, 7.111357234520387, 7.6684656119318, 7.689364928693058, 7.364021867739356, 7.450388973524327, 7.72608224728398, 7.795373873326243, 8.35803438979732, 7.501066601544456, 7.501066601544456, 7.476735887735352, 6.990201705118129, 7.3795600592273445, 7.293628090458217, 7.743153630589604, 7.4084655932256345, 7.630257172330541, 7.802110971221704, 7.18624290442073, 7.534212718209626, 7.365586044292989, 7.101359029425204, 7.689364928693058, 7.997726349664413, 7.421144576785771, 7.356954178301657, 7.540189081610953, 7.589981013635599, 7.770119238000843, 7.208251664690341, 7.3362658241530605, 7.965030578688216, 7.593134382147935, 6.907767928522536, 7.113345517225247, 7.18624290442073, 7.133024263597422, 8.877540416050314, 7.290275604900629, 7.777018905951325, 7.4802462855881355, 8.03110612932542, 7.562465553984899, 7.620484824113843, 7.585550395373072, 7.388009345113001, 7.049889965389424, 7.180668008294378, 7.329817522302872, 7.733274861678983, 7.313521835129622, 8.143086211185281, 8.061041122749145, 7.004618852161511, 7.843146832544045, 7.571503145997093, 7.375696951200008, 7.667879124302956, 7.004618852161511, 7.46897160091954, 6.71761514606656, 7.7447911399250176, 6.700097115693332, 7.672561921692243, 6.822246302923464, 6.793016029534487, 6.848130876213407, 8.13633011788355, 7.572787929941399, 7.544154583617565, 7.011206784282341, 6.848130876213407, 7.381871140563865, 7.385711708662814, 7.36167123797123, 7.588084456291809, 6.677779931140539, 7.710421931779504, 6.907767928522536, 6.9173862703486275, 7.173188553173761, 7.871096935813484, 7.739322866640981, 7.453269257594889, 7.017753672084655, 7.864787145885239, 7.661406149540739, 7.4802462855881355, 7.958813739743733, 8.075098422536435, 7.62538231613641, 7.229809435448921, 8.29220288178573, 7.7126733982022655, 7.743153630589604, 6.941053670675543, 7.138856786488519, 7.534212718209626, 7.775430672699315, 8.061849450583253, 7.5051817581417435, 7.638734330016673, 7.421144576785771, 7.250934384109435, 7.599412970728951, 7.669637609988685, 7.466844101427262, 6.888262857999026, 7.595650305176133, 7.392589635420217, 7.591243492830488, 7.835666927638345, 8.074699367678633, 7.763710037837283, 7.532880023610424, 6.814354802712271, 7.554656905202453, 7.046720195295275, 7.407714996683579, 6.907767928522536, 7.845628407638349, 7.653109956356187, 7.424105819137531, 7.300301198917356, 7.210065112844868, 8.13331350531205, 8.03110612932542, 7.643548006360769, 7.266504375031462, 7.501753577757694, 7.541512573722717, 6.950373300628104, 7.738774477884402, 7.4844433853793735, 8.012645042220509, 7.607519647525367, 7.4934801605334265, 7.734377079904193, 7.557266219472591, 7.213682658736977, 7.547447811976948, 7.329817522302872, 7.459006311755968, 7.263064229457455, 7.581737849000647, 6.784900787764672, 6.869641827746646, 7.384177161610656, 7.833663306371815, 7.698522271551098, 7.595650305176133, 7.101359029425204, 7.700799243430674, 7.703071312529821, 7.531545642021146, 7.928086250984133, 7.9990133767218765, 7.200966451124709, 7.700799243430674, 7.424105819137531, 7.130095826313184, 6.888262857999026, 7.886470017593621, 7.369486351252655, 7.295300337718688, 7.850574133248839, 7.5241761957971285, 6.83267685045349, 7.441700574035787, 7.697381940426488, 7.015575904960901, 7.026419888974266, 7.6708083075283895, 7.1843878865911055, 7.5099625544132, 6.907767928522536, 7.749688480107391, 7.281847376696152, 7.630864948210661, 8.0430997675588, 6.888262857999026, 7.78963948106762, 7.009015392843581, 7.4285321333937, 6.965343536782396, 7.24042492017644, 7.832158091782069, 7.371042438300335, 6.578486805914263, 7.6708083075283895, 7.537537102131888, 7.133024263597422, 7.197304838249469, 7.269077124832414, 7.582374231443192, 7.823587777783771, 7.9507665456649095, 7.138856786488519, 7.2986368835411435], 0.006304841218621503]}],\n",
              "                        {\"annotations\": [{\"font\": {\"size\": 16}, \"showarrow\": false, \"text\": \"original data\", \"x\": 0.21875, \"xanchor\": \"center\", \"xref\": \"paper\", \"y\": 1.0, \"yanchor\": \"bottom\", \"yref\": \"paper\"}, {\"font\": {\"size\": 16}, \"showarrow\": false, \"text\": \"Log transformation\", \"x\": 0.78125, \"xanchor\": \"center\", \"xref\": \"paper\", \"y\": 1.0, \"yanchor\": \"bottom\", \"yref\": \"paper\"}, {\"font\": {\"size\": 16}, \"showarrow\": false, \"text\": \"Square root transformation\", \"x\": 0.21875, \"xanchor\": \"center\", \"xref\": \"paper\", \"y\": 0.4375, \"yanchor\": \"bottom\", \"yref\": \"paper\"}, {\"font\": {\"size\": 16}, \"showarrow\": false, \"text\": \"Boxcox transformation\", \"x\": 0.78125, \"xanchor\": \"center\", \"xref\": \"paper\", \"y\": 0.4375, \"yanchor\": \"bottom\", \"yref\": \"paper\"}], \"template\": {\"data\": {\"bar\": [{\"error_x\": {\"color\": \"#2a3f5f\"}, \"error_y\": {\"color\": \"#2a3f5f\"}, \"marker\": {\"line\": {\"color\": \"#E5ECF6\", \"width\": 0.5}}, \"type\": \"bar\"}], \"barpolar\": [{\"marker\": {\"line\": {\"color\": \"#E5ECF6\", \"width\": 0.5}}, \"type\": \"barpolar\"}], \"carpet\": [{\"aaxis\": {\"endlinecolor\": \"#2a3f5f\", \"gridcolor\": \"white\", \"linecolor\": \"white\", \"minorgridcolor\": \"white\", \"startlinecolor\": \"#2a3f5f\"}, \"baxis\": {\"endlinecolor\": \"#2a3f5f\", \"gridcolor\": \"white\", \"linecolor\": \"white\", \"minorgridcolor\": \"white\", \"startlinecolor\": \"#2a3f5f\"}, \"type\": \"carpet\"}], \"choropleth\": [{\"colorbar\": {\"outlinewidth\": 0, \"ticks\": \"\"}, \"type\": \"choropleth\"}], \"contour\": [{\"colorbar\": {\"outlinewidth\": 0, \"ticks\": \"\"}, \"colorscale\": [[0.0, \"#0d0887\"], [0.1111111111111111, \"#46039f\"], [0.2222222222222222, \"#7201a8\"], [0.3333333333333333, \"#9c179e\"], [0.4444444444444444, \"#bd3786\"], [0.5555555555555556, \"#d8576b\"], [0.6666666666666666, \"#ed7953\"], [0.7777777777777778, \"#fb9f3a\"], [0.8888888888888888, \"#fdca26\"], [1.0, \"#f0f921\"]], \"type\": \"contour\"}], \"contourcarpet\": [{\"colorbar\": {\"outlinewidth\": 0, \"ticks\": \"\"}, \"type\": \"contourcarpet\"}], \"heatmap\": [{\"colorbar\": {\"outlinewidth\": 0, \"ticks\": \"\"}, \"colorscale\": [[0.0, \"#0d0887\"], [0.1111111111111111, \"#46039f\"], [0.2222222222222222, \"#7201a8\"], [0.3333333333333333, \"#9c179e\"], [0.4444444444444444, \"#bd3786\"], [0.5555555555555556, \"#d8576b\"], [0.6666666666666666, \"#ed7953\"], [0.7777777777777778, \"#fb9f3a\"], [0.8888888888888888, \"#fdca26\"], [1.0, \"#f0f921\"]], \"type\": \"heatmap\"}], \"heatmapgl\": [{\"colorbar\": {\"outlinewidth\": 0, \"ticks\": \"\"}, \"colorscale\": [[0.0, \"#0d0887\"], [0.1111111111111111, \"#46039f\"], [0.2222222222222222, \"#7201a8\"], [0.3333333333333333, \"#9c179e\"], [0.4444444444444444, \"#bd3786\"], [0.5555555555555556, \"#d8576b\"], [0.6666666666666666, \"#ed7953\"], [0.7777777777777778, \"#fb9f3a\"], [0.8888888888888888, \"#fdca26\"], [1.0, \"#f0f921\"]], \"type\": \"heatmapgl\"}], \"histogram\": [{\"marker\": {\"colorbar\": {\"outlinewidth\": 0, \"ticks\": \"\"}}, \"type\": \"histogram\"}], \"histogram2d\": [{\"colorbar\": {\"outlinewidth\": 0, \"ticks\": \"\"}, \"colorscale\": [[0.0, \"#0d0887\"], [0.1111111111111111, \"#46039f\"], [0.2222222222222222, \"#7201a8\"], [0.3333333333333333, \"#9c179e\"], [0.4444444444444444, \"#bd3786\"], [0.5555555555555556, \"#d8576b\"], [0.6666666666666666, \"#ed7953\"], [0.7777777777777778, \"#fb9f3a\"], [0.8888888888888888, \"#fdca26\"], [1.0, \"#f0f921\"]], \"type\": \"histogram2d\"}], \"histogram2dcontour\": [{\"colorbar\": {\"outlinewidth\": 0, \"ticks\": \"\"}, \"colorscale\": [[0.0, \"#0d0887\"], [0.1111111111111111, \"#46039f\"], [0.2222222222222222, \"#7201a8\"], [0.3333333333333333, \"#9c179e\"], [0.4444444444444444, \"#bd3786\"], [0.5555555555555556, \"#d8576b\"], [0.6666666666666666, \"#ed7953\"], [0.7777777777777778, \"#fb9f3a\"], [0.8888888888888888, \"#fdca26\"], [1.0, \"#f0f921\"]], \"type\": \"histogram2dcontour\"}], \"mesh3d\": [{\"colorbar\": {\"outlinewidth\": 0, \"ticks\": \"\"}, \"type\": \"mesh3d\"}], \"parcoords\": [{\"line\": {\"colorbar\": {\"outlinewidth\": 0, \"ticks\": \"\"}}, \"type\": \"parcoords\"}], \"pie\": [{\"automargin\": true, \"type\": \"pie\"}], \"scatter\": [{\"marker\": {\"colorbar\": {\"outlinewidth\": 0, \"ticks\": \"\"}}, \"type\": \"scatter\"}], \"scatter3d\": [{\"line\": {\"colorbar\": {\"outlinewidth\": 0, \"ticks\": \"\"}}, \"marker\": {\"colorbar\": {\"outlinewidth\": 0, \"ticks\": \"\"}}, \"type\": \"scatter3d\"}], \"scattercarpet\": [{\"marker\": {\"colorbar\": {\"outlinewidth\": 0, \"ticks\": \"\"}}, \"type\": \"scattercarpet\"}], \"scattergeo\": [{\"marker\": {\"colorbar\": {\"outlinewidth\": 0, \"ticks\": \"\"}}, \"type\": \"scattergeo\"}], \"scattergl\": [{\"marker\": {\"colorbar\": {\"outlinewidth\": 0, \"ticks\": \"\"}}, \"type\": \"scattergl\"}], \"scattermapbox\": [{\"marker\": {\"colorbar\": {\"outlinewidth\": 0, \"ticks\": \"\"}}, \"type\": \"scattermapbox\"}], \"scatterpolar\": [{\"marker\": {\"colorbar\": {\"outlinewidth\": 0, \"ticks\": \"\"}}, \"type\": \"scatterpolar\"}], \"scatterpolargl\": [{\"marker\": {\"colorbar\": {\"outlinewidth\": 0, \"ticks\": \"\"}}, \"type\": \"scatterpolargl\"}], \"scatterternary\": [{\"marker\": {\"colorbar\": {\"outlinewidth\": 0, \"ticks\": \"\"}}, \"type\": \"scatterternary\"}], \"surface\": [{\"colorbar\": {\"outlinewidth\": 0, \"ticks\": \"\"}, \"colorscale\": [[0.0, \"#0d0887\"], [0.1111111111111111, \"#46039f\"], [0.2222222222222222, \"#7201a8\"], [0.3333333333333333, \"#9c179e\"], [0.4444444444444444, \"#bd3786\"], [0.5555555555555556, \"#d8576b\"], [0.6666666666666666, \"#ed7953\"], [0.7777777777777778, \"#fb9f3a\"], [0.8888888888888888, \"#fdca26\"], [1.0, \"#f0f921\"]], \"type\": \"surface\"}], \"table\": [{\"cells\": {\"fill\": {\"color\": \"#EBF0F8\"}, \"line\": {\"color\": \"white\"}}, \"header\": {\"fill\": {\"color\": \"#C8D4E3\"}, \"line\": {\"color\": \"white\"}}, \"type\": \"table\"}]}, \"layout\": {\"annotationdefaults\": {\"arrowcolor\": \"#2a3f5f\", \"arrowhead\": 0, \"arrowwidth\": 1}, \"coloraxis\": {\"colorbar\": {\"outlinewidth\": 0, \"ticks\": \"\"}}, \"colorscale\": {\"diverging\": [[0, \"#8e0152\"], [0.1, \"#c51b7d\"], [0.2, \"#de77ae\"], [0.3, \"#f1b6da\"], [0.4, \"#fde0ef\"], [0.5, \"#f7f7f7\"], [0.6, \"#e6f5d0\"], [0.7, \"#b8e186\"], [0.8, \"#7fbc41\"], [0.9, \"#4d9221\"], [1, \"#276419\"]], \"sequential\": [[0.0, \"#0d0887\"], [0.1111111111111111, \"#46039f\"], [0.2222222222222222, \"#7201a8\"], [0.3333333333333333, \"#9c179e\"], [0.4444444444444444, \"#bd3786\"], [0.5555555555555556, \"#d8576b\"], [0.6666666666666666, \"#ed7953\"], [0.7777777777777778, \"#fb9f3a\"], [0.8888888888888888, \"#fdca26\"], [1.0, \"#f0f921\"]], \"sequentialminus\": [[0.0, \"#0d0887\"], [0.1111111111111111, \"#46039f\"], [0.2222222222222222, \"#7201a8\"], [0.3333333333333333, \"#9c179e\"], [0.4444444444444444, \"#bd3786\"], [0.5555555555555556, \"#d8576b\"], [0.6666666666666666, \"#ed7953\"], [0.7777777777777778, \"#fb9f3a\"], [0.8888888888888888, \"#fdca26\"], [1.0, \"#f0f921\"]]}, \"colorway\": [\"#636efa\", \"#EF553B\", \"#00cc96\", \"#ab63fa\", \"#FFA15A\", \"#19d3f3\", \"#FF6692\", \"#B6E880\", \"#FF97FF\", \"#FECB52\"], \"font\": {\"color\": \"#2a3f5f\"}, \"geo\": {\"bgcolor\": \"white\", \"lakecolor\": \"white\", \"landcolor\": \"#E5ECF6\", \"showlakes\": true, \"showland\": true, \"subunitcolor\": \"white\"}, \"hoverlabel\": {\"align\": \"left\"}, \"hovermode\": \"closest\", \"mapbox\": {\"style\": \"light\"}, \"paper_bgcolor\": \"white\", \"plot_bgcolor\": \"#E5ECF6\", \"polar\": {\"angularaxis\": {\"gridcolor\": \"white\", \"linecolor\": \"white\", \"ticks\": \"\"}, \"bgcolor\": \"#E5ECF6\", \"radialaxis\": {\"gridcolor\": \"white\", \"linecolor\": \"white\", \"ticks\": \"\"}}, \"scene\": {\"xaxis\": {\"backgroundcolor\": \"#E5ECF6\", \"gridcolor\": \"white\", \"gridwidth\": 2, \"linecolor\": \"white\", \"showbackground\": true, \"ticks\": \"\", \"zerolinecolor\": \"white\"}, \"yaxis\": {\"backgroundcolor\": \"#E5ECF6\", \"gridcolor\": \"white\", \"gridwidth\": 2, \"linecolor\": \"white\", \"showbackground\": true, \"ticks\": \"\", \"zerolinecolor\": \"white\"}, \"zaxis\": {\"backgroundcolor\": \"#E5ECF6\", \"gridcolor\": \"white\", \"gridwidth\": 2, \"linecolor\": \"white\", \"showbackground\": true, \"ticks\": \"\", \"zerolinecolor\": \"white\"}}, \"shapedefaults\": {\"line\": {\"color\": \"#2a3f5f\"}}, \"ternary\": {\"aaxis\": {\"gridcolor\": \"white\", \"linecolor\": \"white\", \"ticks\": \"\"}, \"baxis\": {\"gridcolor\": \"white\", \"linecolor\": \"white\", \"ticks\": \"\"}, \"bgcolor\": \"#E5ECF6\", \"caxis\": {\"gridcolor\": \"white\", \"linecolor\": \"white\", \"ticks\": \"\"}}, \"title\": {\"x\": 0.05}, \"xaxis\": {\"automargin\": true, \"gridcolor\": \"white\", \"linecolor\": \"white\", \"ticks\": \"\", \"title\": {\"standoff\": 15}, \"zerolinecolor\": \"white\", \"zerolinewidth\": 2}, \"yaxis\": {\"automargin\": true, \"gridcolor\": \"white\", \"linecolor\": \"white\", \"ticks\": \"\", \"title\": {\"standoff\": 15}, \"zerolinecolor\": \"white\", \"zerolinewidth\": 2}}}, \"xaxis\": {\"anchor\": \"y\", \"domain\": [0.0, 0.4375]}, \"xaxis2\": {\"anchor\": \"y2\", \"domain\": [0.5625, 1.0]}, \"xaxis3\": {\"anchor\": \"y3\", \"domain\": [0.0, 0.4375]}, \"xaxis4\": {\"anchor\": \"y4\", \"domain\": [0.5625, 1.0]}, \"yaxis\": {\"anchor\": \"x\", \"domain\": [0.5625, 1.0]}, \"yaxis2\": {\"anchor\": \"x2\", \"domain\": [0.5625, 1.0]}, \"yaxis3\": {\"anchor\": \"x3\", \"domain\": [0.0, 0.4375]}, \"yaxis4\": {\"anchor\": \"x4\", \"domain\": [0.0, 0.4375]}},\n",
              "                        {\"responsive\": true}\n",
              "                    ).then(function(){\n",
              "                            \n",
              "var gd = document.getElementById('70ae174f-6017-4eb3-a991-e582cf973c0b');\n",
              "var x = new MutationObserver(function (mutations, observer) {{\n",
              "        var display = window.getComputedStyle(gd).display;\n",
              "        if (!display || display === 'none') {{\n",
              "            console.log([gd, 'removed!']);\n",
              "            Plotly.purge(gd);\n",
              "            observer.disconnect();\n",
              "        }}\n",
              "}});\n",
              "\n",
              "// Listen for the removal of the full notebook cells\n",
              "var notebookContainer = gd.closest('#notebook-container');\n",
              "if (notebookContainer) {{\n",
              "    x.observe(notebookContainer, {childList: true});\n",
              "}}\n",
              "\n",
              "// Listen for the clearing of the current output cell\n",
              "var outputEl = gd.closest('.output');\n",
              "if (outputEl) {{\n",
              "    x.observe(outputEl, {childList: true});\n",
              "}}\n",
              "\n",
              "                        })\n",
              "                };\n",
              "                \n",
              "            </script>\n",
              "        </div>\n",
              "</body>\n",
              "</html>"
            ]
          },
          "metadata": {
            "tags": []
          }
        }
      ]
    },
    {
      "cell_type": "code",
      "metadata": {
        "id": "YJXaSu3zV7rS"
      },
      "source": [
        ""
      ],
      "execution_count": null,
      "outputs": []
    }
  ]
}