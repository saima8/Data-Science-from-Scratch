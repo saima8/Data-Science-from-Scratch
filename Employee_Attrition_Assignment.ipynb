{
  "nbformat": 4,
  "nbformat_minor": 0,
  "metadata": {
    "colab": {
      "name": "Employee Attrition Assignment.ipynb",
      "provenance": [],
      "authorship_tag": "ABX9TyPhjWczQ+PAgkhpjqYle5HO",
      "include_colab_link": true
    },
    "kernelspec": {
      "name": "python3",
      "display_name": "Python 3"
    },
    "language_info": {
      "name": "python"
    }
  },
  "cells": [
    {
      "cell_type": "markdown",
      "metadata": {
        "id": "view-in-github",
        "colab_type": "text"
      },
      "source": [
        "<a href=\"https://colab.research.google.com/github/saima8/Data-Science-from-scratch/blob/main/Employee_Attrition_Assignment.ipynb\" target=\"_parent\"><img src=\"https://colab.research.google.com/assets/colab-badge.svg\" alt=\"Open In Colab\"/></a>"
      ]
    },
    {
      "cell_type": "code",
      "metadata": {
        "id": "ZxjwbeAmWBGF"
      },
      "source": [
        "# import all nedded file\n",
        "import numpy as np # linear algebra\n",
        "import pandas as pd# data analysis and manipulation\n",
        "import os # assign path\n",
        "import matplotlib.pyplot as plt# data visualization \n",
        "import seaborn as sns #data visualization & heatmap creation"
      ],
      "execution_count": 12,
      "outputs": []
    },
    {
      "cell_type": "code",
      "metadata": {
        "id": "kvj6e3yXXH4d"
      },
      "source": [
        "train_data = pd.read_csv('/content/employee_attrition_train.csv')"
      ],
      "execution_count": 13,
      "outputs": []
    },
    {
      "cell_type": "code",
      "metadata": {
        "colab": {
          "base_uri": "https://localhost:8080/",
          "height": 309
        },
        "id": "G_h_MKDwXVfE",
        "outputId": "54d36071-9563-46d0-ab1f-0d3ef21b216b"
      },
      "source": [
        "train_data.head()"
      ],
      "execution_count": 14,
      "outputs": [
        {
          "output_type": "execute_result",
          "data": {
            "text/html": [
              "<div>\n",
              "<style scoped>\n",
              "    .dataframe tbody tr th:only-of-type {\n",
              "        vertical-align: middle;\n",
              "    }\n",
              "\n",
              "    .dataframe tbody tr th {\n",
              "        vertical-align: top;\n",
              "    }\n",
              "\n",
              "    .dataframe thead th {\n",
              "        text-align: right;\n",
              "    }\n",
              "</style>\n",
              "<table border=\"1\" class=\"dataframe\">\n",
              "  <thead>\n",
              "    <tr style=\"text-align: right;\">\n",
              "      <th></th>\n",
              "      <th>Age</th>\n",
              "      <th>Attrition</th>\n",
              "      <th>BusinessTravel</th>\n",
              "      <th>DailyRate</th>\n",
              "      <th>Department</th>\n",
              "      <th>DistanceFromHome</th>\n",
              "      <th>Education</th>\n",
              "      <th>EducationField</th>\n",
              "      <th>EmployeeCount</th>\n",
              "      <th>EmployeeNumber</th>\n",
              "      <th>EnvironmentSatisfaction</th>\n",
              "      <th>Gender</th>\n",
              "      <th>HourlyRate</th>\n",
              "      <th>JobInvolvement</th>\n",
              "      <th>JobLevel</th>\n",
              "      <th>JobRole</th>\n",
              "      <th>JobSatisfaction</th>\n",
              "      <th>MaritalStatus</th>\n",
              "      <th>MonthlyIncome</th>\n",
              "      <th>MonthlyRate</th>\n",
              "      <th>NumCompaniesWorked</th>\n",
              "      <th>Over18</th>\n",
              "      <th>OverTime</th>\n",
              "      <th>PercentSalaryHike</th>\n",
              "      <th>PerformanceRating</th>\n",
              "      <th>RelationshipSatisfaction</th>\n",
              "      <th>StandardHours</th>\n",
              "      <th>StockOptionLevel</th>\n",
              "      <th>TotalWorkingYears</th>\n",
              "      <th>TrainingTimesLastYear</th>\n",
              "      <th>WorkLifeBalance</th>\n",
              "      <th>YearsAtCompany</th>\n",
              "      <th>YearsInCurrentRole</th>\n",
              "      <th>YearsSinceLastPromotion</th>\n",
              "      <th>YearsWithCurrManager</th>\n",
              "    </tr>\n",
              "  </thead>\n",
              "  <tbody>\n",
              "    <tr>\n",
              "      <th>0</th>\n",
              "      <td>50.0</td>\n",
              "      <td>No</td>\n",
              "      <td>Travel_Rarely</td>\n",
              "      <td>1126.0</td>\n",
              "      <td>Research &amp; Development</td>\n",
              "      <td>1.0</td>\n",
              "      <td>2</td>\n",
              "      <td>Medical</td>\n",
              "      <td>1</td>\n",
              "      <td>997</td>\n",
              "      <td>4</td>\n",
              "      <td>Male</td>\n",
              "      <td>66</td>\n",
              "      <td>3</td>\n",
              "      <td>4</td>\n",
              "      <td>Research Director</td>\n",
              "      <td>4</td>\n",
              "      <td>Divorced</td>\n",
              "      <td>17399</td>\n",
              "      <td>6615</td>\n",
              "      <td>9</td>\n",
              "      <td>Y</td>\n",
              "      <td>No</td>\n",
              "      <td>22</td>\n",
              "      <td>4</td>\n",
              "      <td>3</td>\n",
              "      <td>80</td>\n",
              "      <td>1</td>\n",
              "      <td>32</td>\n",
              "      <td>1</td>\n",
              "      <td>2</td>\n",
              "      <td>5</td>\n",
              "      <td>4</td>\n",
              "      <td>1</td>\n",
              "      <td>3</td>\n",
              "    </tr>\n",
              "    <tr>\n",
              "      <th>1</th>\n",
              "      <td>36.0</td>\n",
              "      <td>No</td>\n",
              "      <td>Travel_Rarely</td>\n",
              "      <td>216.0</td>\n",
              "      <td>Research &amp; Development</td>\n",
              "      <td>6.0</td>\n",
              "      <td>2</td>\n",
              "      <td>Medical</td>\n",
              "      <td>1</td>\n",
              "      <td>178</td>\n",
              "      <td>2</td>\n",
              "      <td>Male</td>\n",
              "      <td>84</td>\n",
              "      <td>3</td>\n",
              "      <td>2</td>\n",
              "      <td>Manufacturing Director</td>\n",
              "      <td>2</td>\n",
              "      <td>Divorced</td>\n",
              "      <td>4941</td>\n",
              "      <td>2819</td>\n",
              "      <td>6</td>\n",
              "      <td>Y</td>\n",
              "      <td>No</td>\n",
              "      <td>20</td>\n",
              "      <td>4</td>\n",
              "      <td>4</td>\n",
              "      <td>80</td>\n",
              "      <td>2</td>\n",
              "      <td>7</td>\n",
              "      <td>0</td>\n",
              "      <td>3</td>\n",
              "      <td>3</td>\n",
              "      <td>2</td>\n",
              "      <td>0</td>\n",
              "      <td>1</td>\n",
              "    </tr>\n",
              "    <tr>\n",
              "      <th>2</th>\n",
              "      <td>21.0</td>\n",
              "      <td>Yes</td>\n",
              "      <td>Travel_Rarely</td>\n",
              "      <td>337.0</td>\n",
              "      <td>Sales</td>\n",
              "      <td>7.0</td>\n",
              "      <td>1</td>\n",
              "      <td>Marketing</td>\n",
              "      <td>1</td>\n",
              "      <td>1780</td>\n",
              "      <td>2</td>\n",
              "      <td>Male</td>\n",
              "      <td>31</td>\n",
              "      <td>3</td>\n",
              "      <td>1</td>\n",
              "      <td>Sales Representative</td>\n",
              "      <td>2</td>\n",
              "      <td>Single</td>\n",
              "      <td>2679</td>\n",
              "      <td>4567</td>\n",
              "      <td>1</td>\n",
              "      <td>Y</td>\n",
              "      <td>No</td>\n",
              "      <td>13</td>\n",
              "      <td>3</td>\n",
              "      <td>2</td>\n",
              "      <td>80</td>\n",
              "      <td>0</td>\n",
              "      <td>1</td>\n",
              "      <td>3</td>\n",
              "      <td>3</td>\n",
              "      <td>1</td>\n",
              "      <td>0</td>\n",
              "      <td>1</td>\n",
              "      <td>0</td>\n",
              "    </tr>\n",
              "    <tr>\n",
              "      <th>3</th>\n",
              "      <td>50.0</td>\n",
              "      <td>No</td>\n",
              "      <td>Travel_Frequently</td>\n",
              "      <td>1246.0</td>\n",
              "      <td>Human Resources</td>\n",
              "      <td>NaN</td>\n",
              "      <td>3</td>\n",
              "      <td>Medical</td>\n",
              "      <td>1</td>\n",
              "      <td>644</td>\n",
              "      <td>1</td>\n",
              "      <td>Male</td>\n",
              "      <td>99</td>\n",
              "      <td>3</td>\n",
              "      <td>5</td>\n",
              "      <td>Manager</td>\n",
              "      <td>2</td>\n",
              "      <td>Married</td>\n",
              "      <td>18200</td>\n",
              "      <td>7999</td>\n",
              "      <td>1</td>\n",
              "      <td>Y</td>\n",
              "      <td>No</td>\n",
              "      <td>11</td>\n",
              "      <td>3</td>\n",
              "      <td>3</td>\n",
              "      <td>80</td>\n",
              "      <td>1</td>\n",
              "      <td>32</td>\n",
              "      <td>2</td>\n",
              "      <td>3</td>\n",
              "      <td>32</td>\n",
              "      <td>5</td>\n",
              "      <td>10</td>\n",
              "      <td>7</td>\n",
              "    </tr>\n",
              "    <tr>\n",
              "      <th>4</th>\n",
              "      <td>52.0</td>\n",
              "      <td>No</td>\n",
              "      <td>Travel_Rarely</td>\n",
              "      <td>994.0</td>\n",
              "      <td>Research &amp; Development</td>\n",
              "      <td>7.0</td>\n",
              "      <td>4</td>\n",
              "      <td>Life Sciences</td>\n",
              "      <td>1</td>\n",
              "      <td>1118</td>\n",
              "      <td>2</td>\n",
              "      <td>Male</td>\n",
              "      <td>87</td>\n",
              "      <td>3</td>\n",
              "      <td>3</td>\n",
              "      <td>Healthcare Representative</td>\n",
              "      <td>2</td>\n",
              "      <td>Single</td>\n",
              "      <td>10445</td>\n",
              "      <td>15322</td>\n",
              "      <td>7</td>\n",
              "      <td>Y</td>\n",
              "      <td>No</td>\n",
              "      <td>19</td>\n",
              "      <td>3</td>\n",
              "      <td>4</td>\n",
              "      <td>80</td>\n",
              "      <td>0</td>\n",
              "      <td>18</td>\n",
              "      <td>4</td>\n",
              "      <td>3</td>\n",
              "      <td>8</td>\n",
              "      <td>6</td>\n",
              "      <td>4</td>\n",
              "      <td>0</td>\n",
              "    </tr>\n",
              "  </tbody>\n",
              "</table>\n",
              "</div>"
            ],
            "text/plain": [
              "    Age Attrition  ... YearsSinceLastPromotion  YearsWithCurrManager\n",
              "0  50.0        No  ...                       1                     3\n",
              "1  36.0        No  ...                       0                     1\n",
              "2  21.0       Yes  ...                       1                     0\n",
              "3  50.0        No  ...                      10                     7\n",
              "4  52.0        No  ...                       4                     0\n",
              "\n",
              "[5 rows x 35 columns]"
            ]
          },
          "metadata": {
            "tags": []
          },
          "execution_count": 14
        }
      ]
    },
    {
      "cell_type": "code",
      "metadata": {
        "colab": {
          "base_uri": "https://localhost:8080/"
        },
        "id": "RaSNKi8pYd1b",
        "outputId": "8b25099d-f29e-4f7a-b059-ef9f91343eb2"
      },
      "source": [
        "# find duplicate value\n",
        "train_data.duplicated().sum()"
      ],
      "execution_count": 23,
      "outputs": [
        {
          "output_type": "execute_result",
          "data": {
            "text/plain": [
              "0"
            ]
          },
          "metadata": {
            "tags": []
          },
          "execution_count": 23
        }
      ]
    },
    {
      "cell_type": "code",
      "metadata": {
        "colab": {
          "base_uri": "https://localhost:8080/"
        },
        "id": "HwKF_AGiZKxG",
        "outputId": "ce19c33c-851f-48ef-9c8e-4be115cc4edd"
      },
      "source": [
        "train_data.shape"
      ],
      "execution_count": 24,
      "outputs": [
        {
          "output_type": "execute_result",
          "data": {
            "text/plain": [
              "(1029, 35)"
            ]
          },
          "metadata": {
            "tags": []
          },
          "execution_count": 24
        }
      ]
    },
    {
      "cell_type": "code",
      "metadata": {
        "colab": {
          "base_uri": "https://localhost:8080/"
        },
        "id": "iLAuLvHuZS77",
        "outputId": "24d1cbcb-6f1f-45b8-d18f-64c30e065c22"
      },
      "source": [
        "train_data.dtypes.value_counts()"
      ],
      "execution_count": 25,
      "outputs": [
        {
          "output_type": "execute_result",
          "data": {
            "text/plain": [
              "int64      23\n",
              "object      9\n",
              "float64     3\n",
              "dtype: int64"
            ]
          },
          "metadata": {
            "tags": []
          },
          "execution_count": 25
        }
      ]
    },
    {
      "cell_type": "code",
      "metadata": {
        "colab": {
          "base_uri": "https://localhost:8080/"
        },
        "id": "VqIBaT7lZeZZ",
        "outputId": "4490cae9-d96e-4e10-e1a7-1f9f20c72a52"
      },
      "source": [
        "train_data['Attrition'].value_counts()"
      ],
      "execution_count": 26,
      "outputs": [
        {
          "output_type": "execute_result",
          "data": {
            "text/plain": [
              "No     853\n",
              "Yes    176\n",
              "Name: Attrition, dtype: int64"
            ]
          },
          "metadata": {
            "tags": []
          },
          "execution_count": 26
        }
      ]
    },
    {
      "cell_type": "code",
      "metadata": {
        "id": "psc-_1nEoKlx"
      },
      "source": [
        "import plotly as py\n",
        "import plotly.express as px\n",
        "import plotly.graph_objects as go"
      ],
      "execution_count": 27,
      "outputs": []
    },
    {
      "cell_type": "code",
      "metadata": {
        "colab": {
          "base_uri": "https://localhost:8080/",
          "height": 367
        },
        "id": "RE_EwmrCZzgX",
        "outputId": "053c5afb-f103-4fa9-a421-964bc15d8159"
      },
      "source": [
        "fig = go.Figure()\n",
        "fig.add_trace(go.Pie(labels=train_data['Attrition'], values=train_data['Attrition'].value_counts()))\n",
        "fig.update_layout(autosize=False, width=400, height=350)\n",
        "fig.show()"
      ],
      "execution_count": 28,
      "outputs": [
        {
          "output_type": "display_data",
          "data": {
            "text/html": [
              "<html>\n",
              "<head><meta charset=\"utf-8\" /></head>\n",
              "<body>\n",
              "    <div>\n",
              "            <script src=\"https://cdnjs.cloudflare.com/ajax/libs/mathjax/2.7.5/MathJax.js?config=TeX-AMS-MML_SVG\"></script><script type=\"text/javascript\">if (window.MathJax) {MathJax.Hub.Config({SVG: {font: \"STIX-Web\"}});}</script>\n",
              "                <script type=\"text/javascript\">window.PlotlyConfig = {MathJaxConfig: 'local'};</script>\n",
              "        <script src=\"https://cdn.plot.ly/plotly-latest.min.js\"></script>    \n",
              "            <div id=\"0611a6b9-e57c-4a00-9d91-3be1e41f929b\" class=\"plotly-graph-div\" style=\"height:350px; width:400px;\"></div>\n",
              "            <script type=\"text/javascript\">\n",
              "                \n",
              "                    window.PLOTLYENV=window.PLOTLYENV || {};\n",
              "                    \n",
              "                if (document.getElementById(\"0611a6b9-e57c-4a00-9d91-3be1e41f929b\")) {\n",
              "                    Plotly.newPlot(\n",
              "                        '0611a6b9-e57c-4a00-9d91-3be1e41f929b',\n",
              "                        [{\"labels\": [\"No\", \"No\", \"Yes\", \"No\", \"No\", \"Yes\", \"No\", \"No\", \"Yes\", \"No\", \"No\", \"No\", \"No\", \"No\", \"Yes\", \"Yes\", \"No\", \"No\", \"No\", \"No\", \"No\", \"No\", \"No\", \"No\", \"No\", \"No\", \"No\", \"No\", \"No\", \"Yes\", \"No\", \"No\", \"Yes\", \"Yes\", \"No\", \"No\", \"No\", \"No\", \"Yes\", \"No\", \"No\", \"No\", \"No\", \"No\", \"No\", \"Yes\", \"No\", \"No\", \"No\", \"No\", \"No\", \"No\", \"No\", \"No\", \"No\", \"No\", \"No\", \"No\", \"No\", \"No\", \"No\", \"No\", \"Yes\", \"No\", \"No\", \"No\", \"No\", \"No\", \"Yes\", \"No\", \"No\", \"No\", \"No\", \"No\", \"No\", \"No\", \"No\", \"Yes\", \"No\", \"No\", \"No\", \"No\", \"No\", \"Yes\", \"No\", \"No\", \"No\", \"No\", \"No\", \"No\", \"No\", \"No\", \"No\", \"No\", \"No\", \"No\", \"No\", \"No\", \"No\", \"Yes\", \"No\", \"No\", \"No\", \"No\", \"No\", \"Yes\", \"No\", \"No\", \"No\", \"No\", \"Yes\", \"No\", \"No\", \"No\", \"No\", \"No\", \"No\", \"No\", \"No\", \"No\", \"No\", \"No\", \"No\", \"No\", \"No\", \"No\", \"No\", \"No\", \"No\", \"No\", \"No\", \"Yes\", \"No\", \"No\", \"No\", \"Yes\", \"No\", \"No\", \"No\", \"No\", \"Yes\", \"No\", \"No\", \"No\", \"No\", \"No\", \"No\", \"No\", \"No\", \"No\", \"No\", \"No\", \"No\", \"Yes\", \"No\", \"No\", \"No\", \"No\", \"No\", \"No\", \"Yes\", \"No\", \"No\", \"Yes\", \"No\", \"No\", \"No\", \"No\", \"No\", \"No\", \"Yes\", \"No\", \"No\", \"No\", \"No\", \"No\", \"No\", \"No\", \"Yes\", \"No\", \"No\", \"No\", \"No\", \"No\", \"No\", \"Yes\", \"No\", \"No\", \"Yes\", \"No\", \"No\", \"No\", \"No\", \"No\", \"No\", \"Yes\", \"No\", \"No\", \"No\", \"No\", \"No\", \"No\", \"No\", \"No\", \"Yes\", \"No\", \"No\", \"No\", \"No\", \"No\", \"No\", \"No\", \"No\", \"No\", \"No\", \"No\", \"No\", \"No\", \"Yes\", \"No\", \"No\", \"No\", \"No\", \"No\", \"Yes\", \"No\", \"No\", \"No\", \"Yes\", \"No\", \"No\", \"No\", \"No\", \"No\", \"No\", \"Yes\", \"No\", \"No\", \"No\", \"No\", \"No\", \"No\", \"No\", \"Yes\", \"No\", \"No\", \"Yes\", \"No\", \"Yes\", \"No\", \"No\", \"No\", \"Yes\", \"Yes\", \"No\", \"No\", \"No\", \"No\", \"No\", \"No\", \"No\", \"No\", \"No\", \"Yes\", \"Yes\", \"No\", \"No\", \"No\", \"No\", \"No\", \"No\", \"No\", \"No\", \"No\", \"No\", \"Yes\", \"No\", \"No\", \"Yes\", \"No\", \"No\", \"No\", \"Yes\", \"No\", \"No\", \"No\", \"No\", \"No\", \"No\", \"No\", \"No\", \"No\", \"No\", \"No\", \"Yes\", \"No\", \"No\", \"No\", \"Yes\", \"No\", \"No\", \"No\", \"No\", \"Yes\", \"No\", \"Yes\", \"No\", \"No\", \"No\", \"No\", \"No\", \"Yes\", \"No\", \"No\", \"No\", \"No\", \"Yes\", \"No\", \"No\", \"No\", \"No\", \"No\", \"No\", \"No\", \"No\", \"No\", \"No\", \"No\", \"No\", \"No\", \"No\", \"No\", \"No\", \"No\", \"No\", \"No\", \"No\", \"No\", \"No\", \"No\", \"Yes\", \"No\", \"No\", \"No\", \"No\", \"No\", \"No\", \"No\", \"No\", \"No\", \"No\", \"Yes\", \"No\", \"No\", \"No\", \"Yes\", \"No\", \"No\", \"Yes\", \"No\", \"No\", \"Yes\", \"No\", \"Yes\", \"No\", \"No\", \"No\", \"No\", \"Yes\", \"No\", \"No\", \"No\", \"No\", \"Yes\", \"No\", \"Yes\", \"No\", \"No\", \"No\", \"No\", \"No\", \"No\", \"No\", \"No\", \"No\", \"Yes\", \"No\", \"No\", \"Yes\", \"No\", \"No\", \"No\", \"No\", \"Yes\", \"No\", \"No\", \"No\", \"Yes\", \"No\", \"No\", \"No\", \"No\", \"No\", \"No\", \"No\", \"No\", \"No\", \"No\", \"No\", \"No\", \"No\", \"No\", \"No\", \"No\", \"No\", \"No\", \"No\", \"No\", \"Yes\", \"No\", \"No\", \"No\", \"Yes\", \"No\", \"Yes\", \"No\", \"No\", \"Yes\", \"No\", \"No\", \"Yes\", \"Yes\", \"Yes\", \"No\", \"No\", \"No\", \"Yes\", \"No\", \"Yes\", \"No\", \"No\", \"No\", \"No\", \"No\", \"No\", \"No\", \"Yes\", \"No\", \"Yes\", \"No\", \"No\", \"No\", \"Yes\", \"No\", \"No\", \"No\", \"No\", \"No\", \"No\", \"No\", \"Yes\", \"No\", \"No\", \"Yes\", \"No\", \"No\", \"No\", \"No\", \"Yes\", \"No\", \"Yes\", \"No\", \"No\", \"No\", \"No\", \"No\", \"No\", \"No\", \"No\", \"No\", \"No\", \"No\", \"No\", \"No\", \"No\", \"Yes\", \"Yes\", \"Yes\", \"Yes\", \"No\", \"Yes\", \"No\", \"No\", \"No\", \"No\", \"No\", \"No\", \"No\", \"No\", \"No\", \"Yes\", \"No\", \"Yes\", \"No\", \"No\", \"No\", \"No\", \"Yes\", \"Yes\", \"No\", \"No\", \"No\", \"No\", \"No\", \"Yes\", \"No\", \"No\", \"No\", \"No\", \"No\", \"No\", \"No\", \"No\", \"Yes\", \"No\", \"No\", \"No\", \"No\", \"No\", \"No\", \"No\", \"No\", \"No\", \"No\", \"No\", \"No\", \"No\", \"Yes\", \"No\", \"No\", \"No\", \"Yes\", \"No\", \"No\", \"Yes\", \"No\", \"No\", \"No\", \"Yes\", \"Yes\", \"Yes\", \"No\", \"No\", \"Yes\", \"No\", \"No\", \"No\", \"Yes\", \"No\", \"Yes\", \"No\", \"No\", \"No\", \"No\", \"No\", \"No\", \"No\", \"No\", \"No\", \"No\", \"No\", \"No\", \"No\", \"No\", \"Yes\", \"No\", \"No\", \"No\", \"No\", \"No\", \"No\", \"No\", \"No\", \"No\", \"No\", \"No\", \"No\", \"Yes\", \"No\", \"Yes\", \"No\", \"No\", \"No\", \"No\", \"No\", \"No\", \"No\", \"Yes\", \"No\", \"Yes\", \"No\", \"No\", \"No\", \"No\", \"No\", \"No\", \"No\", \"Yes\", \"No\", \"No\", \"No\", \"Yes\", \"Yes\", \"No\", \"No\", \"No\", \"No\", \"Yes\", \"No\", \"No\", \"No\", \"Yes\", \"Yes\", \"No\", \"No\", \"No\", \"No\", \"No\", \"No\", \"No\", \"No\", \"No\", \"No\", \"Yes\", \"No\", \"No\", \"No\", \"No\", \"No\", \"Yes\", \"No\", \"No\", \"No\", \"No\", \"No\", \"No\", \"No\", \"No\", \"No\", \"No\", \"Yes\", \"No\", \"No\", \"No\", \"No\", \"No\", \"No\", \"No\", \"No\", \"No\", \"No\", \"No\", \"No\", \"No\", \"No\", \"No\", \"No\", \"No\", \"No\", \"Yes\", \"No\", \"Yes\", \"No\", \"Yes\", \"No\", \"No\", \"No\", \"No\", \"No\", \"Yes\", \"No\", \"No\", \"No\", \"No\", \"No\", \"No\", \"No\", \"No\", \"No\", \"No\", \"No\", \"No\", \"No\", \"No\", \"No\", \"No\", \"No\", \"No\", \"No\", \"No\", \"No\", \"No\", \"No\", \"No\", \"No\", \"No\", \"No\", \"No\", \"No\", \"No\", \"No\", \"No\", \"No\", \"Yes\", \"No\", \"Yes\", \"No\", \"No\", \"No\", \"No\", \"No\", \"No\", \"No\", \"No\", \"No\", \"No\", \"No\", \"No\", \"No\", \"No\", \"No\", \"No\", \"No\", \"No\", \"No\", \"No\", \"No\", \"Yes\", \"No\", \"No\", \"No\", \"No\", \"No\", \"Yes\", \"No\", \"Yes\", \"No\", \"No\", \"Yes\", \"No\", \"Yes\", \"No\", \"Yes\", \"No\", \"No\", \"No\", \"No\", \"No\", \"No\", \"No\", \"No\", \"No\", \"Yes\", \"No\", \"No\", \"Yes\", \"No\", \"No\", \"No\", \"Yes\", \"No\", \"No\", \"No\", \"No\", \"No\", \"No\", \"No\", \"No\", \"No\", \"No\", \"No\", \"No\", \"No\", \"No\", \"No\", \"No\", \"No\", \"No\", \"No\", \"Yes\", \"No\", \"No\", \"No\", \"No\", \"No\", \"No\", \"No\", \"No\", \"No\", \"No\", \"No\", \"No\", \"No\", \"No\", \"No\", \"No\", \"Yes\", \"No\", \"No\", \"Yes\", \"No\", \"No\", \"No\", \"No\", \"No\", \"Yes\", \"No\", \"No\", \"No\", \"Yes\", \"No\", \"No\", \"Yes\", \"No\", \"No\", \"No\", \"Yes\", \"Yes\", \"No\", \"Yes\", \"No\", \"No\", \"No\", \"No\", \"Yes\", \"No\", \"Yes\", \"No\", \"No\", \"No\", \"No\", \"No\", \"No\", \"No\", \"No\", \"No\", \"No\", \"Yes\", \"Yes\", \"No\", \"Yes\", \"No\", \"Yes\", \"No\", \"Yes\", \"No\", \"Yes\", \"No\", \"Yes\", \"No\", \"No\", \"No\", \"No\", \"No\", \"No\", \"No\", \"No\", \"No\", \"Yes\", \"Yes\", \"No\", \"No\", \"No\", \"No\", \"No\", \"No\", \"No\", \"No\", \"Yes\", \"No\", \"Yes\", \"No\", \"No\", \"No\", \"No\", \"No\", \"No\", \"No\", \"No\", \"No\", \"No\", \"No\", \"No\", \"No\", \"No\", \"No\", \"No\", \"No\", \"No\", \"No\", \"No\", \"No\", \"No\", \"Yes\", \"Yes\", \"No\", \"No\", \"No\", \"No\", \"No\", \"Yes\", \"No\", \"Yes\", \"No\", \"No\", \"No\", \"No\", \"No\", \"No\", \"Yes\", \"Yes\", \"No\", \"No\", \"No\", \"Yes\", \"No\", \"No\", \"No\", \"No\", \"No\", \"No\", \"Yes\", \"No\", \"No\", \"No\", \"No\", \"No\", \"No\", \"Yes\", \"Yes\", \"No\", \"No\", \"No\", \"No\", \"No\", \"Yes\", \"No\", \"No\", \"No\", \"No\", \"No\", \"No\", \"No\", \"No\", \"No\", \"No\", \"No\", \"No\", \"No\", \"Yes\", \"No\", \"No\", \"Yes\", \"Yes\", \"No\", \"No\", \"No\", \"Yes\", \"No\", \"No\", \"No\", \"No\", \"Yes\", \"Yes\", \"No\", \"No\", \"No\", \"No\", \"No\", \"Yes\", \"No\", \"No\", \"No\", \"No\", \"No\", \"Yes\", \"No\", \"Yes\", \"No\", \"No\", \"No\", \"No\", \"Yes\", \"No\", \"No\", \"No\", \"No\", \"No\", \"No\", \"No\", \"Yes\", \"No\", \"No\", \"No\", \"No\", \"No\", \"No\", \"Yes\", \"No\", \"No\", \"No\", \"No\", \"Yes\", \"No\", \"Yes\", \"No\", \"Yes\", \"No\", \"No\", \"No\", \"No\", \"No\", \"No\", \"No\", \"No\", \"No\", \"Yes\", \"No\", \"No\"], \"type\": \"pie\", \"values\": [853, 176]}],\n",
              "                        {\"autosize\": false, \"height\": 350, \"template\": {\"data\": {\"bar\": [{\"error_x\": {\"color\": \"#2a3f5f\"}, \"error_y\": {\"color\": \"#2a3f5f\"}, \"marker\": {\"line\": {\"color\": \"#E5ECF6\", \"width\": 0.5}}, \"type\": \"bar\"}], \"barpolar\": [{\"marker\": {\"line\": {\"color\": \"#E5ECF6\", \"width\": 0.5}}, \"type\": \"barpolar\"}], \"carpet\": [{\"aaxis\": {\"endlinecolor\": \"#2a3f5f\", \"gridcolor\": \"white\", \"linecolor\": \"white\", \"minorgridcolor\": \"white\", \"startlinecolor\": \"#2a3f5f\"}, \"baxis\": {\"endlinecolor\": \"#2a3f5f\", \"gridcolor\": \"white\", \"linecolor\": \"white\", \"minorgridcolor\": \"white\", \"startlinecolor\": \"#2a3f5f\"}, \"type\": \"carpet\"}], \"choropleth\": [{\"colorbar\": {\"outlinewidth\": 0, \"ticks\": \"\"}, \"type\": \"choropleth\"}], \"contour\": [{\"colorbar\": {\"outlinewidth\": 0, \"ticks\": \"\"}, \"colorscale\": [[0.0, \"#0d0887\"], [0.1111111111111111, \"#46039f\"], [0.2222222222222222, \"#7201a8\"], [0.3333333333333333, \"#9c179e\"], [0.4444444444444444, \"#bd3786\"], [0.5555555555555556, \"#d8576b\"], [0.6666666666666666, \"#ed7953\"], [0.7777777777777778, \"#fb9f3a\"], [0.8888888888888888, \"#fdca26\"], [1.0, \"#f0f921\"]], \"type\": \"contour\"}], \"contourcarpet\": [{\"colorbar\": {\"outlinewidth\": 0, \"ticks\": \"\"}, \"type\": \"contourcarpet\"}], \"heatmap\": [{\"colorbar\": {\"outlinewidth\": 0, \"ticks\": \"\"}, \"colorscale\": [[0.0, \"#0d0887\"], [0.1111111111111111, \"#46039f\"], [0.2222222222222222, \"#7201a8\"], [0.3333333333333333, \"#9c179e\"], [0.4444444444444444, \"#bd3786\"], [0.5555555555555556, \"#d8576b\"], [0.6666666666666666, \"#ed7953\"], [0.7777777777777778, \"#fb9f3a\"], [0.8888888888888888, \"#fdca26\"], [1.0, \"#f0f921\"]], \"type\": \"heatmap\"}], \"heatmapgl\": [{\"colorbar\": {\"outlinewidth\": 0, \"ticks\": \"\"}, \"colorscale\": [[0.0, \"#0d0887\"], [0.1111111111111111, \"#46039f\"], [0.2222222222222222, \"#7201a8\"], [0.3333333333333333, \"#9c179e\"], [0.4444444444444444, \"#bd3786\"], [0.5555555555555556, \"#d8576b\"], [0.6666666666666666, \"#ed7953\"], [0.7777777777777778, \"#fb9f3a\"], [0.8888888888888888, \"#fdca26\"], [1.0, \"#f0f921\"]], \"type\": \"heatmapgl\"}], \"histogram\": [{\"marker\": {\"colorbar\": {\"outlinewidth\": 0, \"ticks\": \"\"}}, \"type\": \"histogram\"}], \"histogram2d\": [{\"colorbar\": {\"outlinewidth\": 0, \"ticks\": \"\"}, \"colorscale\": [[0.0, \"#0d0887\"], [0.1111111111111111, \"#46039f\"], [0.2222222222222222, \"#7201a8\"], [0.3333333333333333, \"#9c179e\"], [0.4444444444444444, \"#bd3786\"], [0.5555555555555556, \"#d8576b\"], [0.6666666666666666, \"#ed7953\"], [0.7777777777777778, \"#fb9f3a\"], [0.8888888888888888, \"#fdca26\"], [1.0, \"#f0f921\"]], \"type\": \"histogram2d\"}], \"histogram2dcontour\": [{\"colorbar\": {\"outlinewidth\": 0, \"ticks\": \"\"}, \"colorscale\": [[0.0, \"#0d0887\"], [0.1111111111111111, \"#46039f\"], [0.2222222222222222, \"#7201a8\"], [0.3333333333333333, \"#9c179e\"], [0.4444444444444444, \"#bd3786\"], [0.5555555555555556, \"#d8576b\"], [0.6666666666666666, \"#ed7953\"], [0.7777777777777778, \"#fb9f3a\"], [0.8888888888888888, \"#fdca26\"], [1.0, \"#f0f921\"]], \"type\": \"histogram2dcontour\"}], \"mesh3d\": [{\"colorbar\": {\"outlinewidth\": 0, \"ticks\": \"\"}, \"type\": \"mesh3d\"}], \"parcoords\": [{\"line\": {\"colorbar\": {\"outlinewidth\": 0, \"ticks\": \"\"}}, \"type\": \"parcoords\"}], \"pie\": [{\"automargin\": true, \"type\": \"pie\"}], \"scatter\": [{\"marker\": {\"colorbar\": {\"outlinewidth\": 0, \"ticks\": \"\"}}, \"type\": \"scatter\"}], \"scatter3d\": [{\"line\": {\"colorbar\": {\"outlinewidth\": 0, \"ticks\": \"\"}}, \"marker\": {\"colorbar\": {\"outlinewidth\": 0, \"ticks\": \"\"}}, \"type\": \"scatter3d\"}], \"scattercarpet\": [{\"marker\": {\"colorbar\": {\"outlinewidth\": 0, \"ticks\": \"\"}}, \"type\": \"scattercarpet\"}], \"scattergeo\": [{\"marker\": {\"colorbar\": {\"outlinewidth\": 0, \"ticks\": \"\"}}, \"type\": \"scattergeo\"}], \"scattergl\": [{\"marker\": {\"colorbar\": {\"outlinewidth\": 0, \"ticks\": \"\"}}, \"type\": \"scattergl\"}], \"scattermapbox\": [{\"marker\": {\"colorbar\": {\"outlinewidth\": 0, \"ticks\": \"\"}}, \"type\": \"scattermapbox\"}], \"scatterpolar\": [{\"marker\": {\"colorbar\": {\"outlinewidth\": 0, \"ticks\": \"\"}}, \"type\": \"scatterpolar\"}], \"scatterpolargl\": [{\"marker\": {\"colorbar\": {\"outlinewidth\": 0, \"ticks\": \"\"}}, \"type\": \"scatterpolargl\"}], \"scatterternary\": [{\"marker\": {\"colorbar\": {\"outlinewidth\": 0, \"ticks\": \"\"}}, \"type\": \"scatterternary\"}], \"surface\": [{\"colorbar\": {\"outlinewidth\": 0, \"ticks\": \"\"}, \"colorscale\": [[0.0, \"#0d0887\"], [0.1111111111111111, \"#46039f\"], [0.2222222222222222, \"#7201a8\"], [0.3333333333333333, \"#9c179e\"], [0.4444444444444444, \"#bd3786\"], [0.5555555555555556, \"#d8576b\"], [0.6666666666666666, \"#ed7953\"], [0.7777777777777778, \"#fb9f3a\"], [0.8888888888888888, \"#fdca26\"], [1.0, \"#f0f921\"]], \"type\": \"surface\"}], \"table\": [{\"cells\": {\"fill\": {\"color\": \"#EBF0F8\"}, \"line\": {\"color\": \"white\"}}, \"header\": {\"fill\": {\"color\": \"#C8D4E3\"}, \"line\": {\"color\": \"white\"}}, \"type\": \"table\"}]}, \"layout\": {\"annotationdefaults\": {\"arrowcolor\": \"#2a3f5f\", \"arrowhead\": 0, \"arrowwidth\": 1}, \"coloraxis\": {\"colorbar\": {\"outlinewidth\": 0, \"ticks\": \"\"}}, \"colorscale\": {\"diverging\": [[0, \"#8e0152\"], [0.1, \"#c51b7d\"], [0.2, \"#de77ae\"], [0.3, \"#f1b6da\"], [0.4, \"#fde0ef\"], [0.5, \"#f7f7f7\"], [0.6, \"#e6f5d0\"], [0.7, \"#b8e186\"], [0.8, \"#7fbc41\"], [0.9, \"#4d9221\"], [1, \"#276419\"]], \"sequential\": [[0.0, \"#0d0887\"], [0.1111111111111111, \"#46039f\"], [0.2222222222222222, \"#7201a8\"], [0.3333333333333333, \"#9c179e\"], [0.4444444444444444, \"#bd3786\"], [0.5555555555555556, \"#d8576b\"], [0.6666666666666666, \"#ed7953\"], [0.7777777777777778, \"#fb9f3a\"], [0.8888888888888888, \"#fdca26\"], [1.0, \"#f0f921\"]], \"sequentialminus\": [[0.0, \"#0d0887\"], [0.1111111111111111, \"#46039f\"], [0.2222222222222222, \"#7201a8\"], [0.3333333333333333, \"#9c179e\"], [0.4444444444444444, \"#bd3786\"], [0.5555555555555556, \"#d8576b\"], [0.6666666666666666, \"#ed7953\"], [0.7777777777777778, \"#fb9f3a\"], [0.8888888888888888, \"#fdca26\"], [1.0, \"#f0f921\"]]}, \"colorway\": [\"#636efa\", \"#EF553B\", \"#00cc96\", \"#ab63fa\", \"#FFA15A\", \"#19d3f3\", \"#FF6692\", \"#B6E880\", \"#FF97FF\", \"#FECB52\"], \"font\": {\"color\": \"#2a3f5f\"}, \"geo\": {\"bgcolor\": \"white\", \"lakecolor\": \"white\", \"landcolor\": \"#E5ECF6\", \"showlakes\": true, \"showland\": true, \"subunitcolor\": \"white\"}, \"hoverlabel\": {\"align\": \"left\"}, \"hovermode\": \"closest\", \"mapbox\": {\"style\": \"light\"}, \"paper_bgcolor\": \"white\", \"plot_bgcolor\": \"#E5ECF6\", \"polar\": {\"angularaxis\": {\"gridcolor\": \"white\", \"linecolor\": \"white\", \"ticks\": \"\"}, \"bgcolor\": \"#E5ECF6\", \"radialaxis\": {\"gridcolor\": \"white\", \"linecolor\": \"white\", \"ticks\": \"\"}}, \"scene\": {\"xaxis\": {\"backgroundcolor\": \"#E5ECF6\", \"gridcolor\": \"white\", \"gridwidth\": 2, \"linecolor\": \"white\", \"showbackground\": true, \"ticks\": \"\", \"zerolinecolor\": \"white\"}, \"yaxis\": {\"backgroundcolor\": \"#E5ECF6\", \"gridcolor\": \"white\", \"gridwidth\": 2, \"linecolor\": \"white\", \"showbackground\": true, \"ticks\": \"\", \"zerolinecolor\": \"white\"}, \"zaxis\": {\"backgroundcolor\": \"#E5ECF6\", \"gridcolor\": \"white\", \"gridwidth\": 2, \"linecolor\": \"white\", \"showbackground\": true, \"ticks\": \"\", \"zerolinecolor\": \"white\"}}, \"shapedefaults\": {\"line\": {\"color\": \"#2a3f5f\"}}, \"ternary\": {\"aaxis\": {\"gridcolor\": \"white\", \"linecolor\": \"white\", \"ticks\": \"\"}, \"baxis\": {\"gridcolor\": \"white\", \"linecolor\": \"white\", \"ticks\": \"\"}, \"bgcolor\": \"#E5ECF6\", \"caxis\": {\"gridcolor\": \"white\", \"linecolor\": \"white\", \"ticks\": \"\"}}, \"title\": {\"x\": 0.05}, \"xaxis\": {\"automargin\": true, \"gridcolor\": \"white\", \"linecolor\": \"white\", \"ticks\": \"\", \"title\": {\"standoff\": 15}, \"zerolinecolor\": \"white\", \"zerolinewidth\": 2}, \"yaxis\": {\"automargin\": true, \"gridcolor\": \"white\", \"linecolor\": \"white\", \"ticks\": \"\", \"title\": {\"standoff\": 15}, \"zerolinecolor\": \"white\", \"zerolinewidth\": 2}}}, \"width\": 400},\n",
              "                        {\"responsive\": true}\n",
              "                    ).then(function(){\n",
              "                            \n",
              "var gd = document.getElementById('0611a6b9-e57c-4a00-9d91-3be1e41f929b');\n",
              "var x = new MutationObserver(function (mutations, observer) {{\n",
              "        var display = window.getComputedStyle(gd).display;\n",
              "        if (!display || display === 'none') {{\n",
              "            console.log([gd, 'removed!']);\n",
              "            Plotly.purge(gd);\n",
              "            observer.disconnect();\n",
              "        }}\n",
              "}});\n",
              "\n",
              "// Listen for the removal of the full notebook cells\n",
              "var notebookContainer = gd.closest('#notebook-container');\n",
              "if (notebookContainer) {{\n",
              "    x.observe(notebookContainer, {childList: true});\n",
              "}}\n",
              "\n",
              "// Listen for the clearing of the current output cell\n",
              "var outputEl = gd.closest('.output');\n",
              "if (outputEl) {{\n",
              "    x.observe(outputEl, {childList: true});\n",
              "}}\n",
              "\n",
              "                        })\n",
              "                };\n",
              "                \n",
              "            </script>\n",
              "        </div>\n",
              "</body>\n",
              "</html>"
            ]
          },
          "metadata": {
            "tags": []
          }
        }
      ]
    },
    {
      "cell_type": "code",
      "metadata": {
        "colab": {
          "base_uri": "https://localhost:8080/"
        },
        "id": "5xMQiKYDZ6Qe",
        "outputId": "8e19db54-6f9c-4ace-c8e2-e283782f2e98"
      },
      "source": [
        "train_data.isnull().sum().sum()"
      ],
      "execution_count": 29,
      "outputs": [
        {
          "output_type": "execute_result",
          "data": {
            "text/plain": [
              "268"
            ]
          },
          "metadata": {
            "tags": []
          },
          "execution_count": 29
        }
      ]
    },
    {
      "cell_type": "code",
      "metadata": {
        "colab": {
          "base_uri": "https://localhost:8080/",
          "height": 656
        },
        "id": "XBH5W-1Pov6N",
        "outputId": "6ac1acfd-6018-465f-d200-2fd211dbd9e3"
      },
      "source": [
        "plt.figure(figsize=(13,9))\n",
        "sns.heatmap(train_data.corr(),vmax=0.8,linewidth=0.1,cmap='coolwarm')\n",
        "plt.show()"
      ],
      "execution_count": 30,
      "outputs": [
        {
          "output_type": "display_data",
          "data": {
            "image/png": "[encoded data removed]",
            "text/plain": [
              "<Figure size 936x648 with 2 Axes>"
            ]
          },
          "metadata": {
            "tags": [],
            "needs_background": "light"
          }
        }
      ]
    },
    {
      "cell_type": "code",
      "metadata": {
        "colab": {
          "base_uri": "https://localhost:8080/"
        },
        "id": "-VMoxstUo4Wa",
        "outputId": "e3f160c3-93be-4af2-b4e6-985582c1dacb"
      },
      "source": [
        "categorical_features = train_data.select_dtypes(include=[np.object]).columns\n",
        "print(\"total categorical_features\",len(categorical_features))"
      ],
      "execution_count": 31,
      "outputs": [
        {
          "output_type": "stream",
          "text": [
            "total categorical_features 9\n"
          ],
          "name": "stdout"
        }
      ]
    },
    {
      "cell_type": "code",
      "metadata": {
        "colab": {
          "base_uri": "https://localhost:8080/",
          "height": 272
        },
        "id": "WAQXIv7wpDTK",
        "outputId": "5011f6a0-8026-4a54-ea09-f5eede030b6b"
      },
      "source": [
        "train_data[categorical_features].head()"
      ],
      "execution_count": 32,
      "outputs": [
        {
          "output_type": "execute_result",
          "data": {
            "text/html": [
              "<div>\n",
              "<style scoped>\n",
              "    .dataframe tbody tr th:only-of-type {\n",
              "        vertical-align: middle;\n",
              "    }\n",
              "\n",
              "    .dataframe tbody tr th {\n",
              "        vertical-align: top;\n",
              "    }\n",
              "\n",
              "    .dataframe thead th {\n",
              "        text-align: right;\n",
              "    }\n",
              "</style>\n",
              "<table border=\"1\" class=\"dataframe\">\n",
              "  <thead>\n",
              "    <tr style=\"text-align: right;\">\n",
              "      <th></th>\n",
              "      <th>Attrition</th>\n",
              "      <th>BusinessTravel</th>\n",
              "      <th>Department</th>\n",
              "      <th>EducationField</th>\n",
              "      <th>Gender</th>\n",
              "      <th>JobRole</th>\n",
              "      <th>MaritalStatus</th>\n",
              "      <th>Over18</th>\n",
              "      <th>OverTime</th>\n",
              "    </tr>\n",
              "  </thead>\n",
              "  <tbody>\n",
              "    <tr>\n",
              "      <th>0</th>\n",
              "      <td>No</td>\n",
              "      <td>Travel_Rarely</td>\n",
              "      <td>Research &amp; Development</td>\n",
              "      <td>Medical</td>\n",
              "      <td>Male</td>\n",
              "      <td>Research Director</td>\n",
              "      <td>Divorced</td>\n",
              "      <td>Y</td>\n",
              "      <td>No</td>\n",
              "    </tr>\n",
              "    <tr>\n",
              "      <th>1</th>\n",
              "      <td>No</td>\n",
              "      <td>Travel_Rarely</td>\n",
              "      <td>Research &amp; Development</td>\n",
              "      <td>Medical</td>\n",
              "      <td>Male</td>\n",
              "      <td>Manufacturing Director</td>\n",
              "      <td>Divorced</td>\n",
              "      <td>Y</td>\n",
              "      <td>No</td>\n",
              "    </tr>\n",
              "    <tr>\n",
              "      <th>2</th>\n",
              "      <td>Yes</td>\n",
              "      <td>Travel_Rarely</td>\n",
              "      <td>Sales</td>\n",
              "      <td>Marketing</td>\n",
              "      <td>Male</td>\n",
              "      <td>Sales Representative</td>\n",
              "      <td>Single</td>\n",
              "      <td>Y</td>\n",
              "      <td>No</td>\n",
              "    </tr>\n",
              "    <tr>\n",
              "      <th>3</th>\n",
              "      <td>No</td>\n",
              "      <td>Travel_Frequently</td>\n",
              "      <td>Human Resources</td>\n",
              "      <td>Medical</td>\n",
              "      <td>Male</td>\n",
              "      <td>Manager</td>\n",
              "      <td>Married</td>\n",
              "      <td>Y</td>\n",
              "      <td>No</td>\n",
              "    </tr>\n",
              "    <tr>\n",
              "      <th>4</th>\n",
              "      <td>No</td>\n",
              "      <td>Travel_Rarely</td>\n",
              "      <td>Research &amp; Development</td>\n",
              "      <td>Life Sciences</td>\n",
              "      <td>Male</td>\n",
              "      <td>Healthcare Representative</td>\n",
              "      <td>Single</td>\n",
              "      <td>Y</td>\n",
              "      <td>No</td>\n",
              "    </tr>\n",
              "  </tbody>\n",
              "</table>\n",
              "</div>"
            ],
            "text/plain": [
              "  Attrition     BusinessTravel  ... Over18 OverTime\n",
              "0        No      Travel_Rarely  ...      Y       No\n",
              "1        No      Travel_Rarely  ...      Y       No\n",
              "2       Yes      Travel_Rarely  ...      Y       No\n",
              "3        No  Travel_Frequently  ...      Y       No\n",
              "4        No      Travel_Rarely  ...      Y       No\n",
              "\n",
              "[5 rows x 9 columns]"
            ]
          },
          "metadata": {
            "tags": []
          },
          "execution_count": 32
        }
      ]
    },
    {
      "cell_type": "code",
      "metadata": {
        "colab": {
          "base_uri": "https://localhost:8080/"
        },
        "id": "w8pQ-cbJpHCO",
        "outputId": "9faea01b-aea2-4675-d6b3-da65e3e9e9f7"
      },
      "source": [
        "train_data['BusinessTravel'].value_counts()"
      ],
      "execution_count": 33,
      "outputs": [
        {
          "output_type": "execute_result",
          "data": {
            "text/plain": [
              "Travel_Rarely        723\n",
              "Travel_Frequently    199\n",
              "Non-Travel           102\n",
              "Name: BusinessTravel, dtype: int64"
            ]
          },
          "metadata": {
            "tags": []
          },
          "execution_count": 33
        }
      ]
    },
    {
      "cell_type": "code",
      "metadata": {
        "colab": {
          "base_uri": "https://localhost:8080/",
          "height": 351
        },
        "id": "FbHUL8QSpOad",
        "outputId": "4b4692dc-b9ae-4daa-9dd4-8dcee93d71d7"
      },
      "source": [
        "plt.figure(figsize=(8,5))\n",
        "sns.countplot(x='BusinessTravel',hue='Attrition', data=train_data, palette='plasma')\n",
        "plt.title(\"Attrition wrt BusinessTravel\")\n",
        "plt.show()"
      ],
      "execution_count": 34,
      "outputs": [
        {
          "output_type": "display_data",
          "data": {
            "image/png": "[encoded data removed]",
            "text/plain": [
              "<Figure size 576x360 with 1 Axes>"
            ]
          },
          "metadata": {
            "tags": [],
            "needs_background": "light"
          }
        }
      ]
    },
    {
      "cell_type": "code",
      "metadata": {
        "colab": {
          "base_uri": "https://localhost:8080/",
          "height": 407
        },
        "id": "rRwhHL3upVRK",
        "outputId": "0600c030-cd61-4c93-814b-b8b3314185a6"
      },
      "source": [
        "fig = px.histogram(train_data, x='BusinessTravel', color='Attrition', barmode=\"group\",\n",
        "            width=650,height=390)\n",
        "fig.show()"
      ],
      "execution_count": 35,
      "outputs": [
        {
          "output_type": "display_data",
          "data": {
            "text/html": [
              "<html>\n",
              "<head><meta charset=\"utf-8\" /></head>\n",
              "<body>\n",
              "    <div>\n",
              "            <script src=\"https://cdnjs.cloudflare.com/ajax/libs/mathjax/2.7.5/MathJax.js?config=TeX-AMS-MML_SVG\"></script><script type=\"text/javascript\">if (window.MathJax) {MathJax.Hub.Config({SVG: {font: \"STIX-Web\"}});}</script>\n",
              "                <script type=\"text/javascript\">window.PlotlyConfig = {MathJaxConfig: 'local'};</script>\n",
              "        <script src=\"https://cdn.plot.ly/plotly-latest.min.js\"></script>    \n",
              "            <div id=\"18bb2cfb-e2c6-4425-9775-105a58e86b92\" class=\"plotly-graph-div\" style=\"height:390px; width:650px;\"></div>\n",
              "            <script type=\"text/javascript\">\n",
              "                \n",
              "                    window.PLOTLYENV=window.PLOTLYENV || {};\n",
              "                    \n",
              "                if (document.getElementById(\"18bb2cfb-e2c6-4425-9775-105a58e86b92\")) {\n",
              "                    Plotly.newPlot(\n",
              "                        '18bb2cfb-e2c6-4425-9775-105a58e86b92',\n",
              "                        [{\"alignmentgroup\": \"True\", \"bingroup\": \"x\", \"hoverlabel\": {\"namelength\": 0}, \"hovertemplate\": \"Attrition=No<br>BusinessTravel=%{x}<br>count=%{y}\", \"legendgroup\": \"Attrition=No\", \"marker\": {\"color\": \"#636efa\"}, \"name\": \"Attrition=No\", \"offsetgroup\": \"Attrition=No\", \"orientation\": \"v\", \"showlegend\": true, \"type\": \"histogram\", \"x\": [\"Travel_Rarely\", \"Travel_Rarely\", \"Travel_Frequently\", \"Travel_Rarely\", \"Travel_Rarely\", \"Travel_Rarely\", \"Non-Travel\", \"Travel_Rarely\", \"Travel_Frequently\", \"Travel_Rarely\", \"Travel_Frequently\", \"Travel_Rarely\", \"Travel_Rarely\", \"Travel_Rarely\", \"Travel_Rarely\", \"Travel_Rarely\", \"Travel_Rarely\", \"Non-Travel\", \"Travel_Rarely\", \"Travel_Rarely\", \"Travel_Rarely\", \"Travel_Rarely\", \"Travel_Rarely\", \"Travel_Rarely\", \"Travel_Rarely\", \"Travel_Rarely\", \"Travel_Rarely\", \"Travel_Rarely\", \"Travel_Rarely\", \"Travel_Rarely\", \"Travel_Rarely\", \"Travel_Rarely\", \"Travel_Rarely\", \"Travel_Frequently\", \"Travel_Rarely\", \"Travel_Rarely\", \"Travel_Rarely\", \"Travel_Frequently\", \"Travel_Rarely\", \"Travel_Rarely\", \"Non-Travel\", \"Travel_Rarely\", \"Travel_Rarely\", \"Travel_Rarely\", \"Travel_Rarely\", \"Travel_Frequently\", \"Travel_Rarely\", \"Travel_Rarely\", \"Travel_Rarely\", \"Non-Travel\", \"Travel_Rarely\", \"Travel_Frequently\", \"Travel_Rarely\", \"Travel_Rarely\", \"Travel_Rarely\", \"Travel_Rarely\", \"Travel_Frequently\", \"Travel_Rarely\", \"Travel_Frequently\", \"Travel_Rarely\", \"Travel_Rarely\", \"Travel_Rarely\", \"Travel_Rarely\", \"Travel_Rarely\", \"Travel_Rarely\", \"Travel_Rarely\", \"Travel_Frequently\", \"Travel_Rarely\", \"Travel_Rarely\", \"Travel_Rarely\", \"Travel_Rarely\", \"Travel_Rarely\", \"Travel_Frequently\", \"Non-Travel\", \"Travel_Rarely\", \"Travel_Rarely\", \"Travel_Rarely\", \"Travel_Rarely\", \"Travel_Frequently\", \"Travel_Frequently\", \"Travel_Frequently\", \"Travel_Rarely\", \"Travel_Frequently\", \"Travel_Rarely\", \"Travel_Rarely\", \"Travel_Frequently\", \"Non-Travel\", \"Travel_Rarely\", \"Travel_Rarely\", \"Travel_Rarely\", \"Travel_Rarely\", \"Non-Travel\", \"Travel_Rarely\", \"Travel_Rarely\", \"Non-Travel\", \"Travel_Rarely\", \"Travel_Frequently\", \"Travel_Frequently\", \"Travel_Rarely\", \"Travel_Frequently\", \"Non-Travel\", \"Travel_Rarely\", \"Travel_Rarely\", \"Travel_Rarely\", \"Travel_Rarely\", \"Travel_Rarely\", \"Travel_Rarely\", \"Travel_Frequently\", \"Non-Travel\", \"Non-Travel\", \"Travel_Rarely\", \"Travel_Frequently\", \"Travel_Rarely\", \"Travel_Rarely\", \"Travel_Frequently\", \"Travel_Rarely\", \"Travel_Rarely\", \"Travel_Frequently\", \"Travel_Rarely\", \"Travel_Rarely\", \"Travel_Rarely\", \"Travel_Rarely\", \"Travel_Rarely\", \"Travel_Rarely\", \"Travel_Frequently\", \"Travel_Rarely\", \"Travel_Rarely\", \"Non-Travel\", \"Travel_Rarely\", \"Travel_Frequently\", \"Travel_Rarely\", \"Travel_Rarely\", \"Travel_Rarely\", \"Travel_Rarely\", \"Travel_Frequently\", \"Travel_Rarely\", \"Travel_Frequently\", \"Travel_Rarely\", \"Travel_Rarely\", \"Travel_Rarely\", \"Travel_Frequently\", \"Travel_Rarely\", \"Travel_Rarely\", \"Non-Travel\", \"Travel_Frequently\", \"Travel_Rarely\", \"Travel_Rarely\", null, \"Travel_Rarely\", \"Travel_Rarely\", \"Travel_Rarely\", \"Travel_Rarely\", \"Travel_Rarely\", \"Non-Travel\", \"Travel_Rarely\", \"Travel_Rarely\", \"Travel_Rarely\", \"Travel_Frequently\", \"Non-Travel\", \"Travel_Rarely\", \"Travel_Rarely\", \"Travel_Frequently\", \"Travel_Frequently\", \"Travel_Rarely\", \"Travel_Rarely\", \"Travel_Rarely\", \"Travel_Rarely\", \"Non-Travel\", \"Travel_Frequently\", \"Travel_Rarely\", \"Travel_Frequently\", \"Travel_Rarely\", \"Travel_Rarely\", \"Travel_Frequently\", \"Travel_Rarely\", \"Travel_Rarely\", \"Travel_Rarely\", \"Travel_Rarely\", \"Travel_Frequently\", \"Non-Travel\", \"Travel_Frequently\", \"Non-Travel\", \"Travel_Rarely\", \"Travel_Frequently\", \"Travel_Rarely\", \"Travel_Frequently\", \"Travel_Rarely\", \"Travel_Rarely\", \"Travel_Rarely\", \"Travel_Rarely\", \"Travel_Rarely\", \"Travel_Rarely\", \"Travel_Rarely\", \"Travel_Rarely\", \"Travel_Frequently\", \"Travel_Rarely\", \"Travel_Frequently\", \"Travel_Rarely\", \"Travel_Frequently\", \"Travel_Rarely\", \"Travel_Rarely\", \"Non-Travel\", \"Travel_Rarely\", \"Travel_Rarely\", \"Non-Travel\", \"Travel_Rarely\", \"Travel_Frequently\", \"Travel_Frequently\", \"Travel_Rarely\", \"Travel_Rarely\", \"Travel_Frequently\", \"Travel_Frequently\", \"Travel_Rarely\", \"Travel_Frequently\", \"Travel_Rarely\", \"Travel_Rarely\", \"Travel_Rarely\", null, \"Travel_Rarely\", \"Travel_Rarely\", \"Non-Travel\", \"Travel_Rarely\", null, \"Non-Travel\", \"Non-Travel\", \"Travel_Rarely\", \"Travel_Rarely\", \"Travel_Rarely\", \"Non-Travel\", \"Travel_Rarely\", \"Travel_Rarely\", \"Non-Travel\", \"Travel_Rarely\", \"Travel_Rarely\", \"Travel_Rarely\", \"Travel_Rarely\", \"Non-Travel\", \"Travel_Rarely\", \"Travel_Rarely\", \"Travel_Rarely\", \"Travel_Rarely\", \"Travel_Rarely\", \"Travel_Rarely\", \"Travel_Rarely\", \"Non-Travel\", \"Non-Travel\", \"Travel_Frequently\", \"Travel_Frequently\", \"Travel_Rarely\", \"Travel_Frequently\", \"Travel_Rarely\", \"Travel_Rarely\", \"Travel_Rarely\", \"Travel_Rarely\", \"Travel_Rarely\", \"Travel_Rarely\", \"Travel_Rarely\", \"Travel_Frequently\", \"Travel_Rarely\", \"Travel_Rarely\", \"Travel_Rarely\", \"Travel_Rarely\", \"Travel_Frequently\", \"Travel_Rarely\", \"Travel_Rarely\", \"Travel_Rarely\", \"Non-Travel\", \"Travel_Rarely\", \"Travel_Rarely\", \"Travel_Rarely\", \"Travel_Frequently\", \"Travel_Frequently\", \"Travel_Rarely\", \"Travel_Rarely\", \"Travel_Rarely\", \"Travel_Rarely\", \"Non-Travel\", \"Travel_Rarely\", \"Travel_Rarely\", \"Travel_Rarely\", \"Travel_Rarely\", \"Travel_Rarely\", \"Travel_Rarely\", \"Travel_Rarely\", null, \"Travel_Rarely\", \"Travel_Rarely\", \"Travel_Rarely\", \"Travel_Rarely\", \"Travel_Rarely\", null, \"Non-Travel\", \"Travel_Rarely\", \"Travel_Frequently\", \"Non-Travel\", \"Travel_Rarely\", \"Travel_Rarely\", \"Travel_Rarely\", \"Travel_Frequently\", \"Travel_Rarely\", \"Non-Travel\", \"Travel_Frequently\", \"Travel_Rarely\", \"Travel_Rarely\", \"Travel_Frequently\", \"Travel_Frequently\", \"Travel_Rarely\", \"Travel_Rarely\", \"Travel_Rarely\", \"Travel_Rarely\", \"Travel_Frequently\", \"Travel_Rarely\", \"Travel_Rarely\", \"Travel_Rarely\", \"Travel_Rarely\", \"Travel_Rarely\", \"Travel_Rarely\", \"Non-Travel\", \"Travel_Rarely\", \"Travel_Rarely\", \"Travel_Rarely\", \"Travel_Rarely\", \"Travel_Frequently\", \"Travel_Rarely\", \"Travel_Rarely\", \"Travel_Frequently\", \"Travel_Rarely\", \"Travel_Frequently\", \"Travel_Rarely\", \"Travel_Rarely\", \"Travel_Rarely\", \"Travel_Rarely\", \"Travel_Rarely\", \"Travel_Rarely\", \"Travel_Rarely\", \"Travel_Frequently\", \"Travel_Frequently\", \"Travel_Frequently\", \"Travel_Rarely\", \"Travel_Frequently\", \"Travel_Rarely\", \"Travel_Rarely\", \"Travel_Rarely\", \"Travel_Rarely\", \"Travel_Rarely\", \"Travel_Rarely\", \"Travel_Rarely\", \"Travel_Rarely\", \"Travel_Rarely\", \"Travel_Rarely\", \"Non-Travel\", \"Travel_Frequently\", \"Travel_Rarely\", \"Travel_Rarely\", \"Travel_Rarely\", \"Travel_Rarely\", \"Travel_Rarely\", \"Travel_Frequently\", \"Travel_Rarely\", \"Travel_Rarely\", \"Non-Travel\", \"Travel_Rarely\", \"Travel_Rarely\", \"Non-Travel\", \"Travel_Frequently\", \"Travel_Rarely\", \"Travel_Rarely\", \"Travel_Rarely\", \"Travel_Rarely\", \"Travel_Frequently\", \"Non-Travel\", \"Travel_Rarely\", \"Travel_Rarely\", \"Travel_Frequently\", \"Non-Travel\", \"Travel_Frequently\", \"Non-Travel\", \"Travel_Frequently\", \"Travel_Rarely\", \"Travel_Frequently\", \"Travel_Rarely\", \"Travel_Rarely\", \"Travel_Rarely\", \"Travel_Rarely\", \"Travel_Rarely\", \"Travel_Rarely\", \"Travel_Rarely\", \"Travel_Rarely\", \"Non-Travel\", \"Travel_Rarely\", \"Travel_Rarely\", \"Non-Travel\", \"Travel_Frequently\", \"Travel_Rarely\", \"Travel_Rarely\", \"Non-Travel\", \"Non-Travel\", \"Travel_Rarely\", \"Travel_Rarely\", \"Non-Travel\", \"Travel_Rarely\", \"Travel_Frequently\", \"Travel_Rarely\", \"Travel_Rarely\", \"Travel_Rarely\", \"Travel_Rarely\", \"Travel_Rarely\", \"Travel_Rarely\", \"Travel_Rarely\", \"Travel_Frequently\", \"Travel_Rarely\", \"Travel_Rarely\", \"Travel_Rarely\", \"Travel_Rarely\", \"Travel_Rarely\", \"Travel_Rarely\", \"Travel_Rarely\", \"Non-Travel\", \"Travel_Rarely\", \"Travel_Rarely\", \"Travel_Rarely\", \"Travel_Frequently\", \"Travel_Rarely\", \"Travel_Rarely\", \"Travel_Frequently\", \"Travel_Rarely\", \"Travel_Frequently\", \"Travel_Rarely\", \"Non-Travel\", \"Non-Travel\", \"Travel_Rarely\", \"Travel_Rarely\", \"Travel_Rarely\", \"Travel_Rarely\", \"Travel_Rarely\", \"Travel_Rarely\", \"Non-Travel\", \"Travel_Rarely\", \"Travel_Rarely\", \"Travel_Frequently\", \"Travel_Rarely\", \"Travel_Rarely\", \"Travel_Rarely\", \"Non-Travel\", \"Travel_Rarely\", \"Travel_Rarely\", \"Travel_Rarely\", \"Travel_Rarely\", \"Travel_Frequently\", \"Travel_Rarely\", \"Travel_Rarely\", \"Travel_Frequently\", \"Non-Travel\", \"Travel_Frequently\", \"Non-Travel\", \"Travel_Rarely\", \"Travel_Rarely\", \"Travel_Rarely\", \"Non-Travel\", \"Travel_Rarely\", \"Non-Travel\", \"Travel_Rarely\", \"Travel_Rarely\", \"Travel_Rarely\", \"Travel_Rarely\", \"Travel_Rarely\", \"Travel_Rarely\", \"Non-Travel\", \"Travel_Rarely\", \"Travel_Frequently\", \"Travel_Rarely\", \"Travel_Rarely\", \"Non-Travel\", \"Travel_Rarely\", \"Travel_Rarely\", \"Travel_Rarely\", \"Travel_Rarely\", \"Travel_Rarely\", \"Travel_Rarely\", \"Travel_Rarely\", \"Travel_Rarely\", \"Travel_Rarely\", \"Travel_Rarely\", \"Travel_Rarely\", \"Travel_Frequently\", \"Travel_Rarely\", \"Travel_Rarely\", \"Non-Travel\", \"Travel_Frequently\", \"Non-Travel\", \"Travel_Frequently\", \"Travel_Rarely\", \"Travel_Rarely\", \"Travel_Rarely\", \"Travel_Frequently\", \"Travel_Rarely\", \"Travel_Rarely\", \"Travel_Rarely\", \"Travel_Frequently\", \"Travel_Rarely\", \"Travel_Frequently\", \"Travel_Rarely\", \"Travel_Rarely\", \"Travel_Rarely\", \"Non-Travel\", \"Travel_Frequently\", \"Travel_Rarely\", \"Travel_Rarely\", \"Travel_Frequently\", \"Travel_Rarely\", \"Travel_Rarely\", \"Travel_Rarely\", \"Travel_Rarely\", \"Travel_Rarely\", \"Travel_Frequently\", \"Travel_Rarely\", \"Travel_Rarely\", \"Travel_Frequently\", \"Travel_Rarely\", \"Non-Travel\", \"Travel_Rarely\", \"Travel_Rarely\", \"Travel_Rarely\", \"Travel_Rarely\", \"Travel_Rarely\", \"Non-Travel\", \"Travel_Rarely\", \"Travel_Rarely\", \"Travel_Rarely\", \"Travel_Rarely\", \"Travel_Rarely\", \"Travel_Rarely\", \"Travel_Frequently\", \"Travel_Rarely\", \"Travel_Rarely\", \"Travel_Rarely\", \"Travel_Rarely\", \"Travel_Rarely\", \"Travel_Frequently\", \"Travel_Rarely\", \"Travel_Rarely\", \"Travel_Rarely\", \"Travel_Rarely\", \"Travel_Rarely\", \"Travel_Frequently\", \"Travel_Frequently\", \"Non-Travel\", \"Non-Travel\", \"Travel_Rarely\", \"Travel_Rarely\", \"Travel_Rarely\", \"Travel_Rarely\", \"Travel_Rarely\", \"Travel_Rarely\", \"Travel_Rarely\", \"Travel_Rarely\", \"Travel_Rarely\", \"Travel_Frequently\", \"Travel_Frequently\", \"Travel_Rarely\", \"Travel_Rarely\", \"Travel_Frequently\", \"Travel_Rarely\", \"Travel_Rarely\", \"Travel_Rarely\", \"Travel_Frequently\", \"Travel_Rarely\", \"Travel_Rarely\", \"Travel_Frequently\", \"Travel_Rarely\", \"Non-Travel\", \"Travel_Rarely\", \"Travel_Rarely\", \"Travel_Rarely\", \"Travel_Rarely\", \"Travel_Rarely\", \"Travel_Rarely\", \"Travel_Rarely\", \"Travel_Frequently\", \"Travel_Frequently\", \"Travel_Rarely\", \"Travel_Frequently\", \"Travel_Frequently\", \"Travel_Rarely\", \"Travel_Frequently\", \"Travel_Frequently\", \"Travel_Rarely\", \"Travel_Rarely\", \"Travel_Rarely\", \"Travel_Frequently\", \"Travel_Frequently\", \"Travel_Rarely\", \"Travel_Rarely\", \"Travel_Frequently\", \"Non-Travel\", \"Travel_Rarely\", \"Non-Travel\", \"Travel_Rarely\", \"Travel_Frequently\", \"Travel_Rarely\", \"Travel_Rarely\", \"Non-Travel\", \"Non-Travel\", \"Travel_Frequently\", \"Travel_Frequently\", \"Travel_Rarely\", \"Travel_Rarely\", \"Travel_Rarely\", \"Travel_Rarely\", \"Travel_Rarely\", \"Travel_Rarely\", \"Travel_Rarely\", \"Travel_Rarely\", \"Travel_Rarely\", \"Travel_Rarely\", \"Travel_Rarely\", \"Travel_Frequently\", \"Travel_Rarely\", \"Travel_Rarely\", \"Travel_Rarely\", \"Travel_Rarely\", \"Travel_Rarely\", \"Non-Travel\", \"Travel_Rarely\", \"Travel_Rarely\", \"Travel_Rarely\", \"Travel_Rarely\", \"Travel_Rarely\", \"Travel_Rarely\", \"Non-Travel\", \"Travel_Rarely\", \"Travel_Rarely\", \"Travel_Frequently\", \"Travel_Rarely\", \"Travel_Rarely\", \"Travel_Rarely\", \"Travel_Rarely\", \"Travel_Rarely\", \"Travel_Rarely\", \"Travel_Rarely\", \"Travel_Rarely\", \"Travel_Frequently\", \"Travel_Rarely\", \"Travel_Rarely\", \"Travel_Rarely\", \"Travel_Frequently\", \"Travel_Rarely\", \"Travel_Rarely\", \"Travel_Rarely\", \"Non-Travel\", \"Travel_Rarely\", \"Non-Travel\", \"Non-Travel\", \"Travel_Rarely\", \"Travel_Rarely\", \"Travel_Rarely\", \"Travel_Frequently\", \"Travel_Rarely\", \"Travel_Rarely\", \"Travel_Frequently\", \"Travel_Rarely\", \"Travel_Frequently\", \"Travel_Rarely\", \"Travel_Rarely\", \"Travel_Rarely\", \"Travel_Rarely\", \"Travel_Frequently\", \"Travel_Rarely\", \"Travel_Frequently\", \"Travel_Rarely\", \"Travel_Rarely\", \"Travel_Rarely\", \"Travel_Frequently\", \"Travel_Rarely\", \"Non-Travel\", \"Travel_Rarely\", \"Non-Travel\", \"Travel_Rarely\", \"Travel_Rarely\", \"Travel_Rarely\", \"Travel_Rarely\", \"Travel_Rarely\", \"Non-Travel\", \"Travel_Rarely\", \"Travel_Rarely\", \"Travel_Rarely\", \"Travel_Rarely\", \"Travel_Rarely\", \"Travel_Rarely\", \"Non-Travel\", \"Non-Travel\", \"Travel_Rarely\", \"Travel_Rarely\", \"Travel_Frequently\", \"Travel_Rarely\", \"Travel_Frequently\", \"Travel_Rarely\", \"Travel_Rarely\", \"Non-Travel\", \"Travel_Rarely\", \"Travel_Rarely\", \"Travel_Rarely\", \"Travel_Rarely\", \"Travel_Frequently\", \"Travel_Frequently\", \"Non-Travel\", \"Travel_Rarely\", \"Travel_Rarely\", \"Non-Travel\", \"Travel_Frequently\", \"Travel_Frequently\", \"Travel_Rarely\", \"Travel_Rarely\", \"Travel_Frequently\", \"Travel_Rarely\", \"Non-Travel\", \"Travel_Frequently\", \"Travel_Frequently\", \"Travel_Rarely\", \"Travel_Rarely\", \"Travel_Rarely\", \"Travel_Rarely\", \"Travel_Rarely\", \"Travel_Rarely\", \"Travel_Rarely\", \"Travel_Rarely\", \"Travel_Rarely\", \"Travel_Rarely\", \"Travel_Rarely\", \"Travel_Rarely\", \"Travel_Rarely\", \"Travel_Rarely\", \"Travel_Rarely\", \"Travel_Rarely\", \"Travel_Rarely\", \"Travel_Rarely\", \"Travel_Rarely\", \"Travel_Rarely\", \"Travel_Rarely\", \"Travel_Rarely\", \"Travel_Rarely\", \"Travel_Rarely\", \"Travel_Rarely\", \"Travel_Rarely\", \"Travel_Frequently\", \"Travel_Rarely\", \"Travel_Rarely\", \"Travel_Rarely\", \"Travel_Rarely\", \"Travel_Rarely\", \"Travel_Rarely\", \"Travel_Rarely\", \"Travel_Rarely\", \"Travel_Frequently\", \"Travel_Rarely\", \"Non-Travel\", \"Travel_Rarely\", \"Travel_Rarely\", \"Travel_Rarely\", \"Travel_Frequently\", \"Travel_Frequently\", \"Travel_Rarely\", \"Travel_Frequently\", \"Travel_Rarely\", \"Travel_Rarely\", \"Travel_Rarely\", \"Travel_Rarely\", \"Travel_Rarely\", \"Travel_Rarely\", \"Travel_Frequently\", \"Travel_Rarely\", \"Travel_Rarely\", \"Travel_Rarely\", \"Travel_Rarely\", \"Travel_Rarely\", \"Travel_Rarely\", \"Travel_Rarely\", \"Travel_Rarely\", \"Travel_Rarely\", \"Travel_Rarely\", \"Travel_Rarely\", \"Travel_Frequently\", \"Non-Travel\", \"Travel_Rarely\", \"Travel_Rarely\", \"Travel_Frequently\", \"Travel_Rarely\", \"Travel_Rarely\", \"Travel_Rarely\", \"Travel_Rarely\", \"Travel_Rarely\", \"Travel_Rarely\", \"Non-Travel\", \"Non-Travel\", \"Travel_Rarely\", \"Travel_Frequently\", \"Travel_Rarely\", \"Travel_Rarely\", \"Travel_Rarely\", \"Travel_Rarely\", \"Travel_Rarely\", \"Travel_Rarely\", \"Travel_Rarely\", \"Travel_Rarely\", \"Travel_Rarely\", \"Travel_Rarely\", \"Travel_Rarely\", \"Travel_Rarely\", \"Non-Travel\", \"Travel_Rarely\", \"Travel_Frequently\", \"Travel_Rarely\", \"Travel_Rarely\", \"Travel_Rarely\", \"Travel_Rarely\", \"Non-Travel\", \"Travel_Rarely\", \"Travel_Rarely\", \"Non-Travel\", \"Travel_Rarely\", \"Travel_Rarely\", \"Non-Travel\", \"Travel_Rarely\", \"Travel_Rarely\", \"Travel_Rarely\", \"Travel_Rarely\", \"Travel_Rarely\", \"Travel_Rarely\", \"Travel_Rarely\", \"Travel_Rarely\", \"Travel_Rarely\", \"Non-Travel\", \"Travel_Rarely\", \"Travel_Rarely\", \"Travel_Rarely\", \"Travel_Frequently\", \"Non-Travel\", \"Non-Travel\", \"Travel_Rarely\", \"Travel_Frequently\", \"Travel_Frequently\", \"Travel_Rarely\", \"Travel_Rarely\", \"Travel_Frequently\", \"Travel_Rarely\", \"Travel_Rarely\", \"Non-Travel\", \"Travel_Rarely\", \"Travel_Rarely\", \"Travel_Rarely\", \"Travel_Rarely\", \"Travel_Rarely\", \"Travel_Rarely\"], \"xaxis\": \"x\", \"yaxis\": \"y\"}, {\"alignmentgroup\": \"True\", \"bingroup\": \"x\", \"hoverlabel\": {\"namelength\": 0}, \"hovertemplate\": \"Attrition=Yes<br>BusinessTravel=%{x}<br>count=%{y}\", \"legendgroup\": \"Attrition=Yes\", \"marker\": {\"color\": \"#EF553B\"}, \"name\": \"Attrition=Yes\", \"offsetgroup\": \"Attrition=Yes\", \"orientation\": \"v\", \"showlegend\": true, \"type\": \"histogram\", \"x\": [\"Travel_Rarely\", \"Travel_Rarely\", \"Travel_Rarely\", \"Travel_Rarely\", \"Travel_Rarely\", \"Travel_Frequently\", \"Travel_Frequently\", \"Travel_Rarely\", \"Travel_Rarely\", \"Travel_Frequently\", \"Travel_Rarely\", \"Travel_Rarely\", \"Travel_Rarely\", \"Travel_Frequently\", \"Travel_Frequently\", \"Travel_Rarely\", \"Travel_Rarely\", \"Travel_Rarely\", \"Travel_Frequently\", \"Travel_Rarely\", \"Travel_Frequently\", \"Travel_Rarely\", \"Travel_Frequently\", \"Travel_Frequently\", \"Travel_Rarely\", \"Travel_Rarely\", \"Travel_Frequently\", \"Travel_Rarely\", \"Travel_Rarely\", \"Travel_Rarely\", \"Travel_Frequently\", \"Non-Travel\", \"Travel_Rarely\", \"Travel_Rarely\", \"Travel_Rarely\", \"Travel_Rarely\", \"Travel_Frequently\", \"Travel_Rarely\", \"Travel_Rarely\", \"Travel_Frequently\", \"Travel_Frequently\", \"Travel_Rarely\", \"Travel_Rarely\", \"Travel_Rarely\", \"Travel_Rarely\", \"Travel_Rarely\", \"Travel_Rarely\", \"Travel_Frequently\", \"Travel_Rarely\", \"Travel_Frequently\", \"Travel_Frequently\", \"Travel_Rarely\", \"Travel_Rarely\", \"Travel_Rarely\", \"Travel_Rarely\", \"Travel_Frequently\", \"Travel_Rarely\", \"Travel_Frequently\", \"Travel_Rarely\", \"Travel_Rarely\", \"Travel_Frequently\", \"Travel_Frequently\", \"Travel_Frequently\", \"Travel_Rarely\", \"Non-Travel\", \"Travel_Rarely\", \"Travel_Rarely\", \"Non-Travel\", \"Travel_Rarely\", \"Travel_Rarely\", \"Travel_Rarely\", \"Travel_Rarely\", \"Travel_Rarely\", \"Travel_Rarely\", \"Travel_Rarely\", \"Travel_Rarely\", \"Travel_Rarely\", \"Travel_Rarely\", \"Travel_Rarely\", \"Travel_Rarely\", \"Travel_Frequently\", \"Travel_Rarely\", \"Travel_Rarely\", \"Travel_Rarely\", \"Travel_Rarely\", \"Travel_Rarely\", \"Travel_Rarely\", \"Travel_Frequently\", \"Travel_Rarely\", \"Travel_Rarely\", \"Travel_Rarely\", \"Travel_Frequently\", \"Travel_Rarely\", \"Non-Travel\", \"Travel_Rarely\", \"Travel_Rarely\", \"Travel_Frequently\", \"Travel_Rarely\", \"Travel_Frequently\", \"Travel_Rarely\", \"Travel_Frequently\", \"Travel_Rarely\", \"Travel_Rarely\", \"Travel_Rarely\", \"Travel_Frequently\", \"Travel_Rarely\", \"Travel_Frequently\", \"Travel_Rarely\", \"Travel_Frequently\", \"Travel_Rarely\", \"Travel_Frequently\", \"Travel_Rarely\", \"Travel_Frequently\", \"Travel_Rarely\", \"Travel_Rarely\", \"Travel_Rarely\", \"Travel_Rarely\", \"Travel_Frequently\", \"Travel_Rarely\", \"Travel_Rarely\", \"Travel_Frequently\", \"Travel_Rarely\", \"Travel_Rarely\", \"Non-Travel\", \"Travel_Frequently\", \"Travel_Frequently\", \"Travel_Rarely\", \"Travel_Frequently\", \"Travel_Rarely\", \"Travel_Rarely\", \"Travel_Rarely\", \"Travel_Rarely\", \"Travel_Frequently\", \"Travel_Rarely\", \"Travel_Rarely\", \"Travel_Rarely\", \"Travel_Frequently\", \"Travel_Frequently\", \"Travel_Rarely\", \"Travel_Rarely\", \"Travel_Rarely\", \"Travel_Rarely\", \"Travel_Rarely\", \"Travel_Rarely\", \"Non-Travel\", \"Travel_Rarely\", \"Travel_Frequently\", \"Travel_Rarely\", \"Non-Travel\", \"Travel_Rarely\", \"Travel_Rarely\", \"Travel_Frequently\", \"Travel_Rarely\", \"Non-Travel\", \"Travel_Rarely\", \"Travel_Rarely\", \"Travel_Rarely\", \"Travel_Frequently\", \"Travel_Rarely\", \"Travel_Rarely\", \"Travel_Rarely\", \"Travel_Rarely\", \"Travel_Rarely\", \"Travel_Rarely\", \"Travel_Rarely\", \"Travel_Frequently\", \"Travel_Rarely\", \"Travel_Frequently\", \"Travel_Rarely\", \"Travel_Rarely\", \"Travel_Rarely\", \"Travel_Frequently\", \"Travel_Frequently\", \"Travel_Rarely\", \"Travel_Rarely\", \"Travel_Frequently\"], \"xaxis\": \"x\", \"yaxis\": \"y\"}],\n",
              "                        {\"barmode\": \"group\", \"height\": 390, \"legend\": {\"tracegroupgap\": 0}, \"margin\": {\"t\": 60}, \"template\": {\"data\": {\"bar\": [{\"error_x\": {\"color\": \"#2a3f5f\"}, \"error_y\": {\"color\": \"#2a3f5f\"}, \"marker\": {\"line\": {\"color\": \"#E5ECF6\", \"width\": 0.5}}, \"type\": \"bar\"}], \"barpolar\": [{\"marker\": {\"line\": {\"color\": \"#E5ECF6\", \"width\": 0.5}}, \"type\": \"barpolar\"}], \"carpet\": [{\"aaxis\": {\"endlinecolor\": \"#2a3f5f\", \"gridcolor\": \"white\", \"linecolor\": \"white\", \"minorgridcolor\": \"white\", \"startlinecolor\": \"#2a3f5f\"}, \"baxis\": {\"endlinecolor\": \"#2a3f5f\", \"gridcolor\": \"white\", \"linecolor\": \"white\", \"minorgridcolor\": \"white\", \"startlinecolor\": \"#2a3f5f\"}, \"type\": \"carpet\"}], \"choropleth\": [{\"colorbar\": {\"outlinewidth\": 0, \"ticks\": \"\"}, \"type\": \"choropleth\"}], \"contour\": [{\"colorbar\": {\"outlinewidth\": 0, \"ticks\": \"\"}, \"colorscale\": [[0.0, \"#0d0887\"], [0.1111111111111111, \"#46039f\"], [0.2222222222222222, \"#7201a8\"], [0.3333333333333333, \"#9c179e\"], [0.4444444444444444, \"#bd3786\"], [0.5555555555555556, \"#d8576b\"], [0.6666666666666666, \"#ed7953\"], [0.7777777777777778, \"#fb9f3a\"], [0.8888888888888888, \"#fdca26\"], [1.0, \"#f0f921\"]], \"type\": \"contour\"}], \"contourcarpet\": [{\"colorbar\": {\"outlinewidth\": 0, \"ticks\": \"\"}, \"type\": \"contourcarpet\"}], \"heatmap\": [{\"colorbar\": {\"outlinewidth\": 0, \"ticks\": \"\"}, \"colorscale\": [[0.0, \"#0d0887\"], [0.1111111111111111, \"#46039f\"], [0.2222222222222222, \"#7201a8\"], [0.3333333333333333, \"#9c179e\"], [0.4444444444444444, \"#bd3786\"], [0.5555555555555556, \"#d8576b\"], [0.6666666666666666, \"#ed7953\"], [0.7777777777777778, \"#fb9f3a\"], [0.8888888888888888, \"#fdca26\"], [1.0, \"#f0f921\"]], \"type\": \"heatmap\"}], \"heatmapgl\": [{\"colorbar\": {\"outlinewidth\": 0, \"ticks\": \"\"}, \"colorscale\": [[0.0, \"#0d0887\"], [0.1111111111111111, \"#46039f\"], [0.2222222222222222, \"#7201a8\"], [0.3333333333333333, \"#9c179e\"], [0.4444444444444444, \"#bd3786\"], [0.5555555555555556, \"#d8576b\"], [0.6666666666666666, \"#ed7953\"], [0.7777777777777778, \"#fb9f3a\"], [0.8888888888888888, \"#fdca26\"], [1.0, \"#f0f921\"]], \"type\": \"heatmapgl\"}], \"histogram\": [{\"marker\": {\"colorbar\": {\"outlinewidth\": 0, \"ticks\": \"\"}}, \"type\": \"histogram\"}], \"histogram2d\": [{\"colorbar\": {\"outlinewidth\": 0, \"ticks\": \"\"}, \"colorscale\": [[0.0, \"#0d0887\"], [0.1111111111111111, \"#46039f\"], [0.2222222222222222, \"#7201a8\"], [0.3333333333333333, \"#9c179e\"], [0.4444444444444444, \"#bd3786\"], [0.5555555555555556, \"#d8576b\"], [0.6666666666666666, \"#ed7953\"], [0.7777777777777778, \"#fb9f3a\"], [0.8888888888888888, \"#fdca26\"], [1.0, \"#f0f921\"]], \"type\": \"histogram2d\"}], \"histogram2dcontour\": [{\"colorbar\": {\"outlinewidth\": 0, \"ticks\": \"\"}, \"colorscale\": [[0.0, \"#0d0887\"], [0.1111111111111111, \"#46039f\"], [0.2222222222222222, \"#7201a8\"], [0.3333333333333333, \"#9c179e\"], [0.4444444444444444, \"#bd3786\"], [0.5555555555555556, \"#d8576b\"], [0.6666666666666666, \"#ed7953\"], [0.7777777777777778, \"#fb9f3a\"], [0.8888888888888888, \"#fdca26\"], [1.0, \"#f0f921\"]], \"type\": \"histogram2dcontour\"}], \"mesh3d\": [{\"colorbar\": {\"outlinewidth\": 0, \"ticks\": \"\"}, \"type\": \"mesh3d\"}], \"parcoords\": [{\"line\": {\"colorbar\": {\"outlinewidth\": 0, \"ticks\": \"\"}}, \"type\": \"parcoords\"}], \"pie\": [{\"automargin\": true, \"type\": \"pie\"}], \"scatter\": [{\"marker\": {\"colorbar\": {\"outlinewidth\": 0, \"ticks\": \"\"}}, \"type\": \"scatter\"}], \"scatter3d\": [{\"line\": {\"colorbar\": {\"outlinewidth\": 0, \"ticks\": \"\"}}, \"marker\": {\"colorbar\": {\"outlinewidth\": 0, \"ticks\": \"\"}}, \"type\": \"scatter3d\"}], \"scattercarpet\": [{\"marker\": {\"colorbar\": {\"outlinewidth\": 0, \"ticks\": \"\"}}, \"type\": \"scattercarpet\"}], \"scattergeo\": [{\"marker\": {\"colorbar\": {\"outlinewidth\": 0, \"ticks\": \"\"}}, \"type\": \"scattergeo\"}], \"scattergl\": [{\"marker\": {\"colorbar\": {\"outlinewidth\": 0, \"ticks\": \"\"}}, \"type\": \"scattergl\"}], \"scattermapbox\": [{\"marker\": {\"colorbar\": {\"outlinewidth\": 0, \"ticks\": \"\"}}, \"type\": \"scattermapbox\"}], \"scatterpolar\": [{\"marker\": {\"colorbar\": {\"outlinewidth\": 0, \"ticks\": \"\"}}, \"type\": \"scatterpolar\"}], \"scatterpolargl\": [{\"marker\": {\"colorbar\": {\"outlinewidth\": 0, \"ticks\": \"\"}}, \"type\": \"scatterpolargl\"}], \"scatterternary\": [{\"marker\": {\"colorbar\": {\"outlinewidth\": 0, \"ticks\": \"\"}}, \"type\": \"scatterternary\"}], \"surface\": [{\"colorbar\": {\"outlinewidth\": 0, \"ticks\": \"\"}, \"colorscale\": [[0.0, \"#0d0887\"], [0.1111111111111111, \"#46039f\"], [0.2222222222222222, \"#7201a8\"], [0.3333333333333333, \"#9c179e\"], [0.4444444444444444, \"#bd3786\"], [0.5555555555555556, \"#d8576b\"], [0.6666666666666666, \"#ed7953\"], [0.7777777777777778, \"#fb9f3a\"], [0.8888888888888888, \"#fdca26\"], [1.0, \"#f0f921\"]], \"type\": \"surface\"}], \"table\": [{\"cells\": {\"fill\": {\"color\": \"#EBF0F8\"}, \"line\": {\"color\": \"white\"}}, \"header\": {\"fill\": {\"color\": \"#C8D4E3\"}, \"line\": {\"color\": \"white\"}}, \"type\": \"table\"}]}, \"layout\": {\"annotationdefaults\": {\"arrowcolor\": \"#2a3f5f\", \"arrowhead\": 0, \"arrowwidth\": 1}, \"coloraxis\": {\"colorbar\": {\"outlinewidth\": 0, \"ticks\": \"\"}}, \"colorscale\": {\"diverging\": [[0, \"#8e0152\"], [0.1, \"#c51b7d\"], [0.2, \"#de77ae\"], [0.3, \"#f1b6da\"], [0.4, \"#fde0ef\"], [0.5, \"#f7f7f7\"], [0.6, \"#e6f5d0\"], [0.7, \"#b8e186\"], [0.8, \"#7fbc41\"], [0.9, \"#4d9221\"], [1, \"#276419\"]], \"sequential\": [[0.0, \"#0d0887\"], [0.1111111111111111, \"#46039f\"], [0.2222222222222222, \"#7201a8\"], [0.3333333333333333, \"#9c179e\"], [0.4444444444444444, \"#bd3786\"], [0.5555555555555556, \"#d8576b\"], [0.6666666666666666, \"#ed7953\"], [0.7777777777777778, \"#fb9f3a\"], [0.8888888888888888, \"#fdca26\"], [1.0, \"#f0f921\"]], \"sequentialminus\": [[0.0, \"#0d0887\"], [0.1111111111111111, \"#46039f\"], [0.2222222222222222, \"#7201a8\"], [0.3333333333333333, \"#9c179e\"], [0.4444444444444444, \"#bd3786\"], [0.5555555555555556, \"#d8576b\"], [0.6666666666666666, \"#ed7953\"], [0.7777777777777778, \"#fb9f3a\"], [0.8888888888888888, \"#fdca26\"], [1.0, \"#f0f921\"]]}, \"colorway\": [\"#636efa\", \"#EF553B\", \"#00cc96\", \"#ab63fa\", \"#FFA15A\", \"#19d3f3\", \"#FF6692\", \"#B6E880\", \"#FF97FF\", \"#FECB52\"], \"font\": {\"color\": \"#2a3f5f\"}, \"geo\": {\"bgcolor\": \"white\", \"lakecolor\": \"white\", \"landcolor\": \"#E5ECF6\", \"showlakes\": true, \"showland\": true, \"subunitcolor\": \"white\"}, \"hoverlabel\": {\"align\": \"left\"}, \"hovermode\": \"closest\", \"mapbox\": {\"style\": \"light\"}, \"paper_bgcolor\": \"white\", \"plot_bgcolor\": \"#E5ECF6\", \"polar\": {\"angularaxis\": {\"gridcolor\": \"white\", \"linecolor\": \"white\", \"ticks\": \"\"}, \"bgcolor\": \"#E5ECF6\", \"radialaxis\": {\"gridcolor\": \"white\", \"linecolor\": \"white\", \"ticks\": \"\"}}, \"scene\": {\"xaxis\": {\"backgroundcolor\": \"#E5ECF6\", \"gridcolor\": \"white\", \"gridwidth\": 2, \"linecolor\": \"white\", \"showbackground\": true, \"ticks\": \"\", \"zerolinecolor\": \"white\"}, \"yaxis\": {\"backgroundcolor\": \"#E5ECF6\", \"gridcolor\": \"white\", \"gridwidth\": 2, \"linecolor\": \"white\", \"showbackground\": true, \"ticks\": \"\", \"zerolinecolor\": \"white\"}, \"zaxis\": {\"backgroundcolor\": \"#E5ECF6\", \"gridcolor\": \"white\", \"gridwidth\": 2, \"linecolor\": \"white\", \"showbackground\": true, \"ticks\": \"\", \"zerolinecolor\": \"white\"}}, \"shapedefaults\": {\"line\": {\"color\": \"#2a3f5f\"}}, \"ternary\": {\"aaxis\": {\"gridcolor\": \"white\", \"linecolor\": \"white\", \"ticks\": \"\"}, \"baxis\": {\"gridcolor\": \"white\", \"linecolor\": \"white\", \"ticks\": \"\"}, \"bgcolor\": \"#E5ECF6\", \"caxis\": {\"gridcolor\": \"white\", \"linecolor\": \"white\", \"ticks\": \"\"}}, \"title\": {\"x\": 0.05}, \"xaxis\": {\"automargin\": true, \"gridcolor\": \"white\", \"linecolor\": \"white\", \"ticks\": \"\", \"title\": {\"standoff\": 15}, \"zerolinecolor\": \"white\", \"zerolinewidth\": 2}, \"yaxis\": {\"automargin\": true, \"gridcolor\": \"white\", \"linecolor\": \"white\", \"ticks\": \"\", \"title\": {\"standoff\": 15}, \"zerolinecolor\": \"white\", \"zerolinewidth\": 2}}}, \"width\": 650, \"xaxis\": {\"anchor\": \"y\", \"domain\": [0.0, 1.0], \"title\": {\"text\": \"BusinessTravel\"}}, \"yaxis\": {\"anchor\": \"x\", \"domain\": [0.0, 1.0], \"title\": {\"text\": \"count\"}}},\n",
              "                        {\"responsive\": true}\n",
              "                    ).then(function(){\n",
              "                            \n",
              "var gd = document.getElementById('18bb2cfb-e2c6-4425-9775-105a58e86b92');\n",
              "var x = new MutationObserver(function (mutations, observer) {{\n",
              "        var display = window.getComputedStyle(gd).display;\n",
              "        if (!display || display === 'none') {{\n",
              "            console.log([gd, 'removed!']);\n",
              "            Plotly.purge(gd);\n",
              "            observer.disconnect();\n",
              "        }}\n",
              "}});\n",
              "\n",
              "// Listen for the removal of the full notebook cells\n",
              "var notebookContainer = gd.closest('#notebook-container');\n",
              "if (notebookContainer) {{\n",
              "    x.observe(notebookContainer, {childList: true});\n",
              "}}\n",
              "\n",
              "// Listen for the clearing of the current output cell\n",
              "var outputEl = gd.closest('.output');\n",
              "if (outputEl) {{\n",
              "    x.observe(outputEl, {childList: true});\n",
              "}}\n",
              "\n",
              "                        })\n",
              "                };\n",
              "                \n",
              "            </script>\n",
              "        </div>\n",
              "</body>\n",
              "</html>"
            ]
          },
          "metadata": {
            "tags": []
          }
        }
      ]
    },
    {
      "cell_type": "code",
      "metadata": {
        "colab": {
          "base_uri": "https://localhost:8080/"
        },
        "id": "r_vv1HGnpeye",
        "outputId": "29ba6824-2286-4be2-cc7c-bea5e901b4ba"
      },
      "source": [
        "train_data['Department'].value_counts()"
      ],
      "execution_count": 36,
      "outputs": [
        {
          "output_type": "execute_result",
          "data": {
            "text/plain": [
              "Research & Development    676\n",
              "Sales                     311\n",
              "Human Resources            42\n",
              "Name: Department, dtype: int64"
            ]
          },
          "metadata": {
            "tags": []
          },
          "execution_count": 36
        }
      ]
    },
    {
      "cell_type": "code",
      "metadata": {
        "colab": {
          "base_uri": "https://localhost:8080/",
          "height": 350
        },
        "id": "K0tM2T6zpniW",
        "outputId": "fa4eb46f-98a9-4155-a266-cb363dd4c868"
      },
      "source": [
        "plt.figure(figsize=(8,5))\n",
        "sns.countplot(x='Department',hue='Attrition', data=train_data, palette='rocket')\n",
        "plt.title(\"Attrition w.r.t Department\")\n",
        "plt.show()"
      ],
      "execution_count": 37,
      "outputs": [
        {
          "output_type": "display_data",
          "data": {
            "image/png": "[encoded data removed]",
            "text/plain": [
              "<Figure size 576x360 with 1 Axes>"
            ]
          },
          "metadata": {
            "tags": [],
            "needs_background": "light"
          }
        }
      ]
    },
    {
      "cell_type": "code",
      "metadata": {
        "colab": {
          "base_uri": "https://localhost:8080/"
        },
        "id": "YEvJGhqXpudw",
        "outputId": "29440b63-bf29-49ed-db1c-de199b1fb535"
      },
      "source": [
        "train_data['EducationField'].value_counts()"
      ],
      "execution_count": 38,
      "outputs": [
        {
          "output_type": "execute_result",
          "data": {
            "text/plain": [
              "Life Sciences       426\n",
              "Medical             328\n",
              "Marketing           110\n",
              "Technical Degree     82\n",
              "Other                66\n",
              "Human Resources      17\n",
              "Name: EducationField, dtype: int64"
            ]
          },
          "metadata": {
            "tags": []
          },
          "execution_count": 38
        }
      ]
    },
    {
      "cell_type": "code",
      "metadata": {
        "colab": {
          "base_uri": "https://localhost:8080/",
          "height": 410
        },
        "id": "sxr0R0OMp0pP",
        "outputId": "1dcb082b-088a-4dd7-beae-12785bfdf11d"
      },
      "source": [
        "plt.figure(figsize=(8,5))\n",
        "sns.countplot(x='EducationField',hue='Attrition', data=train_data, palette='seismic')\n",
        "plt.title(\"Attrition w.r.t EducationField\")\n",
        "plt.xticks(rotation=45)\n",
        "plt.show()"
      ],
      "execution_count": 39,
      "outputs": [
        {
          "output_type": "display_data",
          "data": {
            "image/png": "[encoded data removed]",
            "text/plain": [
              "<Figure size 576x360 with 1 Axes>"
            ]
          },
          "metadata": {
            "tags": [],
            "needs_background": "light"
          }
        }
      ]
    },
    {
      "cell_type": "code",
      "metadata": {
        "colab": {
          "base_uri": "https://localhost:8080/"
        },
        "id": "TEfn7QROp5m3",
        "outputId": "f7bf6e3f-e66b-43b9-b1b5-1cdb5d6f6c28"
      },
      "source": [
        "train_data['Gender'].value_counts()"
      ],
      "execution_count": 40,
      "outputs": [
        {
          "output_type": "execute_result",
          "data": {
            "text/plain": [
              "Male      617\n",
              "Female    412\n",
              "Name: Gender, dtype: int64"
            ]
          },
          "metadata": {
            "tags": []
          },
          "execution_count": 40
        }
      ]
    },
    {
      "cell_type": "code",
      "metadata": {
        "colab": {
          "base_uri": "https://localhost:8080/",
          "height": 350
        },
        "id": "Py-glN_bp_24",
        "outputId": "eb4b3891-4a85-4252-fd06-76926f3f68b2"
      },
      "source": [
        "plt.figure(figsize=(7,5))\n",
        "sns.countplot(x='Gender',hue='Attrition', data=train_data, palette='plasma')\n",
        "plt.title(\"Gender w.r.t Attrition\")\n",
        "plt.legend(loc='best')\n",
        "plt.show()"
      ],
      "execution_count": 41,
      "outputs": [
        {
          "output_type": "display_data",
          "data": {
            "image/png": "[encoded data removed]",
            "text/plain": [
              "<Figure size 504x360 with 1 Axes>"
            ]
          },
          "metadata": {
            "tags": [],
            "needs_background": "light"
          }
        }
      ]
    },
    {
      "cell_type": "code",
      "metadata": {
        "colab": {
          "base_uri": "https://localhost:8080/",
          "height": 173
        },
        "id": "oTY0KD5AqE36",
        "outputId": "6c19392c-0882-420d-9fe2-3934de9a280b"
      },
      "source": [
        "pd.crosstab(train_data['MaritalStatus'],train_data['Gender'])"
      ],
      "execution_count": 42,
      "outputs": [
        {
          "output_type": "execute_result",
          "data": {
            "text/html": [
              "<div>\n",
              "<style scoped>\n",
              "    .dataframe tbody tr th:only-of-type {\n",
              "        vertical-align: middle;\n",
              "    }\n",
              "\n",
              "    .dataframe tbody tr th {\n",
              "        vertical-align: top;\n",
              "    }\n",
              "\n",
              "    .dataframe thead th {\n",
              "        text-align: right;\n",
              "    }\n",
              "</style>\n",
              "<table border=\"1\" class=\"dataframe\">\n",
              "  <thead>\n",
              "    <tr style=\"text-align: right;\">\n",
              "      <th>Gender</th>\n",
              "      <th>Female</th>\n",
              "      <th>Male</th>\n",
              "    </tr>\n",
              "    <tr>\n",
              "      <th>MaritalStatus</th>\n",
              "      <th></th>\n",
              "      <th></th>\n",
              "    </tr>\n",
              "  </thead>\n",
              "  <tbody>\n",
              "    <tr>\n",
              "      <th>Divorced</th>\n",
              "      <td>79</td>\n",
              "      <td>151</td>\n",
              "    </tr>\n",
              "    <tr>\n",
              "      <th>Married</th>\n",
              "      <td>196</td>\n",
              "      <td>278</td>\n",
              "    </tr>\n",
              "    <tr>\n",
              "      <th>Single</th>\n",
              "      <td>134</td>\n",
              "      <td>186</td>\n",
              "    </tr>\n",
              "  </tbody>\n",
              "</table>\n",
              "</div>"
            ],
            "text/plain": [
              "Gender         Female  Male\n",
              "MaritalStatus              \n",
              "Divorced           79   151\n",
              "Married           196   278\n",
              "Single            134   186"
            ]
          },
          "metadata": {
            "tags": []
          },
          "execution_count": 42
        }
      ]
    },
    {
      "cell_type": "code",
      "metadata": {
        "colab": {
          "base_uri": "https://localhost:8080/"
        },
        "id": "OFJcv6NmqP4W",
        "outputId": "481490c9-d650-4f08-e531-65f3c8be503e"
      },
      "source": [
        "#JobRole\n",
        "train_data['JobRole'].nunique()"
      ],
      "execution_count": 43,
      "outputs": [
        {
          "output_type": "execute_result",
          "data": {
            "text/plain": [
              "9"
            ]
          },
          "metadata": {
            "tags": []
          },
          "execution_count": 43
        }
      ]
    },
    {
      "cell_type": "code",
      "metadata": {
        "colab": {
          "base_uri": "https://localhost:8080/",
          "height": 441
        },
        "id": "V6k0waxvqWdN",
        "outputId": "0d7d9ff7-670d-420b-e647-64ab6e913b7d"
      },
      "source": [
        "plt.figure(figsize=(8,5))\n",
        "sns.countplot(x='JobRole',hue='Attrition', data=train_data, palette='plasma')\n",
        "plt.title(\"JobRole w.r.t Attrition\")\n",
        "plt.legend(loc='best')\n",
        "plt.xticks(rotation=45)\n",
        "plt.show()"
      ],
      "execution_count": 44,
      "outputs": [
        {
          "output_type": "display_data",
          "data": {
            "image/png": "[encoded data removed]",
            "text/plain": [
              "<Figure size 576x360 with 1 Axes>"
            ]
          },
          "metadata": {
            "tags": [],
            "needs_background": "light"
          }
        }
      ]
    },
    {
      "cell_type": "code",
      "metadata": {
        "colab": {
          "base_uri": "https://localhost:8080/"
        },
        "id": "JvbY3v2LqbBw",
        "outputId": "a04850f0-dbc2-490d-bb46-ca1b8e0384a3"
      },
      "source": [
        "train_data['OverTime'].value_counts()"
      ],
      "execution_count": 45,
      "outputs": [
        {
          "output_type": "execute_result",
          "data": {
            "text/plain": [
              "No     731\n",
              "Yes    298\n",
              "Name: OverTime, dtype: int64"
            ]
          },
          "metadata": {
            "tags": []
          },
          "execution_count": 45
        }
      ]
    },
    {
      "cell_type": "code",
      "metadata": {
        "colab": {
          "base_uri": "https://localhost:8080/",
          "height": 350
        },
        "id": "T-VkXvogqgf3",
        "outputId": "d41950bf-f04f-408c-abf4-bcd7452a6dc0"
      },
      "source": [
        "plt.figure(figsize=(7,5))\n",
        "sns.countplot(x='OverTime',hue='Attrition', data=train_data, palette='plasma')\n",
        "plt.title(\"OverTime w.r.t Attrition\")\n",
        "plt.legend(loc='best')\n",
        "plt.show()"
      ],
      "execution_count": 46,
      "outputs": [
        {
          "output_type": "display_data",
          "data": {
            "image/png": "[encoded data removed]",
            "text/plain": [
              "<Figure size 504x360 with 1 Axes>"
            ]
          },
          "metadata": {
            "tags": [],
            "needs_background": "light"
          }
        }
      ]
    },
    {
      "cell_type": "code",
      "metadata": {
        "colab": {
          "base_uri": "https://localhost:8080/",
          "height": 142
        },
        "id": "VRqoMKKlqmxQ",
        "outputId": "c120f098-04b5-4672-b3a6-cac838f7523b"
      },
      "source": [
        "pd.crosstab(train_data['OverTime'], train_data['Gender'])"
      ],
      "execution_count": 47,
      "outputs": [
        {
          "output_type": "execute_result",
          "data": {
            "text/html": [
              "<div>\n",
              "<style scoped>\n",
              "    .dataframe tbody tr th:only-of-type {\n",
              "        vertical-align: middle;\n",
              "    }\n",
              "\n",
              "    .dataframe tbody tr th {\n",
              "        vertical-align: top;\n",
              "    }\n",
              "\n",
              "    .dataframe thead th {\n",
              "        text-align: right;\n",
              "    }\n",
              "</style>\n",
              "<table border=\"1\" class=\"dataframe\">\n",
              "  <thead>\n",
              "    <tr style=\"text-align: right;\">\n",
              "      <th>Gender</th>\n",
              "      <th>Female</th>\n",
              "      <th>Male</th>\n",
              "    </tr>\n",
              "    <tr>\n",
              "      <th>OverTime</th>\n",
              "      <th></th>\n",
              "      <th></th>\n",
              "    </tr>\n",
              "  </thead>\n",
              "  <tbody>\n",
              "    <tr>\n",
              "      <th>No</th>\n",
              "      <td>286</td>\n",
              "      <td>445</td>\n",
              "    </tr>\n",
              "    <tr>\n",
              "      <th>Yes</th>\n",
              "      <td>126</td>\n",
              "      <td>172</td>\n",
              "    </tr>\n",
              "  </tbody>\n",
              "</table>\n",
              "</div>"
            ],
            "text/plain": [
              "Gender    Female  Male\n",
              "OverTime              \n",
              "No           286   445\n",
              "Yes          126   172"
            ]
          },
          "metadata": {
            "tags": []
          },
          "execution_count": 47
        }
      ]
    },
    {
      "cell_type": "code",
      "metadata": {
        "colab": {
          "base_uri": "https://localhost:8080/"
        },
        "id": "kQj1MqrWquU8",
        "outputId": "150f88a5-590d-4939-cb6f-61fd060e2eb2"
      },
      "source": [
        "numerical_features = [feature for feature in train_data.columns if train_data[feature].dtype != 'O']\n",
        "print(\"Total numerical_features\", len(numerical_features))"
      ],
      "execution_count": 48,
      "outputs": [
        {
          "output_type": "stream",
          "text": [
            "Total numerical_features 26\n"
          ],
          "name": "stdout"
        }
      ]
    },
    {
      "cell_type": "code",
      "metadata": {
        "colab": {
          "base_uri": "https://localhost:8080/",
          "height": 224
        },
        "id": "m6zoa85Dq7dM",
        "outputId": "643884ec-5d6e-42da-f517-d2dee68abe68"
      },
      "source": [
        "train_data[numerical_features].head()"
      ],
      "execution_count": 49,
      "outputs": [
        {
          "output_type": "execute_result",
          "data": {
            "text/html": [
              "<div>\n",
              "<style scoped>\n",
              "    .dataframe tbody tr th:only-of-type {\n",
              "        vertical-align: middle;\n",
              "    }\n",
              "\n",
              "    .dataframe tbody tr th {\n",
              "        vertical-align: top;\n",
              "    }\n",
              "\n",
              "    .dataframe thead th {\n",
              "        text-align: right;\n",
              "    }\n",
              "</style>\n",
              "<table border=\"1\" class=\"dataframe\">\n",
              "  <thead>\n",
              "    <tr style=\"text-align: right;\">\n",
              "      <th></th>\n",
              "      <th>Age</th>\n",
              "      <th>DailyRate</th>\n",
              "      <th>DistanceFromHome</th>\n",
              "      <th>Education</th>\n",
              "      <th>EmployeeCount</th>\n",
              "      <th>EmployeeNumber</th>\n",
              "      <th>EnvironmentSatisfaction</th>\n",
              "      <th>HourlyRate</th>\n",
              "      <th>JobInvolvement</th>\n",
              "      <th>JobLevel</th>\n",
              "      <th>JobSatisfaction</th>\n",
              "      <th>MonthlyIncome</th>\n",
              "      <th>MonthlyRate</th>\n",
              "      <th>NumCompaniesWorked</th>\n",
              "      <th>PercentSalaryHike</th>\n",
              "      <th>PerformanceRating</th>\n",
              "      <th>RelationshipSatisfaction</th>\n",
              "      <th>StandardHours</th>\n",
              "      <th>StockOptionLevel</th>\n",
              "      <th>TotalWorkingYears</th>\n",
              "      <th>TrainingTimesLastYear</th>\n",
              "      <th>WorkLifeBalance</th>\n",
              "      <th>YearsAtCompany</th>\n",
              "      <th>YearsInCurrentRole</th>\n",
              "      <th>YearsSinceLastPromotion</th>\n",
              "      <th>YearsWithCurrManager</th>\n",
              "    </tr>\n",
              "  </thead>\n",
              "  <tbody>\n",
              "    <tr>\n",
              "      <th>0</th>\n",
              "      <td>50.0</td>\n",
              "      <td>1126.0</td>\n",
              "      <td>1.0</td>\n",
              "      <td>2</td>\n",
              "      <td>1</td>\n",
              "      <td>997</td>\n",
              "      <td>4</td>\n",
              "      <td>66</td>\n",
              "      <td>3</td>\n",
              "      <td>4</td>\n",
              "      <td>4</td>\n",
              "      <td>17399</td>\n",
              "      <td>6615</td>\n",
              "      <td>9</td>\n",
              "      <td>22</td>\n",
              "      <td>4</td>\n",
              "      <td>3</td>\n",
              "      <td>80</td>\n",
              "      <td>1</td>\n",
              "      <td>32</td>\n",
              "      <td>1</td>\n",
              "      <td>2</td>\n",
              "      <td>5</td>\n",
              "      <td>4</td>\n",
              "      <td>1</td>\n",
              "      <td>3</td>\n",
              "    </tr>\n",
              "    <tr>\n",
              "      <th>1</th>\n",
              "      <td>36.0</td>\n",
              "      <td>216.0</td>\n",
              "      <td>6.0</td>\n",
              "      <td>2</td>\n",
              "      <td>1</td>\n",
              "      <td>178</td>\n",
              "      <td>2</td>\n",
              "      <td>84</td>\n",
              "      <td>3</td>\n",
              "      <td>2</td>\n",
              "      <td>2</td>\n",
              "      <td>4941</td>\n",
              "      <td>2819</td>\n",
              "      <td>6</td>\n",
              "      <td>20</td>\n",
              "      <td>4</td>\n",
              "      <td>4</td>\n",
              "      <td>80</td>\n",
              "      <td>2</td>\n",
              "      <td>7</td>\n",
              "      <td>0</td>\n",
              "      <td>3</td>\n",
              "      <td>3</td>\n",
              "      <td>2</td>\n",
              "      <td>0</td>\n",
              "      <td>1</td>\n",
              "    </tr>\n",
              "    <tr>\n",
              "      <th>2</th>\n",
              "      <td>21.0</td>\n",
              "      <td>337.0</td>\n",
              "      <td>7.0</td>\n",
              "      <td>1</td>\n",
              "      <td>1</td>\n",
              "      <td>1780</td>\n",
              "      <td>2</td>\n",
              "      <td>31</td>\n",
              "      <td>3</td>\n",
              "      <td>1</td>\n",
              "      <td>2</td>\n",
              "      <td>2679</td>\n",
              "      <td>4567</td>\n",
              "      <td>1</td>\n",
              "      <td>13</td>\n",
              "      <td>3</td>\n",
              "      <td>2</td>\n",
              "      <td>80</td>\n",
              "      <td>0</td>\n",
              "      <td>1</td>\n",
              "      <td>3</td>\n",
              "      <td>3</td>\n",
              "      <td>1</td>\n",
              "      <td>0</td>\n",
              "      <td>1</td>\n",
              "      <td>0</td>\n",
              "    </tr>\n",
              "    <tr>\n",
              "      <th>3</th>\n",
              "      <td>50.0</td>\n",
              "      <td>1246.0</td>\n",
              "      <td>NaN</td>\n",
              "      <td>3</td>\n",
              "      <td>1</td>\n",
              "      <td>644</td>\n",
              "      <td>1</td>\n",
              "      <td>99</td>\n",
              "      <td>3</td>\n",
              "      <td>5</td>\n",
              "      <td>2</td>\n",
              "      <td>18200</td>\n",
              "      <td>7999</td>\n",
              "      <td>1</td>\n",
              "      <td>11</td>\n",
              "      <td>3</td>\n",
              "      <td>3</td>\n",
              "      <td>80</td>\n",
              "      <td>1</td>\n",
              "      <td>32</td>\n",
              "      <td>2</td>\n",
              "      <td>3</td>\n",
              "      <td>32</td>\n",
              "      <td>5</td>\n",
              "      <td>10</td>\n",
              "      <td>7</td>\n",
              "    </tr>\n",
              "    <tr>\n",
              "      <th>4</th>\n",
              "      <td>52.0</td>\n",
              "      <td>994.0</td>\n",
              "      <td>7.0</td>\n",
              "      <td>4</td>\n",
              "      <td>1</td>\n",
              "      <td>1118</td>\n",
              "      <td>2</td>\n",
              "      <td>87</td>\n",
              "      <td>3</td>\n",
              "      <td>3</td>\n",
              "      <td>2</td>\n",
              "      <td>10445</td>\n",
              "      <td>15322</td>\n",
              "      <td>7</td>\n",
              "      <td>19</td>\n",
              "      <td>3</td>\n",
              "      <td>4</td>\n",
              "      <td>80</td>\n",
              "      <td>0</td>\n",
              "      <td>18</td>\n",
              "      <td>4</td>\n",
              "      <td>3</td>\n",
              "      <td>8</td>\n",
              "      <td>6</td>\n",
              "      <td>4</td>\n",
              "      <td>0</td>\n",
              "    </tr>\n",
              "  </tbody>\n",
              "</table>\n",
              "</div>"
            ],
            "text/plain": [
              "    Age  DailyRate  ...  YearsSinceLastPromotion  YearsWithCurrManager\n",
              "0  50.0     1126.0  ...                        1                     3\n",
              "1  36.0      216.0  ...                        0                     1\n",
              "2  21.0      337.0  ...                        1                     0\n",
              "3  50.0     1246.0  ...                       10                     7\n",
              "4  52.0      994.0  ...                        4                     0\n",
              "\n",
              "[5 rows x 26 columns]"
            ]
          },
          "metadata": {
            "tags": []
          },
          "execution_count": 49
        }
      ]
    },
    {
      "cell_type": "code",
      "metadata": {
        "colab": {
          "base_uri": "https://localhost:8080/",
          "height": 367
        },
        "id": "yw5kO-QLrBO_",
        "outputId": "cf8bf365-612b-4c5a-fa26-fc08f1ed0bc9"
      },
      "source": [
        "sns.distplot(train_data['Age'],hist=False)\n",
        "plt.show()"
      ],
      "execution_count": 50,
      "outputs": [
        {
          "output_type": "stream",
          "text": [
            "/usr/local/lib/python3.7/dist-packages/seaborn/distributions.py:2557: FutureWarning:\n",
            "\n",
            "`distplot` is a deprecated function and will be removed in a future version. Please adapt your code to use either `displot` (a figure-level function with similar flexibility) or `kdeplot` (an axes-level function for kernel density plots).\n",
            "\n"
          ],
          "name": "stderr"
        },
        {
          "output_type": "display_data",
          "data": {
            "image/png": "[encoded data removed]",
            "text/plain": [
              "<Figure size 432x288 with 1 Axes>"
            ]
          },
          "metadata": {
            "tags": [],
            "needs_background": "light"
          }
        }
      ]
    },
    {
      "cell_type": "code",
      "metadata": {
        "colab": {
          "base_uri": "https://localhost:8080/"
        },
        "id": "h7ONNq5ArHQl",
        "outputId": "d6008578-a1f6-4467-c7f0-557d84ef96c5"
      },
      "source": [
        "train_data['Age'].nunique()"
      ],
      "execution_count": 51,
      "outputs": [
        {
          "output_type": "execute_result",
          "data": {
            "text/plain": [
              "39"
            ]
          },
          "metadata": {
            "tags": []
          },
          "execution_count": 51
        }
      ]
    },
    {
      "cell_type": "code",
      "metadata": {
        "colab": {
          "base_uri": "https://localhost:8080/",
          "height": 224
        },
        "id": "V3wQQmB1rNF5",
        "outputId": "fbfb3944-e4d2-4d47-e878-b90f3ea2d06f"
      },
      "source": [
        "ordinal_features = ['Education','EnvironmentSatisfaction','JobInvolvement','JobSatisfaction',\n",
        "                    'PerformanceRating','RelationshipSatisfaction','WorkLifeBalance']\n",
        "train_data[ordinal_features].head()"
      ],
      "execution_count": 52,
      "outputs": [
        {
          "output_type": "execute_result",
          "data": {
            "text/html": [
              "<div>\n",
              "<style scoped>\n",
              "    .dataframe tbody tr th:only-of-type {\n",
              "        vertical-align: middle;\n",
              "    }\n",
              "\n",
              "    .dataframe tbody tr th {\n",
              "        vertical-align: top;\n",
              "    }\n",
              "\n",
              "    .dataframe thead th {\n",
              "        text-align: right;\n",
              "    }\n",
              "</style>\n",
              "<table border=\"1\" class=\"dataframe\">\n",
              "  <thead>\n",
              "    <tr style=\"text-align: right;\">\n",
              "      <th></th>\n",
              "      <th>Education</th>\n",
              "      <th>EnvironmentSatisfaction</th>\n",
              "      <th>JobInvolvement</th>\n",
              "      <th>JobSatisfaction</th>\n",
              "      <th>PerformanceRating</th>\n",
              "      <th>RelationshipSatisfaction</th>\n",
              "      <th>WorkLifeBalance</th>\n",
              "    </tr>\n",
              "  </thead>\n",
              "  <tbody>\n",
              "    <tr>\n",
              "      <th>0</th>\n",
              "      <td>2</td>\n",
              "      <td>4</td>\n",
              "      <td>3</td>\n",
              "      <td>4</td>\n",
              "      <td>4</td>\n",
              "      <td>3</td>\n",
              "      <td>2</td>\n",
              "    </tr>\n",
              "    <tr>\n",
              "      <th>1</th>\n",
              "      <td>2</td>\n",
              "      <td>2</td>\n",
              "      <td>3</td>\n",
              "      <td>2</td>\n",
              "      <td>4</td>\n",
              "      <td>4</td>\n",
              "      <td>3</td>\n",
              "    </tr>\n",
              "    <tr>\n",
              "      <th>2</th>\n",
              "      <td>1</td>\n",
              "      <td>2</td>\n",
              "      <td>3</td>\n",
              "      <td>2</td>\n",
              "      <td>3</td>\n",
              "      <td>2</td>\n",
              "      <td>3</td>\n",
              "    </tr>\n",
              "    <tr>\n",
              "      <th>3</th>\n",
              "      <td>3</td>\n",
              "      <td>1</td>\n",
              "      <td>3</td>\n",
              "      <td>2</td>\n",
              "      <td>3</td>\n",
              "      <td>3</td>\n",
              "      <td>3</td>\n",
              "    </tr>\n",
              "    <tr>\n",
              "      <th>4</th>\n",
              "      <td>4</td>\n",
              "      <td>2</td>\n",
              "      <td>3</td>\n",
              "      <td>2</td>\n",
              "      <td>3</td>\n",
              "      <td>4</td>\n",
              "      <td>3</td>\n",
              "    </tr>\n",
              "  </tbody>\n",
              "</table>\n",
              "</div>"
            ],
            "text/plain": [
              "   Education  ...  WorkLifeBalance\n",
              "0          2  ...                2\n",
              "1          2  ...                3\n",
              "2          1  ...                3\n",
              "3          3  ...                3\n",
              "4          4  ...                3\n",
              "\n",
              "[5 rows x 7 columns]"
            ]
          },
          "metadata": {
            "tags": []
          },
          "execution_count": 52
        }
      ]
    },
    {
      "cell_type": "code",
      "metadata": {
        "colab": {
          "base_uri": "https://localhost:8080/"
        },
        "id": "E6E6kvmfrVgE",
        "outputId": "a6a780be-45b7-422a-e1f8-bdd43c96f88e"
      },
      "source": [
        "train_data['Education'].value_counts()"
      ],
      "execution_count": 53,
      "outputs": [
        {
          "output_type": "execute_result",
          "data": {
            "text/plain": [
              "3    386\n",
              "4    279\n",
              "2    194\n",
              "1    134\n",
              "5     36\n",
              "Name: Education, dtype: int64"
            ]
          },
          "metadata": {
            "tags": []
          },
          "execution_count": 53
        }
      ]
    },
    {
      "cell_type": "code",
      "metadata": {
        "colab": {
          "base_uri": "https://localhost:8080/",
          "height": 350
        },
        "id": "tB6VEM1arcVM",
        "outputId": "c7f424a0-c8ca-4275-c345-fb2231c57b3a"
      },
      "source": [
        "edu_map = {1 :'Below College', 2: 'College', 3 :'Bachelor', 4 :'Master', 5: 'Doctor'}\n",
        "plt.figure(figsize=(7,5))\n",
        "sns.countplot(x=train_data['Education'].map(edu_map), hue='Attrition', data=train_data, palette='prism')\n",
        "plt.title(\"Education W.R.T Attrition\")\n",
        "plt.show()"
      ],
      "execution_count": 56,
      "outputs": [
        {
          "output_type": "display_data",
          "data": {
            "image/png": "[encoded data removed]",
            "text/plain": [
              "<Figure size 504x360 with 1 Axes>"
            ]
          },
          "metadata": {
            "tags": [],
            "needs_background": "light"
          }
        }
      ]
    },
    {
      "cell_type": "code",
      "metadata": {
        "colab": {
          "base_uri": "https://localhost:8080/"
        },
        "id": "jrUQo1JurkA1",
        "outputId": "8a21ec97-e8cd-4bef-b4c8-bb8b29312614"
      },
      "source": [
        "train_data['EnvironmentSatisfaction'].value_counts()"
      ],
      "execution_count": 57,
      "outputs": [
        {
          "output_type": "execute_result",
          "data": {
            "text/plain": [
              "3    310\n",
              "4    300\n",
              "2    212\n",
              "1    207\n",
              "Name: EnvironmentSatisfaction, dtype: int64"
            ]
          },
          "metadata": {
            "tags": []
          },
          "execution_count": 57
        }
      ]
    },
    {
      "cell_type": "code",
      "metadata": {
        "colab": {
          "base_uri": "https://localhost:8080/"
        },
        "id": "UhmtxHKDrzeQ",
        "outputId": "ac7447b6-ebd4-4a43-8ba3-a9024e6f651e"
      },
      "source": [
        "train_data['JobInvolvement'].value_counts()"
      ],
      "execution_count": 58,
      "outputs": [
        {
          "output_type": "execute_result",
          "data": {
            "text/plain": [
              "3    606\n",
              "2    269\n",
              "4     94\n",
              "1     60\n",
              "Name: JobInvolvement, dtype: int64"
            ]
          },
          "metadata": {
            "tags": []
          },
          "execution_count": 58
        }
      ]
    },
    {
      "cell_type": "code",
      "metadata": {
        "colab": {
          "base_uri": "https://localhost:8080/"
        },
        "id": "Mg7Nak5ir4vj",
        "outputId": "2a5d12fe-8c10-4aa6-d701-ff000ee579fd"
      },
      "source": [
        "numerical_features = [feature for feature in train_data.columns if train_data[feature].dtype != 'O' and feature not in ordinal_features]\n",
        "print(\"total numerical_features\",len(numerical_features))"
      ],
      "execution_count": 59,
      "outputs": [
        {
          "output_type": "stream",
          "text": [
            "total numerical_features 19\n"
          ],
          "name": "stdout"
        }
      ]
    },
    {
      "cell_type": "code",
      "metadata": {
        "colab": {
          "base_uri": "https://localhost:8080/",
          "height": 224
        },
        "id": "g5qm0j6EsLz6",
        "outputId": "06ed6160-889e-4566-ddcc-d6ac5120dc44"
      },
      "source": [
        "train_data[numerical_features].head()"
      ],
      "execution_count": 60,
      "outputs": [
        {
          "output_type": "execute_result",
          "data": {
            "text/html": [
              "<div>\n",
              "<style scoped>\n",
              "    .dataframe tbody tr th:only-of-type {\n",
              "        vertical-align: middle;\n",
              "    }\n",
              "\n",
              "    .dataframe tbody tr th {\n",
              "        vertical-align: top;\n",
              "    }\n",
              "\n",
              "    .dataframe thead th {\n",
              "        text-align: right;\n",
              "    }\n",
              "</style>\n",
              "<table border=\"1\" class=\"dataframe\">\n",
              "  <thead>\n",
              "    <tr style=\"text-align: right;\">\n",
              "      <th></th>\n",
              "      <th>Age</th>\n",
              "      <th>DailyRate</th>\n",
              "      <th>DistanceFromHome</th>\n",
              "      <th>EmployeeCount</th>\n",
              "      <th>EmployeeNumber</th>\n",
              "      <th>HourlyRate</th>\n",
              "      <th>JobLevel</th>\n",
              "      <th>MonthlyIncome</th>\n",
              "      <th>MonthlyRate</th>\n",
              "      <th>NumCompaniesWorked</th>\n",
              "      <th>PercentSalaryHike</th>\n",
              "      <th>StandardHours</th>\n",
              "      <th>StockOptionLevel</th>\n",
              "      <th>TotalWorkingYears</th>\n",
              "      <th>TrainingTimesLastYear</th>\n",
              "      <th>YearsAtCompany</th>\n",
              "      <th>YearsInCurrentRole</th>\n",
              "      <th>YearsSinceLastPromotion</th>\n",
              "      <th>YearsWithCurrManager</th>\n",
              "    </tr>\n",
              "  </thead>\n",
              "  <tbody>\n",
              "    <tr>\n",
              "      <th>0</th>\n",
              "      <td>50.0</td>\n",
              "      <td>1126.0</td>\n",
              "      <td>1.0</td>\n",
              "      <td>1</td>\n",
              "      <td>997</td>\n",
              "      <td>66</td>\n",
              "      <td>4</td>\n",
              "      <td>17399</td>\n",
              "      <td>6615</td>\n",
              "      <td>9</td>\n",
              "      <td>22</td>\n",
              "      <td>80</td>\n",
              "      <td>1</td>\n",
              "      <td>32</td>\n",
              "      <td>1</td>\n",
              "      <td>5</td>\n",
              "      <td>4</td>\n",
              "      <td>1</td>\n",
              "      <td>3</td>\n",
              "    </tr>\n",
              "    <tr>\n",
              "      <th>1</th>\n",
              "      <td>36.0</td>\n",
              "      <td>216.0</td>\n",
              "      <td>6.0</td>\n",
              "      <td>1</td>\n",
              "      <td>178</td>\n",
              "      <td>84</td>\n",
              "      <td>2</td>\n",
              "      <td>4941</td>\n",
              "      <td>2819</td>\n",
              "      <td>6</td>\n",
              "      <td>20</td>\n",
              "      <td>80</td>\n",
              "      <td>2</td>\n",
              "      <td>7</td>\n",
              "      <td>0</td>\n",
              "      <td>3</td>\n",
              "      <td>2</td>\n",
              "      <td>0</td>\n",
              "      <td>1</td>\n",
              "    </tr>\n",
              "    <tr>\n",
              "      <th>2</th>\n",
              "      <td>21.0</td>\n",
              "      <td>337.0</td>\n",
              "      <td>7.0</td>\n",
              "      <td>1</td>\n",
              "      <td>1780</td>\n",
              "      <td>31</td>\n",
              "      <td>1</td>\n",
              "      <td>2679</td>\n",
              "      <td>4567</td>\n",
              "      <td>1</td>\n",
              "      <td>13</td>\n",
              "      <td>80</td>\n",
              "      <td>0</td>\n",
              "      <td>1</td>\n",
              "      <td>3</td>\n",
              "      <td>1</td>\n",
              "      <td>0</td>\n",
              "      <td>1</td>\n",
              "      <td>0</td>\n",
              "    </tr>\n",
              "    <tr>\n",
              "      <th>3</th>\n",
              "      <td>50.0</td>\n",
              "      <td>1246.0</td>\n",
              "      <td>NaN</td>\n",
              "      <td>1</td>\n",
              "      <td>644</td>\n",
              "      <td>99</td>\n",
              "      <td>5</td>\n",
              "      <td>18200</td>\n",
              "      <td>7999</td>\n",
              "      <td>1</td>\n",
              "      <td>11</td>\n",
              "      <td>80</td>\n",
              "      <td>1</td>\n",
              "      <td>32</td>\n",
              "      <td>2</td>\n",
              "      <td>32</td>\n",
              "      <td>5</td>\n",
              "      <td>10</td>\n",
              "      <td>7</td>\n",
              "    </tr>\n",
              "    <tr>\n",
              "      <th>4</th>\n",
              "      <td>52.0</td>\n",
              "      <td>994.0</td>\n",
              "      <td>7.0</td>\n",
              "      <td>1</td>\n",
              "      <td>1118</td>\n",
              "      <td>87</td>\n",
              "      <td>3</td>\n",
              "      <td>10445</td>\n",
              "      <td>15322</td>\n",
              "      <td>7</td>\n",
              "      <td>19</td>\n",
              "      <td>80</td>\n",
              "      <td>0</td>\n",
              "      <td>18</td>\n",
              "      <td>4</td>\n",
              "      <td>8</td>\n",
              "      <td>6</td>\n",
              "      <td>4</td>\n",
              "      <td>0</td>\n",
              "    </tr>\n",
              "  </tbody>\n",
              "</table>\n",
              "</div>"
            ],
            "text/plain": [
              "    Age  DailyRate  ...  YearsSinceLastPromotion  YearsWithCurrManager\n",
              "0  50.0     1126.0  ...                        1                     3\n",
              "1  36.0      216.0  ...                        0                     1\n",
              "2  21.0      337.0  ...                        1                     0\n",
              "3  50.0     1246.0  ...                       10                     7\n",
              "4  52.0      994.0  ...                        4                     0\n",
              "\n",
              "[5 rows x 19 columns]"
            ]
          },
          "metadata": {
            "tags": []
          },
          "execution_count": 60
        }
      ]
    },
    {
      "cell_type": "code",
      "metadata": {
        "colab": {
          "base_uri": "https://localhost:8080/",
          "height": 367
        },
        "id": "IowyEyZZsQZT",
        "outputId": "02448f36-78fd-4cf1-da2d-ef0d1c50d904"
      },
      "source": [
        "sns.distplot(train_data['MonthlyIncome'],hist=False)\n",
        "plt.show()"
      ],
      "execution_count": 61,
      "outputs": [
        {
          "output_type": "stream",
          "text": [
            "/usr/local/lib/python3.7/dist-packages/seaborn/distributions.py:2557: FutureWarning:\n",
            "\n",
            "`distplot` is a deprecated function and will be removed in a future version. Please adapt your code to use either `displot` (a figure-level function with similar flexibility) or `kdeplot` (an axes-level function for kernel density plots).\n",
            "\n"
          ],
          "name": "stderr"
        },
        {
          "output_type": "display_data",
          "data": {
            "image/png": "[encoded data removed]",
            "text/plain": [
              "<Figure size 432x288 with 1 Axes>"
            ]
          },
          "metadata": {
            "tags": [],
            "needs_background": "light"
          }
        }
      ]
    },
    {
      "cell_type": "code",
      "metadata": {
        "colab": {
          "base_uri": "https://localhost:8080/",
          "height": 422
        },
        "id": "RWsOvpr5sVzU",
        "outputId": "0cf98b42-addc-4f2c-f711-99dc9c861040"
      },
      "source": [
        "plt.figure(figsize=(6,5))\n",
        "sns.boxplot(train_data['MonthlyIncome'])\n",
        "plt.show()"
      ],
      "execution_count": 62,
      "outputs": [
        {
          "output_type": "stream",
          "text": [
            "/usr/local/lib/python3.7/dist-packages/seaborn/_decorators.py:43: FutureWarning:\n",
            "\n",
            "Pass the following variable as a keyword arg: x. From version 0.12, the only valid positional argument will be `data`, and passing other arguments without an explicit keyword will result in an error or misinterpretation.\n",
            "\n"
          ],
          "name": "stderr"
        },
        {
          "output_type": "display_data",
          "data": {
            "image/png": "[encoded data removed]",
            "text/plain": [
              "<Figure size 432x360 with 1 Axes>"
            ]
          },
          "metadata": {
            "tags": [],
            "needs_background": "light"
          }
        }
      ]
    },
    {
      "cell_type": "code",
      "metadata": {
        "colab": {
          "base_uri": "https://localhost:8080/"
        },
        "id": "sLxG2O45sak4",
        "outputId": "76d035c8-c04e-4a76-f5c3-6c336ed04f66"
      },
      "source": [
        "train_data.groupby('Age')['EmployeeCount'].sum().sort_values(ascending=False).head()"
      ],
      "execution_count": 63,
      "outputs": [
        {
          "output_type": "execute_result",
          "data": {
            "text/plain": [
              "Age\n",
              "29.0    49\n",
              "34.0    48\n",
              "36.0    48\n",
              "31.0    47\n",
              "30.0    42\n",
              "Name: EmployeeCount, dtype: int64"
            ]
          },
          "metadata": {
            "tags": []
          },
          "execution_count": 63
        }
      ]
    },
    {
      "cell_type": "code",
      "metadata": {
        "colab": {
          "base_uri": "https://localhost:8080/"
        },
        "id": "gFpNGqCtsmi6",
        "outputId": "ec7342a1-0dd4-48f5-de71-22932bb2a2cc"
      },
      "source": [
        "train_data['JobLevel'].value_counts()"
      ],
      "execution_count": 64,
      "outputs": [
        {
          "output_type": "execute_result",
          "data": {
            "text/plain": [
              "1    403\n",
              "2    350\n",
              "3    151\n",
              "4     78\n",
              "5     47\n",
              "Name: JobLevel, dtype: int64"
            ]
          },
          "metadata": {
            "tags": []
          },
          "execution_count": 64
        }
      ]
    },
    {
      "cell_type": "code",
      "metadata": {
        "colab": {
          "base_uri": "https://localhost:8080/",
          "height": 279
        },
        "id": "wXxZYSetsuBb",
        "outputId": "460a8a0f-cdf2-4452-f40b-29136977393c"
      },
      "source": [
        "sns.countplot(x='JobLevel',hue='Attrition',data=train_data)\n",
        "plt.show()"
      ],
      "execution_count": 65,
      "outputs": [
        {
          "output_type": "display_data",
          "data": {
            "image/png": "[encoded data removed]",
            "text/plain": [
              "<Figure size 432x288 with 1 Axes>"
            ]
          },
          "metadata": {
            "tags": [],
            "needs_background": "light"
          }
        }
      ]
    },
    {
      "cell_type": "code",
      "metadata": {
        "colab": {
          "base_uri": "https://localhost:8080/"
        },
        "id": "giMJ7hiDsznk",
        "outputId": "c5380db7-b12a-4c64-bc13-aae9d20c954a"
      },
      "source": [
        "train_data['StockOptionLevel'].value_counts()"
      ],
      "execution_count": 66,
      "outputs": [
        {
          "output_type": "execute_result",
          "data": {
            "text/plain": [
              "0    432\n",
              "1    417\n",
              "2    111\n",
              "3     69\n",
              "Name: StockOptionLevel, dtype: int64"
            ]
          },
          "metadata": {
            "tags": []
          },
          "execution_count": 66
        }
      ]
    },
    {
      "cell_type": "code",
      "metadata": {
        "id": "pAU6AaGztG50"
      },
      "source": [
        "#drop the columns which are unrelevant for Attrition prediction. \n",
        "train_data.drop(['EmployeeCount','EmployeeNumber','StandardHours'],axis=1, inplace=True)"
      ],
      "execution_count": 68,
      "outputs": []
    },
    {
      "cell_type": "code",
      "metadata": {
        "colab": {
          "base_uri": "https://localhost:8080/",
          "height": 272
        },
        "id": "7yO9u4l8tPEJ",
        "outputId": "9ddf73b6-f50e-4115-d9e6-a5ba9624b12b"
      },
      "source": [
        "# Categorical Encoding\n",
        "train_data[categorical_features].head()"
      ],
      "execution_count": 69,
      "outputs": [
        {
          "output_type": "execute_result",
          "data": {
            "text/html": [
              "<div>\n",
              "<style scoped>\n",
              "    .dataframe tbody tr th:only-of-type {\n",
              "        vertical-align: middle;\n",
              "    }\n",
              "\n",
              "    .dataframe tbody tr th {\n",
              "        vertical-align: top;\n",
              "    }\n",
              "\n",
              "    .dataframe thead th {\n",
              "        text-align: right;\n",
              "    }\n",
              "</style>\n",
              "<table border=\"1\" class=\"dataframe\">\n",
              "  <thead>\n",
              "    <tr style=\"text-align: right;\">\n",
              "      <th></th>\n",
              "      <th>Attrition</th>\n",
              "      <th>BusinessTravel</th>\n",
              "      <th>Department</th>\n",
              "      <th>EducationField</th>\n",
              "      <th>Gender</th>\n",
              "      <th>JobRole</th>\n",
              "      <th>MaritalStatus</th>\n",
              "      <th>Over18</th>\n",
              "      <th>OverTime</th>\n",
              "    </tr>\n",
              "  </thead>\n",
              "  <tbody>\n",
              "    <tr>\n",
              "      <th>0</th>\n",
              "      <td>No</td>\n",
              "      <td>Travel_Rarely</td>\n",
              "      <td>Research &amp; Development</td>\n",
              "      <td>Medical</td>\n",
              "      <td>Male</td>\n",
              "      <td>Research Director</td>\n",
              "      <td>Divorced</td>\n",
              "      <td>Y</td>\n",
              "      <td>No</td>\n",
              "    </tr>\n",
              "    <tr>\n",
              "      <th>1</th>\n",
              "      <td>No</td>\n",
              "      <td>Travel_Rarely</td>\n",
              "      <td>Research &amp; Development</td>\n",
              "      <td>Medical</td>\n",
              "      <td>Male</td>\n",
              "      <td>Manufacturing Director</td>\n",
              "      <td>Divorced</td>\n",
              "      <td>Y</td>\n",
              "      <td>No</td>\n",
              "    </tr>\n",
              "    <tr>\n",
              "      <th>2</th>\n",
              "      <td>Yes</td>\n",
              "      <td>Travel_Rarely</td>\n",
              "      <td>Sales</td>\n",
              "      <td>Marketing</td>\n",
              "      <td>Male</td>\n",
              "      <td>Sales Representative</td>\n",
              "      <td>Single</td>\n",
              "      <td>Y</td>\n",
              "      <td>No</td>\n",
              "    </tr>\n",
              "    <tr>\n",
              "      <th>3</th>\n",
              "      <td>No</td>\n",
              "      <td>Travel_Frequently</td>\n",
              "      <td>Human Resources</td>\n",
              "      <td>Medical</td>\n",
              "      <td>Male</td>\n",
              "      <td>Manager</td>\n",
              "      <td>Married</td>\n",
              "      <td>Y</td>\n",
              "      <td>No</td>\n",
              "    </tr>\n",
              "    <tr>\n",
              "      <th>4</th>\n",
              "      <td>No</td>\n",
              "      <td>Travel_Rarely</td>\n",
              "      <td>Research &amp; Development</td>\n",
              "      <td>Life Sciences</td>\n",
              "      <td>Male</td>\n",
              "      <td>Healthcare Representative</td>\n",
              "      <td>Single</td>\n",
              "      <td>Y</td>\n",
              "      <td>No</td>\n",
              "    </tr>\n",
              "  </tbody>\n",
              "</table>\n",
              "</div>"
            ],
            "text/plain": [
              "  Attrition     BusinessTravel  ... Over18 OverTime\n",
              "0        No      Travel_Rarely  ...      Y       No\n",
              "1        No      Travel_Rarely  ...      Y       No\n",
              "2       Yes      Travel_Rarely  ...      Y       No\n",
              "3        No  Travel_Frequently  ...      Y       No\n",
              "4        No      Travel_Rarely  ...      Y       No\n",
              "\n",
              "[5 rows x 9 columns]"
            ]
          },
          "metadata": {
            "tags": []
          },
          "execution_count": 69
        }
      ]
    },
    {
      "cell_type": "code",
      "metadata": {
        "id": "_3TK_oGdtX8A"
      },
      "source": [
        "empdf['Attrition'] = empdf['Attrition'].replace({'No':0,'Yes':1})"
      ],
      "execution_count": null,
      "outputs": []
    }
  ]
}