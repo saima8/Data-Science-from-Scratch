{
  "nbformat": 4,
  "nbformat_minor": 0,
  "metadata": {
    "colab": {
      "name": "h1- Hypothesis Testing.ipynb",
      "provenance": []
    },
    "kernelspec": {
      "name": "python3",
      "display_name": "Python 3"
    }
  },
  "cells": [
    {
      "cell_type": "code",
      "metadata": {
        "colab": {
          "base_uri": "https://localhost:8080/",
          "height": 204
        },
        "id": "ry6c2HGT17Wy",
        "outputId": "cb864519-4aef-4ebb-9de4-2e44be62d07e"
      },
      "source": [
        "import pandas as pd\r\n",
        "import numpy as np\r\n",
        "import seaborn as sns\r\n",
        "import matplotlib.pyplot as plt\r\n",
        "\r\n",
        "file_name = \"https://raw.githubusercontent.com/rajeevratan84/datascienceforbusiness/master/drug_trial.csv\"\r\n",
        "df = pd.read_csv(file_name)\r\n",
        "df.head()"
      ],
      "execution_count": 1,
      "outputs": [
        {
          "output_type": "execute_result",
          "data": {
            "text/html": [
              "<div>\n",
              "<style scoped>\n",
              "    .dataframe tbody tr th:only-of-type {\n",
              "        vertical-align: middle;\n",
              "    }\n",
              "\n",
              "    .dataframe tbody tr th {\n",
              "        vertical-align: top;\n",
              "    }\n",
              "\n",
              "    .dataframe thead th {\n",
              "        text-align: right;\n",
              "    }\n",
              "</style>\n",
              "<table border=\"1\" class=\"dataframe\">\n",
              "  <thead>\n",
              "    <tr style=\"text-align: right;\">\n",
              "      <th></th>\n",
              "      <th>group</th>\n",
              "      <th>mean_duration</th>\n",
              "    </tr>\n",
              "  </thead>\n",
              "  <tbody>\n",
              "    <tr>\n",
              "      <th>0</th>\n",
              "      <td>Control</td>\n",
              "      <td>7</td>\n",
              "    </tr>\n",
              "    <tr>\n",
              "      <th>1</th>\n",
              "      <td>Control</td>\n",
              "      <td>5</td>\n",
              "    </tr>\n",
              "    <tr>\n",
              "      <th>2</th>\n",
              "      <td>Control</td>\n",
              "      <td>4</td>\n",
              "    </tr>\n",
              "    <tr>\n",
              "      <th>3</th>\n",
              "      <td>Control</td>\n",
              "      <td>5</td>\n",
              "    </tr>\n",
              "    <tr>\n",
              "      <th>4</th>\n",
              "      <td>Control</td>\n",
              "      <td>8</td>\n",
              "    </tr>\n",
              "  </tbody>\n",
              "</table>\n",
              "</div>"
            ],
            "text/plain": [
              "     group  mean_duration\n",
              "0  Control              7\n",
              "1  Control              5\n",
              "2  Control              4\n",
              "3  Control              5\n",
              "4  Control              8"
            ]
          },
          "metadata": {
            "tags": []
          },
          "execution_count": 1
        }
      ]
    },
    {
      "cell_type": "code",
      "metadata": {
        "colab": {
          "base_uri": "https://localhost:8080/"
        },
        "id": "s8pihzQu18pS",
        "outputId": "5233d81e-a775-48b1-ed51-93f768fd8089"
      },
      "source": [
        "df['group'].unique()"
      ],
      "execution_count": 2,
      "outputs": [
        {
          "output_type": "execute_result",
          "data": {
            "text/plain": [
              "array(['Control', 'Experimental'], dtype=object)"
            ]
          },
          "metadata": {
            "tags": []
          },
          "execution_count": 2
        }
      ]
    },
    {
      "cell_type": "code",
      "metadata": {
        "colab": {
          "base_uri": "https://localhost:8080/"
        },
        "id": "6Q-KcuRQ2K9k",
        "outputId": "4e8832d8-9bf2-4ba9-9295-f19ad7fb52b2"
      },
      "source": [
        "control_mean = df[df['group'] == 'Control'].mean()\r\n",
        "experiment_mean = df[df['group'] == 'Experimental'].mean()\r\n",
        "print(\"Control Mean = \" +str(control_mean))\r\n",
        "print(\"Experimental Mean = \" +str(experiment_mean))"
      ],
      "execution_count": 3,
      "outputs": [
        {
          "output_type": "stream",
          "text": [
            "Control Mean = mean_duration    5.4\n",
            "dtype: float64\n",
            "Experimental Mean = mean_duration    4.8\n",
            "dtype: float64\n"
          ],
          "name": "stdout"
        }
      ]
    },
    {
      "cell_type": "code",
      "metadata": {
        "colab": {
          "base_uri": "https://localhost:8080/",
          "height": 353
        },
        "id": "LDCjl9WU3Zkj",
        "outputId": "1c2d7fd1-9ed2-4909-c362-0b1696e2c457"
      },
      "source": [
        "mean_difference = control_mean - experiment_mean\r\n",
        "data_points = list(df['mean_duration'])\r\n",
        "mean_differences = []\r\n",
        "number_of_iterations = 10000\r\n",
        "\r\n",
        "for i in range(number_of_iterations):\r\n",
        "    group_1 = []\r\n",
        "    group_2 = []\r\n",
        "    for data_point in data_points:\r\n",
        "        random_assignment = np.random.randint(0,2)==True\r\n",
        "        if random_assignment:\r\n",
        "            group_1.append(data_point)\r\n",
        "        else:\r\n",
        "            group_2.append(data_point)\r\n",
        "\r\n",
        "    trial_mean_difference = np.mean(group_2) - np.mean(group_1)\r\n",
        "    mean_differences.append(trial_mean_difference)\r\n",
        "    \r\n",
        "print(\"Mean Differences Mean - \" + str(np.array(mean_differences).mean()))    \r\n",
        "# Generate Frequency or Histogram Plot\r\n",
        "sns.distplot(mean_differences)"
      ],
      "execution_count": 5,
      "outputs": [
        {
          "output_type": "stream",
          "text": [
            "Mean Differences Mean - -0.00045064629780602346\n"
          ],
          "name": "stdout"
        },
        {
          "output_type": "stream",
          "text": [
            "/usr/local/lib/python3.6/dist-packages/seaborn/distributions.py:2557: FutureWarning: `distplot` is a deprecated function and will be removed in a future version. Please adapt your code to use either `displot` (a figure-level function with similar flexibility) or `histplot` (an axes-level function for histograms).\n",
            "  warnings.warn(msg, FutureWarning)\n"
          ],
          "name": "stderr"
        },
        {
          "output_type": "execute_result",
          "data": {
            "text/plain": [
              "<matplotlib.axes._subplots.AxesSubplot at 0x7f5fb955e2e8>"
            ]
          },
          "metadata": {
            "tags": []
          },
          "execution_count": 5
        },
        {
          "output_type": "display_data",
          "data": {
            "image/png": "[encoded data removed]",
            "text/plain": [
              "<Figure size 432x288 with 1 Axes>"
            ]
          },
          "metadata": {
            "tags": [],
            "needs_background": "light"
          }
        }
      ]
    },
    {
      "cell_type": "code",
      "metadata": {
        "id": "scWao0kg8DCP"
      },
      "source": [
        "mean_differences = pd.DataFrame(mean_differences)"
      ],
      "execution_count": 6,
      "outputs": []
    },
    {
      "cell_type": "code",
      "metadata": {
        "colab": {
          "base_uri": "https://localhost:8080/"
        },
        "id": "ITN8R_-w8No2",
        "outputId": "3c380e9e-d72c-46f4-934e-daa7fac8480d"
      },
      "source": [
        "exceeds_mean_diff = len(mean_differences[mean_differences[0] >= 0.6])\r\n",
        "print(exceeds_mean_diff)"
      ],
      "execution_count": 7,
      "outputs": [
        {
          "output_type": "stream",
          "text": [
            "387\n"
          ],
          "name": "stdout"
        }
      ]
    },
    {
      "cell_type": "code",
      "metadata": {
        "colab": {
          "base_uri": "https://localhost:8080/"
        },
        "id": "4HqMsFe-8qas",
        "outputId": "cc68cc14-fde7-445f-955f-7db71a2b8583"
      },
      "source": [
        "p_value = exceeds_mean_diff / number_of_iterations\r\n",
        "print(p_value)"
      ],
      "execution_count": 8,
      "outputs": [
        {
          "output_type": "stream",
          "text": [
            "0.0387\n"
          ],
          "name": "stdout"
        }
      ]
    }
  ]
}