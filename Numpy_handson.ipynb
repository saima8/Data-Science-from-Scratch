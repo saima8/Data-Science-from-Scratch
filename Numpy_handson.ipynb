{
  "nbformat": 4,
  "nbformat_minor": 0,
  "metadata": {
    "colab": {
      "name": "Numpy-handson.ipynb",
      "provenance": [],
      "collapsed_sections": [],
      "authorship_tag": "ABX9TyOcmid3IZ15Lon0kiAPK5Tr",
      "include_colab_link": true
    },
    "kernelspec": {
      "name": "python3",
      "display_name": "Python 3"
    },
    "language_info": {
      "name": "python"
    }
  },
  "cells": [
    {
      "cell_type": "markdown",
      "metadata": {
        "id": "view-in-github",
        "colab_type": "text"
      },
      "source": [
        "<a href=\"https://colab.research.google.com/github/saima8/Data-Science-from-scratch/blob/main/Numpy_handson.ipynb\" target=\"_parent\"><img src=\"https://colab.research.google.com/assets/colab-badge.svg\" alt=\"Open In Colab\"/></a>"
      ]
    },
    {
      "cell_type": "code",
      "metadata": {
        "id": "VxyIQDw0FfAg"
      },
      "source": [
        "#importing\n",
        "import numpy as np"
      ],
      "execution_count": 1,
      "outputs": []
    },
    {
      "cell_type": "code",
      "metadata": {
        "colab": {
          "base_uri": "https://localhost:8080/"
        },
        "id": "cuGda0LtFxHL",
        "outputId": "fbb97da5-a7ab-4c5b-a69f-154774bbff52"
      },
      "source": [
        "#the zeros function creates an array containing any number of zeroes\n",
        "np.zeros(5)"
      ],
      "execution_count": 4,
      "outputs": [
        {
          "output_type": "execute_result",
          "data": {
            "text/plain": [
              "array([0., 0., 0., 0., 0.])"
            ]
          },
          "metadata": {
            "tags": []
          },
          "execution_count": 4
        }
      ]
    },
    {
      "cell_type": "code",
      "metadata": {
        "colab": {
          "base_uri": "https://localhost:8080/"
        },
        "id": "4yHa1w6ZF2uF",
        "outputId": "fa96bfb1-72c5-49dd-f8ab-c2464a49889c"
      },
      "source": [
        "#create a matrix by providing a tuple\n",
        "np.zeros((3,4))"
      ],
      "execution_count": 6,
      "outputs": [
        {
          "output_type": "execute_result",
          "data": {
            "text/plain": [
              "array([[0., 0., 0., 0.],\n",
              "       [0., 0., 0., 0.],\n",
              "       [0., 0., 0., 0.]])"
            ]
          },
          "metadata": {
            "tags": []
          },
          "execution_count": 6
        }
      ]
    },
    {
      "cell_type": "markdown",
      "metadata": {
        "id": "-SsWXkYWGV7g"
      },
      "source": [
        "- In Numpy, each dimension is calles an axis\n",
        "-The number of axes is called the rank\n",
        "-An array's list of axis lengths is called the shape of the array\n",
        "- The rank is equal to the shapes's length\n",
        "-The size of an array is the total number of elements, which is the product of all axis lengths (eg. 3*4=12)"
      ]
    },
    {
      "cell_type": "code",
      "metadata": {
        "colab": {
          "base_uri": "https://localhost:8080/"
        },
        "id": "UMRbuDKdGQ23",
        "outputId": "944ae61a-1d81-487c-91e4-f0508956047f"
      },
      "source": [
        "a = np.zeros((3,4))\n",
        "a"
      ],
      "execution_count": 8,
      "outputs": [
        {
          "output_type": "execute_result",
          "data": {
            "text/plain": [
              "array([[0., 0., 0., 0.],\n",
              "       [0., 0., 0., 0.],\n",
              "       [0., 0., 0., 0.]])"
            ]
          },
          "metadata": {
            "tags": []
          },
          "execution_count": 8
        }
      ]
    },
    {
      "cell_type": "code",
      "metadata": {
        "colab": {
          "base_uri": "https://localhost:8080/"
        },
        "id": "A2yOlXqUHCBx",
        "outputId": "d83e808d-5328-4b02-80cb-30d936fe51a6"
      },
      "source": [
        "a.shape"
      ],
      "execution_count": 9,
      "outputs": [
        {
          "output_type": "execute_result",
          "data": {
            "text/plain": [
              "(3, 4)"
            ]
          },
          "metadata": {
            "tags": []
          },
          "execution_count": 9
        }
      ]
    },
    {
      "cell_type": "code",
      "metadata": {
        "colab": {
          "base_uri": "https://localhost:8080/"
        },
        "id": "0ucODri-HQbn",
        "outputId": "9ed65c68-1acc-4ef8-87f9-901ad88d1881"
      },
      "source": [
        "a.ndim #equal to len(a.shape)"
      ],
      "execution_count": 10,
      "outputs": [
        {
          "output_type": "execute_result",
          "data": {
            "text/plain": [
              "2"
            ]
          },
          "metadata": {
            "tags": []
          },
          "execution_count": 10
        }
      ]
    },
    {
      "cell_type": "code",
      "metadata": {
        "colab": {
          "base_uri": "https://localhost:8080/"
        },
        "id": "pzJPfdExHVLR",
        "outputId": "aae4d7dd-cc14-4243-d5d6-c2db95742c3c"
      },
      "source": [
        "a.size"
      ],
      "execution_count": 11,
      "outputs": [
        {
          "output_type": "execute_result",
          "data": {
            "text/plain": [
              "12"
            ]
          },
          "metadata": {
            "tags": []
          },
          "execution_count": 11
        }
      ]
    },
    {
      "cell_type": "code",
      "metadata": {
        "colab": {
          "base_uri": "https://localhost:8080/"
        },
        "id": "Pnf4nuWdHWNo",
        "outputId": "eb06ea94-c963-48c1-eb17-293c211cfdea"
      },
      "source": [
        "#N-dimensional arrays\n",
        "np.zeros((2,3,4))"
      ],
      "execution_count": 13,
      "outputs": [
        {
          "output_type": "execute_result",
          "data": {
            "text/plain": [
              "array([[[0., 0., 0., 0.],\n",
              "        [0., 0., 0., 0.],\n",
              "        [0., 0., 0., 0.]],\n",
              "\n",
              "       [[0., 0., 0., 0.],\n",
              "        [0., 0., 0., 0.],\n",
              "        [0., 0., 0., 0.]]])"
            ]
          },
          "metadata": {
            "tags": []
          },
          "execution_count": 13
        }
      ]
    },
    {
      "cell_type": "code",
      "metadata": {
        "colab": {
          "base_uri": "https://localhost:8080/"
        },
        "id": "lsjKH42aHaz4",
        "outputId": "f9efeb52-cf97-412f-9a7c-da755d4fe8dc"
      },
      "source": [
        "#Array type\n",
        "type(np.zeros((3,4)))"
      ],
      "execution_count": 14,
      "outputs": [
        {
          "output_type": "execute_result",
          "data": {
            "text/plain": [
              "numpy.ndarray"
            ]
          },
          "metadata": {
            "tags": []
          },
          "execution_count": 14
        }
      ]
    },
    {
      "cell_type": "code",
      "metadata": {
        "colab": {
          "base_uri": "https://localhost:8080/"
        },
        "id": "kcI6acqGHrX-",
        "outputId": "635894cf-be96-465c-9b6f-48d328ae2aa8"
      },
      "source": [
        "#np.ones\n",
        "np.ones((3,4))"
      ],
      "execution_count": 15,
      "outputs": [
        {
          "output_type": "execute_result",
          "data": {
            "text/plain": [
              "array([[1., 1., 1., 1.],\n",
              "       [1., 1., 1., 1.],\n",
              "       [1., 1., 1., 1.]])"
            ]
          },
          "metadata": {
            "tags": []
          },
          "execution_count": 15
        }
      ]
    },
    {
      "cell_type": "code",
      "metadata": {
        "colab": {
          "base_uri": "https://localhost:8080/"
        },
        "id": "FQHIrQirHxRd",
        "outputId": "4650f983-3cb8-4faa-9063-5ff6bc85a155"
      },
      "source": [
        "#np.full - Creates an array of the given shape initialized with the given value. Here's a 3x4 matrix full of π.\n",
        "np.full((3,4), np.pi)"
      ],
      "execution_count": 16,
      "outputs": [
        {
          "output_type": "execute_result",
          "data": {
            "text/plain": [
              "array([[3.14159265, 3.14159265, 3.14159265, 3.14159265],\n",
              "       [3.14159265, 3.14159265, 3.14159265, 3.14159265],\n",
              "       [3.14159265, 3.14159265, 3.14159265, 3.14159265]])"
            ]
          },
          "metadata": {
            "tags": []
          },
          "execution_count": 16
        }
      ]
    },
    {
      "cell_type": "code",
      "metadata": {
        "colab": {
          "base_uri": "https://localhost:8080/"
        },
        "id": "0TqfcD5fH9EC",
        "outputId": "941f96b3-8631-46e5-b5f3-cae2fee824e2"
      },
      "source": [
        "#np.empty - (its content is not predictable, as it is whatever is in memory at that point):\n",
        "np.empty((2,3))"
      ],
      "execution_count": 18,
      "outputs": [
        {
          "output_type": "execute_result",
          "data": {
            "text/plain": [
              "array([[4.65134232e-310, 0.00000000e+000, 0.00000000e+000],\n",
              "       [0.00000000e+000, 0.00000000e+000, 0.00000000e+000]])"
            ]
          },
          "metadata": {
            "tags": []
          },
          "execution_count": 18
        }
      ]
    },
    {
      "cell_type": "code",
      "metadata": {
        "colab": {
          "base_uri": "https://localhost:8080/"
        },
        "id": "Ou3Hw4gIIK6y",
        "outputId": "6960ddd7-61a9-4bb8-f081-8f1a9224dd2f"
      },
      "source": [
        "#np.array\n",
        "np.array([[1,2,3,4], [10, 20, 30, 40]])"
      ],
      "execution_count": 19,
      "outputs": [
        {
          "output_type": "execute_result",
          "data": {
            "text/plain": [
              "array([[ 1,  2,  3,  4],\n",
              "       [10, 20, 30, 40]])"
            ]
          },
          "metadata": {
            "tags": []
          },
          "execution_count": 19
        }
      ]
    },
    {
      "cell_type": "code",
      "metadata": {
        "colab": {
          "base_uri": "https://localhost:8080/"
        },
        "id": "hSkoqPR7I-0T",
        "outputId": "ea31be83-d5c0-4071-b2ac-8efb040f71bb"
      },
      "source": [
        "#np.arange- similar to python's range function\n",
        "np.arange(1,5)"
      ],
      "execution_count": 20,
      "outputs": [
        {
          "output_type": "execute_result",
          "data": {
            "text/plain": [
              "array([1, 2, 3, 4])"
            ]
          },
          "metadata": {
            "tags": []
          },
          "execution_count": 20
        }
      ]
    },
    {
      "cell_type": "code",
      "metadata": {
        "colab": {
          "base_uri": "https://localhost:8080/"
        },
        "id": "kwSou8sQJJpu",
        "outputId": "2eb52194-161d-498f-8868-c69fc8c6310c"
      },
      "source": [
        "np.arange(1.0,5.0)"
      ],
      "execution_count": 21,
      "outputs": [
        {
          "output_type": "execute_result",
          "data": {
            "text/plain": [
              "array([1., 2., 3., 4.])"
            ]
          },
          "metadata": {
            "tags": []
          },
          "execution_count": 21
        }
      ]
    },
    {
      "cell_type": "code",
      "metadata": {
        "colab": {
          "base_uri": "https://localhost:8080/"
        },
        "id": "8DE_oKzYJOIF",
        "outputId": "4fa56481-9223-4a1e-ee0d-effe50e69ecc"
      },
      "source": [
        "#using step\n",
        "np.arange(1,5,0.5)"
      ],
      "execution_count": 22,
      "outputs": [
        {
          "output_type": "execute_result",
          "data": {
            "text/plain": [
              "array([1. , 1.5, 2. , 2.5, 3. , 3.5, 4. , 4.5])"
            ]
          },
          "metadata": {
            "tags": []
          },
          "execution_count": 22
        }
      ]
    },
    {
      "cell_type": "code",
      "metadata": {
        "colab": {
          "base_uri": "https://localhost:8080/"
        },
        "id": "wwZHQCi8JU8f",
        "outputId": "25c28b9a-8a45-430b-8b0b-42370ac75cc7"
      },
      "source": [
        "print(np.arange(0, 5/3, 1/3)) # depending on floating point errors, the max value is 4/3 or 5/3.\n",
        "print(np.arange(0, 5/3, 0.333333333))\n",
        "print(np.arange(0, 5/3, 0.333333334))"
      ],
      "execution_count": 24,
      "outputs": [
        {
          "output_type": "stream",
          "text": [
            "[0.         0.33333333 0.66666667 1.         1.33333333 1.66666667]\n",
            "[0.         0.33333333 0.66666667 1.         1.33333333 1.66666667]\n",
            "[0.         0.33333333 0.66666667 1.         1.33333334]\n"
          ],
          "name": "stdout"
        }
      ]
    },
    {
      "cell_type": "markdown",
      "metadata": {
        "id": "nQQj69M-J7Vq"
      },
      "source": [
        "**np.linspace**\n",
        "\n",
        "For this reason, it is generally preferable to use the linspace function instead of arange when working with floats. The linspace function returns an array containing a specific number of points evenly distributed between two values (note that the maximum value is included, contrary to arange):"
      ]
    },
    {
      "cell_type": "code",
      "metadata": {
        "colab": {
          "base_uri": "https://localhost:8080/"
        },
        "id": "bWOQAZK1KRUe",
        "outputId": "7e487ad9-34e8-426d-a4e7-8274ddc20f99"
      },
      "source": [
        "print(np.linspace(0, 5/3, 6))"
      ],
      "execution_count": 26,
      "outputs": [
        {
          "output_type": "stream",
          "text": [
            "[0.         0.33333333 0.66666667 1.         1.33333333 1.66666667]\n"
          ],
          "name": "stdout"
        }
      ]
    },
    {
      "cell_type": "markdown",
      "metadata": {
        "id": "S9HdBs3zJ6pM"
      },
      "source": [
        ""
      ]
    },
    {
      "cell_type": "code",
      "metadata": {
        "colab": {
          "base_uri": "https://localhost:8080/"
        },
        "id": "UZL58-fJKqWO",
        "outputId": "0b32a247-e52d-469d-80f4-e08a309d1647"
      },
      "source": [
        "#array with random values:\n",
        "np.random.rand(3,4)"
      ],
      "execution_count": 27,
      "outputs": [
        {
          "output_type": "execute_result",
          "data": {
            "text/plain": [
              "array([[0.85172913, 0.70258329, 0.81552364, 0.39623909],\n",
              "       [0.28263653, 0.43151689, 0.3286936 , 0.85175868],\n",
              "       [0.33976967, 0.81886546, 0.992024  , 0.42947111]])"
            ]
          },
          "metadata": {
            "tags": []
          },
          "execution_count": 27
        }
      ]
    },
    {
      "cell_type": "code",
      "metadata": {
        "colab": {
          "base_uri": "https://localhost:8080/"
        },
        "id": "55vJpsS2Kvy1",
        "outputId": "ae43efb6-855e-4bf5-ad82-bdc2811456a8"
      },
      "source": [
        "np.random.randn(3,4)"
      ],
      "execution_count": 28,
      "outputs": [
        {
          "output_type": "execute_result",
          "data": {
            "text/plain": [
              "array([[-0.92541772,  1.79321825, -2.3251315 ,  0.10687346],\n",
              "       [-1.67389443, -0.59804435,  0.5046536 , -0.68345491],\n",
              "       [ 0.20736317, -0.2781507 , -0.67293842,  0.2087731 ]])"
            ]
          },
          "metadata": {
            "tags": []
          },
          "execution_count": 28
        }
      ]
    },
    {
      "cell_type": "code",
      "metadata": {
        "id": "G1-oZDvQLGd7"
      },
      "source": [
        "%matplotlib inline\n",
        "import matplotlib.pyplot as plt"
      ],
      "execution_count": 29,
      "outputs": []
    },
    {
      "cell_type": "code",
      "metadata": {
        "colab": {
          "base_uri": "https://localhost:8080/",
          "height": 295
        },
        "id": "a9fzVYdzMiyx",
        "outputId": "8570989a-3450-44de-f57b-2f65af54d28a"
      },
      "source": [
        "plt.hist(np.random.rand(300000), density=True, bins=100, histtype=\"step\", color=\"purple\", label=\"rand\")\n",
        "plt.hist(np.random.randn(300000), density=True, bins=100, histtype=\"step\", color=\"orange\", label=\"rand\")\n",
        "plt.axis([-2.5, 2.5, 0, 1.1])\n",
        "plt.legend(loc= \"upper left\")\n",
        "plt.title(\"Random distribution\")\n",
        "plt.xlabel(\"Value\")\n",
        "plt.ylabel(\"Density\")\n",
        "plt.show()"
      ],
      "execution_count": 30,
      "outputs": [
        {
          "output_type": "display_data",
          "data": {
            "image/png": "[encoded data removed]",
            "text/plain": [
              "<Figure size 432x288 with 1 Axes>"
            ]
          },
          "metadata": {
            "tags": [],
            "needs_background": "light"
          }
        }
      ]
    },
    {
      "cell_type": "code",
      "metadata": {
        "colab": {
          "base_uri": "https://localhost:8080/",
          "height": 316
        },
        "id": "PsWgjljkNhnF",
        "outputId": "301e1b57-52cf-4eca-aa79-c00496f4c636"
      },
      "source": [
        "#np.formfunction\n",
        "def my_function(z,y,x):\n",
        "  return x * y + z\n",
        "\n",
        "np.formfunction(my_function, (3,2,10))"
      ],
      "execution_count": 31,
      "outputs": [
        {
          "output_type": "error",
          "ename": "AttributeError",
          "evalue": "ignored",
          "traceback": [
            "\u001b[0;31m---------------------------------------------------------------------------\u001b[0m",
            "\u001b[0;31mAttributeError\u001b[0m                            Traceback (most recent call last)",
            "\u001b[0;32m<ipython-input-31-fac524e72aef>\u001b[0m in \u001b[0;36m<module>\u001b[0;34m()\u001b[0m\n\u001b[1;32m      3\u001b[0m   \u001b[0;32mreturn\u001b[0m \u001b[0mx\u001b[0m \u001b[0;34m*\u001b[0m \u001b[0my\u001b[0m \u001b[0;34m+\u001b[0m \u001b[0mz\u001b[0m\u001b[0;34m\u001b[0m\u001b[0;34m\u001b[0m\u001b[0m\n\u001b[1;32m      4\u001b[0m \u001b[0;34m\u001b[0m\u001b[0m\n\u001b[0;32m----> 5\u001b[0;31m \u001b[0mnp\u001b[0m\u001b[0;34m.\u001b[0m\u001b[0mformfunction\u001b[0m\u001b[0;34m(\u001b[0m\u001b[0mmy_function\u001b[0m\u001b[0;34m,\u001b[0m \u001b[0;34m(\u001b[0m\u001b[0;36m3\u001b[0m\u001b[0;34m,\u001b[0m\u001b[0;36m2\u001b[0m\u001b[0;34m,\u001b[0m\u001b[0;36m10\u001b[0m\u001b[0;34m)\u001b[0m\u001b[0;34m)\u001b[0m\u001b[0;34m\u001b[0m\u001b[0;34m\u001b[0m\u001b[0m\n\u001b[0m",
            "\u001b[0;32m/usr/local/lib/python3.7/dist-packages/numpy/__init__.py\u001b[0m in \u001b[0;36m__getattr__\u001b[0;34m(attr)\u001b[0m\n\u001b[1;32m    213\u001b[0m             \u001b[0;32melse\u001b[0m\u001b[0;34m:\u001b[0m\u001b[0;34m\u001b[0m\u001b[0;34m\u001b[0m\u001b[0m\n\u001b[1;32m    214\u001b[0m                 raise AttributeError(\"module {!r} has no attribute \"\n\u001b[0;32m--> 215\u001b[0;31m                                      \"{!r}\".format(__name__, attr))\n\u001b[0m\u001b[1;32m    216\u001b[0m \u001b[0;34m\u001b[0m\u001b[0m\n\u001b[1;32m    217\u001b[0m         \u001b[0;32mdef\u001b[0m \u001b[0m__dir__\u001b[0m\u001b[0;34m(\u001b[0m\u001b[0;34m)\u001b[0m\u001b[0;34m:\u001b[0m\u001b[0;34m\u001b[0m\u001b[0;34m\u001b[0m\u001b[0m\n",
            "\u001b[0;31mAttributeError\u001b[0m: module 'numpy' has no attribute 'formfunction'"
          ]
        }
      ]
    },
    {
      "cell_type": "code",
      "metadata": {
        "colab": {
          "base_uri": "https://localhost:8080/"
        },
        "id": "oHGKF4CYOA9F",
        "outputId": "e4bb9f62-84b6-45aa-c2a2-2f0eec962733"
      },
      "source": [
        "#dtype - to check the data type\n",
        "c = np.arange(1,5)\n",
        "print(c.dtype, c)"
      ],
      "execution_count": 33,
      "outputs": [
        {
          "output_type": "stream",
          "text": [
            "int64 [1 2 3 4]\n"
          ],
          "name": "stdout"
        }
      ]
    },
    {
      "cell_type": "code",
      "metadata": {
        "colab": {
          "base_uri": "https://localhost:8080/"
        },
        "id": "G_EaH26POa2C",
        "outputId": "94c70d99-01bd-4b94-bbff-9ab0c36ad7aa"
      },
      "source": [
        "c = np.arange(1.0, 5.0)\n",
        "print(c.dtype, c)"
      ],
      "execution_count": 34,
      "outputs": [
        {
          "output_type": "stream",
          "text": [
            "float64 [1. 2. 3. 4.]\n"
          ],
          "name": "stdout"
        }
      ]
    },
    {
      "cell_type": "code",
      "metadata": {
        "colab": {
          "base_uri": "https://localhost:8080/"
        },
        "id": "WaLj8Pc2On7U",
        "outputId": "8a04decf-258a-4f96-f720-adf9346b13c5"
      },
      "source": [
        "#set the data type explicitly\n",
        "d = np.arange(1, 5, dtype=np.complex64)\n",
        "print(d.dtype, d)"
      ],
      "execution_count": 36,
      "outputs": [
        {
          "output_type": "stream",
          "text": [
            "complex64 [1.+0.j 2.+0.j 3.+0.j 4.+0.j]\n"
          ],
          "name": "stdout"
        }
      ]
    },
    {
      "cell_type": "code",
      "metadata": {
        "colab": {
          "base_uri": "https://localhost:8080/"
        },
        "id": "7bgRBpEtO7Wr",
        "outputId": "9f241e63-8909-472e-e097-548f0a1d4e39"
      },
      "source": [
        "e = np.arange(1, 5, dtype=np.complex64)\n",
        "e.itemsize"
      ],
      "execution_count": 37,
      "outputs": [
        {
          "output_type": "execute_result",
          "data": {
            "text/plain": [
              "8"
            ]
          },
          "metadata": {
            "tags": []
          },
          "execution_count": 37
        }
      ]
    },
    {
      "cell_type": "code",
      "metadata": {
        "colab": {
          "base_uri": "https://localhost:8080/"
        },
        "id": "C2JlDpI1PNnY",
        "outputId": "30c4b6a6-08ec-4f9f-a295-5782b2b9b930"
      },
      "source": [
        "#data buffer\n",
        "f = np.array([[1,2], [1000, 2000]], dtype=np.int32)\n",
        "f.data\n",
        "\n",
        "# In python 2, f.data is a buffer. In python 3, it is a memoryview."
      ],
      "execution_count": 38,
      "outputs": [
        {
          "output_type": "execute_result",
          "data": {
            "text/plain": [
              "<memory at 0x7f16c63cf210>"
            ]
          },
          "metadata": {
            "tags": []
          },
          "execution_count": 38
        }
      ]
    },
    {
      "cell_type": "code",
      "metadata": {
        "colab": {
          "base_uri": "https://localhost:8080/"
        },
        "id": "LMN63MocPwUR",
        "outputId": "b45d6126-fd20-4d44-b257-1dccb9434935"
      },
      "source": [
        "if (hasattr(f.data, \"tobytes\")):\n",
        "  data_bytes = f.data.tobytes() #python 3\n",
        "else:\n",
        "  data_bytes = memoryview(f.data).tobytes() #python 2\n",
        "\n",
        "data_bytes"
      ],
      "execution_count": 39,
      "outputs": [
        {
          "output_type": "execute_result",
          "data": {
            "text/plain": [
              "b'\\x01\\x00\\x00\\x00\\x02\\x00\\x00\\x00\\xe8\\x03\\x00\\x00\\xd0\\x07\\x00\\x00'"
            ]
          },
          "metadata": {
            "tags": []
          },
          "execution_count": 39
        }
      ]
    },
    {
      "cell_type": "code",
      "metadata": {
        "colab": {
          "base_uri": "https://localhost:8080/"
        },
        "id": "2dg_nJ0bQxpz",
        "outputId": "25b1f47d-1dee-485e-fe39-0e783eadb3ea"
      },
      "source": [
        "#Reshaping an array\n",
        "#In place\n",
        "g = np.arange(24)\n",
        "print(g)\n",
        "print(\"Rank:\", g.ndim)"
      ],
      "execution_count": 42,
      "outputs": [
        {
          "output_type": "stream",
          "text": [
            "[ 0  1  2  3  4  5  6  7  8  9 10 11 12 13 14 15 16 17 18 19 20 21 22 23]\n",
            "Rank: 1\n"
          ],
          "name": "stdout"
        }
      ]
    },
    {
      "cell_type": "code",
      "metadata": {
        "colab": {
          "base_uri": "https://localhost:8080/"
        },
        "id": "9j0ImgggQ4Pf",
        "outputId": "070d6da7-5c0f-48b3-e78d-830719ca4574"
      },
      "source": [
        "g.shape = (6, 4)\n",
        "print(g)\n",
        "print(\"Rank:\", g.ndim)"
      ],
      "execution_count": 43,
      "outputs": [
        {
          "output_type": "stream",
          "text": [
            "[[ 0  1  2  3]\n",
            " [ 4  5  6  7]\n",
            " [ 8  9 10 11]\n",
            " [12 13 14 15]\n",
            " [16 17 18 19]\n",
            " [20 21 22 23]]\n",
            "Rank: 2\n"
          ],
          "name": "stdout"
        }
      ]
    },
    {
      "cell_type": "code",
      "metadata": {
        "colab": {
          "base_uri": "https://localhost:8080/"
        },
        "id": "wgpTSN4pQ4_g",
        "outputId": "a9433d5a-511a-483d-dfec-3527e151bb52"
      },
      "source": [
        "g.shape = (2, 3, 4)\n",
        "print(g)\n",
        "print(\"Rank:\", g.ndim)"
      ],
      "execution_count": 44,
      "outputs": [
        {
          "output_type": "stream",
          "text": [
            "[[[ 0  1  2  3]\n",
            "  [ 4  5  6  7]\n",
            "  [ 8  9 10 11]]\n",
            "\n",
            " [[12 13 14 15]\n",
            "  [16 17 18 19]\n",
            "  [20 21 22 23]]]\n",
            "Rank: 3\n"
          ],
          "name": "stdout"
        }
      ]
    },
    {
      "cell_type": "code",
      "metadata": {
        "colab": {
          "base_uri": "https://localhost:8080/"
        },
        "id": "2yWSOJm1SuUR",
        "outputId": "77e0f493-ef13-4a32-eaea-d1267ee9d9df"
      },
      "source": [
        "#reshape\n",
        "g2 = g.reshape(4,6)\n",
        "print(g2)\n",
        "print(\"Rank:\", g2.ndim)"
      ],
      "execution_count": 45,
      "outputs": [
        {
          "output_type": "stream",
          "text": [
            "[[ 0  1  2  3  4  5]\n",
            " [ 6  7  8  9 10 11]\n",
            " [12 13 14 15 16 17]\n",
            " [18 19 20 21 22 23]]\n",
            "Rank: 2\n"
          ],
          "name": "stdout"
        }
      ]
    },
    {
      "cell_type": "code",
      "metadata": {
        "colab": {
          "base_uri": "https://localhost:8080/"
        },
        "id": "pt5BdxvBTQ7O",
        "outputId": "85e47e5a-4fe8-4cdb-e5da-be0f125329f7"
      },
      "source": [
        "g2[1, 2] = 999\n",
        "g2"
      ],
      "execution_count": 46,
      "outputs": [
        {
          "output_type": "execute_result",
          "data": {
            "text/plain": [
              "array([[  0,   1,   2,   3,   4,   5],\n",
              "       [  6,   7, 999,   9,  10,  11],\n",
              "       [ 12,  13,  14,  15,  16,  17],\n",
              "       [ 18,  19,  20,  21,  22,  23]])"
            ]
          },
          "metadata": {
            "tags": []
          },
          "execution_count": 46
        }
      ]
    },
    {
      "cell_type": "code",
      "metadata": {
        "colab": {
          "base_uri": "https://localhost:8080/"
        },
        "id": "fj31wnMOTU9s",
        "outputId": "b1245b0b-b7b3-4984-dc13-3069cfb0127e"
      },
      "source": [
        "g"
      ],
      "execution_count": 47,
      "outputs": [
        {
          "output_type": "execute_result",
          "data": {
            "text/plain": [
              "array([[[  0,   1,   2,   3],\n",
              "        [  4,   5,   6,   7],\n",
              "        [999,   9,  10,  11]],\n",
              "\n",
              "       [[ 12,  13,  14,  15],\n",
              "        [ 16,  17,  18,  19],\n",
              "        [ 20,  21,  22,  23]]])"
            ]
          },
          "metadata": {
            "tags": []
          },
          "execution_count": 47
        }
      ]
    },
    {
      "cell_type": "code",
      "metadata": {
        "colab": {
          "base_uri": "https://localhost:8080/"
        },
        "id": "btrg1g6PTWt5",
        "outputId": "e4ca446f-f99c-4ae9-9e6a-df3a11cdb8e3"
      },
      "source": [
        "#ravel - the ravel function returns a new one-dimensional ndarray that also points to the same data:\n",
        "g.ravel()"
      ],
      "execution_count": 48,
      "outputs": [
        {
          "output_type": "execute_result",
          "data": {
            "text/plain": [
              "array([  0,   1,   2,   3,   4,   5,   6,   7, 999,   9,  10,  11,  12,\n",
              "        13,  14,  15,  16,  17,  18,  19,  20,  21,  22,  23])"
            ]
          },
          "metadata": {
            "tags": []
          },
          "execution_count": 48
        }
      ]
    },
    {
      "cell_type": "code",
      "metadata": {
        "colab": {
          "base_uri": "https://localhost:8080/"
        },
        "id": "myqSSspVTl9K",
        "outputId": "b0d1317e-4d14-4bfa-b2b7-b8d3f85b0a1e"
      },
      "source": [
        "#Arithmeticoperations\n",
        "\n",
        "a = np.array([14, 23, 32, 41])\n",
        "b = np.array([5, 2, 3, 2])\n",
        "print(\"a + b  =\", a + b)\n",
        "print(\"a - b  =\", a - b)\n",
        "print(\"a * b  =\", a * b)\n",
        "print(\"a / b  =\", a / b)\n",
        "print(\"a // b  =\", a // b)\n",
        "print(\"a % b  =\", a % b)\n",
        "print(\"a ** b =\", a ** b)"
      ],
      "execution_count": 49,
      "outputs": [
        {
          "output_type": "stream",
          "text": [
            "a + b  = [19 25 35 43]\n",
            "a - b  = [ 9 21 29 39]\n",
            "a * b  = [70 46 96 82]\n",
            "a / b  = [ 2.8        11.5        10.66666667 20.5       ]\n",
            "a // b  = [ 2 11 10 20]\n",
            "a % b  = [4 1 2 1]\n",
            "a ** b = [537824    529  32768   1681]\n"
          ],
          "name": "stdout"
        }
      ]
    },
    {
      "cell_type": "code",
      "metadata": {
        "colab": {
          "base_uri": "https://localhost:8080/"
        },
        "id": "0HMEtp4GT_7q",
        "outputId": "1096c4ed-11db-42db-e8c6-8e53741d72ea"
      },
      "source": [
        "#Broadcasting - In general, when NumPy expects arrays of the same shape but finds that this is not the case, it applies the so-called broadcasting rules:\n",
        "\n",
        "#First rule - If the arrays do not have the same rank, then a 1 will be prepended to the smaller ranking arrays until their ranks match.\n",
        "\n",
        "h = np.arange(5).reshape(1,1,5)\n",
        "h"
      ],
      "execution_count": 50,
      "outputs": [
        {
          "output_type": "execute_result",
          "data": {
            "text/plain": [
              "array([[[0, 1, 2, 3, 4]]])"
            ]
          },
          "metadata": {
            "tags": []
          },
          "execution_count": 50
        }
      ]
    },
    {
      "cell_type": "code",
      "metadata": {
        "colab": {
          "base_uri": "https://localhost:8080/"
        },
        "id": "hWnpKvJpUdlJ",
        "outputId": "493af580-65a5-4076-d117-62de191d0714"
      },
      "source": [
        "h + [10, 20, 30, 40, 50]  # same as: h + [[[10, 20, 30, 40, 50]]]"
      ],
      "execution_count": 51,
      "outputs": [
        {
          "output_type": "execute_result",
          "data": {
            "text/plain": [
              "array([[[10, 21, 32, 43, 54]]])"
            ]
          },
          "metadata": {
            "tags": []
          },
          "execution_count": 51
        }
      ]
    },
    {
      "cell_type": "code",
      "metadata": {
        "colab": {
          "base_uri": "https://localhost:8080/"
        },
        "id": "0IKSt4u5Wofd",
        "outputId": "483328a2-6244-43cc-ff7b-ded443503cea"
      },
      "source": [
        "#Second rule\n",
        "#Arrays with a 1 along a particular dimension act as if they had the size of the array with the largest shape along that dimension. The value of the array element is repeated along that dimension.\n",
        "\n",
        "k = np.arange(6).reshape(2,3)\n",
        "k"
      ],
      "execution_count": 53,
      "outputs": [
        {
          "output_type": "execute_result",
          "data": {
            "text/plain": [
              "array([[0, 1, 2],\n",
              "       [3, 4, 5]])"
            ]
          },
          "metadata": {
            "tags": []
          },
          "execution_count": 53
        }
      ]
    },
    {
      "cell_type": "code",
      "metadata": {
        "colab": {
          "base_uri": "https://localhost:8080/"
        },
        "id": "KRj8p8qjWrNe",
        "outputId": "97fa300b-0c03-4f75-b5d4-5389ce0452c2"
      },
      "source": [
        "k + [[100], [200]]  # same as: k + [[100, 100, 100], [200, 200, 200]]"
      ],
      "execution_count": 54,
      "outputs": [
        {
          "output_type": "execute_result",
          "data": {
            "text/plain": [
              "array([[100, 101, 102],\n",
              "       [203, 204, 205]])"
            ]
          },
          "metadata": {
            "tags": []
          },
          "execution_count": 54
        }
      ]
    },
    {
      "cell_type": "code",
      "metadata": {
        "colab": {
          "base_uri": "https://localhost:8080/"
        },
        "id": "afuzD9C5XCd7",
        "outputId": "fa653448-f7a2-49b3-cec0-aad956265f84"
      },
      "source": [
        "k + [100, 200, 300]  # after rule 1: [[100, 200, 300]], and after rule 2: [[100, 200, 300], [100, 200, 300]]\n"
      ],
      "execution_count": 55,
      "outputs": [
        {
          "output_type": "execute_result",
          "data": {
            "text/plain": [
              "array([[100, 201, 302],\n",
              "       [103, 204, 305]])"
            ]
          },
          "metadata": {
            "tags": []
          },
          "execution_count": 55
        }
      ]
    },
    {
      "cell_type": "code",
      "metadata": {
        "colab": {
          "base_uri": "https://localhost:8080/"
        },
        "id": "9UpKuvLqXIDO",
        "outputId": "09426b4d-7c4a-4b5f-e2a2-6f6ec6df07d3"
      },
      "source": [
        "k + 1000  # same as: k + [[1000, 1000, 1000], [1000, 1000, 1000]]\n"
      ],
      "execution_count": 56,
      "outputs": [
        {
          "output_type": "execute_result",
          "data": {
            "text/plain": [
              "array([[1000, 1001, 1002],\n",
              "       [1003, 1004, 1005]])"
            ]
          },
          "metadata": {
            "tags": []
          },
          "execution_count": 56
        }
      ]
    },
    {
      "cell_type": "code",
      "metadata": {
        "colab": {
          "base_uri": "https://localhost:8080/"
        },
        "id": "7Al8ptRMXM3r",
        "outputId": "8e009bcd-7c8c-4e7c-ff89-d63a598575ea"
      },
      "source": [
        "#Third rule\n",
        "#After rules 1 & 2, the sizes of all arrays must match\n",
        "\n",
        "try:\n",
        "  k + [33, 44]\n",
        "except ValueError as e:\n",
        "  print(e)"
      ],
      "execution_count": 57,
      "outputs": [
        {
          "output_type": "stream",
          "text": [
            "operands could not be broadcast together with shapes (2,3) (2,) \n"
          ],
          "name": "stdout"
        }
      ]
    },
    {
      "cell_type": "code",
      "metadata": {
        "colab": {
          "base_uri": "https://localhost:8080/"
        },
        "id": "kvBFk3JBXeoR",
        "outputId": "7ec24713-d93f-4877-9b31-beb35e11db8c"
      },
      "source": [
        "#Upcasting\n",
        "k1 = np.arange(0, 5, dtype=np.uint8)\n",
        "print(k1.dtype, k1)"
      ],
      "execution_count": 58,
      "outputs": [
        {
          "output_type": "stream",
          "text": [
            "uint8 [0 1 2 3 4]\n"
          ],
          "name": "stdout"
        }
      ]
    },
    {
      "cell_type": "code",
      "metadata": {
        "colab": {
          "base_uri": "https://localhost:8080/"
        },
        "id": "IYxesmnCw0L1",
        "outputId": "5f7d6a72-e232-4a1c-e277-a759fd261ce4"
      },
      "source": [
        "k2 = k1 + np.array([5, 6, 7, 8, 9], dtype=np.int8)\n",
        "print(k2.dtype, k2)"
      ],
      "execution_count": 59,
      "outputs": [
        {
          "output_type": "stream",
          "text": [
            "int16 [ 5  7  9 11 13]\n"
          ],
          "name": "stdout"
        }
      ]
    },
    {
      "cell_type": "code",
      "metadata": {
        "id": "Di3TwdB8w2ym"
      },
      "source": [
        ""
      ],
      "execution_count": null,
      "outputs": []
    }
  ]
}