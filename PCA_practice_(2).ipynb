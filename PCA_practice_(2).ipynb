{
  "nbformat": 4,
  "nbformat_minor": 0,
  "metadata": {
    "colab": {
      "name": "PCA practice (2).ipynb",
      "provenance": [],
      "collapsed_sections": [],
      "authorship_tag": "ABX9TyNMgDWsiGVOfZ0YRCHPfpL6",
      "include_colab_link": true
    },
    "kernelspec": {
      "name": "python3",
      "display_name": "Python 3"
    },
    "language_info": {
      "name": "python"
    }
  },
  "cells": [
    {
      "cell_type": "markdown",
      "metadata": {
        "id": "view-in-github",
        "colab_type": "text"
      },
      "source": [
        "<a href=\"https://colab.research.google.com/github/saima8/Data-Science-from-scratch/blob/main/PCA_practice_(2).ipynb\" target=\"_parent\"><img src=\"https://colab.research.google.com/assets/colab-badge.svg\" alt=\"Open In Colab\"/></a>"
      ]
    },
    {
      "cell_type": "markdown",
      "metadata": {
        "id": "AwY2f30peL7g"
      },
      "source": [
        "**Note**\n",
        "\n",
        "Eigenvalue for a newline-\n",
        "The sum of squares of the distances between the points projected onto the line and the origin."
      ]
    },
    {
      "cell_type": "code",
      "metadata": {
        "id": "6cwQwIopetXW"
      },
      "source": [
        "import pandas as pd\n",
        "import numpy as np\n",
        "import random as rd\n",
        "from sklearn.decomposition import PCA\n",
        "from sklearn import preprocessing\n",
        "import matplotlib.pyplot as plt"
      ],
      "execution_count": 1,
      "outputs": []
    },
    {
      "cell_type": "code",
      "metadata": {
        "id": "PEBc-qhCfNXx"
      },
      "source": [
        "genes = ['gene' + str(i) for i in range(1,101)] # created an array of 100 genes"
      ],
      "execution_count": 3,
      "outputs": []
    },
    {
      "cell_type": "code",
      "metadata": {
        "id": "Gk5vljYrfa8e"
      },
      "source": [
        "wt = ['wt' + str(i) for i in range(1,6)] #arrays of sample \n",
        "ko = ['ko' + str(i) for i in range(1,6)] # 2 different type - wild and knock ou"
      ],
      "execution_count": 4,
      "outputs": []
    },
    {
      "cell_type": "code",
      "metadata": {
        "id": "kvgRAXqIf4Bn"
      },
      "source": [
        "data = pd.DataFrame(columns=[*wt, *ko], index=genes)\n",
        "#the * unpacks the wt and ko arrays so that the column names are a single array"
      ],
      "execution_count": 6,
      "outputs": []
    },
    {
      "cell_type": "code",
      "metadata": {
        "id": "eiMhkk0qgD-y"
      },
      "source": [
        "for gene in data.index:\n",
        "  data.loc[gene, 'wt1':'wt5'] = np.random.poisson(lam=rd.randrange(10,100), size=5)\n",
        "  data.loc[gene, 'ko1':'ko5'] = np.random.poisson(lam=rd.randrange(10,100), size=5)\n",
        "\n",
        "  #create the random data"
      ],
      "execution_count": 7,
      "outputs": []
    },
    {
      "cell_type": "code",
      "metadata": {
        "colab": {
          "base_uri": "https://localhost:8080/"
        },
        "id": "O2cEr_gKgxjR",
        "outputId": "48a3d313-a21c-46f6-c80b-dd538b802f03"
      },
      "source": [
        "print(data.head())\n",
        "print(data.shape)"
      ],
      "execution_count": 9,
      "outputs": [
        {
          "output_type": "stream",
          "text": [
            "      wt1 wt2 wt3 wt4  wt5 ko1 ko2 ko3  ko4 ko5\n",
            "gene1  20  31  26  27   18  79  82  90   81  75\n",
            "gene2  91  95  82  90  111  18  20  17   30  16\n",
            "gene3  14  15   8  17   13  61  50  57   65  50\n",
            "gene4  77  69  86  84   71  33  31  23   25  29\n",
            "gene5  41  35  43  34   37  95  92  98  103  90\n",
            "(100, 10)\n"
          ],
          "name": "stdout"
        }
      ]
    },
    {
      "cell_type": "code",
      "metadata": {
        "id": "Ksbka0G1hRBf"
      },
      "source": [
        "#Before doing PCA, center and scale the data\n",
        "#centering, mean will be 0 and scaling, std will be 1\n",
        "\n",
        "scaled_data = preprocessing.scale(data.T)\n",
        "#using transpose, because the scale function expects the samples to be in rows instead of columns"
      ],
      "execution_count": 11,
      "outputs": []
    },
    {
      "cell_type": "code",
      "metadata": {
        "id": "2Gdj-ktth4rh"
      },
      "source": [
        "# alternatively we could use... standardscale and .fit_transform"
      ],
      "execution_count": 12,
      "outputs": []
    },
    {
      "cell_type": "code",
      "metadata": {
        "id": "H7m7vsR5i7Vt"
      },
      "source": [
        "pca = PCA()\n",
        "pca.fit(scaled_data)\n",
        "pca_data = pca.transform(scaled_data)"
      ],
      "execution_count": 13,
      "outputs": []
    },
    {
      "cell_type": "code",
      "metadata": {
        "id": "IYibrydmjnUC"
      },
      "source": [
        "#calculate the percentage of variation that each principal component accounts for\n",
        "\n",
        "per_var = np.round(pca.explained_variance_ratio_*100, decimals=1)\n",
        "labels = ['PC' + str(x) for x in range(1, len(per_var)+1)]"
      ],
      "execution_count": 15,
      "outputs": []
    },
    {
      "cell_type": "code",
      "metadata": {
        "colab": {
          "base_uri": "https://localhost:8080/",
          "height": 295
        },
        "id": "QdmETN1qkA0L",
        "outputId": "ae1be28f-1d92-402b-eb69-acb6b5a77be5"
      },
      "source": [
        "plt.bar(x=range(1,len(per_var)+1), height=per_var, tick_label=labels)\n",
        "plt.ylabel('Percentage of explained variance')\n",
        "plt.xlabel('Principal component')\n",
        "plt.title('Scree plot')\n",
        "plt.show()"
      ],
      "execution_count": 17,
      "outputs": [
        {
          "output_type": "display_data",
          "data": {
            "image/png": "[encoded data removed]",
            "text/plain": [
              "<Figure size 432x288 with 1 Axes>"
            ]
          },
          "metadata": {
            "tags": [],
            "needs_background": "light"
          }
        }
      ]
    },
    {
      "cell_type": "code",
      "metadata": {
        "colab": {
          "base_uri": "https://localhost:8080/",
          "height": 295
        },
        "id": "QYXAuJ37kp6A",
        "outputId": "168d1f05-9439-4188-ea6e-6631b1c4e0c8"
      },
      "source": [
        "pca_df = pd.DataFrame(pca_data, index=[*wt, *ko], columns=labels)\n",
        "\n",
        "plt.scatter(pca_df.PC1, pca_df.PC2)\n",
        "plt.title('My PCA Graph')\n",
        "plt.xlabel('PC1 - {0}%'.format(per_var[0]))\n",
        "plt.ylabel('PC2 - {0}%'.format(per_var[1]))\n",
        "\n",
        "for sample in pca_df.index:\n",
        "  plt.annotate(sample, (pca_df.PC1.loc[sample], pca_df.PC2.loc[sample]))\n",
        "\n",
        "plt.show()"
      ],
      "execution_count": 19,
      "outputs": [
        {
          "output_type": "display_data",
          "data": {
            "image/png": "[encoded data removed]",
            "text/plain": [
              "<Figure size 432x288 with 1 Axes>"
            ]
          },
          "metadata": {
            "tags": [],
            "needs_background": "light"
          }
        }
      ]
    },
    {
      "cell_type": "code",
      "metadata": {
        "id": "lrziW8Hnl2db"
      },
      "source": [
        "#Let's look at the loading scores for PC1 to determine which genes had the largest influence on separating the two clusters along the x-axis"
      ],
      "execution_count": 20,
      "outputs": []
    },
    {
      "cell_type": "code",
      "metadata": {
        "colab": {
          "base_uri": "https://localhost:8080/"
        },
        "id": "P2EVfq7Rmw6h",
        "outputId": "3d3e1013-98a0-41ec-dd79-5bace78e4b25"
      },
      "source": [
        "loading_scores = pd.Series(pca.components_[0], index=genes)\n",
        "# The Pcs are zero-indexed, so PC1 = 0\n",
        "sorted_loading_scores = loading_scores.abs().sort_values(ascending=False)\n",
        "\n",
        "top_10_genes = sorted_loading_scores[0:10].index.values\n",
        "\n",
        "print(loading_scores[top_10_genes])"
      ],
      "execution_count": 21,
      "outputs": [
        {
          "output_type": "stream",
          "text": [
            "gene89    0.123225\n",
            "gene16   -0.122924\n",
            "gene21    0.122768\n",
            "gene5    -0.122627\n",
            "gene12    0.122588\n",
            "gene1    -0.122496\n",
            "gene81   -0.122291\n",
            "gene75    0.122193\n",
            "gene18   -0.122157\n",
            "gene2     0.122121\n",
            "dtype: float64\n"
          ],
          "name": "stdout"
        }
      ]
    },
    {
      "cell_type": "code",
      "metadata": {
        "id": "0zjnQUcQnloO"
      },
      "source": [
        "# These values are super similar, so a lot of genes played a role in separating the samples,rather than just one or two"
      ],
      "execution_count": 22,
      "outputs": []
    },
    {
      "cell_type": "code",
      "metadata": {
        "id": "V0RNZxFdn9-1"
      },
      "source": [
        ""
      ],
      "execution_count": null,
      "outputs": []
    }
  ]
}