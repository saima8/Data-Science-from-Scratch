{
  "nbformat": 4,
  "nbformat_minor": 0,
  "metadata": {
    "colab": {
      "name": "A/B testing.ipynb",
      "provenance": []
    },
    "kernelspec": {
      "name": "python3",
      "display_name": "Python 3"
    }
  },
  "cells": [
    {
      "cell_type": "code",
      "metadata": {
        "colab": {
          "base_uri": "https://localhost:8080/",
          "height": 224
        },
        "id": "QW_z3lBuEZel",
        "outputId": "474bea37-5860-4ebb-cb71-f22d97909da7"
      },
      "source": [
        "import pandas as pd\r\n",
        "import matplotlib.pyplot as plt\r\n",
        "\r\n",
        "file_name = \"https://raw.githubusercontent.com/rajeevratan84/datascienceforbusiness/master/WA_Fn-UseC_-Marketing-Campaign-Eff-UseC_-FastF.csv\"\r\n",
        "df = pd.read_csv(file_name)\r\n",
        "\r\n",
        "df.head()"
      ],
      "execution_count": 1,
      "outputs": [
        {
          "output_type": "execute_result",
          "data": {
            "text/html": [
              "<div>\n",
              "<style scoped>\n",
              "    .dataframe tbody tr th:only-of-type {\n",
              "        vertical-align: middle;\n",
              "    }\n",
              "\n",
              "    .dataframe tbody tr th {\n",
              "        vertical-align: top;\n",
              "    }\n",
              "\n",
              "    .dataframe thead th {\n",
              "        text-align: right;\n",
              "    }\n",
              "</style>\n",
              "<table border=\"1\" class=\"dataframe\">\n",
              "  <thead>\n",
              "    <tr style=\"text-align: right;\">\n",
              "      <th></th>\n",
              "      <th>MarketID</th>\n",
              "      <th>MarketSize</th>\n",
              "      <th>LocationID</th>\n",
              "      <th>AgeOfStore</th>\n",
              "      <th>Promotion</th>\n",
              "      <th>week</th>\n",
              "      <th>SalesInThousands</th>\n",
              "    </tr>\n",
              "  </thead>\n",
              "  <tbody>\n",
              "    <tr>\n",
              "      <th>0</th>\n",
              "      <td>1</td>\n",
              "      <td>Medium</td>\n",
              "      <td>1</td>\n",
              "      <td>4</td>\n",
              "      <td>3</td>\n",
              "      <td>1</td>\n",
              "      <td>33.73</td>\n",
              "    </tr>\n",
              "    <tr>\n",
              "      <th>1</th>\n",
              "      <td>1</td>\n",
              "      <td>Medium</td>\n",
              "      <td>1</td>\n",
              "      <td>4</td>\n",
              "      <td>3</td>\n",
              "      <td>2</td>\n",
              "      <td>35.67</td>\n",
              "    </tr>\n",
              "    <tr>\n",
              "      <th>2</th>\n",
              "      <td>1</td>\n",
              "      <td>Medium</td>\n",
              "      <td>1</td>\n",
              "      <td>4</td>\n",
              "      <td>3</td>\n",
              "      <td>3</td>\n",
              "      <td>29.03</td>\n",
              "    </tr>\n",
              "    <tr>\n",
              "      <th>3</th>\n",
              "      <td>1</td>\n",
              "      <td>Medium</td>\n",
              "      <td>1</td>\n",
              "      <td>4</td>\n",
              "      <td>3</td>\n",
              "      <td>4</td>\n",
              "      <td>39.25</td>\n",
              "    </tr>\n",
              "    <tr>\n",
              "      <th>4</th>\n",
              "      <td>1</td>\n",
              "      <td>Medium</td>\n",
              "      <td>2</td>\n",
              "      <td>5</td>\n",
              "      <td>2</td>\n",
              "      <td>1</td>\n",
              "      <td>27.81</td>\n",
              "    </tr>\n",
              "  </tbody>\n",
              "</table>\n",
              "</div>"
            ],
            "text/plain": [
              "   MarketID MarketSize  LocationID  ...  Promotion  week  SalesInThousands\n",
              "0         1     Medium           1  ...          3     1             33.73\n",
              "1         1     Medium           1  ...          3     2             35.67\n",
              "2         1     Medium           1  ...          3     3             29.03\n",
              "3         1     Medium           1  ...          3     4             39.25\n",
              "4         1     Medium           2  ...          2     1             27.81\n",
              "\n",
              "[5 rows x 7 columns]"
            ]
          },
          "metadata": {
            "tags": []
          },
          "execution_count": 1
        }
      ]
    },
    {
      "cell_type": "code",
      "metadata": {
        "colab": {
          "base_uri": "https://localhost:8080/"
        },
        "id": "Y_egJn1CEmtQ",
        "outputId": "8be7c332-8770-4683-b0b3-4e486f93e1f6"
      },
      "source": [
        "print (\"Rows   :\", df.shape[0])\r\n",
        "print (\"Columns :\", df.shape[1])\r\n",
        "print (\"\\nFeatures : \\n\", df.columns.tolist())\r\n",
        "print (\"\\nMissing values : \",df.isnull().sum().values.sum())\r\n",
        "print (\"\\nUnique values  :\", df.nunique())"
      ],
      "execution_count": 2,
      "outputs": [
        {
          "output_type": "stream",
          "text": [
            "Rows   : 548\n",
            "Columns : 7\n",
            "\n",
            "Features : \n",
            " ['MarketID', 'MarketSize', 'LocationID', 'AgeOfStore', 'Promotion', 'week', 'SalesInThousands']\n",
            "\n",
            "Missing values :  0\n",
            "\n",
            "Unique values  : MarketID             10\n",
            "MarketSize            3\n",
            "LocationID          137\n",
            "AgeOfStore           25\n",
            "Promotion             3\n",
            "week                  4\n",
            "SalesInThousands    517\n",
            "dtype: int64\n"
          ],
          "name": "stdout"
        }
      ]
    },
    {
      "cell_type": "code",
      "metadata": {
        "colab": {
          "base_uri": "https://localhost:8080/",
          "height": 317
        },
        "id": "hqwOeTVwFh4S",
        "outputId": "46273af9-81ca-4f7a-d036-2d3b0098fb64"
      },
      "source": [
        "df.describe()"
      ],
      "execution_count": 3,
      "outputs": [
        {
          "output_type": "execute_result",
          "data": {
            "text/html": [
              "<div>\n",
              "<style scoped>\n",
              "    .dataframe tbody tr th:only-of-type {\n",
              "        vertical-align: middle;\n",
              "    }\n",
              "\n",
              "    .dataframe tbody tr th {\n",
              "        vertical-align: top;\n",
              "    }\n",
              "\n",
              "    .dataframe thead th {\n",
              "        text-align: right;\n",
              "    }\n",
              "</style>\n",
              "<table border=\"1\" class=\"dataframe\">\n",
              "  <thead>\n",
              "    <tr style=\"text-align: right;\">\n",
              "      <th></th>\n",
              "      <th>MarketID</th>\n",
              "      <th>LocationID</th>\n",
              "      <th>AgeOfStore</th>\n",
              "      <th>Promotion</th>\n",
              "      <th>week</th>\n",
              "      <th>SalesInThousands</th>\n",
              "    </tr>\n",
              "  </thead>\n",
              "  <tbody>\n",
              "    <tr>\n",
              "      <th>count</th>\n",
              "      <td>548.000000</td>\n",
              "      <td>548.000000</td>\n",
              "      <td>548.000000</td>\n",
              "      <td>548.000000</td>\n",
              "      <td>548.000000</td>\n",
              "      <td>548.000000</td>\n",
              "    </tr>\n",
              "    <tr>\n",
              "      <th>mean</th>\n",
              "      <td>5.715328</td>\n",
              "      <td>479.656934</td>\n",
              "      <td>8.503650</td>\n",
              "      <td>2.029197</td>\n",
              "      <td>2.500000</td>\n",
              "      <td>53.466204</td>\n",
              "    </tr>\n",
              "    <tr>\n",
              "      <th>std</th>\n",
              "      <td>2.877001</td>\n",
              "      <td>287.973679</td>\n",
              "      <td>6.638345</td>\n",
              "      <td>0.810729</td>\n",
              "      <td>1.119055</td>\n",
              "      <td>16.755216</td>\n",
              "    </tr>\n",
              "    <tr>\n",
              "      <th>min</th>\n",
              "      <td>1.000000</td>\n",
              "      <td>1.000000</td>\n",
              "      <td>1.000000</td>\n",
              "      <td>1.000000</td>\n",
              "      <td>1.000000</td>\n",
              "      <td>17.340000</td>\n",
              "    </tr>\n",
              "    <tr>\n",
              "      <th>25%</th>\n",
              "      <td>3.000000</td>\n",
              "      <td>216.000000</td>\n",
              "      <td>4.000000</td>\n",
              "      <td>1.000000</td>\n",
              "      <td>1.750000</td>\n",
              "      <td>42.545000</td>\n",
              "    </tr>\n",
              "    <tr>\n",
              "      <th>50%</th>\n",
              "      <td>6.000000</td>\n",
              "      <td>504.000000</td>\n",
              "      <td>7.000000</td>\n",
              "      <td>2.000000</td>\n",
              "      <td>2.500000</td>\n",
              "      <td>50.200000</td>\n",
              "    </tr>\n",
              "    <tr>\n",
              "      <th>75%</th>\n",
              "      <td>8.000000</td>\n",
              "      <td>708.000000</td>\n",
              "      <td>12.000000</td>\n",
              "      <td>3.000000</td>\n",
              "      <td>3.250000</td>\n",
              "      <td>60.477500</td>\n",
              "    </tr>\n",
              "    <tr>\n",
              "      <th>max</th>\n",
              "      <td>10.000000</td>\n",
              "      <td>920.000000</td>\n",
              "      <td>28.000000</td>\n",
              "      <td>3.000000</td>\n",
              "      <td>4.000000</td>\n",
              "      <td>99.650000</td>\n",
              "    </tr>\n",
              "  </tbody>\n",
              "</table>\n",
              "</div>"
            ],
            "text/plain": [
              "         MarketID  LocationID  ...        week  SalesInThousands\n",
              "count  548.000000  548.000000  ...  548.000000        548.000000\n",
              "mean     5.715328  479.656934  ...    2.500000         53.466204\n",
              "std      2.877001  287.973679  ...    1.119055         16.755216\n",
              "min      1.000000    1.000000  ...    1.000000         17.340000\n",
              "25%      3.000000  216.000000  ...    1.750000         42.545000\n",
              "50%      6.000000  504.000000  ...    2.500000         50.200000\n",
              "75%      8.000000  708.000000  ...    3.250000         60.477500\n",
              "max     10.000000  920.000000  ...    4.000000         99.650000\n",
              "\n",
              "[8 rows x 6 columns]"
            ]
          },
          "metadata": {
            "tags": []
          },
          "execution_count": 3
        }
      ]
    },
    {
      "cell_type": "code",
      "metadata": {
        "colab": {
          "base_uri": "https://localhost:8080/",
          "height": 483
        },
        "id": "sZFkur72FjSD",
        "outputId": "7545349e-ea7e-4205-ff29-ef914e95a65a"
      },
      "source": [
        "#EDA and visualizations\r\n",
        "\r\n",
        "plt.style.use('ggplot')\r\n",
        "ax = df.groupby('Promotion').sum()['SalesInThousands'].plot.pie(figsize=(8,8),\r\n",
        "                                                                autopct='%1.0f%%',\r\n",
        "                                                                shadow=True,\r\n",
        "                                                                explode = (0, 0.1, 0))\r\n",
        "ax.set_ylabel('')\r\n",
        "ax.set_title('Sales Distribution Across the 3 different promotions')\r\n",
        "plt.show()\r\n"
      ],
      "execution_count": 4,
      "outputs": [
        {
          "output_type": "display_data",
          "data": {
            "image/png": "[encoded data removed]",
            "text/plain": [
              "<Figure size 576x576 with 1 Axes>"
            ]
          },
          "metadata": {
            "tags": []
          }
        }
      ]
    },
    {
      "cell_type": "code",
      "metadata": {
        "colab": {
          "base_uri": "https://localhost:8080/"
        },
        "id": "NqdQ5-6_IBfN",
        "outputId": "247a8641-3d02-47f2-a501-858d5654d773"
      },
      "source": [
        "df.groupby(['Promotion', 'MarketSize']).count()['MarketID']"
      ],
      "execution_count": 5,
      "outputs": [
        {
          "output_type": "execute_result",
          "data": {
            "text/plain": [
              "Promotion  MarketSize\n",
              "1          Large          56\n",
              "           Medium         96\n",
              "           Small          20\n",
              "2          Large          64\n",
              "           Medium        108\n",
              "           Small          16\n",
              "3          Large          48\n",
              "           Medium        116\n",
              "           Small          24\n",
              "Name: MarketID, dtype: int64"
            ]
          },
          "metadata": {
            "tags": []
          },
          "execution_count": 5
        }
      ]
    },
    {
      "cell_type": "code",
      "metadata": {
        "colab": {
          "base_uri": "https://localhost:8080/",
          "height": 731
        },
        "id": "JfqTiJIWIKoz",
        "outputId": "8317d36b-2e74-40a1-e9a1-138c87db719a"
      },
      "source": [
        "ax = df.groupby(['Promotion', 'MarketSize']).count()['MarketID'].unstack('MarketSize').plot(\r\n",
        "    kind = 'bar',\r\n",
        "    figsize= (10,12),\r\n",
        "    grid = True\r\n",
        ")\r\n",
        "ax.set_ylabel('count')\r\n",
        "ax.set_title('Breakdowns of market sizes across different promotions')\r\n",
        "\r\n",
        "plt.show()"
      ],
      "execution_count": 7,
      "outputs": [
        {
          "output_type": "display_data",
          "data": {
            "image/png": "[encoded data removed]",
            "text/plain": [
              "<Figure size 720x864 with 1 Axes>"
            ]
          },
          "metadata": {
            "tags": []
          }
        }
      ]
    },
    {
      "cell_type": "code",
      "metadata": {
        "colab": {
          "base_uri": "https://localhost:8080/",
          "height": 173
        },
        "id": "f2ZznHWeJA1Q",
        "outputId": "52098410-682e-4ad7-e47c-d6617f6b145e"
      },
      "source": [
        "# Using unstack\r\n",
        "df.groupby(['Promotion', 'MarketSize']).count()['MarketID'].unstack('MarketSize')"
      ],
      "execution_count": 8,
      "outputs": [
        {
          "output_type": "execute_result",
          "data": {
            "text/html": [
              "<div>\n",
              "<style scoped>\n",
              "    .dataframe tbody tr th:only-of-type {\n",
              "        vertical-align: middle;\n",
              "    }\n",
              "\n",
              "    .dataframe tbody tr th {\n",
              "        vertical-align: top;\n",
              "    }\n",
              "\n",
              "    .dataframe thead th {\n",
              "        text-align: right;\n",
              "    }\n",
              "</style>\n",
              "<table border=\"1\" class=\"dataframe\">\n",
              "  <thead>\n",
              "    <tr style=\"text-align: right;\">\n",
              "      <th>MarketSize</th>\n",
              "      <th>Large</th>\n",
              "      <th>Medium</th>\n",
              "      <th>Small</th>\n",
              "    </tr>\n",
              "    <tr>\n",
              "      <th>Promotion</th>\n",
              "      <th></th>\n",
              "      <th></th>\n",
              "      <th></th>\n",
              "    </tr>\n",
              "  </thead>\n",
              "  <tbody>\n",
              "    <tr>\n",
              "      <th>1</th>\n",
              "      <td>56</td>\n",
              "      <td>96</td>\n",
              "      <td>20</td>\n",
              "    </tr>\n",
              "    <tr>\n",
              "      <th>2</th>\n",
              "      <td>64</td>\n",
              "      <td>108</td>\n",
              "      <td>16</td>\n",
              "    </tr>\n",
              "    <tr>\n",
              "      <th>3</th>\n",
              "      <td>48</td>\n",
              "      <td>116</td>\n",
              "      <td>24</td>\n",
              "    </tr>\n",
              "  </tbody>\n",
              "</table>\n",
              "</div>"
            ],
            "text/plain": [
              "MarketSize  Large  Medium  Small\n",
              "Promotion                       \n",
              "1              56      96     20\n",
              "2              64     108     16\n",
              "3              48     116     24"
            ]
          },
          "metadata": {
            "tags": []
          },
          "execution_count": 8
        }
      ]
    },
    {
      "cell_type": "code",
      "metadata": {
        "colab": {
          "base_uri": "https://localhost:8080/",
          "height": 540
        },
        "id": "NDIgaKNCJv89",
        "outputId": "9f8267cc-bd89-4e38-cb17-f3834a375171"
      },
      "source": [
        "ax = df.groupby(['Promotion', 'MarketSize']).count()['MarketID'].unstack('MarketSize').plot(\r\n",
        "    kind = 'bar',\r\n",
        "    figsize=(12,10),\r\n",
        "    grid = True,\r\n",
        "    stacked= True\r\n",
        ")\r\n",
        "\r\n",
        "ax.set_ylabel('count')\r\n",
        "ax.set_title('breakdowns of market sizes across different promotions')\r\n",
        "\r\n",
        "plt.show()"
      ],
      "execution_count": 9,
      "outputs": [
        {
          "output_type": "display_data",
          "data": {
            "image/png": "[encoded data removed]",
            "text/plain": [
              "<Figure size 864x720 with 1 Axes>"
            ]
          },
          "metadata": {
            "tags": []
          }
        }
      ]
    },
    {
      "cell_type": "code",
      "metadata": {
        "colab": {
          "base_uri": "https://localhost:8080/",
          "height": 408
        },
        "id": "yikBqZDLJnIS",
        "outputId": "14fc5583-1d3f-48d4-c312-4c9ea3784192"
      },
      "source": [
        "ax = df.groupby('AgeOfStore').count()['MarketID'].plot(\r\n",
        "    kind='bar',\r\n",
        "    figsize=(12,7),\r\n",
        "    grid=True\r\n",
        ")\r\n",
        "\r\n",
        "ax.set_xlabel('age')\r\n",
        "ax.set_ylabel('count')\r\n",
        "ax.set_title('Overall Distributions Store Ages')\r\n",
        "\r\n",
        "plt.show()"
      ],
      "execution_count": 10,
      "outputs": [
        {
          "output_type": "display_data",
          "data": {
            "image/png": "[encoded data removed]",
            "text/plain": [
              "<Figure size 864x504 with 1 Axes>"
            ]
          },
          "metadata": {
            "tags": []
          }
        }
      ]
    },
    {
      "cell_type": "code",
      "metadata": {
        "colab": {
          "base_uri": "https://localhost:8080/"
        },
        "id": "AakbVTrIL_ja",
        "outputId": "4c8784ef-2f81-4f05-8727-9cc0d0e6d2b6"
      },
      "source": [
        "df.groupby(['AgeOfStore', 'Promotion']).count()['MarketID']"
      ],
      "execution_count": 11,
      "outputs": [
        {
          "output_type": "execute_result",
          "data": {
            "text/plain": [
              "AgeOfStore  Promotion\n",
              "1           1            24\n",
              "            2            36\n",
              "            3            20\n",
              "2           1             8\n",
              "            2             8\n",
              "            3             4\n",
              "3           1            16\n",
              "            2            12\n",
              "            3             4\n",
              "4           1            16\n",
              "            2            12\n",
              "            3            16\n",
              "5           1             8\n",
              "            2            12\n",
              "            3            24\n",
              "6           1            20\n",
              "            2             4\n",
              "            3            12\n",
              "7           1             4\n",
              "            2            24\n",
              "            3            12\n",
              "8           1            12\n",
              "            2             8\n",
              "            3            20\n",
              "9           1             8\n",
              "            2            12\n",
              "            3             8\n",
              "10          2            16\n",
              "            3             8\n",
              "11          1             4\n",
              "            3            12\n",
              "12          1            12\n",
              "            2             4\n",
              "            3             8\n",
              "13          1            12\n",
              "            2             8\n",
              "14          2             8\n",
              "            3             4\n",
              "15          1             4\n",
              "            2             4\n",
              "17          3             4\n",
              "18          1             8\n",
              "19          1             4\n",
              "            2             8\n",
              "            3             8\n",
              "20          3             4\n",
              "22          1             4\n",
              "            3             8\n",
              "23          2             4\n",
              "            3             4\n",
              "24          1             4\n",
              "            3             8\n",
              "25          2             4\n",
              "27          1             4\n",
              "28          2             4\n",
              "Name: MarketID, dtype: int64"
            ]
          },
          "metadata": {
            "tags": []
          },
          "execution_count": 11
        }
      ]
    },
    {
      "cell_type": "code",
      "metadata": {
        "colab": {
          "base_uri": "https://localhost:8080/",
          "height": 806
        },
        "id": "HHxj8rWAMeQO",
        "outputId": "c1a3064d-0ea0-465a-b102-89b20fc5649c"
      },
      "source": [
        "#visualize this summary\r\n",
        "\r\n",
        "ax= df.groupby(['AgeOfStore', 'Promotion']).count()['MarketID'].unstack('Promotion').iloc[::-1].plot(\r\n",
        "    kind = 'barh',\r\n",
        "    figsize = (14,18),\r\n",
        "    grid = True\r\n",
        ")\r\n",
        "ax.set_ylabel('age')\r\n",
        "ax.set_xlabel('count')\r\n",
        "ax.set_title('overall distribution of age of store')\r\n",
        "\r\n",
        "plt.show()"
      ],
      "execution_count": 13,
      "outputs": [
        {
          "output_type": "display_data",
          "data": {
            "image/png": "[encoded data removed]",
            "text/plain": [
              "<Figure size 1008x1296 with 1 Axes>"
            ]
          },
          "metadata": {
            "tags": []
          }
        }
      ]
    },
    {
      "cell_type": "code",
      "metadata": {
        "colab": {
          "base_uri": "https://localhost:8080/",
          "height": 173
        },
        "id": "hRdSInjANd3-",
        "outputId": "f808f1cf-301b-4290-a383-c0af0a940eab"
      },
      "source": [
        "df.groupby('Promotion').describe()['AgeOfStore']"
      ],
      "execution_count": 14,
      "outputs": [
        {
          "output_type": "execute_result",
          "data": {
            "text/html": [
              "<div>\n",
              "<style scoped>\n",
              "    .dataframe tbody tr th:only-of-type {\n",
              "        vertical-align: middle;\n",
              "    }\n",
              "\n",
              "    .dataframe tbody tr th {\n",
              "        vertical-align: top;\n",
              "    }\n",
              "\n",
              "    .dataframe thead th {\n",
              "        text-align: right;\n",
              "    }\n",
              "</style>\n",
              "<table border=\"1\" class=\"dataframe\">\n",
              "  <thead>\n",
              "    <tr style=\"text-align: right;\">\n",
              "      <th></th>\n",
              "      <th>count</th>\n",
              "      <th>mean</th>\n",
              "      <th>std</th>\n",
              "      <th>min</th>\n",
              "      <th>25%</th>\n",
              "      <th>50%</th>\n",
              "      <th>75%</th>\n",
              "      <th>max</th>\n",
              "    </tr>\n",
              "    <tr>\n",
              "      <th>Promotion</th>\n",
              "      <th></th>\n",
              "      <th></th>\n",
              "      <th></th>\n",
              "      <th></th>\n",
              "      <th></th>\n",
              "      <th></th>\n",
              "      <th></th>\n",
              "      <th></th>\n",
              "    </tr>\n",
              "  </thead>\n",
              "  <tbody>\n",
              "    <tr>\n",
              "      <th>1</th>\n",
              "      <td>172.0</td>\n",
              "      <td>8.279070</td>\n",
              "      <td>6.636160</td>\n",
              "      <td>1.0</td>\n",
              "      <td>3.0</td>\n",
              "      <td>6.0</td>\n",
              "      <td>12.0</td>\n",
              "      <td>27.0</td>\n",
              "    </tr>\n",
              "    <tr>\n",
              "      <th>2</th>\n",
              "      <td>188.0</td>\n",
              "      <td>7.978723</td>\n",
              "      <td>6.597648</td>\n",
              "      <td>1.0</td>\n",
              "      <td>3.0</td>\n",
              "      <td>7.0</td>\n",
              "      <td>10.0</td>\n",
              "      <td>28.0</td>\n",
              "    </tr>\n",
              "    <tr>\n",
              "      <th>3</th>\n",
              "      <td>188.0</td>\n",
              "      <td>9.234043</td>\n",
              "      <td>6.651646</td>\n",
              "      <td>1.0</td>\n",
              "      <td>5.0</td>\n",
              "      <td>8.0</td>\n",
              "      <td>12.0</td>\n",
              "      <td>24.0</td>\n",
              "    </tr>\n",
              "  </tbody>\n",
              "</table>\n",
              "</div>"
            ],
            "text/plain": [
              "           count      mean       std  min  25%  50%   75%   max\n",
              "Promotion                                                      \n",
              "1          172.0  8.279070  6.636160  1.0  3.0  6.0  12.0  27.0\n",
              "2          188.0  7.978723  6.597648  1.0  3.0  7.0  10.0  28.0\n",
              "3          188.0  9.234043  6.651646  1.0  5.0  8.0  12.0  24.0"
            ]
          },
          "metadata": {
            "tags": []
          },
          "execution_count": 14
        }
      ]
    },
    {
      "cell_type": "code",
      "metadata": {
        "colab": {
          "base_uri": "https://localhost:8080/"
        },
        "id": "OJWNaWsgNtsp",
        "outputId": "6722e904-4d28-461d-ff01-2618c640b31e"
      },
      "source": [
        "#performing A/B Testing\r\n",
        "\r\n",
        "means = df.groupby('Promotion').mean()['SalesInThousands']\r\n",
        "stds = df.groupby('Promotion').std()['SalesInThousands']\r\n",
        "ns = df.groupby('Promotion').count()['SalesInThousands']\r\n",
        "print(means)\r\n",
        "print(stds)\r\n",
        "print(ns)"
      ],
      "execution_count": 16,
      "outputs": [
        {
          "output_type": "stream",
          "text": [
            "Promotion\n",
            "1    58.099012\n",
            "2    47.329415\n",
            "3    55.364468\n",
            "Name: SalesInThousands, dtype: float64\n",
            "Promotion\n",
            "1    16.553782\n",
            "2    15.108955\n",
            "3    16.766231\n",
            "Name: SalesInThousands, dtype: float64\n",
            "Promotion\n",
            "1    172\n",
            "2    188\n",
            "3    188\n",
            "Name: SalesInThousands, dtype: int64\n"
          ],
          "name": "stdout"
        }
      ]
    },
    {
      "cell_type": "code",
      "metadata": {
        "colab": {
          "base_uri": "https://localhost:8080/"
        },
        "id": "yZf5IstDO26z",
        "outputId": "51cb6a4a-0c00-44f9-dd66-daff52232ff9"
      },
      "source": [
        "from scipy import stats\r\n",
        "\r\n",
        "t, p =stats.ttest_ind(df.loc[df['Promotion'] == 1, 'SalesInThousands'].values,\r\n",
        "                      df.loc[df['Promotion'] == 2, 'SalesInThousands'].values,\r\n",
        "                      equal_var=False)\r\n",
        "print(\"t-value = \" +str(t))\r\n",
        "print(\"p-value = \" +str(p))\r\n"
      ],
      "execution_count": 17,
      "outputs": [
        {
          "output_type": "stream",
          "text": [
            "t-value = 6.42752867090748\n",
            "p-value = 4.2903687179871785e-10\n"
          ],
          "name": "stdout"
        }
      ]
    },
    {
      "cell_type": "code",
      "metadata": {
        "colab": {
          "base_uri": "https://localhost:8080/"
        },
        "id": "HtRYAiA_Re2g",
        "outputId": "cd9cc583-b5a1-4a1c-d066-65db3ebbafc0"
      },
      "source": [
        "t, p =stats.ttest_ind(df.loc[df['Promotion'] == 1, 'SalesInThousands'].values,\r\n",
        "                      df.loc[df['Promotion'] == 3, 'SalesInThousands'].values,\r\n",
        "                      equal_var=False)\r\n",
        "print(\"t-value = \" +str(t))\r\n",
        "print(\"p-value = \" +str(p))"
      ],
      "execution_count": 18,
      "outputs": [
        {
          "output_type": "stream",
          "text": [
            "t-value = 1.5560224307758634\n",
            "p-value = 0.12059147742229478\n"
          ],
          "name": "stdout"
        }
      ]
    },
    {
      "cell_type": "code",
      "metadata": {
        "id": "EC1JRH5_SSpn"
      },
      "source": [
        ""
      ],
      "execution_count": null,
      "outputs": []
    }
  ]
}