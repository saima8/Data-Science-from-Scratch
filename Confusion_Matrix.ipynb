{
  "nbformat": 4,
  "nbformat_minor": 0,
  "metadata": {
    "kernelspec": {
      "language": "python",
      "display_name": "Python 3",
      "name": "python3"
    },
    "language_info": {
      "name": "python",
      "version": "3.7.10",
      "mimetype": "text/x-python",
      "codemirror_mode": {
        "name": "ipython",
        "version": 3
      },
      "pygments_lexer": "ipython3",
      "nbconvert_exporter": "python",
      "file_extension": ".py"
    },
    "colab": {
      "name": "Confusion Matrix.ipynb",
      "provenance": [],
      "include_colab_link": true
    }
  },
  "cells": [
    {
      "cell_type": "markdown",
      "metadata": {
        "id": "view-in-github",
        "colab_type": "text"
      },
      "source": [
        "<a href=\"https://colab.research.google.com/github/saima8/Data-Science-from-scratch/blob/main/Confusion_Matrix.ipynb\" target=\"_parent\"><img src=\"https://colab.research.google.com/assets/colab-badge.svg\" alt=\"Open In Colab\"/></a>"
      ]
    },
    {
      "cell_type": "markdown",
      "metadata": {
        "id": "4HYZpcq4s3ak"
      },
      "source": [
        "# Confusion matrix"
      ]
    },
    {
      "cell_type": "code",
      "metadata": {
        "id": "9N5AyjR32lEv"
      },
      "source": [
        "import numpy as np\n",
        "import pandas as pd\n",
        "import seaborn as sns\n",
        "cfm = np.array([\n",
        "    [250, 25],\n",
        "    [45, 5]\n",
        "])\n",
        "\n",
        "cfm = pd.DataFrame(cfm,\n",
        "                   index=['Originally Cat', 'Originally Non-Cat'],\n",
        "                  columns=['Predicted Cat', 'Predicted Non-Cat'])"
      ],
      "execution_count": null,
      "outputs": []
    },
    {
      "cell_type": "code",
      "metadata": {
        "colab": {
          "base_uri": "https://localhost:8080/",
          "height": 303
        },
        "id": "CREfcF3Npqf4",
        "outputId": "2f7c7360-2af4-4bb1-9408-ca7cb47bc3ea"
      },
      "source": [
        "sns.heatmap(cfm, annot=True)"
      ],
      "execution_count": null,
      "outputs": [
        {
          "output_type": "execute_result",
          "data": {
            "text/plain": [
              "<matplotlib.axes._subplots.AxesSubplot at 0x7f2399ceef90>"
            ]
          },
          "metadata": {},
          "execution_count": 5
        },
        {
          "output_type": "display_data",
          "data": {
            "image/png": "[encoded data removed]",
            "text/plain": [
              "<Figure size 432x288 with 2 Axes>"
            ]
          },
          "metadata": {
            "needs_background": "light"
          }
        }
      ]
    },
    {
      "cell_type": "markdown",
      "metadata": {
        "id": "jM4PgBiwtA-I"
      },
      "source": [
        "# Question\n",
        "\n",
        "Suppose you built a classification model that can classify Tumor and\n",
        "Non-Tumor tissue lesions. In the test set, you have 100 images of\n",
        "Non-Tumor lesions and 25 images of Tumor lesions. The classifier could\n",
        "correctly label all the 100 Non-Tumor lesions. However, it could only\n",
        "classify 5 Tumor lesions correctly, whereas the rest were predicted as\n",
        "Non-Tumor."
      ]
    },
    {
      "cell_type": "markdown",
      "metadata": {
        "id": "sw36y-MxtNFQ"
      },
      "source": [
        "# Matrix\n",
        "\n",
        "Correctly predicted tumor lesions= 5 =true positive\n",
        "\n",
        "Correctly predicted non tumor lesions= 100 True negative\n",
        "\n",
        "Incorrectly predicted non tumor lesions= 25-5 =20 false Negative\n",
        "\n",
        "Incorrectly predicted tumor lesions= 0 false positive"
      ]
    },
    {
      "cell_type": "markdown",
      "metadata": {
        "id": "NkydQLN4tpdY"
      },
      "source": [
        "## Compute accuracy, precision, recall and f1 score"
      ]
    },
    {
      "cell_type": "code",
      "metadata": {
        "colab": {
          "base_uri": "https://localhost:8080/"
        },
        "id": "is-S7C83p1do",
        "outputId": "2bb204d9-55f6-444e-be23-891fd282c9b2"
      },
      "source": [
        "Accuracy = (100+5)/(5+20+0+100)\n",
        "print(Accuracy)"
      ],
      "execution_count": null,
      "outputs": [
        {
          "output_type": "stream",
          "name": "stdout",
          "text": [
            "0.84\n"
          ]
        }
      ]
    },
    {
      "cell_type": "code",
      "metadata": {
        "colab": {
          "base_uri": "https://localhost:8080/"
        },
        "id": "awhF2Cp-xHDa",
        "outputId": "f218df57-45c4-4ab3-d833-ffcf63d8c647"
      },
      "source": [
        "Precision = (5)/(5+0)\n",
        "print(Precision)"
      ],
      "execution_count": null,
      "outputs": [
        {
          "output_type": "stream",
          "name": "stdout",
          "text": [
            "1.0\n"
          ]
        }
      ]
    },
    {
      "cell_type": "code",
      "metadata": {
        "colab": {
          "base_uri": "https://localhost:8080/"
        },
        "id": "CW7zk5NOxXFm",
        "outputId": "a8ce03fb-f3cd-48bd-fcb7-2c24dbf0b902"
      },
      "source": [
        "Recall = (5)/(5+20)\n",
        "print(Recall)"
      ],
      "execution_count": null,
      "outputs": [
        {
          "output_type": "stream",
          "name": "stdout",
          "text": [
            "0.2\n"
          ]
        }
      ]
    },
    {
      "cell_type": "code",
      "metadata": {
        "colab": {
          "base_uri": "https://localhost:8080/"
        },
        "id": "TDUlHN-uxpOb",
        "outputId": "a4a19431-542f-44d6-f1d3-4ef17bd92b2d"
      },
      "source": [
        "f1 = (2*Precision*Recall)/(Precision+Recall)\n",
        "print(f1)"
      ],
      "execution_count": null,
      "outputs": [
        {
          "output_type": "stream",
          "name": "stdout",
          "text": [
            "0.33333333333333337\n"
          ]
        }
      ]
    }
  ]
}