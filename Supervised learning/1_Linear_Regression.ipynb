{
  "nbformat": 4,
  "nbformat_minor": 0,
  "metadata": {
    "colab": {
      "name": "1.Linear Regression.ipynb",
      "provenance": []
    },
    "kernelspec": {
      "name": "python3",
      "display_name": "Python 3"
    }
  },
  "cells": [
    {
      "cell_type": "code",
      "metadata": {
        "id": "CBByJOwVNyjl"
      },
      "source": [
        "#Loss function\r\n",
        "#Cost function\r\n",
        "\r\n",
        "def cost_function(m, b, x, y):\r\n",
        "    totalError = 0\r\n",
        "    for i in range(0, len(x)):\r\n",
        "        totalError += (y[i]-(m*x[i]+b))**2\r\n",
        "    return totalError/float(len(x))"
      ],
      "execution_count": 16,
      "outputs": []
    },
    {
      "cell_type": "code",
      "metadata": {
        "id": "kM8r6ayfORIP"
      },
      "source": [
        "# Implementation of the gradient descent algorithm\r\n",
        "def gradient_descent(b, m, x, y, learning_rate, num_iterations):\r\n",
        "    N = float(len(x))\r\n",
        "    # repeat for num_iterations\r\n",
        "    for j in range(num_iterations): \r\n",
        "        b_gradient = 0\r\n",
        "        m_gradient = 0\r\n",
        "        for i in range(0, len(x)):\r\n",
        "            b_gradient += -(2/N) * (y[i] - ((m * x[i]) + b))\r\n",
        "            m_gradient += -(2/N) * x[i] * (y[i] - ((m * x[i]) + b))\r\n",
        "        b -= (learning_rate * b_gradient)\r\n",
        "        m -= (learning_rate * m_gradient)\r\n",
        "        # Every 100  iterations we print our error \r\n",
        "        if j%100==0:\r\n",
        "            print(\"MSE after \" + str(j) + \" iterations: \" + str(cost_function(m, b, x, y)))\r\n",
        "    return [b, m]"
      ],
      "execution_count": 17,
      "outputs": []
    },
    {
      "cell_type": "code",
      "metadata": {
        "colab": {
          "base_uri": "https://localhost:8080/",
          "height": 282
        },
        "id": "_lxT1QA-PgK7",
        "outputId": "3ec6d86c-6c02-4bd5-9e74-8df6048ccbaa"
      },
      "source": [
        "import numpy as np\r\n",
        "import matplotlib.pyplot as plt\r\n",
        "\r\n",
        "x = np.linspace(0,100,50)\r\n",
        "delta = np.random.uniform(-10,10, x.size)\r\n",
        "y = 0.5 *x + 3 + delta\r\n",
        "\r\n",
        "plt.scatter(x,y)"
      ],
      "execution_count": 18,
      "outputs": [
        {
          "output_type": "execute_result",
          "data": {
            "text/plain": [
              "<matplotlib.collections.PathCollection at 0x7fb0d46dfbe0>"
            ]
          },
          "metadata": {
            "tags": []
          },
          "execution_count": 18
        },
        {
          "output_type": "display_data",
          "data": {
            "image/png": "[encoded data removed]",
            "text/plain": [
              "<Figure size 432x288 with 1 Axes>"
            ]
          },
          "metadata": {
            "tags": [],
            "needs_background": "light"
          }
        }
      ]
    },
    {
      "cell_type": "code",
      "metadata": {
        "colab": {
          "base_uri": "https://localhost:8080/"
        },
        "id": "VdwxDt55Qxyp",
        "outputId": "94b001a5-f88a-46f7-885c-c4196d65e638"
      },
      "source": [
        "# Defining our learning rate\r\n",
        "learning_rate = 0.0001\r\n",
        "\r\n",
        "# defining our initial values of b and m\r\n",
        "initial_b = 0\r\n",
        "initial_m = 0\r\n",
        "\r\n",
        "# Setting how many iterations we wish to run\r\n",
        "num_iterations= 1000\r\n",
        "\r\n",
        "print('Initial MSE:', cost_function(initial_m, initial_b, x, y))\r\n",
        "[b, m] = gradient_descent(initial_b, initial_m, x, y, learning_rate, num_iterations)\r\n",
        "print('b:', b)\r\n",
        "print('m:', m)\r\n",
        "print('MSE:', cost_function(m, b, x, y))"
      ],
      "execution_count": 19,
      "outputs": [
        {
          "output_type": "stream",
          "text": [
            "Initial MSE: 1036.6297387671366\n",
            "MSE after 0 iterations: 145.5693959236466\n",
            "MSE after 100 iterations: 39.296581317563955\n",
            "MSE after 200 iterations: 39.26151748254382\n",
            "MSE after 300 iterations: 39.22681298698114\n",
            "MSE after 400 iterations: 39.19246414831107\n",
            "MSE after 500 iterations: 39.15846732170831\n",
            "MSE after 600 iterations: 39.12481889970017\n",
            "MSE after 700 iterations: 39.09151531178397\n",
            "MSE after 800 iterations: 39.05855302404802\n",
            "MSE after 900 iterations: 39.02592853879673\n",
            "b: 0.19199911541344522\n",
            "m: 0.5413612563790648\n",
            "MSE: 38.99395965191916\n"
          ],
          "name": "stdout"
        }
      ]
    },
    {
      "cell_type": "code",
      "metadata": {
        "colab": {
          "base_uri": "https://localhost:8080/",
          "height": 282
        },
        "id": "NnDHrf9oR17Z",
        "outputId": "2e17d381-d934-450a-bd28-276355e39acc"
      },
      "source": [
        "predictions = [(m * x[i]) + b for i in range(len(x))]\r\n",
        "plt.scatter(x,y)\r\n",
        "plt.plot(x, predictions, color='r')"
      ],
      "execution_count": 20,
      "outputs": [
        {
          "output_type": "execute_result",
          "data": {
            "text/plain": [
              "[<matplotlib.lines.Line2D at 0x7fb0d4475630>]"
            ]
          },
          "metadata": {
            "tags": []
          },
          "execution_count": 20
        },
        {
          "output_type": "display_data",
          "data": {
            "image/png": "[encoded data removed]",
            "text/plain": [
              "<Figure size 432x288 with 1 Axes>"
            ]
          },
          "metadata": {
            "tags": [],
            "needs_background": "light"
          }
        }
      ]
    },
    {
      "cell_type": "code",
      "metadata": {
        "colab": {
          "base_uri": "https://localhost:8080/"
        },
        "id": "hWVQf1dpTYxf",
        "outputId": "62973a2f-2f82-4fb4-fc90-cd648c1dc393"
      },
      "source": [
        "import numpy as np\r\n",
        "from sklearn.linear_model import LinearRegression\r\n",
        "\r\n",
        "x = x.reshape((-1, 1)) #2 dimensional format\r\n",
        "x.shape\r\n",
        "\r\n",
        "model = LinearRegression()\r\n",
        "model.fit(x,y)"
      ],
      "execution_count": 21,
      "outputs": [
        {
          "output_type": "execute_result",
          "data": {
            "text/plain": [
              "LinearRegression(copy_X=True, fit_intercept=True, n_jobs=None, normalize=False)"
            ]
          },
          "metadata": {
            "tags": []
          },
          "execution_count": 21
        }
      ]
    },
    {
      "cell_type": "code",
      "metadata": {
        "colab": {
          "base_uri": "https://localhost:8080/"
        },
        "id": "R3LqkyWtT7jW",
        "outputId": "4e8fa487-c4cf-4b3c-a822-963cca9eed8e"
      },
      "source": [
        "print('Y Intercept: ', model.intercept_)\r\n",
        "print('Gradient', model.coef_)"
      ],
      "execution_count": 22,
      "outputs": [
        {
          "output_type": "stream",
          "text": [
            "Y Intercept:  3.671726981804518\n",
            "Gradient [0.48968862]\n"
          ],
          "name": "stdout"
        }
      ]
    },
    {
      "cell_type": "code",
      "metadata": {
        "id": "ucmlXpIgUqTg"
      },
      "source": [
        "y_pred = model.predict(x)"
      ],
      "execution_count": 23,
      "outputs": []
    },
    {
      "cell_type": "code",
      "metadata": {
        "colab": {
          "base_uri": "https://localhost:8080/",
          "height": 282
        },
        "id": "mNqk2sYSUvSQ",
        "outputId": "2bcacc31-ed62-4f6f-9c65-125ab84efdec"
      },
      "source": [
        "plt.scatter(x,y)\r\n",
        "plt.plot(x,y_pred, color='r')"
      ],
      "execution_count": 24,
      "outputs": [
        {
          "output_type": "execute_result",
          "data": {
            "text/plain": [
              "[<matplotlib.lines.Line2D at 0x7fb0c2ede6d8>]"
            ]
          },
          "metadata": {
            "tags": []
          },
          "execution_count": 24
        },
        {
          "output_type": "display_data",
          "data": {
            "image/png": "[encoded data removed]",
            "text/plain": [
              "<Figure size 432x288 with 1 Axes>"
            ]
          },
          "metadata": {
            "tags": [],
            "needs_background": "light"
          }
        }
      ]
    },
    {
      "cell_type": "code",
      "metadata": {
        "colab": {
          "base_uri": "https://localhost:8080/"
        },
        "id": "KW1nOGOvU3NA",
        "outputId": "170ae5f6-005f-4d8c-a56d-65e3b48c0e79"
      },
      "source": [
        "print('Y Intercept: ', b)\r\n",
        "print('Gradient', m)"
      ],
      "execution_count": 25,
      "outputs": [
        {
          "output_type": "stream",
          "text": [
            "Y Intercept:  0.19199911541344522\n",
            "Gradient 0.5413612563790648\n"
          ],
          "name": "stdout"
        }
      ]
    },
    {
      "cell_type": "code",
      "metadata": {
        "colab": {
          "base_uri": "https://localhost:8080/"
        },
        "id": "jHJQmsanVzSd",
        "outputId": "b70b9ce8-c2b4-4e8d-e907-a340e488b6ff"
      },
      "source": [
        "y_pred"
      ],
      "execution_count": 26,
      "outputs": [
        {
          "output_type": "execute_result",
          "data": {
            "text/plain": [
              "array([ 3.67172698,  4.67109151,  5.67045604,  6.66982056,  7.66918509,\n",
              "        8.66854962,  9.66791414, 10.66727867, 11.6666432 , 12.66600772,\n",
              "       13.66537225, 14.66473678, 15.6641013 , 16.66346583, 17.66283036,\n",
              "       18.66219489, 19.66155941, 20.66092394, 21.66028847, 22.65965299,\n",
              "       23.65901752, 24.65838205, 25.65774657, 26.6571111 , 27.65647563,\n",
              "       28.65584016, 29.65520468, 30.65456921, 31.65393374, 32.65329826,\n",
              "       33.65266279, 34.65202732, 35.65139184, 36.65075637, 37.6501209 ,\n",
              "       38.64948542, 39.64884995, 40.64821448, 41.64757901, 42.64694353,\n",
              "       43.64630806, 44.64567259, 45.64503711, 46.64440164, 47.64376617,\n",
              "       48.64313069, 49.64249522, 50.64185975, 51.64122427, 52.6405888 ])"
            ]
          },
          "metadata": {
            "tags": []
          },
          "execution_count": 26
        }
      ]
    },
    {
      "cell_type": "code",
      "metadata": {
        "colab": {
          "base_uri": "https://localhost:8080/",
          "height": 948
        },
        "id": "n0JEtlvEWE8b",
        "outputId": "6aee7469-b866-41a4-b981-21ce579cd481"
      },
      "source": [
        "import pandas as pd\r\n",
        "import numpy as np\r\n",
        "import seaborn as sns\r\n",
        "import matplotlib.pyplot as plt\r\n",
        "\r\n",
        "file_name = \"https://raw.githubusercontent.com/rajeevratan84/datascienceforbusiness/master/olympic100m.csv\"\r\n",
        "df = pd.read_csv(file_name)\r\n",
        "df.head(40)"
      ],
      "execution_count": 27,
      "outputs": [
        {
          "output_type": "execute_result",
          "data": {
            "text/html": [
              "<div>\n",
              "<style scoped>\n",
              "    .dataframe tbody tr th:only-of-type {\n",
              "        vertical-align: middle;\n",
              "    }\n",
              "\n",
              "    .dataframe tbody tr th {\n",
              "        vertical-align: top;\n",
              "    }\n",
              "\n",
              "    .dataframe thead th {\n",
              "        text-align: right;\n",
              "    }\n",
              "</style>\n",
              "<table border=\"1\" class=\"dataframe\">\n",
              "  <thead>\n",
              "    <tr style=\"text-align: right;\">\n",
              "      <th></th>\n",
              "      <th>year</th>\n",
              "      <th>time</th>\n",
              "    </tr>\n",
              "  </thead>\n",
              "  <tbody>\n",
              "    <tr>\n",
              "      <th>0</th>\n",
              "      <td>1896</td>\n",
              "      <td>12.00</td>\n",
              "    </tr>\n",
              "    <tr>\n",
              "      <th>1</th>\n",
              "      <td>1900</td>\n",
              "      <td>11.00</td>\n",
              "    </tr>\n",
              "    <tr>\n",
              "      <th>2</th>\n",
              "      <td>1904</td>\n",
              "      <td>11.00</td>\n",
              "    </tr>\n",
              "    <tr>\n",
              "      <th>3</th>\n",
              "      <td>1906</td>\n",
              "      <td>11.20</td>\n",
              "    </tr>\n",
              "    <tr>\n",
              "      <th>4</th>\n",
              "      <td>1908</td>\n",
              "      <td>10.80</td>\n",
              "    </tr>\n",
              "    <tr>\n",
              "      <th>5</th>\n",
              "      <td>1912</td>\n",
              "      <td>10.80</td>\n",
              "    </tr>\n",
              "    <tr>\n",
              "      <th>6</th>\n",
              "      <td>1920</td>\n",
              "      <td>10.80</td>\n",
              "    </tr>\n",
              "    <tr>\n",
              "      <th>7</th>\n",
              "      <td>1924</td>\n",
              "      <td>10.60</td>\n",
              "    </tr>\n",
              "    <tr>\n",
              "      <th>8</th>\n",
              "      <td>1928</td>\n",
              "      <td>10.80</td>\n",
              "    </tr>\n",
              "    <tr>\n",
              "      <th>9</th>\n",
              "      <td>1932</td>\n",
              "      <td>10.30</td>\n",
              "    </tr>\n",
              "    <tr>\n",
              "      <th>10</th>\n",
              "      <td>1936</td>\n",
              "      <td>10.30</td>\n",
              "    </tr>\n",
              "    <tr>\n",
              "      <th>11</th>\n",
              "      <td>1948</td>\n",
              "      <td>10.30</td>\n",
              "    </tr>\n",
              "    <tr>\n",
              "      <th>12</th>\n",
              "      <td>1952</td>\n",
              "      <td>10.40</td>\n",
              "    </tr>\n",
              "    <tr>\n",
              "      <th>13</th>\n",
              "      <td>1956</td>\n",
              "      <td>10.50</td>\n",
              "    </tr>\n",
              "    <tr>\n",
              "      <th>14</th>\n",
              "      <td>1960</td>\n",
              "      <td>10.20</td>\n",
              "    </tr>\n",
              "    <tr>\n",
              "      <th>15</th>\n",
              "      <td>1964</td>\n",
              "      <td>10.00</td>\n",
              "    </tr>\n",
              "    <tr>\n",
              "      <th>16</th>\n",
              "      <td>1968</td>\n",
              "      <td>9.95</td>\n",
              "    </tr>\n",
              "    <tr>\n",
              "      <th>17</th>\n",
              "      <td>1972</td>\n",
              "      <td>10.14</td>\n",
              "    </tr>\n",
              "    <tr>\n",
              "      <th>18</th>\n",
              "      <td>1976</td>\n",
              "      <td>10.06</td>\n",
              "    </tr>\n",
              "    <tr>\n",
              "      <th>19</th>\n",
              "      <td>1980</td>\n",
              "      <td>10.25</td>\n",
              "    </tr>\n",
              "    <tr>\n",
              "      <th>20</th>\n",
              "      <td>1984</td>\n",
              "      <td>9.99</td>\n",
              "    </tr>\n",
              "    <tr>\n",
              "      <th>21</th>\n",
              "      <td>1988</td>\n",
              "      <td>9.92</td>\n",
              "    </tr>\n",
              "    <tr>\n",
              "      <th>22</th>\n",
              "      <td>1992</td>\n",
              "      <td>9.96</td>\n",
              "    </tr>\n",
              "    <tr>\n",
              "      <th>23</th>\n",
              "      <td>1996</td>\n",
              "      <td>9.84</td>\n",
              "    </tr>\n",
              "    <tr>\n",
              "      <th>24</th>\n",
              "      <td>2000</td>\n",
              "      <td>9.87</td>\n",
              "    </tr>\n",
              "    <tr>\n",
              "      <th>25</th>\n",
              "      <td>2004</td>\n",
              "      <td>9.85</td>\n",
              "    </tr>\n",
              "    <tr>\n",
              "      <th>26</th>\n",
              "      <td>2008</td>\n",
              "      <td>9.69</td>\n",
              "    </tr>\n",
              "    <tr>\n",
              "      <th>27</th>\n",
              "      <td>2012</td>\n",
              "      <td>9.63</td>\n",
              "    </tr>\n",
              "    <tr>\n",
              "      <th>28</th>\n",
              "      <td>2016</td>\n",
              "      <td>9.81</td>\n",
              "    </tr>\n",
              "  </tbody>\n",
              "</table>\n",
              "</div>"
            ],
            "text/plain": [
              "    year   time\n",
              "0   1896  12.00\n",
              "1   1900  11.00\n",
              "2   1904  11.00\n",
              "3   1906  11.20\n",
              "4   1908  10.80\n",
              "5   1912  10.80\n",
              "6   1920  10.80\n",
              "7   1924  10.60\n",
              "8   1928  10.80\n",
              "9   1932  10.30\n",
              "10  1936  10.30\n",
              "11  1948  10.30\n",
              "12  1952  10.40\n",
              "13  1956  10.50\n",
              "14  1960  10.20\n",
              "15  1964  10.00\n",
              "16  1968   9.95\n",
              "17  1972  10.14\n",
              "18  1976  10.06\n",
              "19  1980  10.25\n",
              "20  1984   9.99\n",
              "21  1988   9.92\n",
              "22  1992   9.96\n",
              "23  1996   9.84\n",
              "24  2000   9.87\n",
              "25  2004   9.85\n",
              "26  2008   9.69\n",
              "27  2012   9.63\n",
              "28  2016   9.81"
            ]
          },
          "metadata": {
            "tags": []
          },
          "execution_count": 27
        }
      ]
    },
    {
      "cell_type": "code",
      "metadata": {
        "colab": {
          "base_uri": "https://localhost:8080/"
        },
        "id": "8hpXnITfYMzH",
        "outputId": "92152a73-e075-4759-a939-434e28025726"
      },
      "source": [
        "x=df['year']\r\n",
        "x_train = np.array(x).reshape((-1, 1))\r\n",
        "x_train.shape"
      ],
      "execution_count": 28,
      "outputs": [
        {
          "output_type": "execute_result",
          "data": {
            "text/plain": [
              "(29, 1)"
            ]
          },
          "metadata": {
            "tags": []
          },
          "execution_count": 28
        }
      ]
    },
    {
      "cell_type": "code",
      "metadata": {
        "id": "iUOhtXEVYcDE"
      },
      "source": [
        "y_train = np.array(df['time'])"
      ],
      "execution_count": 29,
      "outputs": []
    },
    {
      "cell_type": "code",
      "metadata": {
        "colab": {
          "base_uri": "https://localhost:8080/"
        },
        "id": "pCnnlNKTYh4u",
        "outputId": "4122dfd5-46cd-482d-b292-7a0a204e17b6"
      },
      "source": [
        "y_train.shape"
      ],
      "execution_count": 30,
      "outputs": [
        {
          "output_type": "execute_result",
          "data": {
            "text/plain": [
              "(29,)"
            ]
          },
          "metadata": {
            "tags": []
          },
          "execution_count": 30
        }
      ]
    },
    {
      "cell_type": "code",
      "metadata": {
        "colab": {
          "base_uri": "https://localhost:8080/",
          "height": 282
        },
        "id": "AlA80I1-ZCb1",
        "outputId": "50568040-e72b-491a-dfcf-ed10ce467a3b"
      },
      "source": [
        "import numpy as np\r\n",
        "from sklearn.linear_model import LinearRegression\r\n",
        "\r\n",
        "model = LinearRegression()\r\n",
        "model.fit(x_train, y_train)\r\n",
        "\r\n",
        "\r\n",
        "y_pred = model.predict(x_train)\r\n",
        "plt.scatter(x_train, y_train)\r\n",
        "plt.plot(x, y_pred, color='r')"
      ],
      "execution_count": 31,
      "outputs": [
        {
          "output_type": "execute_result",
          "data": {
            "text/plain": [
              "[<matplotlib.lines.Line2D at 0x7fb0c20da0b8>]"
            ]
          },
          "metadata": {
            "tags": []
          },
          "execution_count": 31
        },
        {
          "output_type": "display_data",
          "data": {
            "image/png": "[encoded data removed]",
            "text/plain": [
              "<Figure size 432x288 with 1 Axes>"
            ]
          },
          "metadata": {
            "tags": [],
            "needs_background": "light"
          }
        }
      ]
    },
    {
      "cell_type": "code",
      "metadata": {
        "colab": {
          "base_uri": "https://localhost:8080/"
        },
        "id": "JIG4AgezZcpt",
        "outputId": "c29ba8c6-0c21-4522-8c80-3519159bc9cb"
      },
      "source": [
        "#Predict for 2020 Olympics\r\n",
        "\r\n",
        "x_2020 = np.array([2020]).reshape(-1,1)\r\n",
        "model.predict(x_2020)"
      ],
      "execution_count": 33,
      "outputs": [
        {
          "output_type": "execute_result",
          "data": {
            "text/plain": [
              "array([9.52679525])"
            ]
          },
          "metadata": {
            "tags": []
          },
          "execution_count": 33
        }
      ]
    },
    {
      "cell_type": "code",
      "metadata": {
        "colab": {
          "base_uri": "https://localhost:8080/"
        },
        "id": "eiDhQTkwaJJ4",
        "outputId": "bccb4a0a-730c-4274-97e6-e60a4c71e74b"
      },
      "source": [
        "x_2020 = np.array([2024]).reshape(-1,1)\r\n",
        "model.predict(x_2020)"
      ],
      "execution_count": 34,
      "outputs": [
        {
          "output_type": "execute_result",
          "data": {
            "text/plain": [
              "array([9.47525458])"
            ]
          },
          "metadata": {
            "tags": []
          },
          "execution_count": 34
        }
      ]
    },
    {
      "cell_type": "code",
      "metadata": {
        "id": "4y9XRVLJakf7"
      },
      "source": [
        ""
      ],
      "execution_count": null,
      "outputs": []
    }
  ]
}