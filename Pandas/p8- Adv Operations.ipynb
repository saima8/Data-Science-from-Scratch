{
 "cells": [
  {
   "cell_type": "code",
   "execution_count": 1,
   "metadata": {},
   "outputs": [],
   "source": [
    "numbers = [5,2,7,3,4,6,8,1]\n",
    "\n",
    "def square_number(x):\n",
    "    return x**2"
   ]
  },
  {
   "cell_type": "code",
   "execution_count": 2,
   "metadata": {},
   "outputs": [
    {
     "name": "stdout",
     "output_type": "stream",
     "text": [
      "Non pychonic approach:  [25, 4, 49, 9, 16, 36, 64, 1]\n"
     ]
    }
   ],
   "source": [
    "#non-Pythonic approach\n",
    "squares=[]\n",
    "for num in numbers:\n",
    "    squares.append(square_number(num))\n",
    "print ('Non Pythonic approach: ', squares)"
   ]
  },
  {
   "cell_type": "code",
   "execution_count": 3,
   "metadata": {},
   "outputs": [
    {
     "name": "stdout",
     "output_type": "stream",
     "text": [
      "Pychonic approach:  [25, 4, 49, 9, 16, 36, 64, 1]\n"
     ]
    }
   ],
   "source": [
    "#Pythonic approach\n",
    "\n",
    "x=map(square_number,numbers)\n",
    "print('Pythonic approach: ',list(x))"
   ]
  },
  {
   "cell_type": "code",
   "execution_count": 5,
   "metadata": {},
   "outputs": [
    {
     "name": "stdout",
     "output_type": "stream",
     "text": [
      "5 3 2\n",
      "2 8 3\n",
      "7 6 4\n",
      "3 8 5\n",
      "4 1 6\n"
     ]
    }
   ],
   "source": [
    "#Zip()\n",
    "\n",
    "a=[5,2,7,3,4]\n",
    "b=[3,8,6,8,1]\n",
    "c=[1,2,3,4,5]\n",
    "\n",
    "#Iterate over two or more lists simultaneously\n",
    "\n",
    "for x,y,z in zip(a,b,c):\n",
    "    print(x,y, z+1)"
   ]
  },
  {
   "cell_type": "code",
   "execution_count": 6,
   "metadata": {},
   "outputs": [],
   "source": [
    "#Filter()\n",
    "\n",
    "numbers= [5,2,7,3,4,6,8,1,9,0,10]\n",
    "\n",
    "def isEven(x):\n",
    "    return x%2 == 0;"
   ]
  },
  {
   "cell_type": "code",
   "execution_count": 7,
   "metadata": {},
   "outputs": [
    {
     "name": "stdout",
     "output_type": "stream",
     "text": [
      "Non-Pychonic Approach:  [2, 4, 6, 8, 0, 10]\n"
     ]
    }
   ],
   "source": [
    "#non-Pythonic\n",
    "\n",
    "even_numbers = []\n",
    "for num in numbers:\n",
    "    if isEven(num):\n",
    "        even_numbers.append(num)\n",
    "print('Non-Pythonic Approach: ', even_numbers)"
   ]
  },
  {
   "cell_type": "code",
   "execution_count": 9,
   "metadata": {},
   "outputs": [
    {
     "name": "stdout",
     "output_type": "stream",
     "text": [
      "Pychonic approach:  [2, 4, 6, 8, 0, 10]\n"
     ]
    }
   ],
   "source": [
    "#Pythonic\n",
    "\n",
    "x=filter(isEven,numbers)\n",
    "print('Pythonic approach: ',list(x))"
   ]
  },
  {
   "cell_type": "code",
   "execution_count": 10,
   "metadata": {},
   "outputs": [],
   "source": [
    "#Filter only stores the elements that were evaluated to be True"
   ]
  }
 ],
 "metadata": {
  "kernelspec": {
   "display_name": "Python 3",
   "language": "python",
   "name": "python3"
  },
  "language_info": {
   "codemirror_mode": {
    "name": "ipython",
    "version": 3
   },
   "file_extension": ".py",
   "mimetype": "text/x-python",
   "name": "python",
   "nbconvert_exporter": "python",
   "pygments_lexer": "ipython3",
   "version": "3.7.6"
  }
 },
 "nbformat": 4,
 "nbformat_minor": 4
}
