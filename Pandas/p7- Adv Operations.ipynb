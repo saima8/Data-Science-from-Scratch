{
  "nbformat": 4,
  "nbformat_minor": 0,
  "metadata": {
    "colab": {
      "name": "p7- Adv Operations.ipynb",
      "provenance": []
    },
    "kernelspec": {
      "name": "python3",
      "display_name": "Python 3"
    }
  },
  "cells": [
    {
      "cell_type": "code",
      "metadata": {
        "id": "zAWJYX1o1yny"
      },
      "source": [
        "import numpy as np\r\n",
        "\r\n",
        "# Define a basic Haversine distance formula\r\n",
        "def haversine(lat1, lon1, lat2, lon2):\r\n",
        "    MILES = 3959\r\n",
        "    lat1, lon1, lat2, lon2 = map(np.deg2rad, [lat1, lon1, lat2, lon2])\r\n",
        "    dlat = lat2 - lat1 \r\n",
        "    dlon = lon2 - lon1 \r\n",
        "    a = np.sin(dlat/2)**2 + np.cos(lat1) * np.cos(lat2) * np.sin(dlon/2)**2\r\n",
        "    c = 2 * np.arcsin(np.sqrt(a)) \r\n",
        "    total_miles = MILES * c\r\n",
        "    return total_miles"
      ],
      "execution_count": 1,
      "outputs": []
    },
    {
      "cell_type": "code",
      "metadata": {
        "id": "inlQrZQ216A8"
      },
      "source": [
        "def haversine_looping(df):\r\n",
        "    distance_list = []\r\n",
        "    for i in range(0, len(df)):\r\n",
        "        d = haversine(40.671, -73.985, df.iloc[i]['latitude'], df.iloc[i]['longitude'])\r\n",
        "        distance_list.append(d)\r\n",
        "    return distance_list"
      ],
      "execution_count": 2,
      "outputs": []
    },
    {
      "cell_type": "code",
      "metadata": {
        "colab": {
          "base_uri": "https://localhost:8080/",
          "height": 255
        },
        "id": "MgLzvjIx19gF",
        "outputId": "c60bbec7-4117-4497-9a2f-8a3e0867c44d"
      },
      "source": [
        "import pandas as pd\r\n",
        "file_name = \"https://raw.githubusercontent.com/rajeevratan84/datascienceforbusiness/master/new_york_hotels.csv\"\r\n",
        "df = pd.read_csv(file_name, encoding = \"ISO-8859-1\")\r\n",
        "df.head()"
      ],
      "execution_count": 4,
      "outputs": [
        {
          "output_type": "execute_result",
          "data": {
            "text/html": [
              "<div>\n",
              "<style scoped>\n",
              "    .dataframe tbody tr th:only-of-type {\n",
              "        vertical-align: middle;\n",
              "    }\n",
              "\n",
              "    .dataframe tbody tr th {\n",
              "        vertical-align: top;\n",
              "    }\n",
              "\n",
              "    .dataframe thead th {\n",
              "        text-align: right;\n",
              "    }\n",
              "</style>\n",
              "<table border=\"1\" class=\"dataframe\">\n",
              "  <thead>\n",
              "    <tr style=\"text-align: right;\">\n",
              "      <th></th>\n",
              "      <th>ean_hotel_id</th>\n",
              "      <th>name</th>\n",
              "      <th>address1</th>\n",
              "      <th>city</th>\n",
              "      <th>state_province</th>\n",
              "      <th>postal_code</th>\n",
              "      <th>latitude</th>\n",
              "      <th>longitude</th>\n",
              "      <th>star_rating</th>\n",
              "      <th>high_rate</th>\n",
              "      <th>low_rate</th>\n",
              "    </tr>\n",
              "  </thead>\n",
              "  <tbody>\n",
              "    <tr>\n",
              "      <th>0</th>\n",
              "      <td>269955</td>\n",
              "      <td>Hilton Garden Inn Albany/SUNY Area</td>\n",
              "      <td>1389 Washington Ave</td>\n",
              "      <td>Albany</td>\n",
              "      <td>NY</td>\n",
              "      <td>12206</td>\n",
              "      <td>42.68751</td>\n",
              "      <td>-73.81643</td>\n",
              "      <td>3.0</td>\n",
              "      <td>154.0272</td>\n",
              "      <td>124.0216</td>\n",
              "    </tr>\n",
              "    <tr>\n",
              "      <th>1</th>\n",
              "      <td>113431</td>\n",
              "      <td>Courtyard by Marriott Albany Thruway</td>\n",
              "      <td>1455 Washington Avenue</td>\n",
              "      <td>Albany</td>\n",
              "      <td>NY</td>\n",
              "      <td>12206</td>\n",
              "      <td>42.68971</td>\n",
              "      <td>-73.82021</td>\n",
              "      <td>3.0</td>\n",
              "      <td>179.0100</td>\n",
              "      <td>134.0000</td>\n",
              "    </tr>\n",
              "    <tr>\n",
              "      <th>2</th>\n",
              "      <td>108151</td>\n",
              "      <td>Radisson Hotel Albany</td>\n",
              "      <td>205 Wolf Rd</td>\n",
              "      <td>Albany</td>\n",
              "      <td>NY</td>\n",
              "      <td>12205</td>\n",
              "      <td>42.72410</td>\n",
              "      <td>-73.79822</td>\n",
              "      <td>3.0</td>\n",
              "      <td>134.1700</td>\n",
              "      <td>84.1600</td>\n",
              "    </tr>\n",
              "    <tr>\n",
              "      <th>3</th>\n",
              "      <td>254756</td>\n",
              "      <td>Hilton Garden Inn Albany Medical Center</td>\n",
              "      <td>62 New Scotland Ave</td>\n",
              "      <td>Albany</td>\n",
              "      <td>NY</td>\n",
              "      <td>12208</td>\n",
              "      <td>42.65157</td>\n",
              "      <td>-73.77638</td>\n",
              "      <td>3.0</td>\n",
              "      <td>308.2807</td>\n",
              "      <td>228.4597</td>\n",
              "    </tr>\n",
              "    <tr>\n",
              "      <th>4</th>\n",
              "      <td>198232</td>\n",
              "      <td>CrestHill Suites SUNY University Albany</td>\n",
              "      <td>1415 Washington Avenue</td>\n",
              "      <td>Albany</td>\n",
              "      <td>NY</td>\n",
              "      <td>12206</td>\n",
              "      <td>42.68873</td>\n",
              "      <td>-73.81854</td>\n",
              "      <td>3.0</td>\n",
              "      <td>169.3900</td>\n",
              "      <td>89.3900</td>\n",
              "    </tr>\n",
              "  </tbody>\n",
              "</table>\n",
              "</div>"
            ],
            "text/plain": [
              "   ean_hotel_id                                     name  ... high_rate  low_rate\n",
              "0        269955       Hilton Garden Inn Albany/SUNY Area  ...  154.0272  124.0216\n",
              "1        113431     Courtyard by Marriott Albany Thruway  ...  179.0100  134.0000\n",
              "2        108151                    Radisson Hotel Albany  ...  134.1700   84.1600\n",
              "3        254756  Hilton Garden Inn Albany Medical Center  ...  308.2807  228.4597\n",
              "4        198232  CrestHill Suites SUNY University Albany  ...  169.3900   89.3900\n",
              "\n",
              "[5 rows x 11 columns]"
            ]
          },
          "metadata": {
            "tags": []
          },
          "execution_count": 4
        }
      ]
    },
    {
      "cell_type": "code",
      "metadata": {
        "colab": {
          "base_uri": "https://localhost:8080/"
        },
        "id": "1lZ9FGPq2AQT",
        "outputId": "27f3b9b2-5c77-4224-8501-cff11e1e57d9"
      },
      "source": [
        "df.shape"
      ],
      "execution_count": 5,
      "outputs": [
        {
          "output_type": "execute_result",
          "data": {
            "text/plain": [
              "(1631, 11)"
            ]
          },
          "metadata": {
            "tags": []
          },
          "execution_count": 5
        }
      ]
    },
    {
      "cell_type": "code",
      "metadata": {
        "colab": {
          "base_uri": "https://localhost:8080/"
        },
        "id": "CaTl-fD62KTL",
        "outputId": "ee477eee-91ae-41c6-aacc-e98a10e9f0e2"
      },
      "source": [
        "# This is a built in magic ipython command that provides timing for code executed in the cell\r\n",
        "%%timeit\r\n",
        "\r\n",
        "# Run the haversine looping function\r\n",
        "df['distance'] = haversine_looping(df)"
      ],
      "execution_count": 6,
      "outputs": [
        {
          "output_type": "stream",
          "text": [
            "1 loop, best of 3: 609 ms per loop\n"
          ],
          "name": "stdout"
        }
      ]
    },
    {
      "cell_type": "code",
      "metadata": {
        "colab": {
          "base_uri": "https://localhost:8080/"
        },
        "id": "JHVEHUz72Pkf",
        "outputId": "2c38f3b7-5416-4553-a5b5-232c7c0c81d1"
      },
      "source": [
        "%%timeit\r\n",
        "\r\n",
        "# Haversine applied on rows via iteration\r\n",
        "haversine_series = []\r\n",
        "for index, row in df.iterrows():\r\n",
        "    haversine_series.append(haversine(40.671, -73.985, row['latitude'], row['longitude']))\r\n",
        "df['distance'] = haversine_series"
      ],
      "execution_count": 7,
      "outputs": [
        {
          "output_type": "stream",
          "text": [
            "1 loop, best of 3: 219 ms per loop\n"
          ],
          "name": "stdout"
        }
      ]
    },
    {
      "cell_type": "code",
      "metadata": {
        "colab": {
          "base_uri": "https://localhost:8080/"
        },
        "id": "UlftX5Et2Tpv",
        "outputId": "a8e9f142-44aa-4984-cbda-982effba70da"
      },
      "source": [
        "%%timeit\r\n",
        "\r\n",
        "# Timing apply on the Haversine function\r\n",
        "df['distance'] = df.apply(lambda row: haversine(40.671, -73.985, row['latitude'], row['longitude']), axis=1)"
      ],
      "execution_count": 8,
      "outputs": [
        {
          "output_type": "stream",
          "text": [
            "10 loops, best of 3: 61 ms per loop\n"
          ],
          "name": "stdout"
        }
      ]
    },
    {
      "cell_type": "code",
      "metadata": {
        "colab": {
          "base_uri": "https://localhost:8080/"
        },
        "id": "31aL5-C82Xt1",
        "outputId": "3bab02b4-2418-428a-c8f8-aea65b7a1ffd"
      },
      "source": [
        " !pip install line_profiler\r\n",
        " %load_ext line_profiler\r\n",
        "\r\n",
        "# Haversine applied on rows with line profiler\r\n",
        "%lprun -f haversine df.apply(lambda row: haversine(40.671, -73.985, row['latitude'], row['longitude']), axis=1)"
      ],
      "execution_count": 9,
      "outputs": [
        {
          "output_type": "stream",
          "text": [
            "Collecting line_profiler\n",
            "\u001b[?25l  Downloading https://files.pythonhosted.org/packages/66/eb/417ace64f45fee7a0394946f8e1f90f925420fd9b14f1f09abb5284a0ca4/line_profiler-3.1.0-cp36-cp36m-manylinux2010_x86_64.whl (63kB)\n",
            "\r\u001b[K     |█████▏                          | 10kB 18.5MB/s eta 0:00:01\r\u001b[K     |██████████▎                     | 20kB 25.2MB/s eta 0:00:01\r\u001b[K     |███████████████▍                | 30kB 21.7MB/s eta 0:00:01\r\u001b[K     |████████████████████▌           | 40kB 18.8MB/s eta 0:00:01\r\u001b[K     |█████████████████████████▋      | 51kB 15.0MB/s eta 0:00:01\r\u001b[K     |██████████████████████████████▊ | 61kB 17.0MB/s eta 0:00:01\r\u001b[K     |████████████████████████████████| 71kB 5.4MB/s \n",
            "\u001b[?25hRequirement already satisfied: IPython in /usr/local/lib/python3.6/dist-packages (from line_profiler) (5.5.0)\n",
            "Requirement already satisfied: simplegeneric>0.8 in /usr/local/lib/python3.6/dist-packages (from IPython->line_profiler) (0.8.1)\n",
            "Requirement already satisfied: traitlets>=4.2 in /usr/local/lib/python3.6/dist-packages (from IPython->line_profiler) (4.3.3)\n",
            "Requirement already satisfied: pexpect; sys_platform != \"win32\" in /usr/local/lib/python3.6/dist-packages (from IPython->line_profiler) (4.8.0)\n",
            "Requirement already satisfied: pickleshare in /usr/local/lib/python3.6/dist-packages (from IPython->line_profiler) (0.7.5)\n",
            "Requirement already satisfied: decorator in /usr/local/lib/python3.6/dist-packages (from IPython->line_profiler) (4.4.2)\n",
            "Requirement already satisfied: setuptools>=18.5 in /usr/local/lib/python3.6/dist-packages (from IPython->line_profiler) (51.3.3)\n",
            "Requirement already satisfied: pygments in /usr/local/lib/python3.6/dist-packages (from IPython->line_profiler) (2.6.1)\n",
            "Requirement already satisfied: prompt-toolkit<2.0.0,>=1.0.4 in /usr/local/lib/python3.6/dist-packages (from IPython->line_profiler) (1.0.18)\n",
            "Requirement already satisfied: six in /usr/local/lib/python3.6/dist-packages (from traitlets>=4.2->IPython->line_profiler) (1.15.0)\n",
            "Requirement already satisfied: ipython-genutils in /usr/local/lib/python3.6/dist-packages (from traitlets>=4.2->IPython->line_profiler) (0.2.0)\n",
            "Requirement already satisfied: ptyprocess>=0.5 in /usr/local/lib/python3.6/dist-packages (from pexpect; sys_platform != \"win32\"->IPython->line_profiler) (0.7.0)\n",
            "Requirement already satisfied: wcwidth in /usr/local/lib/python3.6/dist-packages (from prompt-toolkit<2.0.0,>=1.0.4->IPython->line_profiler) (0.2.5)\n",
            "Installing collected packages: line-profiler\n",
            "Successfully installed line-profiler-3.1.0\n"
          ],
          "name": "stdout"
        }
      ]
    },
    {
      "cell_type": "code",
      "metadata": {
        "colab": {
          "base_uri": "https://localhost:8080/"
        },
        "id": "nneQTPTz2bRs",
        "outputId": "8c44fef6-b98f-4680-9077-c6c61fe8e09b"
      },
      "source": [
        "%%timeit \r\n",
        "\r\n",
        "# Vectorized implementation of Haversine applied on Pandas series\r\n",
        "df['distance'] = haversine(40.671, -73.985, df['latitude'], df['longitude'])"
      ],
      "execution_count": 10,
      "outputs": [
        {
          "output_type": "stream",
          "text": [
            "The slowest run took 13.24 times longer than the fastest. This could mean that an intermediate result is being cached.\n",
            "100 loops, best of 3: 2.65 ms per loop\n"
          ],
          "name": "stdout"
        }
      ]
    },
    {
      "cell_type": "code",
      "metadata": {
        "id": "UEh8Ntj03wfE"
      },
      "source": [
        "# Run our line profiler to inspect further\r\n",
        "%lprun -f haversine df['distance'] = haversine(40.671, -73.985, df['latitude'], df['longitude'])"
      ],
      "execution_count": 11,
      "outputs": []
    },
    {
      "cell_type": "code",
      "metadata": {
        "colab": {
          "base_uri": "https://localhost:8080/"
        },
        "id": "e9auRVhW4IZh",
        "outputId": "96fad47f-c1e4-4e0a-86e8-e9c6988a5b7c"
      },
      "source": [
        "%%timeit\r\n",
        "\r\n",
        "# Vectorized implementation of Haversine applied on NumPy arrays (note we use .values to access the numpy series)\r\n",
        "df['distance'] = haversine(40.671, -73.985, df['latitude'].values, df['longitude'].values)"
      ],
      "execution_count": 12,
      "outputs": [
        {
          "output_type": "stream",
          "text": [
            "The slowest run took 15.72 times longer than the fastest. This could mean that an intermediate result is being cached.\n",
            "1000 loops, best of 3: 300 µs per loop\n"
          ],
          "name": "stdout"
        }
      ]
    },
    {
      "cell_type": "code",
      "metadata": {
        "id": "s66LgUqF4hxS"
      },
      "source": [
        ""
      ],
      "execution_count": null,
      "outputs": []
    }
  ]
}